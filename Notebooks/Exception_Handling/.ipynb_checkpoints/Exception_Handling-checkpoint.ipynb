{
 "cells": [
  {
   "cell_type": "markdown",
   "id": "7ca570df",
   "metadata": {},
   "source": [
    "### Errors\n",
    "\n",
    "    1. Syntax Error\n",
    "        Cannot be handled\n",
    "    2. Exceptions\n",
    "        These are the errors which can be handled\n",
    "    3. Logical Errors\n",
    "        Errors in the logic due to which we do not get the desired output\n",
    "        Cannot be handled"
   ]
  },
  {
   "cell_type": "code",
   "execution_count": 1,
   "id": "d540c0b9",
   "metadata": {},
   "outputs": [
    {
     "ename": "SyntaxError",
     "evalue": "invalid syntax (<ipython-input-1-4868184afe08>, line 1)",
     "output_type": "error",
     "traceback": [
      "\u001b[1;36m  File \u001b[1;32m\"<ipython-input-1-4868184afe08>\"\u001b[1;36m, line \u001b[1;32m1\u001b[0m\n\u001b[1;33m    while:\u001b[0m\n\u001b[1;37m         ^\u001b[0m\n\u001b[1;31mSyntaxError\u001b[0m\u001b[1;31m:\u001b[0m invalid syntax\n"
     ]
    }
   ],
   "source": [
    "while:\n",
    "    pass"
   ]
  },
  {
   "cell_type": "code",
   "execution_count": 2,
   "id": "df9337dc",
   "metadata": {},
   "outputs": [
    {
     "ename": "SyntaxError",
     "evalue": "invalid syntax (<ipython-input-2-702e1d9b5747>, line 1)",
     "output_type": "error",
     "traceback": [
      "\u001b[1;36m  File \u001b[1;32m\"<ipython-input-2-702e1d9b5747>\"\u001b[1;36m, line \u001b[1;32m1\u001b[0m\n\u001b[1;33m    with as file:\u001b[0m\n\u001b[1;37m         ^\u001b[0m\n\u001b[1;31mSyntaxError\u001b[0m\u001b[1;31m:\u001b[0m invalid syntax\n"
     ]
    }
   ],
   "source": [
    "with as file:\n",
    "    pass"
   ]
  },
  {
   "cell_type": "code",
   "execution_count": 3,
   "id": "3f40a77f",
   "metadata": {},
   "outputs": [
    {
     "ename": "NameError",
     "evalue": "name 'a' is not defined",
     "output_type": "error",
     "traceback": [
      "\u001b[1;31m---------------------------------------------------------------------------\u001b[0m",
      "\u001b[1;31mNameError\u001b[0m                                 Traceback (most recent call last)",
      "\u001b[1;32m<ipython-input-3-e39ed28ecf4b>\u001b[0m in \u001b[0;36m<module>\u001b[1;34m\u001b[0m\n\u001b[1;32m----> 1\u001b[1;33m \u001b[0ma\u001b[0m \u001b[1;33m+=\u001b[0m \u001b[1;36m10\u001b[0m\u001b[1;33m\u001b[0m\u001b[1;33m\u001b[0m\u001b[0m\n\u001b[0m",
      "\u001b[1;31mNameError\u001b[0m: name 'a' is not defined"
     ]
    }
   ],
   "source": [
    "a += 10"
   ]
  },
  {
   "cell_type": "code",
   "execution_count": 4,
   "id": "05a17da2",
   "metadata": {},
   "outputs": [
    {
     "ename": "ZeroDivisionError",
     "evalue": "division by zero",
     "output_type": "error",
     "traceback": [
      "\u001b[1;31m---------------------------------------------------------------------------\u001b[0m",
      "\u001b[1;31mZeroDivisionError\u001b[0m                         Traceback (most recent call last)",
      "\u001b[1;32m<ipython-input-4-e574edb36883>\u001b[0m in \u001b[0;36m<module>\u001b[1;34m\u001b[0m\n\u001b[1;32m----> 1\u001b[1;33m \u001b[1;36m10\u001b[0m\u001b[1;33m/\u001b[0m\u001b[1;36m0\u001b[0m\u001b[1;33m\u001b[0m\u001b[1;33m\u001b[0m\u001b[0m\n\u001b[0m",
      "\u001b[1;31mZeroDivisionError\u001b[0m: division by zero"
     ]
    }
   ],
   "source": [
    "10/0"
   ]
  },
  {
   "cell_type": "code",
   "execution_count": 5,
   "id": "24c801f0",
   "metadata": {},
   "outputs": [
    {
     "ename": "ValueError",
     "evalue": "invalid literal for int() with base 10: '12.456'",
     "output_type": "error",
     "traceback": [
      "\u001b[1;31m---------------------------------------------------------------------------\u001b[0m",
      "\u001b[1;31mValueError\u001b[0m                                Traceback (most recent call last)",
      "\u001b[1;32m<ipython-input-5-3133c523323c>\u001b[0m in \u001b[0;36m<module>\u001b[1;34m\u001b[0m\n\u001b[1;32m----> 1\u001b[1;33m \u001b[0mint\u001b[0m\u001b[1;33m(\u001b[0m\u001b[1;34m'12.456'\u001b[0m\u001b[1;33m)\u001b[0m\u001b[1;33m\u001b[0m\u001b[1;33m\u001b[0m\u001b[0m\n\u001b[0m",
      "\u001b[1;31mValueError\u001b[0m: invalid literal for int() with base 10: '12.456'"
     ]
    }
   ],
   "source": [
    "int('12.456')"
   ]
  },
  {
   "cell_type": "code",
   "execution_count": 7,
   "id": "4e3104c4",
   "metadata": {},
   "outputs": [
    {
     "ename": "FileNotFoundError",
     "evalue": "[Errno 2] No such file or directory: 'one.txt'",
     "output_type": "error",
     "traceback": [
      "\u001b[1;31m---------------------------------------------------------------------------\u001b[0m",
      "\u001b[1;31mFileNotFoundError\u001b[0m                         Traceback (most recent call last)",
      "\u001b[1;32m<ipython-input-7-a664cd828bc4>\u001b[0m in \u001b[0;36m<module>\u001b[1;34m\u001b[0m\n\u001b[1;32m----> 1\u001b[1;33m \u001b[1;32mwith\u001b[0m \u001b[0mopen\u001b[0m\u001b[1;33m(\u001b[0m\u001b[1;34m'one.txt'\u001b[0m\u001b[1;33m)\u001b[0m \u001b[1;32mas\u001b[0m \u001b[0mfp\u001b[0m\u001b[1;33m:\u001b[0m\u001b[1;33m\u001b[0m\u001b[1;33m\u001b[0m\u001b[0m\n\u001b[0m\u001b[0;32m      2\u001b[0m     \u001b[1;32mpass\u001b[0m\u001b[1;33m\u001b[0m\u001b[1;33m\u001b[0m\u001b[0m\n",
      "\u001b[1;31mFileNotFoundError\u001b[0m: [Errno 2] No such file or directory: 'one.txt'"
     ]
    }
   ],
   "source": [
    "with open('one.txt') as fp:\n",
    "    pass"
   ]
  },
  {
   "cell_type": "code",
   "execution_count": 8,
   "id": "b6f8467a",
   "metadata": {},
   "outputs": [
    {
     "ename": "NameError",
     "evalue": "name 'os' is not defined",
     "output_type": "error",
     "traceback": [
      "\u001b[1;31m---------------------------------------------------------------------------\u001b[0m",
      "\u001b[1;31mNameError\u001b[0m                                 Traceback (most recent call last)",
      "\u001b[1;32m<ipython-input-8-8acb1336d6c9>\u001b[0m in \u001b[0;36m<module>\u001b[1;34m\u001b[0m\n\u001b[1;32m----> 1\u001b[1;33m \u001b[0mos\u001b[0m\u001b[1;33m.\u001b[0m\u001b[0msystem\u001b[0m\u001b[1;33m(\u001b[0m\u001b[1;33m)\u001b[0m\u001b[1;33m\u001b[0m\u001b[1;33m\u001b[0m\u001b[0m\n\u001b[0m",
      "\u001b[1;31mNameError\u001b[0m: name 'os' is not defined"
     ]
    }
   ],
   "source": [
    "os.system()"
   ]
  },
  {
   "cell_type": "code",
   "execution_count": 9,
   "id": "d78191e1",
   "metadata": {},
   "outputs": [
    {
     "ename": "ModuleNotFoundError",
     "evalue": "No module named 'ehiuhiuieh'",
     "output_type": "error",
     "traceback": [
      "\u001b[1;31m---------------------------------------------------------------------------\u001b[0m",
      "\u001b[1;31mModuleNotFoundError\u001b[0m                       Traceback (most recent call last)",
      "\u001b[1;32m<ipython-input-9-6e2b301eff80>\u001b[0m in \u001b[0;36m<module>\u001b[1;34m\u001b[0m\n\u001b[1;32m----> 1\u001b[1;33m \u001b[1;32mimport\u001b[0m \u001b[0mehiuhiuieh\u001b[0m\u001b[1;33m\u001b[0m\u001b[1;33m\u001b[0m\u001b[0m\n\u001b[0m",
      "\u001b[1;31mModuleNotFoundError\u001b[0m: No module named 'ehiuhiuieh'"
     ]
    }
   ],
   "source": [
    "import ehiuhiuieh"
   ]
  },
  {
   "cell_type": "markdown",
   "id": "142f136f",
   "metadata": {},
   "source": [
    "#### \n",
    "\n",
    "    try:\n",
    "        s1\n",
    "        s2\n",
    "    except:\n",
    "        s3"
   ]
  },
  {
   "cell_type": "code",
   "execution_count": 10,
   "id": "f8af1f69",
   "metadata": {},
   "outputs": [
    {
     "name": "stdout",
     "output_type": "stream",
     "text": [
      "\n",
      " hello world\n"
     ]
    }
   ],
   "source": [
    "try:\n",
    "    print('\\n hello world')\n",
    "except:\n",
    "    print(\"\\n Error....\")"
   ]
  },
  {
   "cell_type": "code",
   "execution_count": 11,
   "id": "ef8bf321",
   "metadata": {},
   "outputs": [
    {
     "ename": "SyntaxError",
     "evalue": "invalid syntax (<ipython-input-11-6dda9800dfee>, line 3)",
     "output_type": "error",
     "traceback": [
      "\u001b[1;36m  File \u001b[1;32m\"<ipython-input-11-6dda9800dfee>\"\u001b[1;36m, line \u001b[1;32m3\u001b[0m\n\u001b[1;33m    except:\u001b[0m\n\u001b[1;37m    ^\u001b[0m\n\u001b[1;31mSyntaxError\u001b[0m\u001b[1;31m:\u001b[0m invalid syntax\n"
     ]
    }
   ],
   "source": [
    "try:\n",
    "    print('\\n hello world'\n",
    "except:\n",
    "    print(\"\\n Error....\")"
   ]
  },
  {
   "cell_type": "code",
   "execution_count": 12,
   "id": "2a832a7f",
   "metadata": {},
   "outputs": [
    {
     "name": "stdout",
     "output_type": "stream",
     "text": [
      "\n",
      " Error....\n"
     ]
    }
   ],
   "source": [
    "try:\n",
    "    a += 10\n",
    "except:\n",
    "    print(\"\\n Error....\")"
   ]
  },
  {
   "cell_type": "code",
   "execution_count": 13,
   "id": "4d815f08",
   "metadata": {},
   "outputs": [
    {
     "name": "stdout",
     "output_type": "stream",
     "text": [
      "\n",
      " Enter any value : ouhue\n",
      "\n",
      " You have an error...\n"
     ]
    }
   ],
   "source": [
    "try:\n",
    "    x = int(input(\"\\n Enter any value : \"))\n",
    "    y = int(input(\"\\n Enter any value : \"))\n",
    "    print(x+y)\n",
    "except:\n",
    "    print(\"\\n You have an error...\")"
   ]
  },
  {
   "cell_type": "code",
   "execution_count": 16,
   "id": "a21d9975",
   "metadata": {},
   "outputs": [
    {
     "name": "stdout",
     "output_type": "stream",
     "text": [
      "\n",
      " Enter any value X : 10\n",
      "\n",
      " Enter any value Y : 23\n",
      "\n",
      " Addition :  33\n"
     ]
    }
   ],
   "source": [
    "try:\n",
    "    x = int(input(\"\\n Enter any value X : \"))\n",
    "    y = int(input(\"\\n Enter any value Y : \"))\n",
    "    print(\"\\n Addition : \", x+y)\n",
    "except ValueError:\n",
    "    print(\"\\n You have a Value error...\")"
   ]
  },
  {
   "cell_type": "code",
   "execution_count": 17,
   "id": "b7a5e310",
   "metadata": {},
   "outputs": [
    {
     "name": "stdout",
     "output_type": "stream",
     "text": [
      "\n",
      " Enter any value X : oioo\n",
      "\n",
      " You have a Value error...\n"
     ]
    }
   ],
   "source": [
    "try:\n",
    "    x = int(input(\"\\n Enter any value X : \"))\n",
    "    y = int(input(\"\\n Enter any value Y : \"))\n",
    "    print(\"\\n Addition : \", x+y)\n",
    "except ValueError:\n",
    "    print(\"\\n You have a Value error...\")"
   ]
  },
  {
   "cell_type": "code",
   "execution_count": 18,
   "id": "e436b7b1",
   "metadata": {},
   "outputs": [
    {
     "name": "stdout",
     "output_type": "stream",
     "text": [
      "\n",
      " Enter any value X : 10\n",
      "\n",
      " Enter any value Y : ifjij\n",
      "\n",
      " You have a Value error...\n"
     ]
    }
   ],
   "source": [
    "try:\n",
    "    x = int(input(\"\\n Enter any value X : \"))\n",
    "    y = int(input(\"\\n Enter any value Y : \"))\n",
    "    print(\"\\n Addition : \", x+y)\n",
    "except ValueError:\n",
    "    print(\"\\n You have a Value error...\")"
   ]
  },
  {
   "cell_type": "code",
   "execution_count": 21,
   "id": "ff433a27",
   "metadata": {},
   "outputs": [
    {
     "name": "stdout",
     "output_type": "stream",
     "text": [
      "\n",
      " Enter any value X : ipj\n",
      "\n",
      " Error -->  invalid literal for int() with base 10: 'ipj'\n"
     ]
    }
   ],
   "source": [
    "try:\n",
    "    x = int(input(\"\\n Enter any value X : \"))\n",
    "    y = int(input(\"\\n Enter any value Y : \"))\n",
    "    print(\"\\n Addition : \", x+y)\n",
    "except ValueError as err:\n",
    "    print(\"\\n Error --> \", err)"
   ]
  },
  {
   "cell_type": "code",
   "execution_count": 24,
   "id": "f29da064",
   "metadata": {},
   "outputs": [
    {
     "name": "stdout",
     "output_type": "stream",
     "text": [
      "\n",
      " Enter any value X : 10\n",
      "\n",
      " Enter any value Y : 0\n"
     ]
    },
    {
     "ename": "ZeroDivisionError",
     "evalue": "division by zero",
     "output_type": "error",
     "traceback": [
      "\u001b[1;31m---------------------------------------------------------------------------\u001b[0m",
      "\u001b[1;31mZeroDivisionError\u001b[0m                         Traceback (most recent call last)",
      "\u001b[1;32m<ipython-input-24-f6f4bd23e72d>\u001b[0m in \u001b[0;36m<module>\u001b[1;34m\u001b[0m\n\u001b[0;32m      2\u001b[0m     \u001b[0mx\u001b[0m \u001b[1;33m=\u001b[0m \u001b[0mint\u001b[0m\u001b[1;33m(\u001b[0m\u001b[0minput\u001b[0m\u001b[1;33m(\u001b[0m\u001b[1;34m\"\\n Enter any value X : \"\u001b[0m\u001b[1;33m)\u001b[0m\u001b[1;33m)\u001b[0m\u001b[1;33m\u001b[0m\u001b[1;33m\u001b[0m\u001b[0m\n\u001b[0;32m      3\u001b[0m     \u001b[0my\u001b[0m \u001b[1;33m=\u001b[0m \u001b[0mint\u001b[0m\u001b[1;33m(\u001b[0m\u001b[0minput\u001b[0m\u001b[1;33m(\u001b[0m\u001b[1;34m\"\\n Enter any value Y : \"\u001b[0m\u001b[1;33m)\u001b[0m\u001b[1;33m)\u001b[0m\u001b[1;33m\u001b[0m\u001b[1;33m\u001b[0m\u001b[0m\n\u001b[1;32m----> 4\u001b[1;33m     \u001b[0mprint\u001b[0m\u001b[1;33m(\u001b[0m\u001b[1;34m\"\\n Division : \"\u001b[0m\u001b[1;33m,\u001b[0m \u001b[0mx\u001b[0m\u001b[1;33m/\u001b[0m\u001b[0my\u001b[0m\u001b[1;33m)\u001b[0m\u001b[1;33m\u001b[0m\u001b[1;33m\u001b[0m\u001b[0m\n\u001b[0m\u001b[0;32m      5\u001b[0m \u001b[1;32mexcept\u001b[0m \u001b[0mValueError\u001b[0m \u001b[1;32mas\u001b[0m \u001b[0merr\u001b[0m\u001b[1;33m:\u001b[0m\u001b[1;33m\u001b[0m\u001b[1;33m\u001b[0m\u001b[0m\n\u001b[0;32m      6\u001b[0m     \u001b[0mprint\u001b[0m\u001b[1;33m(\u001b[0m\u001b[1;34m\"\\n Error --> \"\u001b[0m\u001b[1;33m,\u001b[0m \u001b[0merr\u001b[0m\u001b[1;33m)\u001b[0m\u001b[1;33m\u001b[0m\u001b[1;33m\u001b[0m\u001b[0m\n",
      "\u001b[1;31mZeroDivisionError\u001b[0m: division by zero"
     ]
    }
   ],
   "source": [
    "try:\n",
    "    x = int(input(\"\\n Enter any value X : \"))\n",
    "    y = int(input(\"\\n Enter any value Y : \"))\n",
    "    print(\"\\n Division : \", x/y)\n",
    "except ValueError as err:\n",
    "    print(\"\\n Error --> \", err)"
   ]
  },
  {
   "cell_type": "code",
   "execution_count": 26,
   "id": "7fa8ca68",
   "metadata": {},
   "outputs": [
    {
     "name": "stdout",
     "output_type": "stream",
     "text": [
      "\n",
      " Enter any value X : 34\n",
      "\n",
      " Enter any value Y : 56\n",
      "\n",
      " Division :  0.6071428571428571\n"
     ]
    }
   ],
   "source": [
    "try:\n",
    "    x = int(input(\"\\n Enter any value X : \"))\n",
    "    y = int(input(\"\\n Enter any value Y : \"))\n",
    "    print(\"\\n Division : \", x/y)\n",
    "except ValueError as err:\n",
    "    print(\"\\n Error --> \", err)\n",
    "except ZeroDivisionError as msg:\n",
    "    print(\"\\n Error --> \", msg)"
   ]
  },
  {
   "cell_type": "code",
   "execution_count": 27,
   "id": "8567a480",
   "metadata": {},
   "outputs": [
    {
     "name": "stdout",
     "output_type": "stream",
     "text": [
      "\n",
      " Enter any value X : iuhouhr\n",
      "\n",
      " Error -->  invalid literal for int() with base 10: 'iuhouhr'\n",
      "\n",
      " Enter any value X : 10\n",
      "\n",
      " Enter any value Y : uhuh\n",
      "\n",
      " Error -->  invalid literal for int() with base 10: 'uhuh'\n",
      "\n",
      " Enter any value X : 67\n",
      "\n",
      " Enter any value Y : 45\n",
      "\n",
      " Division :  1.488888888888889\n"
     ]
    }
   ],
   "source": [
    "while True:\n",
    "    try:\n",
    "        x = int(input(\"\\n Enter any value X : \"))\n",
    "        y = int(input(\"\\n Enter any value Y : \"))\n",
    "        print(\"\\n Division : \", x/y)\n",
    "        break\n",
    "    except ValueError as err:\n",
    "        print(\"\\n Error --> \", err)\n",
    "    except ZeroDivisionError as msg:\n",
    "        print(\"\\n Error --> \", msg)"
   ]
  },
  {
   "cell_type": "code",
   "execution_count": 28,
   "id": "46fd5f8a",
   "metadata": {},
   "outputs": [
    {
     "name": "stdout",
     "output_type": "stream",
     "text": [
      "\n",
      " Enter any value X : 12\n",
      "\n",
      " Enter any value Y : irj\n",
      "\n",
      " Error -->  invalid literal for int() with base 10: 'irj'\n",
      "\n",
      " Enter any value X : 56\n",
      "\n",
      " Enter any value Y : 34\n",
      "\n",
      " Division :  1.6470588235294117\n"
     ]
    }
   ],
   "source": [
    "while True:\n",
    "    try:\n",
    "        x = int(input(\"\\n Enter any value X : \"))\n",
    "        y = int(input(\"\\n Enter any value Y : \"))\n",
    "        print(\"\\n Division : \", x/y)\n",
    "        break\n",
    "    except ValueError as err:\n",
    "        print(\"\\n Error --> \", err)\n",
    "    except ZeroDivisionError as msg:\n",
    "        print(\"\\n Error --> \", msg)"
   ]
  },
  {
   "cell_type": "markdown",
   "id": "9a98d590",
   "metadata": {},
   "source": [
    "#### Take file input from the user untill the file which it enters does not exists"
   ]
  },
  {
   "cell_type": "code",
   "execution_count": 29,
   "id": "e09d6494",
   "metadata": {},
   "outputs": [],
   "source": [
    "with open(\"one.txt\", 'w') as fp:\n",
    "    fp.write('hello')"
   ]
  },
  {
   "cell_type": "code",
   "execution_count": 30,
   "id": "80a29881",
   "metadata": {},
   "outputs": [
    {
     "name": "stdout",
     "output_type": "stream",
     "text": [
      "\n",
      " Enter file name : pijeipj\n",
      "\n",
      " Message -->  [Errno 2] No such file or directory: 'pijeipj'\n",
      "\n",
      " Enter file name : pij\n",
      "\n",
      " Message -->  [Errno 2] No such file or directory: 'pij'\n",
      "\n",
      " Enter file name : one.txt\n",
      "hello\n"
     ]
    }
   ],
   "source": [
    "while True:\n",
    "    try:\n",
    "        x = (input(\"\\n Enter file name : \"))\n",
    "        with open(x) as fp:\n",
    "            print(fp.read())\n",
    "            break\n",
    "    except FileNotFoundError as err:\n",
    "        print(\"\\n Message --> \", err)"
   ]
  },
  {
   "cell_type": "code",
   "execution_count": 32,
   "id": "1b4b1471",
   "metadata": {},
   "outputs": [
    {
     "ename": "IndentationError",
     "evalue": "unexpected indent (<ipython-input-32-9f78896706f6>, line 3)",
     "output_type": "error",
     "traceback": [
      "\u001b[1;36m  File \u001b[1;32m\"<ipython-input-32-9f78896706f6>\"\u001b[1;36m, line \u001b[1;32m3\u001b[0m\n\u001b[1;33m    print('hello')\u001b[0m\n\u001b[1;37m    ^\u001b[0m\n\u001b[1;31mIndentationError\u001b[0m\u001b[1;31m:\u001b[0m unexpected indent\n"
     ]
    }
   ],
   "source": [
    "try:\n",
    "    print('hi')\n",
    "      print('hello')\n",
    "except SyntaxError as error:\n",
    "    print(error)"
   ]
  },
  {
   "cell_type": "code",
   "execution_count": 33,
   "id": "04c7310e",
   "metadata": {},
   "outputs": [
    {
     "name": "stdout",
     "output_type": "stream",
     "text": [
      "\n",
      " Enter file name : one\n",
      "\n",
      " Message -->  [Errno 2] No such file or directory: 'one'\n",
      "\n",
      " Enter file name : one.txt\n",
      "hello\n"
     ]
    }
   ],
   "source": [
    "while True:\n",
    "    try:\n",
    "        x = (input(\"\\n Enter file name : \"))\n",
    "        with open(x) as fp:\n",
    "            print(fp.read())\n",
    "            break\n",
    "    except OSError as err:\n",
    "        print(\"\\n Message --> \", err)"
   ]
  },
  {
   "cell_type": "code",
   "execution_count": 34,
   "id": "f4f04369",
   "metadata": {},
   "outputs": [
    {
     "name": "stdout",
     "output_type": "stream",
     "text": [
      "\n",
      " Enter file name : eoifhio\n",
      "\n",
      " Message -->  [Errno 2] No such file or directory: 'eoifhio'\n",
      "\n",
      " Enter file name : eijf\n",
      "\n",
      " Message -->  [Errno 2] No such file or directory: 'eijf'\n",
      "\n",
      " Enter file name : ij\n",
      "\n",
      " Message -->  [Errno 2] No such file or directory: 'ij'\n",
      "\n",
      " Enter file name : one.txt\n",
      "hello\n"
     ]
    }
   ],
   "source": [
    "while True:\n",
    "    try:\n",
    "        x = (input(\"\\n Enter file name : \"))\n",
    "        with open(x) as fp:\n",
    "            print(fp.read())\n",
    "            break\n",
    "    except Exception as err:\n",
    "        print(\"\\n Message --> \", err)"
   ]
  },
  {
   "cell_type": "code",
   "execution_count": 35,
   "id": "3a7f81b4",
   "metadata": {},
   "outputs": [
    {
     "name": "stdout",
     "output_type": "stream",
     "text": [
      "\n",
      " Enter any value X : ju\n",
      "\n",
      " Error -->  invalid literal for int() with base 10: 'ju'\n",
      "\n",
      " Enter any value X : 10\n",
      "\n",
      " Enter any value Y : 0\n",
      "\n",
      " Error -->  division by zero\n",
      "\n",
      " Enter any value X : 90\n",
      "\n",
      " Enter any value Y : 80\n",
      "\n",
      " Division :  1.125\n"
     ]
    }
   ],
   "source": [
    "while True:\n",
    "    try:\n",
    "        x = int(input(\"\\n Enter any value X : \"))\n",
    "        y = int(input(\"\\n Enter any value Y : \"))\n",
    "        print(\"\\n Division : \", x/y)\n",
    "        break\n",
    "    except Exception as error:\n",
    "        print(\"\\n Error --> \", error)"
   ]
  },
  {
   "cell_type": "code",
   "execution_count": 36,
   "id": "74a289d4",
   "metadata": {},
   "outputs": [
    {
     "name": "stdout",
     "output_type": "stream",
     "text": [
      "\n",
      " Enter value : 34\n",
      "\n",
      " Square --> 1156\n"
     ]
    }
   ],
   "source": [
    "try:\n",
    "    x = int(input(\"\\n Enter value : \"))\n",
    "except Exception as msg:\n",
    "    print(f\"\\n Error --> {msg}\")\n",
    "else: \n",
    "    # this part will execute if error does not come\n",
    "    print(f\"\\n Square --> {x**2}\")"
   ]
  },
  {
   "cell_type": "code",
   "execution_count": 37,
   "id": "b58fe143",
   "metadata": {},
   "outputs": [
    {
     "name": "stdout",
     "output_type": "stream",
     "text": [
      "\n",
      " Enter value : pijioj\n",
      "\n",
      " Error --> invalid literal for int() with base 10: 'pijioj'\n"
     ]
    }
   ],
   "source": [
    "try:\n",
    "    x = int(input(\"\\n Enter value : \"))\n",
    "except Exception as msg:\n",
    "    print(f\"\\n Error --> {msg}\")\n",
    "else: \n",
    "    # this part will execute if error does not come\n",
    "    print(f\"\\n Square --> {x**2}\")"
   ]
  },
  {
   "cell_type": "code",
   "execution_count": 38,
   "id": "8ee71ab7",
   "metadata": {},
   "outputs": [
    {
     "name": "stdout",
     "output_type": "stream",
     "text": [
      "\n",
      " Enter value : 34\n",
      "\n",
      " This is final block\n"
     ]
    }
   ],
   "source": [
    "try:\n",
    "    x = int(input(\"\\n Enter value : \"))\n",
    "except Exception as msg:\n",
    "    print(f\"\\n Error --> {msg}\")\n",
    "finally:\n",
    "    print(\"\\n This is final block\")"
   ]
  },
  {
   "cell_type": "code",
   "execution_count": 39,
   "id": "b4b923da",
   "metadata": {},
   "outputs": [
    {
     "name": "stdout",
     "output_type": "stream",
     "text": [
      "\n",
      " Enter value : pghirj\n",
      "\n",
      " Error --> invalid literal for int() with base 10: 'pghirj'\n",
      "\n",
      " This is final block\n"
     ]
    }
   ],
   "source": [
    "try:\n",
    "    x = int(input(\"\\n Enter value : \"))\n",
    "except Exception as msg:\n",
    "    print(f\"\\n Error --> {msg}\")\n",
    "finally:\n",
    "    print(\"\\n This is final block\")"
   ]
  },
  {
   "cell_type": "code",
   "execution_count": 41,
   "id": "86a69d97",
   "metadata": {},
   "outputs": [
    {
     "name": "stdout",
     "output_type": "stream",
     "text": [
      "\n",
      " Enter value : oihoj\n",
      "\n",
      " Error --> invalid literal for int() with base 10: 'oihoj'\n",
      "\n",
      " Your final code...\n"
     ]
    }
   ],
   "source": [
    "try:\n",
    "    x = int(input(\"\\n Enter value : \"))\n",
    "except Exception as msg:\n",
    "    print(f\"\\n Error --> {msg}\")\n",
    "else: \n",
    "    # this part will execute if error does not come\n",
    "    print(f\"\\n Square --> {x**2}\")\n",
    "finally:\n",
    "    print(\"\\n Your final code...\")"
   ]
  },
  {
   "cell_type": "code",
   "execution_count": 43,
   "id": "25da510c",
   "metadata": {},
   "outputs": [
    {
     "data": {
      "text/plain": [
       "45"
      ]
     },
     "execution_count": 43,
     "metadata": {},
     "output_type": "execute_result"
    }
   ],
   "source": [
    "x"
   ]
  },
  {
   "cell_type": "code",
   "execution_count": 44,
   "id": "416ae282",
   "metadata": {},
   "outputs": [
    {
     "ename": "NameError",
     "evalue": "name 'z' is not defined",
     "output_type": "error",
     "traceback": [
      "\u001b[1;31m---------------------------------------------------------------------------\u001b[0m",
      "\u001b[1;31mNameError\u001b[0m                                 Traceback (most recent call last)",
      "\u001b[1;32m<ipython-input-44-3a710d2a84f8>\u001b[0m in \u001b[0;36m<module>\u001b[1;34m\u001b[0m\n\u001b[1;32m----> 1\u001b[1;33m \u001b[0mz\u001b[0m\u001b[1;33m\u001b[0m\u001b[1;33m\u001b[0m\u001b[0m\n\u001b[0m",
      "\u001b[1;31mNameError\u001b[0m: name 'z' is not defined"
     ]
    }
   ],
   "source": [
    "z"
   ]
  },
  {
   "cell_type": "code",
   "execution_count": 45,
   "id": "5cd8df43",
   "metadata": {},
   "outputs": [
    {
     "name": "stdout",
     "output_type": "stream",
     "text": [
      "\n",
      " Enter value : ipjpoj\n",
      "\n",
      " Error --> invalid literal for int() with base 10: 'ipjpoj'\n"
     ]
    },
    {
     "ename": "NameError",
     "evalue": "name 'z' is not defined",
     "output_type": "error",
     "traceback": [
      "\u001b[1;31m---------------------------------------------------------------------------\u001b[0m",
      "\u001b[1;31mNameError\u001b[0m                                 Traceback (most recent call last)",
      "\u001b[1;32m<ipython-input-45-55f43d920af3>\u001b[0m in \u001b[0;36m<module>\u001b[1;34m\u001b[0m\n\u001b[0;32m      7\u001b[0m     \u001b[0mprint\u001b[0m\u001b[1;33m(\u001b[0m\u001b[1;34mf\"\\n Square --> {z**2}\"\u001b[0m\u001b[1;33m)\u001b[0m\u001b[1;33m\u001b[0m\u001b[1;33m\u001b[0m\u001b[0m\n\u001b[0;32m      8\u001b[0m \u001b[1;32mfinally\u001b[0m\u001b[1;33m:\u001b[0m\u001b[1;33m\u001b[0m\u001b[1;33m\u001b[0m\u001b[0m\n\u001b[1;32m----> 9\u001b[1;33m     \u001b[0mprint\u001b[0m\u001b[1;33m(\u001b[0m\u001b[0mz\u001b[0m\u001b[1;33m**\u001b[0m\u001b[1;36m2\u001b[0m\u001b[1;33m)\u001b[0m\u001b[1;33m\u001b[0m\u001b[1;33m\u001b[0m\u001b[0m\n\u001b[0m",
      "\u001b[1;31mNameError\u001b[0m: name 'z' is not defined"
     ]
    }
   ],
   "source": [
    "try:\n",
    "    z = int(input(\"\\n Enter value : \"))\n",
    "except Exception as msg:\n",
    "    print(f\"\\n Error --> {msg}\")\n",
    "else: \n",
    "    # this part will execute if error does not come\n",
    "    print(f\"\\n Square --> {z**2}\")\n",
    "finally:\n",
    "    print(z**2)"
   ]
  },
  {
   "cell_type": "code",
   "execution_count": 48,
   "id": "574345fa",
   "metadata": {},
   "outputs": [
    {
     "name": "stdout",
     "output_type": "stream",
     "text": [
      "\n",
      " Enter value X: 10\n",
      "\n",
      " Enter value Y: 0\n",
      "division by zero\n"
     ]
    }
   ],
   "source": [
    "try:\n",
    "    x = int(input(\"\\n Enter value X: \"))\n",
    "    y = int(input(\"\\n Enter value Y: \"))\n",
    "except Exception as msg:\n",
    "    print(f\"\\n Error --> {msg}\")\n",
    "else: \n",
    "    # this part will execute if error does not come\n",
    "    try:\n",
    "        print(f\"\\n Division --> {x/y}\")\n",
    "    except Exception as error:\n",
    "        print(error)"
   ]
  },
  {
   "cell_type": "code",
   "execution_count": 52,
   "id": "012fc0c8",
   "metadata": {},
   "outputs": [
    {
     "name": "stdout",
     "output_type": "stream",
     "text": [
      "\n",
      " Enter value --> -9\n"
     ]
    },
    {
     "ename": "ValueError",
     "evalue": "Negative Number is not valid",
     "output_type": "error",
     "traceback": [
      "\u001b[1;31m---------------------------------------------------------------------------\u001b[0m",
      "\u001b[1;31mValueError\u001b[0m                                Traceback (most recent call last)",
      "\u001b[1;32m<ipython-input-52-b56dc6acda29>\u001b[0m in \u001b[0;36m<module>\u001b[1;34m\u001b[0m\n\u001b[0;32m      1\u001b[0m \u001b[0mx\u001b[0m \u001b[1;33m=\u001b[0m \u001b[0mint\u001b[0m\u001b[1;33m(\u001b[0m\u001b[0minput\u001b[0m\u001b[1;33m(\u001b[0m\u001b[1;34m\"\\n Enter value --> \"\u001b[0m\u001b[1;33m)\u001b[0m\u001b[1;33m)\u001b[0m\u001b[1;33m\u001b[0m\u001b[1;33m\u001b[0m\u001b[0m\n\u001b[0;32m      2\u001b[0m \u001b[1;32mif\u001b[0m \u001b[0mx\u001b[0m\u001b[1;33m<\u001b[0m\u001b[1;36m0\u001b[0m\u001b[1;33m:\u001b[0m\u001b[1;33m\u001b[0m\u001b[1;33m\u001b[0m\u001b[0m\n\u001b[1;32m----> 3\u001b[1;33m     \u001b[1;32mraise\u001b[0m \u001b[0mValueError\u001b[0m\u001b[1;33m(\u001b[0m\u001b[1;34m\"Negative Number is not valid\"\u001b[0m\u001b[1;33m)\u001b[0m\u001b[1;33m\u001b[0m\u001b[1;33m\u001b[0m\u001b[0m\n\u001b[0m\u001b[0;32m      4\u001b[0m \u001b[1;32melse\u001b[0m\u001b[1;33m:\u001b[0m\u001b[1;33m\u001b[0m\u001b[1;33m\u001b[0m\u001b[0m\n\u001b[0;32m      5\u001b[0m     \u001b[0mprint\u001b[0m\u001b[1;33m(\u001b[0m\u001b[1;34mf\"\\n X --> {x}\"\u001b[0m\u001b[1;33m)\u001b[0m\u001b[1;33m\u001b[0m\u001b[1;33m\u001b[0m\u001b[0m\n",
      "\u001b[1;31mValueError\u001b[0m: Negative Number is not valid"
     ]
    }
   ],
   "source": [
    "x = int(input(\"\\n Enter value --> \"))\n",
    "if x<0:\n",
    "    raise ValueError(\"Negative Number is not valid\")\n",
    "else:\n",
    "    print(f\"\\n X --> {x}\")"
   ]
  },
  {
   "cell_type": "markdown",
   "id": "24dee480",
   "metadata": {},
   "source": [
    "#### Take input from the user untill it enters value between 1 to 20"
   ]
  },
  {
   "cell_type": "code",
   "execution_count": 54,
   "id": "a6df9655",
   "metadata": {},
   "outputs": [
    {
     "name": "stdout",
     "output_type": "stream",
     "text": [
      "\n",
      " Enter value --> -10\n",
      "\n",
      " Error -->  Negative Number is not valid\n"
     ]
    }
   ],
   "source": [
    "try:\n",
    "    x = int(input(\"\\n Enter value --> \"))\n",
    "    if x<0:\n",
    "        raise ValueError(\"Negative Number is not valid\")\n",
    "    else:\n",
    "        print(f\"\\n X --> {x}\")\n",
    "except ValueError as msg:\n",
    "    print(\"\\n Error --> \", msg)"
   ]
  },
  {
   "cell_type": "code",
   "execution_count": 65,
   "id": "d71a424b",
   "metadata": {},
   "outputs": [
    {
     "name": "stdout",
     "output_type": "stream",
     "text": [
      "\n",
      " Enter Value --> 10\n",
      "\n",
      " X -->  10\n"
     ]
    }
   ],
   "source": [
    "x = int(input(\"\\n Enter Value --> \"))\n",
    "assert x>0, \"Negative Value\"\n",
    "print(\"\\n X --> \", x)"
   ]
  },
  {
   "cell_type": "code",
   "execution_count": 66,
   "id": "b55b2c2f",
   "metadata": {},
   "outputs": [
    {
     "name": "stdout",
     "output_type": "stream",
     "text": [
      "\n",
      " Enter Value --> -10\n"
     ]
    },
    {
     "ename": "AssertionError",
     "evalue": "Negative Value",
     "output_type": "error",
     "traceback": [
      "\u001b[1;31m---------------------------------------------------------------------------\u001b[0m",
      "\u001b[1;31mAssertionError\u001b[0m                            Traceback (most recent call last)",
      "\u001b[1;32m<ipython-input-66-9f9cfdb6c47c>\u001b[0m in \u001b[0;36m<module>\u001b[1;34m\u001b[0m\n\u001b[0;32m      1\u001b[0m \u001b[0mx\u001b[0m \u001b[1;33m=\u001b[0m \u001b[0mint\u001b[0m\u001b[1;33m(\u001b[0m\u001b[0minput\u001b[0m\u001b[1;33m(\u001b[0m\u001b[1;34m\"\\n Enter Value --> \"\u001b[0m\u001b[1;33m)\u001b[0m\u001b[1;33m)\u001b[0m\u001b[1;33m\u001b[0m\u001b[1;33m\u001b[0m\u001b[0m\n\u001b[1;32m----> 2\u001b[1;33m \u001b[1;32massert\u001b[0m \u001b[0mx\u001b[0m\u001b[1;33m>\u001b[0m\u001b[1;36m0\u001b[0m\u001b[1;33m,\u001b[0m \u001b[1;34m\"Negative Value\"\u001b[0m\u001b[1;33m\u001b[0m\u001b[1;33m\u001b[0m\u001b[0m\n\u001b[0m\u001b[0;32m      3\u001b[0m \u001b[0mprint\u001b[0m\u001b[1;33m(\u001b[0m\u001b[1;34m\"\\n X --> \"\u001b[0m\u001b[1;33m,\u001b[0m \u001b[0mx\u001b[0m\u001b[1;33m)\u001b[0m\u001b[1;33m\u001b[0m\u001b[1;33m\u001b[0m\u001b[0m\n",
      "\u001b[1;31mAssertionError\u001b[0m: Negative Value"
     ]
    }
   ],
   "source": [
    "x = int(input(\"\\n Enter Value --> \"))\n",
    "assert x>0, \"Negative Value\"\n",
    "print(\"\\n X --> \", x)"
   ]
  },
  {
   "cell_type": "code",
   "execution_count": 67,
   "id": "d2345359",
   "metadata": {},
   "outputs": [],
   "source": [
    "def square(x):\n",
    "    return x**2"
   ]
  },
  {
   "cell_type": "code",
   "execution_count": 69,
   "id": "bc703e5b",
   "metadata": {},
   "outputs": [
    {
     "name": "stdout",
     "output_type": "stream",
     "text": [
      "\n",
      " Correct Output\n"
     ]
    }
   ],
   "source": [
    "res = square(10)\n",
    "assert res==100, \"Incorrect Output\"\n",
    "print(\"\\n Correct Output\")"
   ]
  },
  {
   "cell_type": "code",
   "execution_count": 70,
   "id": "14d2ac7e",
   "metadata": {},
   "outputs": [],
   "source": [
    "def square(x):\n",
    "    return x**3"
   ]
  },
  {
   "cell_type": "code",
   "execution_count": 71,
   "id": "87c25677",
   "metadata": {},
   "outputs": [
    {
     "ename": "AssertionError",
     "evalue": "Incorrect Output",
     "output_type": "error",
     "traceback": [
      "\u001b[1;31m---------------------------------------------------------------------------\u001b[0m",
      "\u001b[1;31mAssertionError\u001b[0m                            Traceback (most recent call last)",
      "\u001b[1;32m<ipython-input-71-c93c3bdca82e>\u001b[0m in \u001b[0;36m<module>\u001b[1;34m\u001b[0m\n\u001b[0;32m      1\u001b[0m \u001b[0mres\u001b[0m \u001b[1;33m=\u001b[0m \u001b[0msquare\u001b[0m\u001b[1;33m(\u001b[0m\u001b[1;36m10\u001b[0m\u001b[1;33m)\u001b[0m\u001b[1;33m\u001b[0m\u001b[1;33m\u001b[0m\u001b[0m\n\u001b[1;32m----> 2\u001b[1;33m \u001b[1;32massert\u001b[0m \u001b[0mres\u001b[0m\u001b[1;33m==\u001b[0m\u001b[1;36m100\u001b[0m\u001b[1;33m,\u001b[0m \u001b[1;34m\"Incorrect Output\"\u001b[0m\u001b[1;33m\u001b[0m\u001b[1;33m\u001b[0m\u001b[0m\n\u001b[0m\u001b[0;32m      3\u001b[0m \u001b[0mprint\u001b[0m\u001b[1;33m(\u001b[0m\u001b[1;34m\"\\n Correct Output\"\u001b[0m\u001b[1;33m)\u001b[0m\u001b[1;33m\u001b[0m\u001b[1;33m\u001b[0m\u001b[0m\n",
      "\u001b[1;31mAssertionError\u001b[0m: Incorrect Output"
     ]
    }
   ],
   "source": [
    "res = square(10)\n",
    "assert res==100, \"Incorrect Output\"\n",
    "print(\"\\n Correct Output\")"
   ]
  },
  {
   "cell_type": "code",
   "execution_count": null,
   "id": "ab6297d0",
   "metadata": {},
   "outputs": [],
   "source": []
  }
 ],
 "metadata": {
  "kernelspec": {
   "display_name": "Python 3",
   "language": "python",
   "name": "python3"
  },
  "language_info": {
   "codemirror_mode": {
    "name": "ipython",
    "version": 3
   },
   "file_extension": ".py",
   "mimetype": "text/x-python",
   "name": "python",
   "nbconvert_exporter": "python",
   "pygments_lexer": "ipython3",
   "version": "3.8.8"
  }
 },
 "nbformat": 4,
 "nbformat_minor": 5
}
