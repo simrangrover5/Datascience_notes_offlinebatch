{
 "cells": [
  {
   "cell_type": "code",
   "execution_count": 1,
   "id": "3d43c0a9",
   "metadata": {},
   "outputs": [],
   "source": [
    "import numpy as np"
   ]
  },
  {
   "cell_type": "code",
   "execution_count": 4,
   "id": "f81322ba",
   "metadata": {},
   "outputs": [
    {
     "data": {
      "text/plain": [
       "array([ 8, 16,  3, 17, 12, 18,  6,  1,  1, 14,  4, 17, 11,  7,  2, 18,  1,\n",
       "        4, 12, 14,  2, 14, 12,  6, 19])"
      ]
     },
     "execution_count": 4,
     "metadata": {},
     "output_type": "execute_result"
    }
   ],
   "source": [
    "np.random.randint(1, 20, 25)"
   ]
  },
  {
   "cell_type": "code",
   "execution_count": 7,
   "id": "5e9e0b69",
   "metadata": {},
   "outputs": [],
   "source": [
    "arr = np.random.randint(1, 20, (7, 7))"
   ]
  },
  {
   "cell_type": "code",
   "execution_count": 8,
   "id": "421bb50d",
   "metadata": {},
   "outputs": [
    {
     "data": {
      "text/plain": [
       "array([[ 9, 15,  4,  1,  1, 13, 14],\n",
       "       [10, 15, 16, 18, 16,  1,  8],\n",
       "       [ 3,  6, 10,  3, 19,  8, 13],\n",
       "       [ 3,  5,  1, 10,  8, 18, 15],\n",
       "       [15, 18,  1, 17, 17,  7, 14],\n",
       "       [ 6,  8, 11,  3, 17, 14,  9],\n",
       "       [17,  3, 17, 17, 18,  2,  9]])"
      ]
     },
     "execution_count": 8,
     "metadata": {},
     "output_type": "execute_result"
    }
   ],
   "source": [
    "arr"
   ]
  },
  {
   "cell_type": "markdown",
   "id": "65c3278f",
   "metadata": {},
   "source": [
    "    arr[row, col]"
   ]
  },
  {
   "cell_type": "code",
   "execution_count": 9,
   "id": "fd1a1ca8",
   "metadata": {},
   "outputs": [
    {
     "data": {
      "text/plain": [
       "array([[10, 15, 16, 18, 16,  1,  8],\n",
       "       [ 6,  8, 11,  3, 17, 14,  9]])"
      ]
     },
     "execution_count": 9,
     "metadata": {},
     "output_type": "execute_result"
    }
   ],
   "source": [
    "arr[[1,5]]"
   ]
  },
  {
   "cell_type": "code",
   "execution_count": 10,
   "id": "1f18865b",
   "metadata": {},
   "outputs": [
    {
     "data": {
      "text/plain": [
       "array([[ 9, 15,  4,  1,  1, 13, 14],\n",
       "       [10, 15, 16, 18, 16,  1,  8],\n",
       "       [ 3,  6, 10,  3, 19,  8, 13],\n",
       "       [ 3,  5,  1, 10,  8, 18, 15],\n",
       "       [15, 18,  1, 17, 17,  7, 14],\n",
       "       [ 6,  8, 11,  3, 17, 14,  9],\n",
       "       [17,  3, 17, 17, 18,  2,  9]])"
      ]
     },
     "execution_count": 10,
     "metadata": {},
     "output_type": "execute_result"
    }
   ],
   "source": [
    "arr"
   ]
  },
  {
   "cell_type": "code",
   "execution_count": 11,
   "id": "1a8d9ba7",
   "metadata": {},
   "outputs": [
    {
     "data": {
      "text/plain": [
       "array([[ 3,  3, 13],\n",
       "       [15, 17, 14],\n",
       "       [17, 17,  9]])"
      ]
     },
     "execution_count": 11,
     "metadata": {},
     "output_type": "execute_result"
    }
   ],
   "source": [
    "arr[2::2, ::3]"
   ]
  },
  {
   "cell_type": "code",
   "execution_count": 12,
   "id": "e98a6a00",
   "metadata": {},
   "outputs": [
    {
     "data": {
      "text/plain": [
       "array([17, 11,  1,  1, 10, 16,  4])"
      ]
     },
     "execution_count": 12,
     "metadata": {},
     "output_type": "execute_result"
    }
   ],
   "source": [
    "arr[::-1, 2]"
   ]
  },
  {
   "cell_type": "code",
   "execution_count": 14,
   "id": "8fa8df99",
   "metadata": {},
   "outputs": [
    {
     "data": {
      "text/plain": [
       "10.26530612244898"
      ]
     },
     "execution_count": 14,
     "metadata": {},
     "output_type": "execute_result"
    }
   ],
   "source": [
    "arr.mean()"
   ]
  },
  {
   "cell_type": "code",
   "execution_count": 15,
   "id": "777cee85",
   "metadata": {},
   "outputs": [
    {
     "data": {
      "text/plain": [
       "503"
      ]
     },
     "execution_count": 15,
     "metadata": {},
     "output_type": "execute_result"
    }
   ],
   "source": [
    "arr.sum()"
   ]
  },
  {
   "cell_type": "code",
   "execution_count": 16,
   "id": "e7a76dd5",
   "metadata": {},
   "outputs": [
    {
     "data": {
      "text/plain": [
       "19"
      ]
     },
     "execution_count": 16,
     "metadata": {},
     "output_type": "execute_result"
    }
   ],
   "source": [
    "arr.max()"
   ]
  },
  {
   "cell_type": "code",
   "execution_count": 18,
   "id": "a2429490",
   "metadata": {},
   "outputs": [
    {
     "data": {
      "text/plain": [
       "array([[ 9, 15,  4,  1,  1, 13, 14],\n",
       "       [10, 15, 16, 18, 16,  1,  8],\n",
       "       [ 3,  6, 10,  3, 19,  8, 13],\n",
       "       [ 3,  5,  1, 10,  8, 18, 15],\n",
       "       [15, 18,  1, 17, 17,  7, 14],\n",
       "       [ 6,  8, 11,  3, 17, 14,  9],\n",
       "       [17,  3, 17, 17, 18,  2,  9]])"
      ]
     },
     "execution_count": 18,
     "metadata": {},
     "output_type": "execute_result"
    }
   ],
   "source": [
    "arr"
   ]
  },
  {
   "cell_type": "code",
   "execution_count": 20,
   "id": "130a0ef2",
   "metadata": {},
   "outputs": [
    {
     "data": {
      "text/plain": [
       "array([[3, 4, 2, 0, 5, 6, 1],\n",
       "       [5, 6, 0, 1, 2, 4, 3],\n",
       "       [0, 3, 1, 5, 2, 6, 4],\n",
       "       [2, 0, 1, 4, 3, 6, 5],\n",
       "       [2, 5, 6, 0, 3, 4, 1],\n",
       "       [3, 0, 1, 6, 2, 5, 4],\n",
       "       [5, 1, 6, 0, 2, 3, 4]], dtype=int64)"
      ]
     },
     "execution_count": 20,
     "metadata": {},
     "output_type": "execute_result"
    }
   ],
   "source": [
    "arr.argsort()"
   ]
  },
  {
   "cell_type": "code",
   "execution_count": 19,
   "id": "310648b2",
   "metadata": {},
   "outputs": [
    {
     "data": {
      "text/plain": [
       "array([[[ 3,  5,  1, 10,  8, 18, 15],\n",
       "        [15, 18,  1, 17, 17,  7, 14],\n",
       "        [ 3,  6, 10,  3, 19,  8, 13],\n",
       "        [ 9, 15,  4,  1,  1, 13, 14],\n",
       "        [ 6,  8, 11,  3, 17, 14,  9],\n",
       "        [17,  3, 17, 17, 18,  2,  9],\n",
       "        [10, 15, 16, 18, 16,  1,  8]],\n",
       "\n",
       "       [[ 6,  8, 11,  3, 17, 14,  9],\n",
       "        [17,  3, 17, 17, 18,  2,  9],\n",
       "        [ 9, 15,  4,  1,  1, 13, 14],\n",
       "        [10, 15, 16, 18, 16,  1,  8],\n",
       "        [ 3,  6, 10,  3, 19,  8, 13],\n",
       "        [15, 18,  1, 17, 17,  7, 14],\n",
       "        [ 3,  5,  1, 10,  8, 18, 15]],\n",
       "\n",
       "       [[ 9, 15,  4,  1,  1, 13, 14],\n",
       "        [ 3,  5,  1, 10,  8, 18, 15],\n",
       "        [10, 15, 16, 18, 16,  1,  8],\n",
       "        [ 6,  8, 11,  3, 17, 14,  9],\n",
       "        [ 3,  6, 10,  3, 19,  8, 13],\n",
       "        [17,  3, 17, 17, 18,  2,  9],\n",
       "        [15, 18,  1, 17, 17,  7, 14]],\n",
       "\n",
       "       [[ 3,  6, 10,  3, 19,  8, 13],\n",
       "        [ 9, 15,  4,  1,  1, 13, 14],\n",
       "        [10, 15, 16, 18, 16,  1,  8],\n",
       "        [15, 18,  1, 17, 17,  7, 14],\n",
       "        [ 3,  5,  1, 10,  8, 18, 15],\n",
       "        [17,  3, 17, 17, 18,  2,  9],\n",
       "        [ 6,  8, 11,  3, 17, 14,  9]],\n",
       "\n",
       "       [[ 3,  6, 10,  3, 19,  8, 13],\n",
       "        [ 6,  8, 11,  3, 17, 14,  9],\n",
       "        [17,  3, 17, 17, 18,  2,  9],\n",
       "        [ 9, 15,  4,  1,  1, 13, 14],\n",
       "        [ 3,  5,  1, 10,  8, 18, 15],\n",
       "        [15, 18,  1, 17, 17,  7, 14],\n",
       "        [10, 15, 16, 18, 16,  1,  8]],\n",
       "\n",
       "       [[ 3,  5,  1, 10,  8, 18, 15],\n",
       "        [ 9, 15,  4,  1,  1, 13, 14],\n",
       "        [10, 15, 16, 18, 16,  1,  8],\n",
       "        [17,  3, 17, 17, 18,  2,  9],\n",
       "        [ 3,  6, 10,  3, 19,  8, 13],\n",
       "        [ 6,  8, 11,  3, 17, 14,  9],\n",
       "        [15, 18,  1, 17, 17,  7, 14]],\n",
       "\n",
       "       [[ 6,  8, 11,  3, 17, 14,  9],\n",
       "        [10, 15, 16, 18, 16,  1,  8],\n",
       "        [17,  3, 17, 17, 18,  2,  9],\n",
       "        [ 9, 15,  4,  1,  1, 13, 14],\n",
       "        [ 3,  6, 10,  3, 19,  8, 13],\n",
       "        [ 3,  5,  1, 10,  8, 18, 15],\n",
       "        [15, 18,  1, 17, 17,  7, 14]]])"
      ]
     },
     "execution_count": 19,
     "metadata": {},
     "output_type": "execute_result"
    }
   ],
   "source": [
    "arr[arr.argsort()]"
   ]
  },
  {
   "cell_type": "code",
   "execution_count": 23,
   "id": "3f9ecfbc",
   "metadata": {},
   "outputs": [
    {
     "data": {
      "text/plain": [
       "array([ 1,  1,  4,  9, 13, 14, 15])"
      ]
     },
     "execution_count": 23,
     "metadata": {},
     "output_type": "execute_result"
    }
   ],
   "source": [
    "arr[0, [3, 4, 2, 0, 5, 6, 1]]"
   ]
  },
  {
   "cell_type": "code",
   "execution_count": 24,
   "id": "3667f1f0",
   "metadata": {},
   "outputs": [
    {
     "data": {
      "text/plain": [
       "array([[ 1,  1,  4,  9, 13, 14, 15],\n",
       "       [18, 16, 16, 10,  1,  8, 15],\n",
       "       [ 3, 19, 10,  3,  8, 13,  6],\n",
       "       [10,  8,  1,  3, 18, 15,  5],\n",
       "       [17, 17,  1, 15,  7, 14, 18],\n",
       "       [ 3, 17, 11,  6, 14,  9,  8],\n",
       "       [17, 18, 17, 17,  2,  9,  3]])"
      ]
     },
     "execution_count": 24,
     "metadata": {},
     "output_type": "execute_result"
    }
   ],
   "source": [
    "arr[:, [3, 4, 2, 0, 5, 6, 1]]"
   ]
  },
  {
   "cell_type": "code",
   "execution_count": 25,
   "id": "c4f82e6f",
   "metadata": {},
   "outputs": [],
   "source": [
    "arr.sort()"
   ]
  },
  {
   "cell_type": "code",
   "execution_count": 26,
   "id": "f487a549",
   "metadata": {},
   "outputs": [
    {
     "data": {
      "text/plain": [
       "array([[ 1,  1,  4,  9, 13, 14, 15],\n",
       "       [ 1,  8, 10, 15, 16, 16, 18],\n",
       "       [ 3,  3,  6,  8, 10, 13, 19],\n",
       "       [ 1,  3,  5,  8, 10, 15, 18],\n",
       "       [ 1,  7, 14, 15, 17, 17, 18],\n",
       "       [ 3,  6,  8,  9, 11, 14, 17],\n",
       "       [ 2,  3,  9, 17, 17, 17, 18]])"
      ]
     },
     "execution_count": 26,
     "metadata": {},
     "output_type": "execute_result"
    }
   ],
   "source": [
    "arr"
   ]
  },
  {
   "cell_type": "markdown",
   "id": "ebf00606",
   "metadata": {},
   "source": [
    "    Create a program which will sort 2d array row wise"
   ]
  },
  {
   "cell_type": "code",
   "execution_count": 31,
   "id": "a808af76",
   "metadata": {},
   "outputs": [],
   "source": [
    "arr = np.random.randint(1, 20, (7, 7))"
   ]
  },
  {
   "cell_type": "code",
   "execution_count": 32,
   "id": "022d4e4a",
   "metadata": {},
   "outputs": [],
   "source": [
    "arr.sort(axis=0)"
   ]
  },
  {
   "cell_type": "code",
   "execution_count": 33,
   "id": "50791824",
   "metadata": {},
   "outputs": [
    {
     "data": {
      "text/plain": [
       "array([[ 4,  1,  5,  7,  1,  1,  4],\n",
       "       [ 5,  2,  8,  7,  2,  3,  6],\n",
       "       [ 9,  2,  8, 13,  4,  3,  7],\n",
       "       [12,  3, 10, 13, 10,  5,  7],\n",
       "       [15, 12, 12, 15, 10, 10,  8],\n",
       "       [18, 14, 17, 15, 15, 12, 11],\n",
       "       [19, 16, 18, 15, 18, 14, 13]])"
      ]
     },
     "execution_count": 33,
     "metadata": {},
     "output_type": "execute_result"
    }
   ],
   "source": [
    "arr"
   ]
  },
  {
   "cell_type": "code",
   "execution_count": 34,
   "id": "5c975e87",
   "metadata": {},
   "outputs": [],
   "source": [
    "arr.sort(axis=1)"
   ]
  },
  {
   "cell_type": "code",
   "execution_count": 35,
   "id": "d6f5ba2e",
   "metadata": {},
   "outputs": [
    {
     "data": {
      "text/plain": [
       "array([[ 1,  1,  1,  4,  4,  5,  7],\n",
       "       [ 2,  2,  3,  5,  6,  7,  8],\n",
       "       [ 2,  3,  4,  7,  8,  9, 13],\n",
       "       [ 3,  5,  7, 10, 10, 12, 13],\n",
       "       [ 8, 10, 10, 12, 12, 15, 15],\n",
       "       [11, 12, 14, 15, 15, 17, 18],\n",
       "       [13, 14, 15, 16, 18, 18, 19]])"
      ]
     },
     "execution_count": 35,
     "metadata": {},
     "output_type": "execute_result"
    }
   ],
   "source": [
    "arr"
   ]
  },
  {
   "cell_type": "code",
   "execution_count": 37,
   "id": "d126d84b",
   "metadata": {},
   "outputs": [
    {
     "data": {
      "text/plain": [
       "array([[ 1,  1,  1,  4,  4,  5,  7],\n",
       "       [ 2,  2,  3,  5,  6,  7,  8],\n",
       "       [ 2,  3,  4,  7,  8,  9, 13],\n",
       "       [ 3,  5,  7, 10, 10, 12, 13],\n",
       "       [ 8, 10, 10, 12, 12, 15, 15],\n",
       "       [11, 12, 14, 15, 15, 17, 18],\n",
       "       [13, 14, 15, 16, 18, 18, 19]])"
      ]
     },
     "execution_count": 37,
     "metadata": {},
     "output_type": "execute_result"
    }
   ],
   "source": [
    "arr"
   ]
  },
  {
   "cell_type": "code",
   "execution_count": 51,
   "id": "a2987e35",
   "metadata": {},
   "outputs": [
    {
     "data": {
      "text/plain": [
       "5.714285714285714"
      ]
     },
     "execution_count": 51,
     "metadata": {},
     "output_type": "execute_result"
    }
   ],
   "source": [
    "arr[:, 0].sum()/7"
   ]
  },
  {
   "cell_type": "code",
   "execution_count": 43,
   "id": "86c1771b",
   "metadata": {},
   "outputs": [
    {
     "data": {
      "text/plain": [
       "6.714285714285714"
      ]
     },
     "execution_count": 43,
     "metadata": {},
     "output_type": "execute_result"
    }
   ],
   "source": [
    "arr[:, 1].sum()/7"
   ]
  },
  {
   "cell_type": "code",
   "execution_count": 36,
   "id": "9016b2a3",
   "metadata": {},
   "outputs": [
    {
     "data": {
      "text/plain": [
       "array([ 5.71428571,  6.71428571,  7.71428571,  9.85714286, 10.42857143,\n",
       "       11.85714286, 13.28571429])"
      ]
     },
     "execution_count": 36,
     "metadata": {},
     "output_type": "execute_result"
    }
   ],
   "source": [
    "arr.mean(axis=0)"
   ]
  },
  {
   "cell_type": "code",
   "execution_count": 44,
   "id": "d61a5893",
   "metadata": {},
   "outputs": [
    {
     "data": {
      "text/plain": [
       "array([ 3.28571429,  4.71428571,  6.57142857,  8.57142857, 11.71428571,\n",
       "       14.57142857, 16.14285714])"
      ]
     },
     "execution_count": 44,
     "metadata": {},
     "output_type": "execute_result"
    }
   ],
   "source": [
    "arr.mean(axis=1)"
   ]
  },
  {
   "cell_type": "code",
   "execution_count": 47,
   "id": "46811ef8",
   "metadata": {},
   "outputs": [
    {
     "data": {
      "text/plain": [
       "3.2857142857142856"
      ]
     },
     "execution_count": 47,
     "metadata": {},
     "output_type": "execute_result"
    }
   ],
   "source": [
    "arr[0].sum()/7"
   ]
  },
  {
   "cell_type": "code",
   "execution_count": 48,
   "id": "7b7bb340",
   "metadata": {},
   "outputs": [
    {
     "data": {
      "text/plain": [
       "4.714285714285714"
      ]
     },
     "execution_count": 48,
     "metadata": {},
     "output_type": "execute_result"
    }
   ],
   "source": [
    "arr[1].sum()/7"
   ]
  },
  {
   "cell_type": "code",
   "execution_count": 49,
   "id": "bef90d7c",
   "metadata": {},
   "outputs": [
    {
     "data": {
      "text/plain": [
       "array([40, 47, 54, 69, 73, 83, 93])"
      ]
     },
     "execution_count": 49,
     "metadata": {},
     "output_type": "execute_result"
    }
   ],
   "source": [
    "arr.sum(axis=0)"
   ]
  },
  {
   "cell_type": "code",
   "execution_count": 52,
   "id": "3353440b",
   "metadata": {},
   "outputs": [
    {
     "data": {
      "text/plain": [
       "array([ 23,  33,  46,  60,  82, 102, 113])"
      ]
     },
     "execution_count": 52,
     "metadata": {},
     "output_type": "execute_result"
    }
   ],
   "source": [
    "arr.sum(axis=1)"
   ]
  },
  {
   "cell_type": "code",
   "execution_count": 54,
   "id": "53ce43a7",
   "metadata": {},
   "outputs": [
    {
     "data": {
      "text/plain": [
       "array([ 3.,  5.,  7., 10., 10., 12., 13.])"
      ]
     },
     "execution_count": 54,
     "metadata": {},
     "output_type": "execute_result"
    }
   ],
   "source": [
    "np.median(arr, axis=0) # column wise "
   ]
  },
  {
   "cell_type": "code",
   "execution_count": 55,
   "id": "caa47309",
   "metadata": {},
   "outputs": [
    {
     "data": {
      "text/plain": [
       "array([ 4.,  5.,  7., 10., 12., 15., 16.])"
      ]
     },
     "execution_count": 55,
     "metadata": {},
     "output_type": "execute_result"
    }
   ],
   "source": [
    "np.median(arr, axis=1) # row wise"
   ]
  },
  {
   "cell_type": "code",
   "execution_count": 56,
   "id": "994219de",
   "metadata": {},
   "outputs": [
    {
     "data": {
      "text/plain": [
       "3.0"
      ]
     },
     "execution_count": 56,
     "metadata": {},
     "output_type": "execute_result"
    }
   ],
   "source": [
    "np.median(arr[:, 0])"
   ]
  },
  {
   "cell_type": "code",
   "execution_count": 57,
   "id": "e8853299",
   "metadata": {},
   "outputs": [
    {
     "data": {
      "text/plain": [
       "array([[ 1,  1,  1,  4,  4,  5,  7],\n",
       "       [ 2,  2,  3,  5,  6,  7,  8],\n",
       "       [ 2,  3,  4,  7,  8,  9, 13],\n",
       "       [ 3,  5,  7, 10, 10, 12, 13],\n",
       "       [ 8, 10, 10, 12, 12, 15, 15],\n",
       "       [11, 12, 14, 15, 15, 17, 18],\n",
       "       [13, 14, 15, 16, 18, 18, 19]])"
      ]
     },
     "execution_count": 57,
     "metadata": {},
     "output_type": "execute_result"
    }
   ],
   "source": [
    "arr"
   ]
  },
  {
   "cell_type": "code",
   "execution_count": 59,
   "id": "fbed53f1",
   "metadata": {},
   "outputs": [
    {
     "data": {
      "text/plain": [
       "array([[38,  6, 34, 24, 35],\n",
       "       [37,  5, 31, 19, 10],\n",
       "       [38, 16, 15, 30, 16],\n",
       "       [27, 36, 37, 29, 21],\n",
       "       [16, 27, 33, 32,  7],\n",
       "       [ 1,  1, 10, 23, 21],\n",
       "       [31, 19, 47, 11,  1],\n",
       "       [48, 21, 36, 35, 41],\n",
       "       [41, 42, 42, 39,  2],\n",
       "       [33,  3, 25, 33,  7]])"
      ]
     },
     "execution_count": 59,
     "metadata": {},
     "output_type": "execute_result"
    }
   ],
   "source": [
    "np.random.randint(1, 50, 50).reshape(10, 5)"
   ]
  },
  {
   "cell_type": "markdown",
   "id": "a259077f",
   "metadata": {},
   "source": [
    "### 3D array \n",
    "    Collection of 2D array \n",
    "    \n",
    "        [\n",
    "            [\n",
    "                [1, 2, 3],\n",
    "                [4, 5, 6]\n",
    "             ],\n",
    "             [\n",
    "                 [5, 6, 7],\n",
    "                 [8, 9, 10]\n",
    "             ]\n",
    "        ]\n",
    "        \n",
    "        no_of_2darray, row, col"
   ]
  },
  {
   "cell_type": "code",
   "execution_count": 60,
   "id": "1c6eb150",
   "metadata": {},
   "outputs": [],
   "source": [
    "l = [\n",
    "        [\n",
    "            [1, 2, 3],\n",
    "            [4, 5, 6]\n",
    "         ],\n",
    "         [\n",
    "             [5, 6, 7],\n",
    "             [8, 9, 10]\n",
    "         ]\n",
    "    ]"
   ]
  },
  {
   "cell_type": "code",
   "execution_count": 62,
   "id": "851d9b6a",
   "metadata": {},
   "outputs": [],
   "source": [
    "arr3 = np.array(l)"
   ]
  },
  {
   "cell_type": "code",
   "execution_count": 63,
   "id": "b548fb9a",
   "metadata": {},
   "outputs": [
    {
     "data": {
      "text/plain": [
       "(2, 2, 3)"
      ]
     },
     "execution_count": 63,
     "metadata": {},
     "output_type": "execute_result"
    }
   ],
   "source": [
    "arr3.shape"
   ]
  },
  {
   "cell_type": "code",
   "execution_count": 64,
   "id": "e980fd29",
   "metadata": {},
   "outputs": [
    {
     "data": {
      "text/plain": [
       "dtype('int32')"
      ]
     },
     "execution_count": 64,
     "metadata": {},
     "output_type": "execute_result"
    }
   ],
   "source": [
    "arr3.dtype"
   ]
  },
  {
   "cell_type": "code",
   "execution_count": 66,
   "id": "a34d4016",
   "metadata": {},
   "outputs": [
    {
     "data": {
      "text/plain": [
       "3"
      ]
     },
     "execution_count": 66,
     "metadata": {},
     "output_type": "execute_result"
    }
   ],
   "source": [
    "arr3.ndim"
   ]
  },
  {
   "cell_type": "code",
   "execution_count": 67,
   "id": "a02ac149",
   "metadata": {},
   "outputs": [
    {
     "data": {
      "text/plain": [
       "12"
      ]
     },
     "execution_count": 67,
     "metadata": {},
     "output_type": "execute_result"
    }
   ],
   "source": [
    "arr3.size"
   ]
  },
  {
   "cell_type": "code",
   "execution_count": 71,
   "id": "295d7ec5",
   "metadata": {},
   "outputs": [
    {
     "data": {
      "text/plain": [
       "4"
      ]
     },
     "execution_count": 71,
     "metadata": {},
     "output_type": "execute_result"
    }
   ],
   "source": [
    "arr3[0][1][0]"
   ]
  },
  {
   "cell_type": "markdown",
   "id": "36c1b175",
   "metadata": {},
   "source": [
    "    arr[2d_array, row, col]"
   ]
  },
  {
   "cell_type": "code",
   "execution_count": 73,
   "id": "339e938a",
   "metadata": {},
   "outputs": [
    {
     "data": {
      "text/plain": [
       "4"
      ]
     },
     "execution_count": 73,
     "metadata": {},
     "output_type": "execute_result"
    }
   ],
   "source": [
    "arr3[0, 1, 0]"
   ]
  },
  {
   "cell_type": "code",
   "execution_count": 75,
   "id": "6ba49102",
   "metadata": {},
   "outputs": [
    {
     "data": {
      "text/plain": [
       "array([[[ 6,  5,  4],\n",
       "        [ 3,  2,  1]],\n",
       "\n",
       "       [[10,  9,  8],\n",
       "        [ 7,  6,  5]]])"
      ]
     },
     "execution_count": 75,
     "metadata": {},
     "output_type": "execute_result"
    }
   ],
   "source": [
    "arr3[:, ::-1, ::-1]"
   ]
  },
  {
   "cell_type": "code",
   "execution_count": 77,
   "id": "79f2a1f4",
   "metadata": {},
   "outputs": [
    {
     "data": {
      "text/plain": [
       "array([[[1, 2, 3],\n",
       "        [4, 5, 6]]])"
      ]
     },
     "execution_count": 77,
     "metadata": {},
     "output_type": "execute_result"
    }
   ],
   "source": [
    "arr3[::2]"
   ]
  },
  {
   "cell_type": "code",
   "execution_count": 78,
   "id": "70299289",
   "metadata": {},
   "outputs": [
    {
     "data": {
      "text/plain": [
       "array([[[ 1,  2,  3],\n",
       "        [ 4,  5,  6]],\n",
       "\n",
       "       [[ 5,  6,  7],\n",
       "        [ 8,  9, 10]]])"
      ]
     },
     "execution_count": 78,
     "metadata": {},
     "output_type": "execute_result"
    }
   ],
   "source": [
    "arr3"
   ]
  },
  {
   "cell_type": "code",
   "execution_count": 80,
   "id": "ffee4d8e",
   "metadata": {},
   "outputs": [
    {
     "data": {
      "text/plain": [
       "array([[[ 6, 13,  2, 11, 17],\n",
       "        [ 9, 19,  9, 19, 19],\n",
       "        [ 9,  4,  4, 10, 15],\n",
       "        [17,  8,  8, 11,  7],\n",
       "        [ 2,  9, 13, 19,  1]],\n",
       "\n",
       "       [[13, 11, 13, 13, 19],\n",
       "        [14,  4, 17, 15, 11],\n",
       "        [ 9, 12, 13, 17, 11],\n",
       "        [ 1, 18,  4, 18, 10],\n",
       "        [14, 11, 10, 13,  5]]])"
      ]
     },
     "execution_count": 80,
     "metadata": {},
     "output_type": "execute_result"
    }
   ],
   "source": [
    "np.random.randint(1, 20, 50).reshape(2, 5, 5)"
   ]
  },
  {
   "cell_type": "code",
   "execution_count": 83,
   "id": "4344f5ca",
   "metadata": {},
   "outputs": [],
   "source": [
    "arr3 = np.random.randint(1, 20, (3, 5, 5))"
   ]
  },
  {
   "cell_type": "code",
   "execution_count": 85,
   "id": "0f89aa8f",
   "metadata": {},
   "outputs": [
    {
     "data": {
      "text/plain": [
       "(3, 5, 5)"
      ]
     },
     "execution_count": 85,
     "metadata": {},
     "output_type": "execute_result"
    }
   ],
   "source": [
    "arr3.shape"
   ]
  },
  {
   "cell_type": "code",
   "execution_count": 86,
   "id": "60f74317",
   "metadata": {},
   "outputs": [
    {
     "data": {
      "text/plain": [
       "array([[[18,  9,  1, 18, 18],\n",
       "        [12, 18, 16,  2,  4],\n",
       "        [ 8, 16, 17, 13,  3],\n",
       "        [ 8,  2,  4, 15, 19],\n",
       "        [15, 10, 12,  5, 14]],\n",
       "\n",
       "       [[11,  1,  5,  6, 10],\n",
       "        [13, 18,  9,  9, 19],\n",
       "        [ 6, 19, 18,  7,  7],\n",
       "        [ 2, 12,  8, 19,  9],\n",
       "        [ 6, 16, 11, 13, 13]],\n",
       "\n",
       "       [[13, 16, 17, 14, 11],\n",
       "        [ 4,  6, 16, 11, 16],\n",
       "        [ 9, 13,  4, 19, 18],\n",
       "        [13, 18, 11, 11,  4],\n",
       "        [19,  5,  9,  4, 16]]])"
      ]
     },
     "execution_count": 86,
     "metadata": {},
     "output_type": "execute_result"
    }
   ],
   "source": [
    "arr3"
   ]
  },
  {
   "cell_type": "code",
   "execution_count": 87,
   "id": "c749903a",
   "metadata": {},
   "outputs": [
    {
     "data": {
      "text/plain": [
       "array([[[19, 15,  4,  2,  8],\n",
       "        [ 4,  2, 16, 18, 12]],\n",
       "\n",
       "       [[ 4, 11, 11, 18, 13],\n",
       "        [16, 11, 16,  6,  4]]])"
      ]
     },
     "execution_count": 87,
     "metadata": {},
     "output_type": "execute_result"
    }
   ],
   "source": [
    "arr3[::2, -2::-2, ::-1]"
   ]
  },
  {
   "cell_type": "markdown",
   "id": "6b77b40d",
   "metadata": {},
   "source": [
    "#### Create a function which will create 3d array using list comprehension in python"
   ]
  },
  {
   "cell_type": "code",
   "execution_count": 88,
   "id": "dac925f8",
   "metadata": {},
   "outputs": [
    {
     "data": {
      "text/plain": [
       "11.213333333333333"
      ]
     },
     "execution_count": 88,
     "metadata": {},
     "output_type": "execute_result"
    }
   ],
   "source": [
    "arr3.mean()"
   ]
  },
  {
   "cell_type": "code",
   "execution_count": 89,
   "id": "f3c427ab",
   "metadata": {},
   "outputs": [
    {
     "data": {
      "text/plain": [
       "841"
      ]
     },
     "execution_count": 89,
     "metadata": {},
     "output_type": "execute_result"
    }
   ],
   "source": [
    "arr3.sum()"
   ]
  },
  {
   "cell_type": "code",
   "execution_count": 90,
   "id": "30307f27",
   "metadata": {},
   "outputs": [
    {
     "data": {
      "text/plain": [
       "19"
      ]
     },
     "execution_count": 90,
     "metadata": {},
     "output_type": "execute_result"
    }
   ],
   "source": [
    "arr3.max()"
   ]
  },
  {
   "cell_type": "code",
   "execution_count": 91,
   "id": "2409b3fd",
   "metadata": {},
   "outputs": [
    {
     "data": {
      "text/plain": [
       "1"
      ]
     },
     "execution_count": 91,
     "metadata": {},
     "output_type": "execute_result"
    }
   ],
   "source": [
    "arr3.min()"
   ]
  },
  {
   "cell_type": "code",
   "execution_count": 92,
   "id": "c7cb5ede",
   "metadata": {},
   "outputs": [
    {
     "data": {
      "text/plain": [
       "array([[11,  1,  1,  6, 10],\n",
       "       [ 4,  6,  9,  2,  4],\n",
       "       [ 6, 13,  4,  7,  3],\n",
       "       [ 2,  2,  4, 11,  4],\n",
       "       [ 6,  5,  9,  4, 13]])"
      ]
     },
     "execution_count": 92,
     "metadata": {},
     "output_type": "execute_result"
    }
   ],
   "source": [
    "arr3.min(axis=0)"
   ]
  },
  {
   "cell_type": "code",
   "execution_count": 93,
   "id": "96c53d99",
   "metadata": {},
   "outputs": [
    {
     "data": {
      "text/plain": [
       "array([[[18,  9,  1, 18, 18],\n",
       "        [12, 18, 16,  2,  4],\n",
       "        [ 8, 16, 17, 13,  3],\n",
       "        [ 8,  2,  4, 15, 19],\n",
       "        [15, 10, 12,  5, 14]],\n",
       "\n",
       "       [[11,  1,  5,  6, 10],\n",
       "        [13, 18,  9,  9, 19],\n",
       "        [ 6, 19, 18,  7,  7],\n",
       "        [ 2, 12,  8, 19,  9],\n",
       "        [ 6, 16, 11, 13, 13]],\n",
       "\n",
       "       [[13, 16, 17, 14, 11],\n",
       "        [ 4,  6, 16, 11, 16],\n",
       "        [ 9, 13,  4, 19, 18],\n",
       "        [13, 18, 11, 11,  4],\n",
       "        [19,  5,  9,  4, 16]]])"
      ]
     },
     "execution_count": 93,
     "metadata": {},
     "output_type": "execute_result"
    }
   ],
   "source": [
    "arr3"
   ]
  },
  {
   "cell_type": "code",
   "execution_count": 94,
   "id": "77272e1e",
   "metadata": {},
   "outputs": [
    {
     "data": {
      "text/plain": [
       "array([[8, 2, 1, 2, 3],\n",
       "       [2, 1, 5, 6, 7],\n",
       "       [4, 5, 4, 4, 4]])"
      ]
     },
     "execution_count": 94,
     "metadata": {},
     "output_type": "execute_result"
    }
   ],
   "source": [
    "arr3.min(axis=1) # column wise"
   ]
  },
  {
   "cell_type": "code",
   "execution_count": 95,
   "id": "aa6d830b",
   "metadata": {},
   "outputs": [
    {
     "data": {
      "text/plain": [
       "array([[ 1,  2,  3,  2,  5],\n",
       "       [ 1,  9,  6,  2,  6],\n",
       "       [11,  4,  4,  4,  4]])"
      ]
     },
     "execution_count": 95,
     "metadata": {},
     "output_type": "execute_result"
    }
   ],
   "source": [
    "arr3.min(axis=2) \n",
    "# row wise"
   ]
  },
  {
   "cell_type": "code",
   "execution_count": 96,
   "id": "cdc8b0f3",
   "metadata": {},
   "outputs": [
    {
     "data": {
      "text/plain": [
       "array([[14.        ,  8.66666667,  7.66666667, 12.66666667, 13.        ],\n",
       "       [ 9.66666667, 14.        , 13.66666667,  7.33333333, 13.        ],\n",
       "       [ 7.66666667, 16.        , 13.        , 13.        ,  9.33333333],\n",
       "       [ 7.66666667, 10.66666667,  7.66666667, 15.        , 10.66666667],\n",
       "       [13.33333333, 10.33333333, 10.66666667,  7.33333333, 14.33333333]])"
      ]
     },
     "execution_count": 96,
     "metadata": {},
     "output_type": "execute_result"
    }
   ],
   "source": [
    "arr3.mean(axis=0)"
   ]
  },
  {
   "cell_type": "code",
   "execution_count": 101,
   "id": "8f5eb8a9",
   "metadata": {},
   "outputs": [
    {
     "data": {
      "text/plain": [
       "8.666666666666666"
      ]
     },
     "execution_count": 101,
     "metadata": {},
     "output_type": "execute_result"
    }
   ],
   "source": [
    "arr3[:, 0, 1].mean()"
   ]
  },
  {
   "cell_type": "markdown",
   "id": "c5542dda",
   "metadata": {},
   "source": [
    "### Comparisons"
   ]
  },
  {
   "cell_type": "code",
   "execution_count": 103,
   "id": "d2d1b1fb",
   "metadata": {},
   "outputs": [
    {
     "data": {
      "text/plain": [
       "array([[False, False, False,  True,  True,  True,  True],\n",
       "       [ True,  True,  True,  True,  True,  True,  True],\n",
       "       [ True,  True,  True,  True,  True,  True,  True],\n",
       "       [ True,  True,  True,  True,  True,  True,  True],\n",
       "       [ True,  True,  True,  True,  True,  True,  True],\n",
       "       [ True,  True,  True,  True,  True,  True,  True],\n",
       "       [ True,  True,  True,  True,  True,  True,  True]])"
      ]
     },
     "execution_count": 103,
     "metadata": {},
     "output_type": "execute_result"
    }
   ],
   "source": [
    "arr > 1"
   ]
  },
  {
   "cell_type": "code",
   "execution_count": 106,
   "id": "bdca52af",
   "metadata": {},
   "outputs": [],
   "source": [
    "ages = np.random.randint(10, 50, 30)"
   ]
  },
  {
   "cell_type": "code",
   "execution_count": 107,
   "id": "94373d38",
   "metadata": {},
   "outputs": [
    {
     "data": {
      "text/plain": [
       "array([39, 30, 32, 31, 16, 38, 17, 44, 46, 40, 35, 33, 36, 47, 26, 26, 44,\n",
       "       18, 49, 23, 37, 26, 39, 42, 18, 14, 15, 44, 43, 49])"
      ]
     },
     "execution_count": 107,
     "metadata": {},
     "output_type": "execute_result"
    }
   ],
   "source": [
    "ages"
   ]
  },
  {
   "cell_type": "code",
   "execution_count": 108,
   "id": "5cb4c628",
   "metadata": {},
   "outputs": [
    {
     "data": {
      "text/plain": [
       "array([ True,  True,  True,  True, False,  True, False,  True,  True,\n",
       "        True,  True,  True,  True,  True,  True,  True,  True, False,\n",
       "        True, False,  True,  True,  True,  True, False, False, False,\n",
       "        True,  True,  True])"
      ]
     },
     "execution_count": 108,
     "metadata": {},
     "output_type": "execute_result"
    }
   ],
   "source": [
    "ages>25"
   ]
  },
  {
   "cell_type": "code",
   "execution_count": 109,
   "id": "2c23265d",
   "metadata": {},
   "outputs": [],
   "source": [
    "l = [1, 2, 3, 4, 5]"
   ]
  },
  {
   "cell_type": "code",
   "execution_count": 110,
   "id": "6cb1589b",
   "metadata": {},
   "outputs": [
    {
     "data": {
      "text/plain": [
       "2"
      ]
     },
     "execution_count": 110,
     "metadata": {},
     "output_type": "execute_result"
    }
   ],
   "source": [
    "l[True]"
   ]
  },
  {
   "cell_type": "code",
   "execution_count": 111,
   "id": "c7d82d76",
   "metadata": {},
   "outputs": [
    {
     "data": {
      "text/plain": [
       "1"
      ]
     },
     "execution_count": 111,
     "metadata": {},
     "output_type": "execute_result"
    }
   ],
   "source": [
    "l[False]"
   ]
  },
  {
   "cell_type": "code",
   "execution_count": 112,
   "id": "2717d77d",
   "metadata": {},
   "outputs": [
    {
     "ename": "TypeError",
     "evalue": "list indices must be integers or slices, not tuple",
     "output_type": "error",
     "traceback": [
      "\u001b[1;31m---------------------------------------------------------------------------\u001b[0m",
      "\u001b[1;31mTypeError\u001b[0m                                 Traceback (most recent call last)",
      "\u001b[1;32m<ipython-input-112-237355257d13>\u001b[0m in \u001b[0;36m<module>\u001b[1;34m\u001b[0m\n\u001b[1;32m----> 1\u001b[1;33m \u001b[0ml\u001b[0m\u001b[1;33m[\u001b[0m\u001b[1;32mTrue\u001b[0m\u001b[1;33m,\u001b[0m \u001b[1;32mTrue\u001b[0m\u001b[1;33m]\u001b[0m\u001b[1;33m\u001b[0m\u001b[1;33m\u001b[0m\u001b[0m\n\u001b[0m",
      "\u001b[1;31mTypeError\u001b[0m: list indices must be integers or slices, not tuple"
     ]
    }
   ],
   "source": [
    "l[True, True]"
   ]
  },
  {
   "cell_type": "code",
   "execution_count": 113,
   "id": "3ea51459",
   "metadata": {},
   "outputs": [
    {
     "data": {
      "text/plain": [
       "array([39, 30, 32, 31, 16, 38, 17, 44, 46, 40, 35, 33, 36, 47, 26, 26, 44,\n",
       "       18, 49, 23, 37, 26, 39, 42, 18, 14, 15, 44, 43, 49])"
      ]
     },
     "execution_count": 113,
     "metadata": {},
     "output_type": "execute_result"
    }
   ],
   "source": [
    "ages"
   ]
  },
  {
   "cell_type": "code",
   "execution_count": 114,
   "id": "a7018abf",
   "metadata": {},
   "outputs": [],
   "source": [
    "a = np.array([10, 20, 30, 40, 50])"
   ]
  },
  {
   "cell_type": "code",
   "execution_count": 115,
   "id": "8d51ce34",
   "metadata": {},
   "outputs": [
    {
     "data": {
      "text/plain": [
       "array([10, 20, 30, 40, 50])"
      ]
     },
     "execution_count": 115,
     "metadata": {},
     "output_type": "execute_result"
    }
   ],
   "source": [
    "a"
   ]
  },
  {
   "cell_type": "code",
   "execution_count": 116,
   "id": "b0a7aaec",
   "metadata": {},
   "outputs": [
    {
     "data": {
      "text/plain": [
       "array([10, 40])"
      ]
     },
     "execution_count": 116,
     "metadata": {},
     "output_type": "execute_result"
    }
   ],
   "source": [
    "a[[True, False, False, True, False]]"
   ]
  },
  {
   "cell_type": "code",
   "execution_count": 119,
   "id": "66d93e40",
   "metadata": {},
   "outputs": [
    {
     "data": {
      "text/plain": [
       "23"
      ]
     },
     "execution_count": 119,
     "metadata": {},
     "output_type": "execute_result"
    }
   ],
   "source": [
    "(ages>25).sum()"
   ]
  },
  {
   "cell_type": "code",
   "execution_count": 121,
   "id": "fefeded9",
   "metadata": {},
   "outputs": [
    {
     "data": {
      "text/plain": [
       "array([39, 30, 32, 31, 38, 44, 46, 40, 35, 33, 36, 47, 26, 26, 44, 49, 37,\n",
       "       26, 39, 42, 44, 43, 49])"
      ]
     },
     "execution_count": 121,
     "metadata": {},
     "output_type": "execute_result"
    }
   ],
   "source": [
    "ages[(ages>25)]"
   ]
  },
  {
   "cell_type": "code",
   "execution_count": 122,
   "id": "d2557b3a",
   "metadata": {},
   "outputs": [
    {
     "data": {
      "text/plain": [
       "23"
      ]
     },
     "execution_count": 122,
     "metadata": {},
     "output_type": "execute_result"
    }
   ],
   "source": [
    "ages[(ages>25)].__len__()"
   ]
  },
  {
   "cell_type": "code",
   "execution_count": 125,
   "id": "190317d6",
   "metadata": {},
   "outputs": [
    {
     "data": {
      "text/plain": [
       "array([ True,  True,  True,  True, False,  True, False,  True,  True,\n",
       "        True,  True,  True,  True,  True,  True,  True,  True, False,\n",
       "        True, False,  True,  True,  True,  True, False, False, False,\n",
       "        True,  True,  True])"
      ]
     },
     "execution_count": 125,
     "metadata": {},
     "output_type": "execute_result"
    }
   ],
   "source": [
    "ages>25"
   ]
  },
  {
   "cell_type": "code",
   "execution_count": 126,
   "id": "1b123563",
   "metadata": {},
   "outputs": [
    {
     "data": {
      "text/plain": [
       "array([ True,  True,  True,  True,  True,  True,  True, False, False,\n",
       "       False,  True,  True,  True, False,  True,  True, False,  True,\n",
       "       False,  True,  True,  True,  True, False,  True,  True,  True,\n",
       "       False, False, False])"
      ]
     },
     "execution_count": 126,
     "metadata": {},
     "output_type": "execute_result"
    }
   ],
   "source": [
    "ages<40"
   ]
  },
  {
   "cell_type": "code",
   "execution_count": 127,
   "id": "1e945a89",
   "metadata": {},
   "outputs": [
    {
     "data": {
      "text/plain": [
       "True"
      ]
     },
     "execution_count": 127,
     "metadata": {},
     "output_type": "execute_result"
    }
   ],
   "source": [
    "any(ages<40)"
   ]
  },
  {
   "cell_type": "code",
   "execution_count": 124,
   "id": "c1d02912",
   "metadata": {},
   "outputs": [
    {
     "ename": "ValueError",
     "evalue": "The truth value of an array with more than one element is ambiguous. Use a.any() or a.all()",
     "output_type": "error",
     "traceback": [
      "\u001b[1;31m---------------------------------------------------------------------------\u001b[0m",
      "\u001b[1;31mValueError\u001b[0m                                Traceback (most recent call last)",
      "\u001b[1;32m<ipython-input-124-00f7fbb043fe>\u001b[0m in \u001b[0;36m<module>\u001b[1;34m\u001b[0m\n\u001b[1;32m----> 1\u001b[1;33m \u001b[1;33m(\u001b[0m\u001b[0mages\u001b[0m\u001b[1;33m>\u001b[0m\u001b[1;36m25\u001b[0m\u001b[1;33m)\u001b[0m \u001b[1;32mand\u001b[0m \u001b[1;33m(\u001b[0m\u001b[0mages\u001b[0m\u001b[1;33m<\u001b[0m\u001b[1;36m40\u001b[0m\u001b[1;33m)\u001b[0m\u001b[1;33m\u001b[0m\u001b[1;33m\u001b[0m\u001b[0m\n\u001b[0m",
      "\u001b[1;31mValueError\u001b[0m: The truth value of an array with more than one element is ambiguous. Use a.any() or a.all()"
     ]
    }
   ],
   "source": [
    "(ages>25) and (ages<40)"
   ]
  },
  {
   "cell_type": "code",
   "execution_count": 129,
   "id": "15d3a813",
   "metadata": {},
   "outputs": [
    {
     "data": {
      "text/plain": [
       "array([39, 30, 32, 31, 38, 35, 33, 36, 26, 26, 37, 26, 39])"
      ]
     },
     "execution_count": 129,
     "metadata": {},
     "output_type": "execute_result"
    }
   ],
   "source": [
    "ages[(ages>25) & (ages<40)]"
   ]
  },
  {
   "cell_type": "code",
   "execution_count": 131,
   "id": "a6625a72",
   "metadata": {},
   "outputs": [
    {
     "data": {
      "text/plain": [
       "17"
      ]
     },
     "execution_count": 131,
     "metadata": {},
     "output_type": "execute_result"
    }
   ],
   "source": [
    "(ages%2==0).sum()"
   ]
  },
  {
   "cell_type": "code",
   "execution_count": 132,
   "id": "87e794b0",
   "metadata": {},
   "outputs": [
    {
     "data": {
      "text/plain": [
       "49"
      ]
     },
     "execution_count": 132,
     "metadata": {},
     "output_type": "execute_result"
    }
   ],
   "source": [
    "ages.max()"
   ]
  },
  {
   "cell_type": "code",
   "execution_count": 133,
   "id": "f23674be",
   "metadata": {},
   "outputs": [
    {
     "data": {
      "text/plain": [
       "14"
      ]
     },
     "execution_count": 133,
     "metadata": {},
     "output_type": "execute_result"
    }
   ],
   "source": [
    "ages.min()"
   ]
  },
  {
   "cell_type": "code",
   "execution_count": 138,
   "id": "c7c7010b",
   "metadata": {},
   "outputs": [
    {
     "data": {
      "text/plain": [
       "26.2"
      ]
     },
     "execution_count": 138,
     "metadata": {},
     "output_type": "execute_result"
    }
   ],
   "source": [
    "ages[(ages>=20) & (ages<=30)].mean()"
   ]
  },
  {
   "cell_type": "code",
   "execution_count": 141,
   "id": "8a86968a",
   "metadata": {},
   "outputs": [
    {
     "data": {
      "text/plain": [
       "array([[ 1,  2,  2,  3,  8, 11, 13],\n",
       "       [ 1,  2,  3,  5, 10, 12, 14],\n",
       "       [ 1,  3,  4,  7, 10, 14, 15],\n",
       "       [ 4,  5,  7, 10, 12, 15, 16],\n",
       "       [ 4,  6,  8, 10, 12, 15, 18],\n",
       "       [ 5,  7,  9, 12, 15, 17, 18],\n",
       "       [ 7,  8, 13, 13, 15, 18, 19]])"
      ]
     },
     "execution_count": 141,
     "metadata": {},
     "output_type": "execute_result"
    }
   ],
   "source": [
    "arr.T  # rows into col and vise versa"
   ]
  },
  {
   "cell_type": "code",
   "execution_count": 144,
   "id": "323169ed",
   "metadata": {},
   "outputs": [
    {
     "data": {
      "text/plain": [
       "array([[ 1,  1,  1,  4,  4,  5,  7],\n",
       "       [ 2,  2,  3,  5,  6,  7,  8],\n",
       "       [ 2,  3,  4,  7,  8,  9, 13],\n",
       "       [ 3,  5,  7, 10, 10, 12, 13],\n",
       "       [ 8, 10, 10, 12, 12, 15, 15],\n",
       "       [11, 12, 14, 15, 15, 17, 18],\n",
       "       [13, 14, 15, 16, 18, 18, 19]])"
      ]
     },
     "execution_count": 144,
     "metadata": {},
     "output_type": "execute_result"
    }
   ],
   "source": [
    "arr"
   ]
  },
  {
   "cell_type": "code",
   "execution_count": 147,
   "id": "2b8e3772",
   "metadata": {},
   "outputs": [
    {
     "data": {
      "text/plain": [
       "array([18,  9,  1, 18, 18, 12, 18, 16,  2,  4,  8, 16, 17, 13,  3,  8,  2,\n",
       "        4, 15, 19, 15, 10, 12,  5, 14, 11,  1,  5,  6, 10, 13, 18,  9,  9,\n",
       "       19,  6, 19, 18,  7,  7,  2, 12,  8, 19,  9,  6, 16, 11, 13, 13, 13,\n",
       "       16, 17, 14, 11,  4,  6, 16, 11, 16,  9, 13,  4, 19, 18, 13, 18, 11,\n",
       "       11,  4, 19,  5,  9,  4, 16])"
      ]
     },
     "execution_count": 147,
     "metadata": {},
     "output_type": "execute_result"
    }
   ],
   "source": [
    "arr3.flatten()"
   ]
  },
  {
   "cell_type": "code",
   "execution_count": 145,
   "id": "aa212c6d",
   "metadata": {},
   "outputs": [
    {
     "data": {
      "text/plain": [
       "array([ 1,  1,  1,  4,  4,  5,  7,  2,  2,  3,  5,  6,  7,  8,  2,  3,  4,\n",
       "        7,  8,  9, 13,  3,  5,  7, 10, 10, 12, 13,  8, 10, 10, 12, 12, 15,\n",
       "       15, 11, 12, 14, 15, 15, 17, 18, 13, 14, 15, 16, 18, 18, 19])"
      ]
     },
     "execution_count": 145,
     "metadata": {},
     "output_type": "execute_result"
    }
   ],
   "source": [
    "arr.flatten().flatten()"
   ]
  },
  {
   "cell_type": "code",
   "execution_count": null,
   "id": "2d5c0a70",
   "metadata": {},
   "outputs": [],
   "source": [
    "### comparisons, operations"
   ]
  }
 ],
 "metadata": {
  "kernelspec": {
   "display_name": "Python 3",
   "language": "python",
   "name": "python3"
  },
  "language_info": {
   "codemirror_mode": {
    "name": "ipython",
    "version": 3
   },
   "file_extension": ".py",
   "mimetype": "text/x-python",
   "name": "python",
   "nbconvert_exporter": "python",
   "pygments_lexer": "ipython3",
   "version": "3.8.8"
  }
 },
 "nbformat": 4,
 "nbformat_minor": 5
}
