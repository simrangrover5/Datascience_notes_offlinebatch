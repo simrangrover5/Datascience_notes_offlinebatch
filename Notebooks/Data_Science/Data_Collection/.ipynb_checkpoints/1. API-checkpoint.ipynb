{
 "cells": [
  {
   "cell_type": "markdown",
   "id": "f87b343d",
   "metadata": {},
   "source": [
    "### API\n",
    "\n",
    "    Application programming interface"
   ]
  },
  {
   "cell_type": "code",
   "execution_count": 1,
   "id": "58f0854b",
   "metadata": {},
   "outputs": [],
   "source": [
    "import requests"
   ]
  },
  {
   "cell_type": "code",
   "execution_count": 3,
   "id": "264daad7",
   "metadata": {},
   "outputs": [],
   "source": [
    "key = \"EAAHrWMHB3GQBAKqXpqa6AkEQTVb3tfjYwE3P2hIZC0bACarmrJegmWhZCTdZCrPcwwIkYHMVC3s5Mqmniehh1PkRcRs2oKNPZB81kpjqFEFLdQSldaY5NUiprp0nxda5HU9oZBdBSpGMPI9ZChqzT10qJD4AGT0tVpPbIs9aEiLbat06qborf0ytK9seJLtaKbsdAHU64PZBlyb6B2VRkyR1UwgT80HzhmisBYohdUqSRInp9ZCjklBH\"\n",
    "url = f\"https://graph.facebook.com/v12.0/me?fields=id,name&access_token={key}\"\n",
    "resp = requests.get(url)"
   ]
  },
  {
   "cell_type": "code",
   "execution_count": 5,
   "id": "ba3abdd8",
   "metadata": {},
   "outputs": [
    {
     "data": {
      "text/plain": [
       "200"
      ]
     },
     "execution_count": 5,
     "metadata": {},
     "output_type": "execute_result"
    }
   ],
   "source": [
    "resp.status_code"
   ]
  },
  {
   "cell_type": "code",
   "execution_count": 6,
   "id": "77bd65d9",
   "metadata": {},
   "outputs": [
    {
     "data": {
      "text/plain": [
       "{'ETag': '\"04e3e297ab187027f29afdfb3aea02e0ee6d1326\"', 'Content-Type': 'application/json; charset=UTF-8', 'Vary': 'Origin', 'cross-origin-resource-policy': 'cross-origin', 'x-app-usage': '{\"call_count\":8,\"total_cputime\":0,\"total_time\":4}', 'x-fb-rlafr': '0', 'Access-Control-Allow-Origin': '*', 'facebook-api-version': 'v12.0', 'Strict-Transport-Security': 'max-age=15552000; preload', 'Pragma': 'no-cache', 'Cache-Control': 'private, no-cache, no-store, must-revalidate', 'Expires': 'Sat, 01 Jan 2000 00:00:00 GMT', 'x-fb-request-id': 'AhrbK9SELhGr_8eDjeQxwli', 'x-fb-trace-id': 'GmdBlktYHMm', 'x-fb-rev': '1004615856', 'X-FB-Debug': 'zgHf4ZNgZBc+lxR9K9iRLlLwAbiTKWFNaB575DNrG/wek9Ij4qirMHI+geIjnMBrWqb/nhQA6J3qnOc6Ypkfvg==', 'Date': 'Tue, 26 Oct 2021 05:57:37 GMT', 'Priority': 'u=3,i', 'Alt-Svc': 'h3=\":443\"; ma=3600, h3-29=\":443\"; ma=3600,h3-27=\":443\"; ma=3600', 'Connection': 'keep-alive', 'Content-Length': '48'}"
      ]
     },
     "execution_count": 6,
     "metadata": {},
     "output_type": "execute_result"
    }
   ],
   "source": [
    "resp.headers"
   ]
  },
  {
   "cell_type": "code",
   "execution_count": 8,
   "id": "2d5d3c5c",
   "metadata": {},
   "outputs": [
    {
     "data": {
      "text/plain": [
       "b'{\"id\":\"4492549064191840\",\"name\":\"Simran Grover\"}'"
      ]
     },
     "execution_count": 8,
     "metadata": {},
     "output_type": "execute_result"
    }
   ],
   "source": [
    "resp.content  # bytes"
   ]
  },
  {
   "cell_type": "code",
   "execution_count": 9,
   "id": "c8f1e4fe",
   "metadata": {},
   "outputs": [
    {
     "data": {
      "text/plain": [
       "'{\"id\":\"4492549064191840\",\"name\":\"Simran Grover\"}'"
      ]
     },
     "execution_count": 9,
     "metadata": {},
     "output_type": "execute_result"
    }
   ],
   "source": [
    "resp.text  # string"
   ]
  },
  {
   "cell_type": "code",
   "execution_count": 11,
   "id": "562268e7",
   "metadata": {},
   "outputs": [],
   "source": [
    "data = resp.json()"
   ]
  },
  {
   "cell_type": "code",
   "execution_count": 12,
   "id": "c040bc43",
   "metadata": {},
   "outputs": [
    {
     "data": {
      "text/plain": [
       "'4492549064191840'"
      ]
     },
     "execution_count": 12,
     "metadata": {},
     "output_type": "execute_result"
    }
   ],
   "source": [
    "data['id']"
   ]
  },
  {
   "cell_type": "code",
   "execution_count": 13,
   "id": "2e162cde",
   "metadata": {},
   "outputs": [
    {
     "data": {
      "text/plain": [
       "'Simran Grover'"
      ]
     },
     "execution_count": 13,
     "metadata": {},
     "output_type": "execute_result"
    }
   ],
   "source": [
    "data['name']"
   ]
  },
  {
   "cell_type": "code",
   "execution_count": 14,
   "id": "d87cd65f",
   "metadata": {},
   "outputs": [
    {
     "name": "stdout",
     "output_type": "stream",
     "text": [
      "\n",
      " Enter fields , separated --> name,likes,hometown\n",
      "{'name': 'Simran Grover', 'likes': {'data': [{'name': 'urbanic_trend', 'id': '107539694974293', 'created_time': '2021-08-19T13:06:28+0000'}, {'name': 'Saaj Weddings', 'id': '1567341180214369', 'created_time': '2021-02-28T13:50:18+0000'}, {'name': 'Meera by Meenu', 'id': '104396661682875', 'created_time': '2021-02-02T11:41:40+0000'}, {'name': 'Studiorb', 'id': '107872621114228', 'created_time': '2020-11-01T08:17:30+0000'}, {'name': \"Chanchal's Couture\", 'id': '106545804584388', 'created_time': '2020-10-26T12:01:47+0000'}, {'name': 'Dr.Shambhunath Singh Research Foundation SRF India', 'id': '1579499265600220', 'created_time': '2020-09-30T17:26:54+0000'}, {'name': 'Vi', 'id': '110990320705911', 'created_time': '2020-09-27T01:05:12+0000'}, {'name': 'Divya collection', 'id': '121280308579760', 'created_time': '2020-07-03T19:00:45+0000'}, {'name': 'Saanvi collection', 'id': '109191687487224', 'created_time': '2020-06-12T13:11:18+0000'}, {'name': 'BeerBiceps', 'id': '445275555654498', 'created_time': '2020-06-06T13:26:28+0000'}, {'name': 'Buzz For 7', 'id': '107068317385124', 'created_time': '2019-11-08T08:11:07+0000'}, {'name': 'अनheard by STAGE', 'id': '1532855873408620', 'created_time': '2019-10-28T16:18:51+0000'}, {'name': 'Pixel Dabba', 'id': '1996350760479287', 'created_time': '2019-10-27T19:18:09+0000'}, {'name': 'Syed Umar', 'id': '393503434321598', 'created_time': '2019-10-24T07:25:25+0000'}, {'name': 'GRRAS Indore', 'id': '231739201087054', 'created_time': '2019-10-07T11:15:11+0000'}, {'name': 'Peace_photography', 'id': '108078340569057', 'created_time': '2019-08-30T15:06:26+0000'}, {'name': 'Kalaa', 'id': '449216955828260', 'created_time': '2019-06-14T17:27:37+0000'}, {'name': 'Placement Committee, JEC', 'id': '1403206889897085', 'created_time': '2019-06-12T18:41:19+0000'}, {'name': 'RTU Updates', 'id': '241278525937354', 'created_time': '2019-04-23T18:26:02+0000'}, {'name': 'MongoDB', 'id': '397955415556', 'created_time': '2019-04-21T14:26:00+0000'}, {'name': 'The Relevant Vibes', 'id': '1943245152656532', 'created_time': '2019-04-14T07:53:29+0000'}, {'name': 'DataCamp', 'id': '726282547396228', 'created_time': '2019-03-21T05:38:54+0000'}, {'name': 'Market With Maddy', 'id': '2230717767170777', 'created_time': '2019-02-14T15:44:22+0000'}, {'name': 'Amandeep Singh', 'id': '639667023089568', 'created_time': '2019-01-17T19:30:08+0000'}, {'name': 'Screaming.Survivals', 'id': '279515369374138', 'created_time': '2018-12-14T15:33:21+0000'}], 'paging': {'cursors': {'before': 'MTA3NTM5Njk0OTc0Mjkz', 'after': 'Mjc5NTE1MzY5Mzc0MTM4'}, 'next': 'https://graph.facebook.com/v12.0/4492549064191840/likes?access_token=EAAHrWMHB3GQBAKqXpqa6AkEQTVb3tfjYwE3P2hIZC0bACarmrJegmWhZCTdZCrPcwwIkYHMVC3s5Mqmniehh1PkRcRs2oKNPZB81kpjqFEFLdQSldaY5NUiprp0nxda5HU9oZBdBSpGMPI9ZChqzT10qJD4AGT0tVpPbIs9aEiLbat06qborf0ytK9seJLtaKbsdAHU64PZBlyb6B2VRkyR1UwgT80HzhmisBYohdUqSRInp9ZCjklBH&limit=25&after=Mjc5NTE1MzY5Mzc0MTM4'}}, 'hometown': {'id': '108680062496834', 'name': 'Dabra'}, 'id': '4492549064191840'}\n"
     ]
    }
   ],
   "source": [
    "key = \"EAAHrWMHB3GQBAKqXpqa6AkEQTVb3tfjYwE3P2hIZC0bACarmrJegmWhZCTdZCrPcwwIkYHMVC3s5Mqmniehh1PkRcRs2oKNPZB81kpjqFEFLdQSldaY5NUiprp0nxda5HU9oZBdBSpGMPI9ZChqzT10qJD4AGT0tVpPbIs9aEiLbat06qborf0ytK9seJLtaKbsdAHU64PZBlyb6B2VRkyR1UwgT80HzhmisBYohdUqSRInp9ZCjklBH\"\n",
    "fields = input(\"\\n Enter fields , separated --> \")\n",
    "url = f\"https://graph.facebook.com/v12.0/me?fields={fields}&access_token={key}\"\n",
    "resp = requests.get(url)\n",
    "if resp.status_code == 200:\n",
    "    data = resp.json()\n",
    "    print(data)\n",
    "else:\n",
    "    print(\"\\n Invalid URL...\")"
   ]
  },
  {
   "cell_type": "code",
   "execution_count": 15,
   "id": "5e1ade89",
   "metadata": {},
   "outputs": [
    {
     "data": {
      "text/plain": [
       "{'name': 'Simran Grover',\n",
       " 'likes': {'data': [{'name': 'urbanic_trend',\n",
       "    'id': '107539694974293',\n",
       "    'created_time': '2021-08-19T13:06:28+0000'},\n",
       "   {'name': 'Saaj Weddings',\n",
       "    'id': '1567341180214369',\n",
       "    'created_time': '2021-02-28T13:50:18+0000'},\n",
       "   {'name': 'Meera by Meenu',\n",
       "    'id': '104396661682875',\n",
       "    'created_time': '2021-02-02T11:41:40+0000'},\n",
       "   {'name': 'Studiorb',\n",
       "    'id': '107872621114228',\n",
       "    'created_time': '2020-11-01T08:17:30+0000'},\n",
       "   {'name': \"Chanchal's Couture\",\n",
       "    'id': '106545804584388',\n",
       "    'created_time': '2020-10-26T12:01:47+0000'},\n",
       "   {'name': 'Dr.Shambhunath Singh Research Foundation SRF India',\n",
       "    'id': '1579499265600220',\n",
       "    'created_time': '2020-09-30T17:26:54+0000'},\n",
       "   {'name': 'Vi',\n",
       "    'id': '110990320705911',\n",
       "    'created_time': '2020-09-27T01:05:12+0000'},\n",
       "   {'name': 'Divya collection',\n",
       "    'id': '121280308579760',\n",
       "    'created_time': '2020-07-03T19:00:45+0000'},\n",
       "   {'name': 'Saanvi collection',\n",
       "    'id': '109191687487224',\n",
       "    'created_time': '2020-06-12T13:11:18+0000'},\n",
       "   {'name': 'BeerBiceps',\n",
       "    'id': '445275555654498',\n",
       "    'created_time': '2020-06-06T13:26:28+0000'},\n",
       "   {'name': 'Buzz For 7',\n",
       "    'id': '107068317385124',\n",
       "    'created_time': '2019-11-08T08:11:07+0000'},\n",
       "   {'name': 'अनheard by STAGE',\n",
       "    'id': '1532855873408620',\n",
       "    'created_time': '2019-10-28T16:18:51+0000'},\n",
       "   {'name': 'Pixel Dabba',\n",
       "    'id': '1996350760479287',\n",
       "    'created_time': '2019-10-27T19:18:09+0000'},\n",
       "   {'name': 'Syed Umar',\n",
       "    'id': '393503434321598',\n",
       "    'created_time': '2019-10-24T07:25:25+0000'},\n",
       "   {'name': 'GRRAS Indore',\n",
       "    'id': '231739201087054',\n",
       "    'created_time': '2019-10-07T11:15:11+0000'},\n",
       "   {'name': 'Peace_photography',\n",
       "    'id': '108078340569057',\n",
       "    'created_time': '2019-08-30T15:06:26+0000'},\n",
       "   {'name': 'Kalaa',\n",
       "    'id': '449216955828260',\n",
       "    'created_time': '2019-06-14T17:27:37+0000'},\n",
       "   {'name': 'Placement Committee, JEC',\n",
       "    'id': '1403206889897085',\n",
       "    'created_time': '2019-06-12T18:41:19+0000'},\n",
       "   {'name': 'RTU Updates',\n",
       "    'id': '241278525937354',\n",
       "    'created_time': '2019-04-23T18:26:02+0000'},\n",
       "   {'name': 'MongoDB',\n",
       "    'id': '397955415556',\n",
       "    'created_time': '2019-04-21T14:26:00+0000'},\n",
       "   {'name': 'The Relevant Vibes',\n",
       "    'id': '1943245152656532',\n",
       "    'created_time': '2019-04-14T07:53:29+0000'},\n",
       "   {'name': 'DataCamp',\n",
       "    'id': '726282547396228',\n",
       "    'created_time': '2019-03-21T05:38:54+0000'},\n",
       "   {'name': 'Market With Maddy',\n",
       "    'id': '2230717767170777',\n",
       "    'created_time': '2019-02-14T15:44:22+0000'},\n",
       "   {'name': 'Amandeep Singh',\n",
       "    'id': '639667023089568',\n",
       "    'created_time': '2019-01-17T19:30:08+0000'},\n",
       "   {'name': 'Screaming.Survivals',\n",
       "    'id': '279515369374138',\n",
       "    'created_time': '2018-12-14T15:33:21+0000'}],\n",
       "  'paging': {'cursors': {'before': 'MTA3NTM5Njk0OTc0Mjkz',\n",
       "    'after': 'Mjc5NTE1MzY5Mzc0MTM4'},\n",
       "   'next': 'https://graph.facebook.com/v12.0/4492549064191840/likes?access_token=EAAHrWMHB3GQBAKqXpqa6AkEQTVb3tfjYwE3P2hIZC0bACarmrJegmWhZCTdZCrPcwwIkYHMVC3s5Mqmniehh1PkRcRs2oKNPZB81kpjqFEFLdQSldaY5NUiprp0nxda5HU9oZBdBSpGMPI9ZChqzT10qJD4AGT0tVpPbIs9aEiLbat06qborf0ytK9seJLtaKbsdAHU64PZBlyb6B2VRkyR1UwgT80HzhmisBYohdUqSRInp9ZCjklBH&limit=25&after=Mjc5NTE1MzY5Mzc0MTM4'}},\n",
       " 'hometown': {'id': '108680062496834', 'name': 'Dabra'},\n",
       " 'id': '4492549064191840'}"
      ]
     },
     "execution_count": 15,
     "metadata": {},
     "output_type": "execute_result"
    }
   ],
   "source": [
    "data"
   ]
  },
  {
   "cell_type": "code",
   "execution_count": 17,
   "id": "5243cf4e",
   "metadata": {},
   "outputs": [
    {
     "data": {
      "text/plain": [
       "'Dabra'"
      ]
     },
     "execution_count": 17,
     "metadata": {},
     "output_type": "execute_result"
    }
   ],
   "source": [
    "data['hometown']['name']"
   ]
  },
  {
   "cell_type": "code",
   "execution_count": 18,
   "id": "663608ec",
   "metadata": {},
   "outputs": [],
   "source": [
    "#### Serialization"
   ]
  },
  {
   "cell_type": "code",
   "execution_count": null,
   "id": "d99c42f1",
   "metadata": {},
   "outputs": [],
   "source": []
  }
 ],
 "metadata": {
  "kernelspec": {
   "display_name": "Python 3",
   "language": "python",
   "name": "python3"
  },
  "language_info": {
   "codemirror_mode": {
    "name": "ipython",
    "version": 3
   },
   "file_extension": ".py",
   "mimetype": "text/x-python",
   "name": "python",
   "nbconvert_exporter": "python",
   "pygments_lexer": "ipython3",
   "version": "3.8.8"
  }
 },
 "nbformat": 4,
 "nbformat_minor": 5
}
