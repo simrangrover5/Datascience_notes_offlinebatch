{
 "cells": [
  {
   "cell_type": "code",
   "execution_count": 4,
   "id": "591a3443",
   "metadata": {},
   "outputs": [],
   "source": [
    "import json, requests\n",
    "url = 'https://api.foursquare.com/v2/venues/explore'\n",
    "\n",
    "params = dict(\n",
    "client_id='QB2LRXGQJIXVVCKBQPCFTSU5H0IOMR2Z0XEXL1ZY4ZX12QUU',\n",
    "client_secret='EBYMJSLD2M5450FHS5F5LT4WPEOEXROQGHMLUQFKILVEYERO',\n",
    "v='20180323',\n",
    "ll='40.7243,-74.0018',\n",
    "query='coffee',\n",
    "limit=1\n",
    ")\n",
    "resp = requests.get(url=url, params=params)"
   ]
  },
  {
   "cell_type": "code",
   "execution_count": 5,
   "id": "0f49572f",
   "metadata": {},
   "outputs": [
    {
     "data": {
      "text/plain": [
       "{'client_id': 'QB2LRXGQJIXVVCKBQPCFTSU5H0IOMR2Z0XEXL1ZY4ZX12QUU',\n",
       " 'client_secret': 'EBYMJSLD2M5450FHS5F5LT4WPEOEXROQGHMLUQFKILVEYERO',\n",
       " 'v': '20180323',\n",
       " 'll': '40.7243,-74.0018',\n",
       " 'query': 'coffee',\n",
       " 'limit': 1}"
      ]
     },
     "execution_count": 5,
     "metadata": {},
     "output_type": "execute_result"
    }
   ],
   "source": [
    "params"
   ]
  },
  {
   "cell_type": "code",
   "execution_count": 6,
   "id": "718a267c",
   "metadata": {},
   "outputs": [
    {
     "data": {
      "text/plain": [
       "<Response [200]>"
      ]
     },
     "execution_count": 6,
     "metadata": {},
     "output_type": "execute_result"
    }
   ],
   "source": [
    "resp"
   ]
  },
  {
   "cell_type": "code",
   "execution_count": 7,
   "id": "cdd59620",
   "metadata": {},
   "outputs": [
    {
     "data": {
      "text/plain": [
       "{'Connection': 'keep-alive', 'Server': 'nginx', 'Content-Type': 'application/json; charset=utf-8', 'Tracer-Time': '118', 'X-RateLimit-Path': '/v2/venues/explore', 'X-RateLimit-Limit': '5000', 'X-RateLimit-Reset': '1635316526', 'X-RateLimit-Remaining': '4999', 'Access-Control-Allow-Origin': '*', 'Strict-Transport-Security': 'max-age=31536000', 'X-Rate-Limit-Key': '49.36.234.235', 'X-ex': 'fastly_cdn', 'Content-Encoding': 'gzip', 'Accept-Ranges': 'bytes', 'Date': 'Wed, 27 Oct 2021 05:35:27 GMT', 'Via': '1.1 varnish', 'X-Served-By': 'cache-del21727-DEL', 'X-Cache': 'MISS', 'X-Cache-Hits': '0', 'Vary': 'Accept-Encoding,User-Agent,Accept-Language', 'transfer-encoding': 'chunked'}"
      ]
     },
     "execution_count": 7,
     "metadata": {},
     "output_type": "execute_result"
    }
   ],
   "source": [
    "resp.headers"
   ]
  },
  {
   "cell_type": "code",
   "execution_count": 8,
   "id": "673347bf",
   "metadata": {},
   "outputs": [
    {
     "data": {
      "text/plain": [
       "{'meta': {'code': 200, 'requestId': '6178e51e946b2067be13b69c'},\n",
       " 'response': {'suggestedFilters': {'header': 'Tap to show:',\n",
       "   'filters': [{'name': '$-$$$$', 'key': 'price'}]},\n",
       "  'warning': {'text': 'There aren\\'t a lot of results for \"coffee.\" Try something more general, reset your filters, or expand the search area.'},\n",
       "  'suggestedRadius': 600,\n",
       "  'headerLocation': 'SoHo',\n",
       "  'headerFullLocation': 'SoHo, New York',\n",
       "  'headerLocationGranularity': 'neighborhood',\n",
       "  'query': 'coffee',\n",
       "  'totalResults': 65,\n",
       "  'suggestedBounds': {'ne': {'lat': 40.727169470956085,\n",
       "    'lng': -74.00255064150711},\n",
       "   'sw': {'lat': 40.724469811170636, 'lng': -73.99983306744674}},\n",
       "  'groups': [{'type': 'Recommended Places',\n",
       "    'name': 'recommended',\n",
       "    'items': [{'reasons': {'count': 0,\n",
       "       'items': [{'summary': 'This spot is popular',\n",
       "         'type': 'general',\n",
       "         'reasonName': 'globalInteractionReason'}]},\n",
       "      'venue': {'id': '573498df498e6df2eb8b36a7',\n",
       "       'name': 'La Colombe Torrefaction',\n",
       "       'contact': {},\n",
       "       'location': {'address': '154 Prince St',\n",
       "        'crossStreet': 'btwn W Broadway & Thompson',\n",
       "        'lat': 40.72581964106336,\n",
       "        'lng': -74.00119185447693,\n",
       "        'labeledLatLngs': [{'label': 'display',\n",
       "          'lat': 40.72581964106336,\n",
       "          'lng': -74.00119185447693},\n",
       "         {'label': 'entrance', 'lat': 40.72582, 'lng': -74.001153}],\n",
       "        'distance': 176,\n",
       "        'postalCode': '10012',\n",
       "        'cc': 'US',\n",
       "        'city': 'New York',\n",
       "        'state': 'NY',\n",
       "        'country': 'United States',\n",
       "        'formattedAddress': ['154 Prince St (btwn W Broadway & Thompson)',\n",
       "         'New York, NY 10012',\n",
       "         'United States']},\n",
       "       'categories': [{'id': '4bf58dd8d48988d1e0931735',\n",
       "         'name': 'Coffee Shop',\n",
       "         'pluralName': 'Coffee Shops',\n",
       "         'shortName': 'Coffee Shop',\n",
       "         'icon': {'prefix': 'https://ss3.4sqi.net/img/categories_v2/food/coffeeshop_',\n",
       "          'suffix': '.png'},\n",
       "         'primary': True}],\n",
       "       'verified': False,\n",
       "       'stats': {'tipCount': 0,\n",
       "        'usersCount': 0,\n",
       "        'checkinsCount': 0,\n",
       "        'visitsCount': 0},\n",
       "       'delivery': {'id': '2075401',\n",
       "        'url': 'https://www.seamless.com/menu/la-colombe-154-prince-street-new-york/2075401?affiliate=1131&utm_source=foursquare-affiliate-network&utm_medium=affiliate&utm_campaign=1131&utm_content=2075401',\n",
       "        'provider': {'name': 'seamless',\n",
       "         'icon': {'prefix': 'https://fastly.4sqi.net/img/general/cap/',\n",
       "          'sizes': [40, 50],\n",
       "          'name': '/delivery_provider_seamless_20180129.png'}}},\n",
       "       'beenHere': {'count': 0,\n",
       "        'lastCheckinExpiredAt': 0,\n",
       "        'marked': False,\n",
       "        'unconfirmedCount': 0},\n",
       "       'photos': {'count': 0, 'groups': []},\n",
       "       'hereNow': {'count': 0, 'summary': 'Nobody here', 'groups': []}},\n",
       "      'referralId': 'e-0-573498df498e6df2eb8b36a7-0'}]}]}}"
      ]
     },
     "execution_count": 8,
     "metadata": {},
     "output_type": "execute_result"
    }
   ],
   "source": [
    "resp.json()"
   ]
  },
  {
   "cell_type": "code",
   "execution_count": 17,
   "id": "2aaa1be8",
   "metadata": {},
   "outputs": [],
   "source": [
    "import json, requests\n",
    "url = 'https://api.foursquare.com/v2/venues/explore'\n",
    "\n",
    "params = dict(\n",
    "client_id='QB2LRXGQJIXVVCKBQPCFTSU5H0IOMR2Z0XEXL1ZY4ZX12QUU',\n",
    "client_secret='EBYMJSLD2M5450FHS5F5LT4WPEOEXROQGHMLUQFKILVEYERO',\n",
    "v='20180323',\n",
    "ll='26.9124, 75.7873',\n",
    "query='coffee',\n",
    "limit=2\n",
    ")\n",
    "resp = requests.get(url=url, params=params)"
   ]
  },
  {
   "cell_type": "code",
   "execution_count": 18,
   "id": "a94a7399",
   "metadata": {},
   "outputs": [
    {
     "data": {
      "text/plain": [
       "{'meta': {'code': 200, 'requestId': '6178e60f48ceeb7392256d8e'},\n",
       " 'response': {'suggestedFilters': {'header': 'Tap to show:',\n",
       "   'filters': [{'name': 'Open now', 'key': 'openNow'}]},\n",
       "  'warning': {'text': 'There aren\\'t a lot of results for \"coffee.\" Try something more general, reset your filters, or expand the search area.'},\n",
       "  'suggestedRadius': 5080,\n",
       "  'headerLocation': 'Jaipur',\n",
       "  'headerFullLocation': 'Jaipur',\n",
       "  'headerLocationGranularity': 'city',\n",
       "  'query': 'coffee',\n",
       "  'totalResults': 44,\n",
       "  'suggestedBounds': {'ne': {'lat': 26.916257025565272,\n",
       "    'lng': 75.78949419248843},\n",
       "   'sw': {'lat': 26.90351824282866, 'lng': 75.80267041297915}},\n",
       "  'groups': [{'type': 'Recommended Places',\n",
       "    'name': 'recommended',\n",
       "    'items': [{'reasons': {'count': 0,\n",
       "       'items': [{'summary': 'This spot is popular',\n",
       "         'type': 'general',\n",
       "         'reasonName': 'globalInteractionReason'}]},\n",
       "      'venue': {'id': '50081e28e4b05eac5b27a1e9',\n",
       "       'name': 'NIBS- The Chocolate Workshop',\n",
       "       'contact': {},\n",
       "       'location': {'lat': 26.915677989986335,\n",
       "        'lng': 75.79504340769059,\n",
       "        'labeledLatLngs': [{'label': 'display',\n",
       "          'lat': 26.915677989986335,\n",
       "          'lng': 75.79504340769059}],\n",
       "        'distance': 850,\n",
       "        'cc': 'IN',\n",
       "        'country': 'India',\n",
       "        'formattedAddress': ['India']},\n",
       "       'categories': [{'id': '4bf58dd8d48988d16d941735',\n",
       "         'name': 'Café',\n",
       "         'pluralName': 'Cafés',\n",
       "         'shortName': 'Café',\n",
       "         'icon': {'prefix': 'https://ss3.4sqi.net/img/categories_v2/food/cafe_',\n",
       "          'suffix': '.png'},\n",
       "         'primary': True}],\n",
       "       'verified': False,\n",
       "       'stats': {'tipCount': 0,\n",
       "        'usersCount': 0,\n",
       "        'checkinsCount': 0,\n",
       "        'visitsCount': 0},\n",
       "       'beenHere': {'count': 0,\n",
       "        'lastCheckinExpiredAt': 0,\n",
       "        'marked': False,\n",
       "        'unconfirmedCount': 0},\n",
       "       'photos': {'count': 0, 'groups': []},\n",
       "       'hereNow': {'count': 0, 'summary': 'Nobody here', 'groups': []}},\n",
       "      'referralId': 'e-0-50081e28e4b05eac5b27a1e9-0'},\n",
       "     {'reasons': {'count': 0,\n",
       "       'items': [{'summary': 'This spot is popular',\n",
       "         'type': 'general',\n",
       "         'reasonName': 'globalInteractionReason'}]},\n",
       "      'venue': {'id': '5623621e498e8ec2b86fc810',\n",
       "       'name': 'Curious Life Coffee Roasters',\n",
       "       'contact': {},\n",
       "       'location': {'address': 'P 25, Yudhisthir Marg,',\n",
       "        'crossStreet': 'C Scheme',\n",
       "        'lat': 26.904097278407598,\n",
       "        'lng': 75.79712119777699,\n",
       "        'labeledLatLngs': [{'label': 'display',\n",
       "          'lat': 26.904097278407598,\n",
       "          'lng': 75.79712119777699}],\n",
       "        'distance': 1343,\n",
       "        'cc': 'IN',\n",
       "        'city': 'Jaipur',\n",
       "        'state': 'Rājasthān',\n",
       "        'country': 'India',\n",
       "        'formattedAddress': ['P 25, Yudhisthir Marg, (C Scheme)',\n",
       "         'Jaipur',\n",
       "         'Rājasthān',\n",
       "         'India']},\n",
       "       'categories': [{'id': '4bf58dd8d48988d16d941735',\n",
       "         'name': 'Café',\n",
       "         'pluralName': 'Cafés',\n",
       "         'shortName': 'Café',\n",
       "         'icon': {'prefix': 'https://ss3.4sqi.net/img/categories_v2/food/cafe_',\n",
       "          'suffix': '.png'},\n",
       "         'primary': True}],\n",
       "       'verified': False,\n",
       "       'stats': {'tipCount': 0,\n",
       "        'usersCount': 0,\n",
       "        'checkinsCount': 0,\n",
       "        'visitsCount': 0},\n",
       "       'beenHere': {'count': 0,\n",
       "        'lastCheckinExpiredAt': 0,\n",
       "        'marked': False,\n",
       "        'unconfirmedCount': 0},\n",
       "       'photos': {'count': 0, 'groups': []},\n",
       "       'hereNow': {'count': 0, 'summary': 'Nobody here', 'groups': []}},\n",
       "      'referralId': 'e-0-5623621e498e8ec2b86fc810-1'}]}]}}"
      ]
     },
     "execution_count": 18,
     "metadata": {},
     "output_type": "execute_result"
    }
   ],
   "source": [
    "resp.json()"
   ]
  },
  {
   "cell_type": "code",
   "execution_count": 11,
   "id": "30044e0f",
   "metadata": {},
   "outputs": [
    {
     "data": {
      "text/plain": [
       "<Response [410]>"
      ]
     },
     "execution_count": 11,
     "metadata": {},
     "output_type": "execute_result"
    }
   ],
   "source": [
    "resp"
   ]
  },
  {
   "cell_type": "code",
   "execution_count": 19,
   "id": "babd086b",
   "metadata": {},
   "outputs": [],
   "source": [
    "data = resp.json()"
   ]
  },
  {
   "cell_type": "code",
   "execution_count": 37,
   "id": "e1a59714",
   "metadata": {},
   "outputs": [
    {
     "data": {
      "text/plain": [
       "'This spot is popular'"
      ]
     },
     "execution_count": 37,
     "metadata": {},
     "output_type": "execute_result"
    }
   ],
   "source": [
    "data['response']['groups'][0]['items'][0]['reasons']['items'][0]['summary']"
   ]
  },
  {
   "cell_type": "code",
   "execution_count": 23,
   "id": "f0577e7c",
   "metadata": {},
   "outputs": [
    {
     "data": {
      "text/plain": [
       "{'code': 200, 'requestId': '6178e60f48ceeb7392256d8e'}"
      ]
     },
     "execution_count": 23,
     "metadata": {},
     "output_type": "execute_result"
    }
   ],
   "source": [
    "data['meta']"
   ]
  },
  {
   "cell_type": "code",
   "execution_count": 38,
   "id": "a65fcddd",
   "metadata": {},
   "outputs": [
    {
     "data": {
      "text/plain": [
       "{'meta': {'code': 200, 'requestId': '6178e60f48ceeb7392256d8e'},\n",
       " 'response': {'suggestedFilters': {'header': 'Tap to show:',\n",
       "   'filters': [{'name': 'Open now', 'key': 'openNow'}]},\n",
       "  'warning': {'text': 'There aren\\'t a lot of results for \"coffee.\" Try something more general, reset your filters, or expand the search area.'},\n",
       "  'suggestedRadius': 5080,\n",
       "  'headerLocation': 'Jaipur',\n",
       "  'headerFullLocation': 'Jaipur',\n",
       "  'headerLocationGranularity': 'city',\n",
       "  'query': 'coffee',\n",
       "  'totalResults': 44,\n",
       "  'suggestedBounds': {'ne': {'lat': 26.916257025565272,\n",
       "    'lng': 75.78949419248843},\n",
       "   'sw': {'lat': 26.90351824282866, 'lng': 75.80267041297915}},\n",
       "  'groups': [{'type': 'Recommended Places',\n",
       "    'name': 'recommended',\n",
       "    'items': [{'reasons': {'count': 0,\n",
       "       'items': [{'summary': 'This spot is popular',\n",
       "         'type': 'general',\n",
       "         'reasonName': 'globalInteractionReason'}]},\n",
       "      'venue': {'id': '50081e28e4b05eac5b27a1e9',\n",
       "       'name': 'NIBS- The Chocolate Workshop',\n",
       "       'contact': {},\n",
       "       'location': {'lat': 26.915677989986335,\n",
       "        'lng': 75.79504340769059,\n",
       "        'labeledLatLngs': [{'label': 'display',\n",
       "          'lat': 26.915677989986335,\n",
       "          'lng': 75.79504340769059}],\n",
       "        'distance': 850,\n",
       "        'cc': 'IN',\n",
       "        'country': 'India',\n",
       "        'formattedAddress': ['India']},\n",
       "       'categories': [{'id': '4bf58dd8d48988d16d941735',\n",
       "         'name': 'Café',\n",
       "         'pluralName': 'Cafés',\n",
       "         'shortName': 'Café',\n",
       "         'icon': {'prefix': 'https://ss3.4sqi.net/img/categories_v2/food/cafe_',\n",
       "          'suffix': '.png'},\n",
       "         'primary': True}],\n",
       "       'verified': False,\n",
       "       'stats': {'tipCount': 0,\n",
       "        'usersCount': 0,\n",
       "        'checkinsCount': 0,\n",
       "        'visitsCount': 0},\n",
       "       'beenHere': {'count': 0,\n",
       "        'lastCheckinExpiredAt': 0,\n",
       "        'marked': False,\n",
       "        'unconfirmedCount': 0},\n",
       "       'photos': {'count': 0, 'groups': []},\n",
       "       'hereNow': {'count': 0, 'summary': 'Nobody here', 'groups': []}},\n",
       "      'referralId': 'e-0-50081e28e4b05eac5b27a1e9-0'},\n",
       "     {'reasons': {'count': 0,\n",
       "       'items': [{'summary': 'This spot is popular',\n",
       "         'type': 'general',\n",
       "         'reasonName': 'globalInteractionReason'}]},\n",
       "      'venue': {'id': '5623621e498e8ec2b86fc810',\n",
       "       'name': 'Curious Life Coffee Roasters',\n",
       "       'contact': {},\n",
       "       'location': {'address': 'P 25, Yudhisthir Marg,',\n",
       "        'crossStreet': 'C Scheme',\n",
       "        'lat': 26.904097278407598,\n",
       "        'lng': 75.79712119777699,\n",
       "        'labeledLatLngs': [{'label': 'display',\n",
       "          'lat': 26.904097278407598,\n",
       "          'lng': 75.79712119777699}],\n",
       "        'distance': 1343,\n",
       "        'cc': 'IN',\n",
       "        'city': 'Jaipur',\n",
       "        'state': 'Rājasthān',\n",
       "        'country': 'India',\n",
       "        'formattedAddress': ['P 25, Yudhisthir Marg, (C Scheme)',\n",
       "         'Jaipur',\n",
       "         'Rājasthān',\n",
       "         'India']},\n",
       "       'categories': [{'id': '4bf58dd8d48988d16d941735',\n",
       "         'name': 'Café',\n",
       "         'pluralName': 'Cafés',\n",
       "         'shortName': 'Café',\n",
       "         'icon': {'prefix': 'https://ss3.4sqi.net/img/categories_v2/food/cafe_',\n",
       "          'suffix': '.png'},\n",
       "         'primary': True}],\n",
       "       'verified': False,\n",
       "       'stats': {'tipCount': 0,\n",
       "        'usersCount': 0,\n",
       "        'checkinsCount': 0,\n",
       "        'visitsCount': 0},\n",
       "       'beenHere': {'count': 0,\n",
       "        'lastCheckinExpiredAt': 0,\n",
       "        'marked': False,\n",
       "        'unconfirmedCount': 0},\n",
       "       'photos': {'count': 0, 'groups': []},\n",
       "       'hereNow': {'count': 0, 'summary': 'Nobody here', 'groups': []}},\n",
       "      'referralId': 'e-0-5623621e498e8ec2b86fc810-1'}]}]}}"
      ]
     },
     "execution_count": 38,
     "metadata": {},
     "output_type": "execute_result"
    }
   ],
   "source": [
    "data"
   ]
  },
  {
   "cell_type": "code",
   "execution_count": 62,
   "id": "3a86c0ea",
   "metadata": {},
   "outputs": [
    {
     "name": "stdout",
     "output_type": "stream",
     "text": [
      "Name -->  Curious Life Coffee Roasters\n",
      "Address -->  P 25, Yudhisthir Marg, (C Scheme)\n",
      "________________________________________________________________________________\n",
      "Name -->  NIBS- The Chocolate Workshop\n",
      "Address -->  India\n",
      "________________________________________________________________________________\n",
      "Name -->  Anokhi Cafe\n",
      "Address -->  Ashok Nagar Jaipur, Rajasthan 302005 - 0141 400724\n",
      "________________________________________________________________________________\n",
      "Name -->  Taruveda\n",
      "Address -->  Jacob Road (Civil Lines)\n",
      "________________________________________________________________________________\n",
      "Name -->  Mr. Beans\n",
      "Address -->  India\n",
      "________________________________________________________________________________\n",
      "Name -->  Cafe Coffee Day\n",
      "Address -->  Hotel Shikha (R-14, Yudhishthir Marg, C-Scheme)\n",
      "________________________________________________________________________________\n",
      "Name -->  Cafe Bae\n",
      "Address -->  India\n",
      "________________________________________________________________________________\n",
      "Name -->  Brown Sugar\n",
      "Address -->  G1 Axis Mall, Bhagwan Dass Road\n",
      "________________________________________________________________________________\n",
      "Name -->  Tapri - The Tea House\n",
      "Address -->  43, Everest Colony, Lal Kothi (Tonk Road)\n",
      "________________________________________________________________________________\n",
      "Name -->  C'est bon\n",
      "Address -->  Arvind Marg (M.I Road)\n",
      "________________________________________________________________________________\n",
      "Name -->  Chaisa\n",
      "Address -->  8 A satya vihar opp. jain ENT hospital, Lal Kothi near VidhanSabha\n",
      "________________________________________________________________________________\n",
      "Name -->  Brewberrys\n",
      "Address -->  India\n",
      "________________________________________________________________________________\n",
      "Name -->  F32\n",
      "Address -->  Jaipur\n",
      "________________________________________________________________________________\n",
      "Name -->  Indian Coffee House\n",
      "Address -->  India\n",
      "________________________________________________________________________________\n",
      "Name -->  cafe coffee day\n",
      "Address -->  MGF mall (Raja Park)\n",
      "________________________________________________________________________________\n",
      "Name -->  Barista\n",
      "Address -->  Mall 21 (Opp. Rajmandir Cinema)\n",
      "________________________________________________________________________________\n",
      "Name -->  Cafe LazyMojo\n",
      "Address -->  Jaipur\n",
      "________________________________________________________________________________\n",
      "Name -->  Banna Ji\n",
      "Address -->  Near Crystal Palm (C-scheme)\n",
      "________________________________________________________________________________\n",
      "Name -->  Cafe Coffee Day\n",
      "Address -->  Jal Mahal\n",
      "________________________________________________________________________________\n",
      "Name -->  Chirmi palace\n",
      "Address -->  India\n",
      "________________________________________________________________________________\n",
      "Name -->  CCD (Ginger Hotel)\n",
      "Address -->  India\n",
      "________________________________________________________________________________\n",
      "Name -->  Aurum\n",
      "Address -->  43, Geejgarh House, Hawa Sadak (Hilton)\n",
      "________________________________________________________________________________\n",
      "Name -->  Nibs\n",
      "Address -->  India\n",
      "________________________________________________________________________________\n",
      "Name -->  Tinder Box\n",
      "Address -->  Subhash Marg\n",
      "________________________________________________________________________________\n",
      "Name -->  Pinxx 24hr Coffee shop, Royal Orchid Central\n",
      "Address -->  Royal Orchid Central (Bani Park)\n",
      "________________________________________________________________________________\n",
      "Name -->  brown sugar cafe and lounge\n",
      "Address -->  India\n",
      "________________________________________________________________________________\n",
      "Name -->  cafe coffee day\n",
      "Address -->  Amber Fort\n",
      "________________________________________________________________________________\n",
      "Name -->  blackout\n",
      "Address -->  India\n",
      "________________________________________________________________________________\n",
      "Name -->  Thadi\n",
      "Address -->  Raja Park\n",
      "________________________________________________________________________________\n",
      "Name -->  Cafe Coffee Day\n",
      "Address -->  Jaipur\n",
      "________________________________________________________________________________\n"
     ]
    }
   ],
   "source": [
    "def get_places(query, lat='26.9124', lon='75.7873'):\n",
    "    url = 'https://api.foursquare.com/v2/venues/explore'\n",
    "\n",
    "    params = dict(\n",
    "    client_id='QB2LRXGQJIXVVCKBQPCFTSU5H0IOMR2Z0XEXL1ZY4ZX12QUU',\n",
    "    client_secret='EBYMJSLD2M5450FHS5F5LT4WPEOEXROQGHMLUQFKILVEYERO',\n",
    "    v='20180323',\n",
    "    ll=f'{lat}, {lon}',\n",
    "    query=query,\n",
    "    )\n",
    "    resp = requests.get(url=url, params=params)\n",
    "    if resp.status_code == 200:\n",
    "        data = resp.json()\n",
    "        for item in data['response']['groups'][0]['items']:\n",
    "            print(\"Name --> \", item['venue']['name'])\n",
    "            print(\"Address --> \", item['venue']['location']['formattedAddress'][0])\n",
    "            print(\"_\"*80)\n",
    "    else:\n",
    "        print(\"\\n Invalid URL\")\n",
    "        \n",
    "get_places('cafe')"
   ]
  },
  {
   "cell_type": "code",
   "execution_count": 63,
   "id": "0d5450ef",
   "metadata": {},
   "outputs": [],
   "source": [
    "### add lat and long in this data"
   ]
  },
  {
   "cell_type": "code",
   "execution_count": null,
   "id": "6938a583",
   "metadata": {},
   "outputs": [],
   "source": []
  }
 ],
 "metadata": {
  "kernelspec": {
   "display_name": "Python 3",
   "language": "python",
   "name": "python3"
  },
  "language_info": {
   "codemirror_mode": {
    "name": "ipython",
    "version": 3
   },
   "file_extension": ".py",
   "mimetype": "text/x-python",
   "name": "python",
   "nbconvert_exporter": "python",
   "pygments_lexer": "ipython3",
   "version": "3.8.8"
  }
 },
 "nbformat": 4,
 "nbformat_minor": 5
}
