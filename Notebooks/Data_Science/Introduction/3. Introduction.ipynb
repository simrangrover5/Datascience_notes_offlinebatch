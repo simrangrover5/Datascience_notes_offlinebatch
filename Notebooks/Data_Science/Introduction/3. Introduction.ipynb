{
 "cells": [
  {
   "cell_type": "code",
   "execution_count": 1,
   "id": "1ed9c923",
   "metadata": {},
   "outputs": [],
   "source": [
    "from random import randint"
   ]
  },
  {
   "cell_type": "code",
   "execution_count": 3,
   "id": "1c895fdc",
   "metadata": {},
   "outputs": [],
   "source": [
    "l = [randint(1, 10) for i in range(8)]"
   ]
  },
  {
   "cell_type": "code",
   "execution_count": 4,
   "id": "7d4c6add",
   "metadata": {},
   "outputs": [
    {
     "data": {
      "text/plain": [
       "[8, 6, 7, 6, 3, 2, 2, 1]"
      ]
     },
     "execution_count": 4,
     "metadata": {},
     "output_type": "execute_result"
    }
   ],
   "source": [
    "l"
   ]
  },
  {
   "cell_type": "code",
   "execution_count": 5,
   "id": "d069842b",
   "metadata": {},
   "outputs": [],
   "source": [
    "def index_of_min(l: list) -> int:\n",
    "    \"\"\"This function will return index of minimum value\"\"\"\n",
    "    mini = min(l)\n",
    "    return l.index(mini)"
   ]
  },
  {
   "cell_type": "code",
   "execution_count": 6,
   "id": "4b4c06b6",
   "metadata": {},
   "outputs": [
    {
     "data": {
      "text/plain": [
       "7"
      ]
     },
     "execution_count": 6,
     "metadata": {},
     "output_type": "execute_result"
    }
   ],
   "source": [
    "index_of_min(l)"
   ]
  },
  {
   "cell_type": "code",
   "execution_count": 9,
   "id": "74de960d",
   "metadata": {},
   "outputs": [],
   "source": [
    "def index_of_min(l: list) -> int:\n",
    "    \"\"\"This function will return index of minimum value\"\"\"\n",
    "    mini = l[0]\n",
    "    for ele in l[1:]:\n",
    "        if mini>ele:\n",
    "            mini = ele\n",
    "    for i in range(len(l)):\n",
    "        if mini == l[i]:\n",
    "            return i"
   ]
  },
  {
   "cell_type": "code",
   "execution_count": 10,
   "id": "dcb2ba3b",
   "metadata": {},
   "outputs": [
    {
     "data": {
      "text/plain": [
       "7"
      ]
     },
     "execution_count": 10,
     "metadata": {},
     "output_type": "execute_result"
    }
   ],
   "source": [
    "index_of_min(l)"
   ]
  },
  {
   "cell_type": "code",
   "execution_count": 11,
   "id": "02f3efc4",
   "metadata": {},
   "outputs": [],
   "source": [
    "def index_of_min(l: list) -> int:\n",
    "    \"\"\"This function will return index of minimum value\"\"\"\n",
    "    mini = l[0]\n",
    "    index = 0\n",
    "    for ele in range(len(l)):\n",
    "        if mini>l[ele]:\n",
    "            mini = l[ele]\n",
    "            index = ele\n",
    "    return index"
   ]
  },
  {
   "cell_type": "code",
   "execution_count": 12,
   "id": "e201b4ec",
   "metadata": {},
   "outputs": [
    {
     "data": {
      "text/plain": [
       "7"
      ]
     },
     "execution_count": 12,
     "metadata": {},
     "output_type": "execute_result"
    }
   ],
   "source": [
    "index_of_min(l)"
   ]
  },
  {
   "cell_type": "code",
   "execution_count": null,
   "id": "3f6e2b62",
   "metadata": {},
   "outputs": [],
   "source": []
  }
 ],
 "metadata": {
  "kernelspec": {
   "display_name": "Python 3",
   "language": "python",
   "name": "python3"
  },
  "language_info": {
   "codemirror_mode": {
    "name": "ipython",
    "version": 3
   },
   "file_extension": ".py",
   "mimetype": "text/x-python",
   "name": "python",
   "nbconvert_exporter": "python",
   "pygments_lexer": "ipython3",
   "version": "3.8.8"
  }
 },
 "nbformat": 4,
 "nbformat_minor": 5
}
