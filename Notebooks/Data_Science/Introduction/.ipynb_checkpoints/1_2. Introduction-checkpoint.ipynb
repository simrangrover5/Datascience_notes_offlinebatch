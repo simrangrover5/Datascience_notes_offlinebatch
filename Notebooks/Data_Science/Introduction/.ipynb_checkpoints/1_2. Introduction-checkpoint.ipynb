{
 "cells": [
  {
   "cell_type": "markdown",
   "id": "ad5af919",
   "metadata": {},
   "source": [
    "### On which jobs I can apply after doing data science??"
   ]
  },
  {
   "cell_type": "markdown",
   "id": "ac14aef4",
   "metadata": {},
   "source": [
    "#### Data Science??\n",
    "\n",
    "    Data --> Any raw fact or figure \n",
    "        Any object is your data \n",
    "        Simran         Jaipur           \n",
    "        Gaurav         Job             Non tech \n",
    "    \n",
    "    Information --> Collection of data\n",
    "                    processed form of data \n",
    "                    Useful data or useless data\n",
    "                    \n",
    "      Simran       Data Science        Introduction     Date/Time    Bad\n",
    "      \n",
    "      Simran ma'am teaches DS and she gave introduction today which \n",
    "      was very bad (information)\n",
    "      \n",
    "      \n",
    "      Data Science --> In this field we use to find useful insights \n",
    "      from data using different procedures and techniques which will help\n",
    "      company to grow or solve some of its problem. \n",
    "      \n",
    "      \n",
    "      Grras Problem ---> We are having less number of students???\n",
    "      \n",
    "      \n",
    "      Firm --> Marketing,   Sales,    Trainers\n",
    "      \n",
    "      Demo Data \n",
    "      \n",
    "          Name          feedback             Convert\n",
    "          \n",
    "          Gulshan         Good                 Yes\n",
    "          Gaurav          Good                 Yes\n",
    "          Deepratan       Good                 Yes\n",
    "          Krupali         Good                 Yes\n",
    "          Prabhakar       Good                 Yes\n",
    "          Surbhi          Good                  No (Time, Fees)\n",
    "          \n",
    "          \n",
    "          Data --> Money"
   ]
  },
  {
   "cell_type": "markdown",
   "id": "f79a18d2",
   "metadata": {},
   "source": [
    "    Data --> Excel --> File --> Much data cannot be handled\n",
    "    Data Science --> Online data --> Database \n",
    "    Database --> Queries \n",
    "    \n",
    "    Online data --> Internet Use, Online Users, Websites, Digital\n",
    "    \n",
    "    Internet + Android Phones Use --> Affordable"
   ]
  },
  {
   "cell_type": "markdown",
   "id": "ee3eb821",
   "metadata": {},
   "source": [
    "#### Read 2 blogs on Data Science Topic"
   ]
  },
  {
   "cell_type": "markdown",
   "id": "0e912f51",
   "metadata": {},
   "source": [
    "### Data Science Steps"
   ]
  },
  {
   "cell_type": "markdown",
   "id": "db508770",
   "metadata": {},
   "source": [
    "### On which jobs I can apply after doing data science??"
   ]
  },
  {
   "cell_type": "markdown",
   "id": "3155548b",
   "metadata": {},
   "source": [
    "    1. Fraud Analysis/Risk Analysis\n",
    "    2. Data Analyst\n",
    "    3. ML Engineer\n",
    "    4. ML Scientist\n",
    "    5. Data Scientist\n",
    "    6. BA\n",
    "    7. BI Developer\n",
    "    8. Data Engineer"
   ]
  },
  {
   "cell_type": "markdown",
   "id": "ebd28d45",
   "metadata": {},
   "source": [
    "### Steps In DS\n",
    "\n",
    "\n",
    "    1. Data Mining \n",
    "        a. Data Collection\n",
    "        b. Data Preprocessing\n",
    "            i. Data Cleaning\n",
    "            ii. Remove Outliers\n",
    "    2. Data Warehousing\n",
    "    3. Data Analysis\n",
    "    4. Data Visualization\n",
    "    5. Machine Learning "
   ]
  },
  {
   "cell_type": "markdown",
   "id": "66e468a2",
   "metadata": {},
   "source": [
    "### Data Mining\n",
    "\n",
    "\n",
    "    1. Data Collection \n",
    "        Collecting data from different resources \n",
    "        \n",
    "            a. Primary\n",
    "                You have collected data by yourself \n",
    "                    1. Own company data \n",
    "                        Database \n",
    "                        Websites \n",
    "                        Applications\n",
    "                    2. Forms\n",
    "                    3. API\n",
    "            b. Secondary\n",
    "                When we use data from different companies\n",
    "                    1. API\n",
    "                    2. Web Scraping \n",
    "                    3. Online Repos\n",
    "                    \n",
    "                    etc"
   ]
  },
  {
   "cell_type": "markdown",
   "id": "f5982338",
   "metadata": {},
   "source": [
    "             ID         Name            Course           Rating\n",
    "             \n",
    "             1.        Hitesh            Python             3.5\n",
    "             2.        Hanzal             DS                 5\n",
    "             3.         None             AWS                None\n",
    "             4.        Krupali             ML                4.9\n",
    "             5.         Arshika            Cloud             None\n",
    "             6.         Gaurav             None              4.5\n",
    "             7.         Deepratan          AWS               4\n",
    "             8.         Prabhakar          None              None\n",
    "             \n",
    "             \n",
    "      2. Data Preprocessing\n",
    "      \n",
    "          a. Data Cleaning \n",
    "          b. Outliers "
   ]
  },
  {
   "cell_type": "markdown",
   "id": "963d2a00",
   "metadata": {},
   "source": []
  }
 ],
 "metadata": {
  "kernelspec": {
   "display_name": "Python 3",
   "language": "python",
   "name": "python3"
  },
  "language_info": {
   "codemirror_mode": {
    "name": "ipython",
    "version": 3
   },
   "file_extension": ".py",
   "mimetype": "text/x-python",
   "name": "python",
   "nbconvert_exporter": "python",
   "pygments_lexer": "ipython3",
   "version": "3.8.8"
  }
 },
 "nbformat": 4,
 "nbformat_minor": 5
}
