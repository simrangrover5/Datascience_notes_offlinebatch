{
 "cells": [
  {
   "cell_type": "markdown",
   "id": "eea81c45",
   "metadata": {},
   "source": [
    "#### Ungrouped Frequency Distribution Table\n",
    "#### Grouped Frequency Distribution Table\n",
    "        1. Exclusive Method\n",
    "        2. Inclusive Method\n",
    "#### Percentage Frequency Table\n",
    "#### Calculate LESS THAN CF and MORE THAN CF\n",
    "#### Calculate Mean for grouped data"
   ]
  },
  {
   "cell_type": "code",
   "execution_count": 1,
   "id": "e12052c9",
   "metadata": {},
   "outputs": [],
   "source": [
    "import numpy as np"
   ]
  },
  {
   "cell_type": "code",
   "execution_count": 5,
   "id": "411674a4",
   "metadata": {},
   "outputs": [],
   "source": [
    "N = 30\n",
    "k = round(1 + (3.322 * np.log10(N)))"
   ]
  },
  {
   "cell_type": "code",
   "execution_count": 8,
   "id": "ffe23db0",
   "metadata": {},
   "outputs": [],
   "source": [
    "c = round((50-0)/k)"
   ]
  },
  {
   "cell_type": "code",
   "execution_count": 9,
   "id": "c3162b0f",
   "metadata": {},
   "outputs": [
    {
     "data": {
      "text/plain": [
       "8"
      ]
     },
     "execution_count": 9,
     "metadata": {},
     "output_type": "execute_result"
    }
   ],
   "source": [
    "c"
   ]
  },
  {
   "cell_type": "code",
   "execution_count": 12,
   "id": "0f322e72",
   "metadata": {},
   "outputs": [
    {
     "name": "stdout",
     "output_type": "stream",
     "text": [
      "5-10\n",
      "10-15\n",
      "15-20\n"
     ]
    }
   ],
   "source": [
    "intervals = [[5, 10], [10, 15], [15, 20]]\n",
    "for i in intervals:\n",
    "    print(*i, sep=\"-\")"
   ]
  },
  {
   "cell_type": "code",
   "execution_count": 15,
   "id": "26eefa0a",
   "metadata": {},
   "outputs": [
    {
     "name": "stdout",
     "output_type": "stream",
     "text": [
      "5-10\n",
      "10-15\n",
      "15-20\n"
     ]
    }
   ],
   "source": [
    "intervals = [[5, 10], [10, 15], [15, 20]]\n",
    "for i in intervals:\n",
    "    print(f\"{i[0]}-{i[1]}\")"
   ]
  },
  {
   "cell_type": "code",
   "execution_count": null,
   "id": "3bb41b49",
   "metadata": {},
   "outputs": [],
   "source": []
  }
 ],
 "metadata": {
  "kernelspec": {
   "display_name": "Python 3",
   "language": "python",
   "name": "python3"
  },
  "language_info": {
   "codemirror_mode": {
    "name": "ipython",
    "version": 3
   },
   "file_extension": ".py",
   "mimetype": "text/x-python",
   "name": "python",
   "nbconvert_exporter": "python",
   "pygments_lexer": "ipython3",
   "version": "3.8.8"
  }
 },
 "nbformat": 4,
 "nbformat_minor": 5
}
