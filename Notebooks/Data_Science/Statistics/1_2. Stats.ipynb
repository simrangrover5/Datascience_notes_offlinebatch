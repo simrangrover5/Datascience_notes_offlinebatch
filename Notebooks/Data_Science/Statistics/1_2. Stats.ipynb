{
 "cells": [
  {
   "cell_type": "markdown",
   "id": "b37778b7",
   "metadata": {},
   "source": [
    "### Mean\n",
    "\n",
    "    It gives us the average value through which we can interpret the rest of the data\n",
    "    or values. \n",
    "    \n",
    "    1. It depends on values\n",
    "    2. It is effected by outliers"
   ]
  },
  {
   "cell_type": "markdown",
   "id": "b9e8ea62",
   "metadata": {},
   "source": [
    "$$ mean = \\frac{\\sum\\limits_{i=0}^{N-1} x_i} {N} $$"
   ]
  },
  {
   "cell_type": "code",
   "execution_count": 2,
   "id": "fdb3b5fa",
   "metadata": {},
   "outputs": [],
   "source": [
    "X = [1, 2, 3, 4, 5, 1, 2, 3, 4]\n",
    "mean = sum(X)/len(X)"
   ]
  },
  {
   "cell_type": "code",
   "execution_count": 3,
   "id": "4b2177f2",
   "metadata": {},
   "outputs": [
    {
     "data": {
      "text/plain": [
       "2.7777777777777777"
      ]
     },
     "execution_count": 3,
     "metadata": {},
     "output_type": "execute_result"
    }
   ],
   "source": [
    "mean"
   ]
  },
  {
   "cell_type": "code",
   "execution_count": 2,
   "id": "e9a391c2",
   "metadata": {},
   "outputs": [],
   "source": [
    "def mean(arr):\n",
    "    m = sum(arr)/len(arr)\n",
    "    return m"
   ]
  },
  {
   "cell_type": "code",
   "execution_count": 5,
   "id": "0acae199",
   "metadata": {},
   "outputs": [
    {
     "data": {
      "text/plain": [
       "2.7777777777777777"
      ]
     },
     "execution_count": 5,
     "metadata": {},
     "output_type": "execute_result"
    }
   ],
   "source": [
    "mean(X)"
   ]
  },
  {
   "cell_type": "code",
   "execution_count": 1,
   "id": "833705e2",
   "metadata": {},
   "outputs": [],
   "source": [
    "from random import randint"
   ]
  },
  {
   "cell_type": "code",
   "execution_count": 7,
   "id": "acac64a5",
   "metadata": {},
   "outputs": [],
   "source": [
    "ages = [randint(10, 30) for i in range(20)]"
   ]
  },
  {
   "cell_type": "code",
   "execution_count": 8,
   "id": "e601b51a",
   "metadata": {},
   "outputs": [
    {
     "data": {
      "text/plain": [
       "[22,\n",
       " 15,\n",
       " 20,\n",
       " 27,\n",
       " 14,\n",
       " 18,\n",
       " 17,\n",
       " 26,\n",
       " 28,\n",
       " 18,\n",
       " 16,\n",
       " 25,\n",
       " 27,\n",
       " 17,\n",
       " 22,\n",
       " 24,\n",
       " 15,\n",
       " 20,\n",
       " 29,\n",
       " 27]"
      ]
     },
     "execution_count": 8,
     "metadata": {},
     "output_type": "execute_result"
    }
   ],
   "source": [
    "ages"
   ]
  },
  {
   "cell_type": "code",
   "execution_count": 9,
   "id": "fd99e7cc",
   "metadata": {},
   "outputs": [
    {
     "data": {
      "text/plain": [
       "21.35"
      ]
     },
     "execution_count": 9,
     "metadata": {},
     "output_type": "execute_result"
    }
   ],
   "source": [
    "mean(ages)"
   ]
  },
  {
   "cell_type": "code",
   "execution_count": 3,
   "id": "e402253f",
   "metadata": {},
   "outputs": [],
   "source": [
    "import numpy as np"
   ]
  },
  {
   "cell_type": "code",
   "execution_count": 11,
   "id": "1b30516c",
   "metadata": {},
   "outputs": [
    {
     "data": {
      "text/plain": [
       "21.35"
      ]
     },
     "execution_count": 11,
     "metadata": {},
     "output_type": "execute_result"
    }
   ],
   "source": [
    "np.mean(ages)"
   ]
  },
  {
   "cell_type": "markdown",
   "id": "e4071b5f",
   "metadata": {},
   "source": [
    "#### Drawbacks of mean, median and mode"
   ]
  },
  {
   "cell_type": "code",
   "execution_count": 4,
   "id": "2789d59d",
   "metadata": {},
   "outputs": [],
   "source": [
    "ages = np.random.randint(20, 35, 1000)"
   ]
  },
  {
   "cell_type": "code",
   "execution_count": 5,
   "id": "dd0ca3f3",
   "metadata": {},
   "outputs": [
    {
     "data": {
      "text/plain": [
       "27.069"
      ]
     },
     "execution_count": 5,
     "metadata": {},
     "output_type": "execute_result"
    }
   ],
   "source": [
    "ages.mean()"
   ]
  },
  {
   "cell_type": "code",
   "execution_count": 6,
   "id": "7d502d00",
   "metadata": {},
   "outputs": [
    {
     "data": {
      "text/plain": [
       "27.069"
      ]
     },
     "execution_count": 6,
     "metadata": {},
     "output_type": "execute_result"
    }
   ],
   "source": [
    "mean(ages)"
   ]
  },
  {
   "cell_type": "code",
   "execution_count": 7,
   "id": "d8f6ceaf",
   "metadata": {},
   "outputs": [
    {
     "data": {
      "text/plain": [
       "array([29, 25, 24, 32, 27, 23, 34, 22, 33, 20, 21, 23, 28, 29, 25, 22, 24,\n",
       "       22, 29, 33, 31, 29, 25, 27, 23, 34, 31, 27, 28, 26, 33, 34, 30, 22,\n",
       "       30, 20, 26, 32, 26, 31, 30, 28, 28, 32, 30, 22, 31, 22, 26, 29, 34,\n",
       "       21, 21, 28, 23, 32, 32, 21, 33, 24, 22, 33, 32, 28, 25, 34, 31, 20,\n",
       "       34, 34, 29, 29, 33, 24, 27, 30, 29, 21, 21, 29, 25, 30, 28, 24, 32,\n",
       "       25, 25, 25, 23, 28, 21, 23, 31, 32, 32, 22, 24, 31, 33, 33, 31, 24,\n",
       "       26, 26, 31, 23, 32, 34, 20, 25, 31, 29, 21, 28, 32, 21, 34, 25, 31,\n",
       "       31, 32, 26, 34, 26, 31, 20, 31, 33, 25, 32, 32, 26, 25, 29, 22, 20,\n",
       "       22, 33, 20, 30, 28, 22, 31, 30, 20, 30, 34, 22, 29, 33, 26, 34, 21,\n",
       "       30, 30, 31, 29, 23, 34, 27, 31, 24, 22, 30, 25, 23, 25, 34, 22, 28,\n",
       "       24, 28, 22, 32, 29, 33, 24, 34, 23, 29, 33, 21, 29, 27, 21, 31, 24,\n",
       "       25, 34, 34, 29, 25, 33, 24, 25, 24, 24, 34, 30, 30, 30, 26, 23, 27,\n",
       "       21, 25, 33, 32, 29, 23, 31, 22, 24, 28, 22, 27, 29, 22, 22, 30, 30,\n",
       "       24, 23, 31, 29, 34, 27, 22, 32, 32, 30, 32, 34, 24, 26, 27, 27, 29,\n",
       "       27, 23, 21, 30, 21, 31, 32, 34, 29, 27, 34, 33, 26, 24, 26, 34, 33,\n",
       "       24, 32, 20, 20, 23, 29, 26, 30, 34, 22, 28, 27, 20, 31, 30, 22, 32,\n",
       "       24, 25, 30, 20, 21, 33, 25, 21, 33, 26, 34, 31, 33, 22, 24, 29, 33,\n",
       "       24, 20, 22, 24, 26, 26, 29, 34, 30, 24, 25, 30, 34, 23, 31, 28, 32,\n",
       "       25, 25, 28, 27, 24, 21, 27, 25, 21, 26, 34, 20, 31, 28, 22, 23, 25,\n",
       "       21, 20, 24, 33, 27, 21, 22, 31, 32, 34, 22, 27, 34, 31, 22, 32, 34,\n",
       "       24, 25, 32, 20, 31, 22, 29, 31, 20, 33, 26, 27, 31, 32, 30, 33, 26,\n",
       "       28, 23, 25, 25, 34, 29, 21, 27, 20, 30, 22, 23, 32, 25, 22, 24, 29,\n",
       "       26, 26, 21, 25, 22, 34, 29, 28, 30, 25, 20, 22, 25, 22, 29, 28, 32,\n",
       "       26, 20, 28, 26, 28, 30, 32, 31, 34, 33, 22, 32, 25, 22, 21, 23, 32,\n",
       "       32, 26, 24, 29, 34, 31, 32, 33, 20, 34, 29, 29, 20, 24, 34, 31, 26,\n",
       "       22, 29, 30, 30, 20, 31, 21, 28, 28, 28, 33, 24, 33, 29, 24, 22, 34,\n",
       "       29, 20, 22, 34, 23, 29, 27, 30, 29, 25, 22, 28, 28, 34, 26, 27, 20,\n",
       "       24, 28, 26, 23, 20, 20, 29, 31, 31, 28, 29, 30, 21, 20, 28, 22, 34,\n",
       "       21, 29, 22, 29, 32, 23, 22, 25, 25, 20, 22, 21, 26, 33, 32, 22, 30,\n",
       "       26, 31, 20, 32, 24, 25, 29, 33, 32, 28, 29, 25, 24, 21, 32, 33, 24,\n",
       "       30, 28, 30, 29, 31, 33, 28, 21, 28, 20, 24, 33, 26, 26, 24, 24, 29,\n",
       "       25, 26, 30, 34, 28, 20, 31, 26, 28, 26, 24, 22, 22, 30, 25, 20, 34,\n",
       "       24, 20, 32, 32, 25, 34, 23, 30, 26, 33, 34, 23, 33, 29, 22, 22, 27,\n",
       "       20, 22, 34, 25, 29, 24, 30, 22, 34, 28, 24, 34, 29, 23, 32, 33, 23,\n",
       "       34, 29, 34, 33, 30, 22, 26, 22, 28, 26, 25, 32, 31, 22, 33, 33, 28,\n",
       "       22, 26, 20, 32, 24, 26, 23, 32, 34, 27, 30, 22, 22, 28, 34, 24, 21,\n",
       "       27, 31, 30, 21, 20, 23, 22, 33, 29, 27, 21, 22, 25, 30, 32, 29, 32,\n",
       "       26, 33, 32, 20, 21, 26, 24, 30, 28, 26, 32, 26, 30, 21, 27, 21, 27,\n",
       "       27, 30, 20, 29, 23, 21, 22, 34, 29, 34, 30, 21, 33, 20, 23, 29, 22,\n",
       "       22, 25, 20, 29, 32, 23, 31, 32, 23, 22, 20, 24, 24, 30, 31, 23, 32,\n",
       "       32, 25, 25, 26, 31, 24, 22, 21, 25, 30, 28, 24, 23, 26, 24, 20, 29,\n",
       "       33, 20, 24, 23, 26, 34, 30, 29, 21, 20, 22, 21, 29, 20, 29, 22, 27,\n",
       "       26, 26, 25, 22, 23, 20, 26, 27, 27, 29, 32, 25, 23, 25, 26, 34, 33,\n",
       "       29, 22, 21, 29, 26, 23, 26, 33, 25, 29, 20, 22, 28, 25, 31, 33, 27,\n",
       "       20, 28, 30, 25, 30, 22, 31, 26, 23, 25, 23, 33, 28, 27, 34, 23, 24,\n",
       "       33, 30, 32, 34, 26, 26, 31, 21, 28, 30, 32, 33, 33, 32, 32, 25, 21,\n",
       "       23, 21, 32, 29, 30, 30, 28, 34, 30, 27, 34, 21, 25, 24, 30, 24, 22,\n",
       "       30, 27, 32, 34, 29, 22, 27, 33, 32, 28, 27, 31, 23, 20, 33, 26, 25,\n",
       "       33, 30, 26, 30, 30, 34, 20, 32, 26, 26, 28, 28, 28, 21, 28, 22, 24,\n",
       "       21, 32, 33, 24, 25, 31, 21, 20, 30, 20, 26, 27, 28, 29, 25, 26, 32,\n",
       "       29, 24, 25, 27, 20, 20, 26, 30, 22, 21, 24, 23, 26, 20, 24, 33, 26,\n",
       "       27, 20, 29, 22, 26, 28, 31, 28, 33, 25, 31, 30, 30, 34, 30, 32, 32,\n",
       "       24, 34, 23, 32, 31, 22, 33, 32, 24, 22, 31, 24, 27, 28, 21, 25, 21,\n",
       "       21, 34, 25, 23, 25, 20, 21, 24, 34, 24, 34, 32, 31, 28, 28, 34, 29,\n",
       "       24, 23, 34, 24, 28, 24, 21, 23, 26, 20, 28, 29, 25, 28, 30, 29, 30,\n",
       "       26, 33, 21, 28, 24, 23, 33, 32, 21, 26, 22, 24, 31, 30, 25, 26, 25,\n",
       "       20, 29, 24, 34, 31, 34, 24, 26, 21, 21, 33, 20, 22, 33, 29, 30, 27,\n",
       "       30, 29, 27, 29, 30, 20, 31, 32, 26, 25, 25, 24, 25, 32, 28, 26, 26,\n",
       "       32, 26, 34, 33, 25, 21, 24, 29, 23, 22, 28, 33, 29, 22])"
      ]
     },
     "execution_count": 7,
     "metadata": {},
     "output_type": "execute_result"
    }
   ],
   "source": [
    "ages"
   ]
  },
  {
   "cell_type": "code",
   "execution_count": 8,
   "id": "507ae53f",
   "metadata": {},
   "outputs": [],
   "source": [
    "ages = [randint(20, 35) for i in range(20)]"
   ]
  },
  {
   "cell_type": "code",
   "execution_count": 9,
   "id": "4d475950",
   "metadata": {},
   "outputs": [
    {
     "data": {
      "text/plain": [
       "[30,\n",
       " 33,\n",
       " 30,\n",
       " 22,\n",
       " 26,\n",
       " 29,\n",
       " 29,\n",
       " 32,\n",
       " 23,\n",
       " 35,\n",
       " 29,\n",
       " 30,\n",
       " 20,\n",
       " 24,\n",
       " 30,\n",
       " 20,\n",
       " 20,\n",
       " 25,\n",
       " 33,\n",
       " 32]"
      ]
     },
     "execution_count": 9,
     "metadata": {},
     "output_type": "execute_result"
    }
   ],
   "source": [
    "ages"
   ]
  },
  {
   "cell_type": "code",
   "execution_count": 10,
   "id": "8f46a326",
   "metadata": {},
   "outputs": [
    {
     "name": "stdout",
     "output_type": "stream",
     "text": [
      "\n",
      " Mean without outlier -->  27.6\n",
      "[30, 33, 30, 22, 26, 29, 29, 32, 23, 35, 29, 30, 20, 24, 30, 20, 20, 25, 33, 32, 80, 80]\n",
      "\n",
      " Mean with outlier -->  32.36363636363637\n"
     ]
    }
   ],
   "source": [
    "print(\"\\n Mean without outlier --> \", mean(ages))\n",
    "ages.extend([80, 80])\n",
    "print(ages)\n",
    "print(\"\\n Mean with outlier --> \", mean(ages))"
   ]
  },
  {
   "cell_type": "code",
   "execution_count": 11,
   "id": "52bf772c",
   "metadata": {},
   "outputs": [],
   "source": [
    "ages = np.random.randint(20, 35, 1000)"
   ]
  },
  {
   "cell_type": "code",
   "execution_count": 12,
   "id": "fd1380aa",
   "metadata": {},
   "outputs": [
    {
     "data": {
      "text/plain": [
       "26.952"
      ]
     },
     "execution_count": 12,
     "metadata": {},
     "output_type": "execute_result"
    }
   ],
   "source": [
    "ages.mean()"
   ]
  },
  {
   "cell_type": "code",
   "execution_count": 22,
   "id": "c20a543f",
   "metadata": {},
   "outputs": [],
   "source": [
    "temp = np.append(ages, [100, 100, 100, 100, 1000])"
   ]
  },
  {
   "cell_type": "code",
   "execution_count": 23,
   "id": "c9fbf27d",
   "metadata": {},
   "outputs": [
    {
     "data": {
      "text/plain": [
       "28.21094527363184"
      ]
     },
     "execution_count": 23,
     "metadata": {},
     "output_type": "execute_result"
    }
   ],
   "source": [
    "temp.mean()"
   ]
  },
  {
   "cell_type": "markdown",
   "id": "56fb609e",
   "metadata": {},
   "source": [
    "### Median\n",
    "\n",
    "    1. It gives you a center value by depending on the number of values\n",
    "    2. Before calculating median we need to sort it \n",
    "    3. Does not impact the outlier"
   ]
  },
  {
   "cell_type": "markdown",
   "id": "991939f2",
   "metadata": {},
   "source": [
    "#### Median For Odd number of values \n",
    "\n",
    "$$ i = \\frac{N+1} {2} $$\n",
    "$$ median = arr[i-1] $$"
   ]
  },
  {
   "cell_type": "code",
   "execution_count": 24,
   "id": "33cfafd3",
   "metadata": {},
   "outputs": [],
   "source": [
    "a = [randint(20, 35) for i in range(21)]"
   ]
  },
  {
   "cell_type": "code",
   "execution_count": 25,
   "id": "3ee203fa",
   "metadata": {},
   "outputs": [
    {
     "data": {
      "text/plain": [
       "[31,\n",
       " 20,\n",
       " 25,\n",
       " 20,\n",
       " 32,\n",
       " 26,\n",
       " 22,\n",
       " 27,\n",
       " 32,\n",
       " 20,\n",
       " 33,\n",
       " 32,\n",
       " 24,\n",
       " 34,\n",
       " 23,\n",
       " 31,\n",
       " 24,\n",
       " 24,\n",
       " 33,\n",
       " 34,\n",
       " 23]"
      ]
     },
     "execution_count": 25,
     "metadata": {},
     "output_type": "execute_result"
    }
   ],
   "source": [
    "a"
   ]
  },
  {
   "cell_type": "code",
   "execution_count": 27,
   "id": "9dd71505",
   "metadata": {},
   "outputs": [],
   "source": [
    "def median(arr):\n",
    "    N = len(arr)\n",
    "    arr.sort()\n",
    "    if N%2 == 0:\n",
    "        pass\n",
    "    else:\n",
    "        i = (N+1)//2\n",
    "        return arr[i-1]"
   ]
  },
  {
   "cell_type": "code",
   "execution_count": 28,
   "id": "137d85ce",
   "metadata": {},
   "outputs": [
    {
     "data": {
      "text/plain": [
       "26"
      ]
     },
     "execution_count": 28,
     "metadata": {},
     "output_type": "execute_result"
    }
   ],
   "source": [
    "median(a)"
   ]
  },
  {
   "cell_type": "code",
   "execution_count": 29,
   "id": "674c75aa",
   "metadata": {},
   "outputs": [
    {
     "data": {
      "text/plain": [
       "[20,\n",
       " 20,\n",
       " 20,\n",
       " 22,\n",
       " 23,\n",
       " 23,\n",
       " 24,\n",
       " 24,\n",
       " 24,\n",
       " 25,\n",
       " 26,\n",
       " 27,\n",
       " 31,\n",
       " 31,\n",
       " 32,\n",
       " 32,\n",
       " 32,\n",
       " 33,\n",
       " 33,\n",
       " 34,\n",
       " 34]"
      ]
     },
     "execution_count": 29,
     "metadata": {},
     "output_type": "execute_result"
    }
   ],
   "source": [
    "a"
   ]
  },
  {
   "cell_type": "code",
   "execution_count": 30,
   "id": "86904761",
   "metadata": {},
   "outputs": [
    {
     "name": "stdout",
     "output_type": "stream",
     "text": [
      "\n",
      " Median without outlier -->  26\n",
      "\n",
      " Mean without outlier -->  27.142857142857142\n",
      "[20, 20, 20, 22, 23, 23, 24, 24, 24, 25, 26, 27, 31, 31, 32, 32, 32, 33, 33, 34, 34, 80, 80]\n",
      "\n",
      " Mean with outlier -->  31.73913043478261\n",
      "\n",
      " Median with outlier -->  27\n"
     ]
    }
   ],
   "source": [
    "print(\"\\n Median without outlier --> \", median(a))\n",
    "print(\"\\n Mean without outlier --> \", mean(a))\n",
    "a.extend([80, 80])\n",
    "print(a)\n",
    "print(\"\\n Mean with outlier --> \", mean(a))\n",
    "print(\"\\n Median with outlier --> \", median(a))"
   ]
  },
  {
   "cell_type": "code",
   "execution_count": 33,
   "id": "116079f6",
   "metadata": {},
   "outputs": [
    {
     "data": {
      "text/plain": [
       "27.0"
      ]
     },
     "execution_count": 33,
     "metadata": {},
     "output_type": "execute_result"
    }
   ],
   "source": [
    "a1 = np.random.randint(20, 35, 1001)\n",
    "np.median(a1)"
   ]
  },
  {
   "cell_type": "code",
   "execution_count": 34,
   "id": "3df3d655",
   "metadata": {},
   "outputs": [
    {
     "data": {
      "text/plain": [
       "27"
      ]
     },
     "execution_count": 34,
     "metadata": {},
     "output_type": "execute_result"
    }
   ],
   "source": [
    "median(a1)"
   ]
  },
  {
   "cell_type": "code",
   "execution_count": 35,
   "id": "0a625ed5",
   "metadata": {},
   "outputs": [
    {
     "name": "stdout",
     "output_type": "stream",
     "text": [
      "\n",
      " Median without outlier -->  27\n",
      "\n",
      " Mean without outlier -->  27.11888111888112\n",
      "\n",
      " Mean with outlier -->  29.058823529411764\n",
      "\n",
      " Median with outlier -->  27\n"
     ]
    }
   ],
   "source": [
    "print(\"\\n Median without outlier --> \", median(a1))\n",
    "print(\"\\n Mean without outlier --> \", mean(a1))\n",
    "temp = np.append(a1, [1000, 1000])\n",
    "print(\"\\n Mean with outlier --> \", mean(temp))\n",
    "print(\"\\n Median with outlier --> \", median(temp))"
   ]
  },
  {
   "cell_type": "markdown",
   "id": "8be2964a",
   "metadata": {},
   "source": [
    "#### Median For Even number of values \n",
    "\n",
    "$$ i_1 = \\frac{N} {2} $$\n",
    "$$ i_2 = \\frac{N+2} {2} $$\n",
    "$$ median = \\frac{arr[i_1-1] + arr[i_2 - 1]} {2} $$"
   ]
  },
  {
   "cell_type": "code",
   "execution_count": 36,
   "id": "f84244f4",
   "metadata": {},
   "outputs": [],
   "source": [
    "def median(arr):\n",
    "    N = len(arr)\n",
    "    arr.sort()\n",
    "    if N%2 == 0:\n",
    "        i1 = N//2\n",
    "        i2 = (N+2)//2\n",
    "        m = (arr[i1-1] + arr[i2-1])/2\n",
    "        return m\n",
    "    else:\n",
    "        i = (N+1)//2\n",
    "        return arr[i-1]"
   ]
  },
  {
   "cell_type": "code",
   "execution_count": 37,
   "id": "0ef28dbd",
   "metadata": {},
   "outputs": [],
   "source": [
    "a = [randint(20, 35) for i in range(20)]"
   ]
  },
  {
   "cell_type": "code",
   "execution_count": 38,
   "id": "a383d7d8",
   "metadata": {},
   "outputs": [
    {
     "name": "stdout",
     "output_type": "stream",
     "text": [
      "\n",
      " Median without outlier -->  28.0\n",
      "\n",
      " Mean without outlier -->  28.2\n",
      "[20, 20, 23, 24, 24, 25, 26, 27, 27, 27, 29, 30, 30, 31, 31, 32, 34, 34, 35, 35, 80, 80]\n",
      "\n",
      " Mean with outlier -->  32.90909090909091\n",
      "\n",
      " Median with outlier -->  29.5\n"
     ]
    }
   ],
   "source": [
    "print(\"\\n Median without outlier --> \", median(a))\n",
    "print(\"\\n Mean without outlier --> \", mean(a))\n",
    "a.extend([80, 80])\n",
    "print(a)\n",
    "print(\"\\n Mean with outlier --> \", mean(a))\n",
    "print(\"\\n Median with outlier --> \", median(a))"
   ]
  },
  {
   "cell_type": "code",
   "execution_count": 39,
   "id": "9aaa3517",
   "metadata": {},
   "outputs": [
    {
     "data": {
      "text/plain": [
       "29.5"
      ]
     },
     "execution_count": 39,
     "metadata": {},
     "output_type": "execute_result"
    }
   ],
   "source": [
    "np.median(a)"
   ]
  },
  {
   "cell_type": "code",
   "execution_count": 40,
   "id": "102d9fd5",
   "metadata": {},
   "outputs": [
    {
     "data": {
      "text/plain": [
       "27.0"
      ]
     },
     "execution_count": 40,
     "metadata": {},
     "output_type": "execute_result"
    }
   ],
   "source": [
    "a1 = np.random.randint(20, 35, 1000)\n",
    "np.median(a1)"
   ]
  },
  {
   "cell_type": "code",
   "execution_count": 41,
   "id": "699220ce",
   "metadata": {},
   "outputs": [
    {
     "name": "stdout",
     "output_type": "stream",
     "text": [
      "\n",
      " Median without outlier -->  27.0\n",
      "\n",
      " Mean without outlier -->  27.17\n",
      "\n",
      " Mean with outlier -->  29.11177644710579\n",
      "\n",
      " Median with outlier -->  27.0\n"
     ]
    }
   ],
   "source": [
    "print(\"\\n Median without outlier --> \", median(a1))\n",
    "print(\"\\n Mean without outlier --> \", mean(a1))\n",
    "temp = np.append(a1, [1000, 1000])\n",
    "print(\"\\n Mean with outlier --> \", mean(temp))\n",
    "print(\"\\n Median with outlier --> \", median(temp))"
   ]
  },
  {
   "cell_type": "code",
   "execution_count": 42,
   "id": "dc559700",
   "metadata": {},
   "outputs": [
    {
     "data": {
      "text/plain": [
       "[20,\n",
       " 20,\n",
       " 23,\n",
       " 24,\n",
       " 24,\n",
       " 25,\n",
       " 26,\n",
       " 27,\n",
       " 27,\n",
       " 27,\n",
       " 29,\n",
       " 30,\n",
       " 30,\n",
       " 31,\n",
       " 31,\n",
       " 32,\n",
       " 34,\n",
       " 34,\n",
       " 35,\n",
       " 35,\n",
       " 80,\n",
       " 80]"
      ]
     },
     "execution_count": 42,
     "metadata": {},
     "output_type": "execute_result"
    }
   ],
   "source": [
    "a"
   ]
  },
  {
   "cell_type": "code",
   "execution_count": 43,
   "id": "5222bbaa",
   "metadata": {},
   "outputs": [],
   "source": [
    "import matplotlib.pyplot as plt"
   ]
  },
  {
   "cell_type": "code",
   "execution_count": 45,
   "id": "bd21d0b1",
   "metadata": {},
   "outputs": [
    {
     "data": {
      "text/plain": [
       "[<matplotlib.lines.Line2D at 0x145fd47a880>]"
      ]
     },
     "execution_count": 45,
     "metadata": {},
     "output_type": "execute_result"
    },
    {
     "data": {
      "image/png": "[encoded data removed]",
      "text/plain": [
       "<Figure size 432x288 with 1 Axes>"
      ]
     },
     "metadata": {
      "needs_background": "light"
     },
     "output_type": "display_data"
    }
   ],
   "source": [
    "a = [randint(20, 35) for i in range(20)]\n",
    "plt.plot(a, 'o')"
   ]
  },
  {
   "cell_type": "code",
   "execution_count": 47,
   "id": "81245b9b",
   "metadata": {},
   "outputs": [
    {
     "name": "stdout",
     "output_type": "stream",
     "text": [
      "[29, 34, 23, 35, 33, 20, 21, 34, 20, 30, 22, 21, 22, 29, 23, 31, 28, 32, 20, 25]\n"
     ]
    }
   ],
   "source": [
    "print(a)"
   ]
  },
  {
   "cell_type": "code",
   "execution_count": 51,
   "id": "1fdc685f",
   "metadata": {},
   "outputs": [
    {
     "data": {
      "image/png": "[encoded data removed]",
      "text/plain": [
       "<Figure size 432x288 with 1 Axes>"
      ]
     },
     "metadata": {
      "needs_background": "light"
     },
     "output_type": "display_data"
    }
   ],
   "source": [
    "a = [randint(20, 35) for i in range(20)]\n",
    "plt.plot(a, 'o')\n",
    "plt.xticks(range(len(a)))\n",
    "plt.xlabel(\"INDEX\")\n",
    "plt.ylabel(\"AGES\")\n",
    "plt.show()"
   ]
  },
  {
   "cell_type": "code",
   "execution_count": 52,
   "id": "a9e8d3b5",
   "metadata": {},
   "outputs": [
    {
     "name": "stdout",
     "output_type": "stream",
     "text": [
      "[35, 29, 26, 21, 33, 25, 21, 33, 28, 34, 32, 35, 23, 28, 28, 31, 22, 34, 22, 22]\n"
     ]
    }
   ],
   "source": [
    "print(a)"
   ]
  },
  {
   "cell_type": "code",
   "execution_count": 53,
   "id": "35324fe6",
   "metadata": {},
   "outputs": [
    {
     "data": {
      "image/png": "[encoded data removed]",
      "text/plain": [
       "<Figure size 432x288 with 1 Axes>"
      ]
     },
     "metadata": {
      "needs_background": "light"
     },
     "output_type": "display_data"
    }
   ],
   "source": [
    "plt.plot(a, 'o')\n",
    "plt.xticks(range(len(a)))\n",
    "plt.xlabel(\"INDEX\")\n",
    "plt.ylabel(\"AGES\")\n",
    "plt.show()"
   ]
  },
  {
   "cell_type": "code",
   "execution_count": 54,
   "id": "497a4d69",
   "metadata": {},
   "outputs": [],
   "source": [
    "a.extend([80, 80])"
   ]
  },
  {
   "cell_type": "code",
   "execution_count": 55,
   "id": "4a93b84c",
   "metadata": {},
   "outputs": [
    {
     "data": {
      "image/png": "[encoded data removed]",
      "text/plain": [
       "<Figure size 432x288 with 1 Axes>"
      ]
     },
     "metadata": {
      "needs_background": "light"
     },
     "output_type": "display_data"
    }
   ],
   "source": [
    "plt.plot(a, 'o')\n",
    "plt.xticks(range(len(a)))\n",
    "plt.xlabel(\"INDEX\")\n",
    "plt.ylabel(\"AGES\")\n",
    "plt.show()"
   ]
  },
  {
   "cell_type": "code",
   "execution_count": 57,
   "id": "3a70aabd",
   "metadata": {},
   "outputs": [
    {
     "data": {
      "image/png": "[encoded data removed]",
      "text/plain": [
       "<Figure size 792x360 with 1 Axes>"
      ]
     },
     "metadata": {
      "needs_background": "light"
     },
     "output_type": "display_data"
    }
   ],
   "source": [
    "plt.figure(figsize=(11, 5))\n",
    "plt.plot(temp, 'o')\n",
    "#plt.xticks(range(len(a)))\n",
    "plt.xlabel(\"INDEX\")\n",
    "plt.ylabel(\"AGES\")\n",
    "plt.show()"
   ]
  },
  {
   "cell_type": "code",
   "execution_count": 59,
   "id": "9a37b482",
   "metadata": {},
   "outputs": [
    {
     "data": {
      "image/png": "[encoded data removed]",
      "text/plain": [
       "<Figure size 432x288 with 1 Axes>"
      ]
     },
     "metadata": {
      "needs_background": "light"
     },
     "output_type": "display_data"
    }
   ],
   "source": [
    "plt.plot(temp[:-2], 'o')\n",
    "plt.show()"
   ]
  },
  {
   "cell_type": "code",
   "execution_count": 60,
   "id": "1a3f465b",
   "metadata": {},
   "outputs": [
    {
     "data": {
      "image/png": "[encoded data removed]",
      "text/plain": [
       "<Figure size 432x288 with 1 Axes>"
      ]
     },
     "metadata": {
      "needs_background": "light"
     },
     "output_type": "display_data"
    }
   ],
   "source": [
    "temp = np.random.randint(20, 35, 1000)\n",
    "plt.plot(temp, 'o')\n",
    "plt.show()"
   ]
  },
  {
   "cell_type": "code",
   "execution_count": null,
   "id": "e6166a91",
   "metadata": {},
   "outputs": [],
   "source": []
  }
 ],
 "metadata": {
  "kernelspec": {
   "display_name": "Python 3",
   "language": "python",
   "name": "python3"
  },
  "language_info": {
   "codemirror_mode": {
    "name": "ipython",
    "version": 3
   },
   "file_extension": ".py",
   "mimetype": "text/x-python",
   "name": "python",
   "nbconvert_exporter": "python",
   "pygments_lexer": "ipython3",
   "version": "3.8.8"
  }
 },
 "nbformat": 4,
 "nbformat_minor": 5
}
