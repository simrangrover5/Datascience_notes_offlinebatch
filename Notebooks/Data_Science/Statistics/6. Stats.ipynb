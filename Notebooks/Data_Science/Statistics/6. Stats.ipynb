{
 "cells": [
  {
   "cell_type": "markdown",
   "id": "eea81c45",
   "metadata": {},
   "source": [
    "#### Ungrouped Frequency Distribution Table\n",
    "#### Grouped Frequency Distribution Table\n",
    "        1. Exclusive Method\n",
    "        2. Inclusive Method\n",
    "#### Percentage Frequency Table\n",
    "#### Calculate LESS THAN CF and MORE THAN CF\n",
    "#### Calculate Mean for grouped data"
   ]
  },
  {
   "cell_type": "code",
   "execution_count": 1,
   "id": "e12052c9",
   "metadata": {},
   "outputs": [],
   "source": [
    "import numpy as np"
   ]
  },
  {
   "cell_type": "code",
   "execution_count": 5,
   "id": "411674a4",
   "metadata": {},
   "outputs": [],
   "source": [
    "N = 30\n",
    "k = round(1 + (3.322 * np.log10(N)))"
   ]
  },
  {
   "cell_type": "code",
   "execution_count": 8,
   "id": "ffe23db0",
   "metadata": {},
   "outputs": [],
   "source": [
    "c = round((50-0)/k)"
   ]
  },
  {
   "cell_type": "code",
   "execution_count": 9,
   "id": "c3162b0f",
   "metadata": {},
   "outputs": [
    {
     "data": {
      "text/plain": [
       "8"
      ]
     },
     "execution_count": 9,
     "metadata": {},
     "output_type": "execute_result"
    }
   ],
   "source": [
    "c"
   ]
  },
  {
   "cell_type": "code",
   "execution_count": 12,
   "id": "0f322e72",
   "metadata": {},
   "outputs": [
    {
     "name": "stdout",
     "output_type": "stream",
     "text": [
      "5-10\n",
      "10-15\n",
      "15-20\n"
     ]
    }
   ],
   "source": [
    "intervals = [[5, 10], [10, 15], [15, 20]]\n",
    "for i in intervals:\n",
    "    print(*i, sep=\"-\")"
   ]
  },
  {
   "cell_type": "code",
   "execution_count": 15,
   "id": "26eefa0a",
   "metadata": {},
   "outputs": [
    {
     "name": "stdout",
     "output_type": "stream",
     "text": [
      "5-10\n",
      "10-15\n",
      "15-20\n"
     ]
    }
   ],
   "source": [
    "intervals = [[5, 10], [10, 15], [15, 20]]\n",
    "for i in intervals:\n",
    "    print(f\"{i[0]}-{i[1]}\")"
   ]
  },
  {
   "cell_type": "code",
   "execution_count": 21,
   "id": "3bb41b49",
   "metadata": {},
   "outputs": [],
   "source": [
    "arr = np.random.randint(1, 50, 50)\n",
    "N = len(arr)\n",
    "k = round(1 + 3.322*np.log10(N))\n",
    "range_ = max(arr) - min(arr)\n",
    "c = range_//k"
   ]
  },
  {
   "cell_type": "code",
   "execution_count": 22,
   "id": "b1d2c6ea",
   "metadata": {},
   "outputs": [
    {
     "data": {
      "text/plain": [
       "7"
      ]
     },
     "execution_count": 22,
     "metadata": {},
     "output_type": "execute_result"
    }
   ],
   "source": [
    "k"
   ]
  },
  {
   "cell_type": "code",
   "execution_count": 23,
   "id": "6a719682",
   "metadata": {},
   "outputs": [
    {
     "data": {
      "text/plain": [
       "6"
      ]
     },
     "execution_count": 23,
     "metadata": {},
     "output_type": "execute_result"
    }
   ],
   "source": [
    "c"
   ]
  },
  {
   "cell_type": "code",
   "execution_count": 26,
   "id": "f7777d17",
   "metadata": {},
   "outputs": [
    {
     "name": "stdout",
     "output_type": "stream",
     "text": [
      "INTERVALS\t|\t\tCOUNT\n",
      "__________________________________________________\n",
      "1-7\t\t|\t\t9\n",
      "7-13\t\t|\t\t5\n",
      "13-19\t\t|\t\t6\n",
      "19-25\t\t|\t\t5\n",
      "25-31\t\t|\t\t7\n",
      "31-37\t\t|\t\t6\n",
      "37-43\t\t|\t\t4\n",
      "43-49\t\t|\t\t5\n"
     ]
    }
   ],
   "source": [
    "N = len(arr)\n",
    "k = round(1 + 3.322*np.log10(N))\n",
    "range_ = max(arr) - min(arr)\n",
    "c = range_//k\n",
    "intervals = []\n",
    "count = []\n",
    "for i in range(min(arr), max(arr), c):\n",
    "    intervals.append([i, i+c])\n",
    "for i in intervals:\n",
    "    c1 = 0\n",
    "    for j in arr:\n",
    "        if j in range(*i):\n",
    "            c1 += 1\n",
    "    count.append(c1)\n",
    "print(\"INTERVALS\\t|\\t\\tCOUNT\")\n",
    "print(\"_\"*50)\n",
    "for i,c1 in zip(intervals, count):\n",
    "    print(f\"{i[0]}-{i[1]}\\t\\t|\\t\\t{c1}\")"
   ]
  },
  {
   "cell_type": "code",
   "execution_count": 18,
   "id": "c3696b13",
   "metadata": {},
   "outputs": [
    {
     "data": {
      "text/plain": [
       "[[1, 11], [11, 21], [21, 31], [31, 41], [41, 51]]"
      ]
     },
     "execution_count": 18,
     "metadata": {},
     "output_type": "execute_result"
    }
   ],
   "source": [
    "intervals"
   ]
  },
  {
   "cell_type": "code",
   "execution_count": 19,
   "id": "364f03e6",
   "metadata": {},
   "outputs": [
    {
     "data": {
      "text/plain": [
       "[11, 13, 11, 5, 10]"
      ]
     },
     "execution_count": 19,
     "metadata": {},
     "output_type": "execute_result"
    }
   ],
   "source": [
    "count"
   ]
  },
  {
   "cell_type": "markdown",
   "id": "68cb26f9",
   "metadata": {},
   "source": [
    "    Arr --> q1, q2, q3, q4\n",
    "    \n",
    "        q2 --> median\n",
    "        q1 --> median of values less than Q2\n",
    "        q3 --> median of values greater than q2"
   ]
  },
  {
   "cell_type": "code",
   "execution_count": null,
   "id": "65a37a88",
   "metadata": {},
   "outputs": [],
   "source": []
  }
 ],
 "metadata": {
  "kernelspec": {
   "display_name": "Python 3",
   "language": "python",
   "name": "python3"
  },
  "language_info": {
   "codemirror_mode": {
    "name": "ipython",
    "version": 3
   },
   "file_extension": ".py",
   "mimetype": "text/x-python",
   "name": "python",
   "nbconvert_exporter": "python",
   "pygments_lexer": "ipython3",
   "version": "3.8.8"
  }
 },
 "nbformat": 4,
 "nbformat_minor": 5
}
