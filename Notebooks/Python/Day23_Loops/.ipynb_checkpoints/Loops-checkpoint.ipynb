{
 "cells": [
  {
   "cell_type": "markdown",
   "metadata": {},
   "source": [
    "### Random Guess"
   ]
  },
  {
   "cell_type": "code",
   "execution_count": 3,
   "metadata": {},
   "outputs": [
    {
     "name": "stdout",
     "output_type": "stream",
     "text": [
      "Chance Number: 5\n",
      "Your Guess (1-50): 1000\n",
      "Warning!! Your guess is Out of Range Guess Between 1-50\n",
      "Chance Number: 5\n",
      "Your Guess (1-50): -10\n",
      "Warning!! Your guess is Out of Range Guess Between 1-50\n",
      "Chance Number: 5\n",
      "Your Guess (1-50): 25\n",
      "Hint: Be Big Think Big\n",
      "Chance Number: 4\n",
      "Your Guess (1-50): 35\n",
      "Hint: Be Big Think Big\n",
      "Chance Number: 3\n",
      "Your Guess (1-50): 45\n",
      "Hint: Be in Limits Think a Lower Number\n",
      "Chance Number: 2\n",
      "Your Guess (1-50): 40\n",
      "Hint: Be Big Think Big\n",
      "Chance Number: 1\n",
      "Your Guess (1-50): 43\n",
      "Yeah!! You such a Master You have won the Game\n",
      "Computer Guess Was: 43\n"
     ]
    }
   ],
   "source": [
    "import random\n",
    "com_guess = random.randint(1, 50)\n",
    "chances = 5\n",
    "while chances:\n",
    "    print(f\"Chance Number: {chances}\")\n",
    "    user_guess = int(input(\"Your Guess (1-50): \"))\n",
    "    if user_guess < 1 or user_guess > 50:\n",
    "        print(\"Warning!! Your guess is Out of Range Guess Between 1-50\")\n",
    "        continue\n",
    "    \n",
    "    if user_guess == com_guess:\n",
    "        print(\"Yeah!! You such a Master You have won the Game\")\n",
    "        break\n",
    "    elif user_guess > com_guess:\n",
    "        print(\"Hint: Be in Limits Think a Lower Number\")\n",
    "    else:\n",
    "        print(\"Hint: Be Big Think Big\")\n",
    "    \n",
    "    chances -= 1\n",
    "else:\n",
    "    print(\"You Such A Looser!\")\n",
    "    \n",
    "print(f\"Computer Guess Was: {com_guess}\")"
   ]
  },
  {
   "cell_type": "markdown",
   "metadata": {},
   "source": [
    "### For Loop "
   ]
  },
  {
   "cell_type": "markdown",
   "metadata": {},
   "source": [
    "    We use for loop for traversing / iterating an iterable object "
   ]
  },
  {
   "cell_type": "markdown",
   "metadata": {},
   "source": [
    "#### Syntax\n",
    "\n",
    "    for item in iterable:\n",
    "        st-1\n",
    "        st-2\n",
    "        ...\n",
    "        st-n"
   ]
  },
  {
   "cell_type": "code",
   "execution_count": 5,
   "metadata": {},
   "outputs": [
    {
     "name": "stdout",
     "output_type": "stream",
     "text": [
      "H\n",
      "e\n",
      "l\n",
      "l\n",
      "o\n",
      " \n",
      "W\n",
      "o\n",
      "r\n",
      "l\n",
      "d\n",
      "!\n"
     ]
    }
   ],
   "source": [
    "s = \"Hello World!\"\n",
    "i = 0\n",
    "while i < len(s):\n",
    "    print(s[i])\n",
    "    i += 1"
   ]
  },
  {
   "cell_type": "code",
   "execution_count": 6,
   "metadata": {},
   "outputs": [
    {
     "name": "stdout",
     "output_type": "stream",
     "text": [
      "H\n",
      "e\n",
      "l\n",
      "l\n",
      "o\n",
      " \n",
      "W\n",
      "o\n",
      "r\n",
      "l\n",
      "d\n",
      "!\n"
     ]
    }
   ],
   "source": [
    "s = \"Hello World!\"\n",
    "\n",
    "for char in s:\n",
    "    print(char)"
   ]
  },
  {
   "cell_type": "code",
   "execution_count": 7,
   "metadata": {},
   "outputs": [
    {
     "name": "stdout",
     "output_type": "stream",
     "text": [
      "gaurav\n",
      "deepratan\n",
      "naman\n",
      "ankur\n",
      "arshika\n"
     ]
    }
   ],
   "source": [
    "for name in [ 'gaurav', 'deepratan', 'naman', 'ankur', 'arshika']:\n",
    "    print(name)"
   ]
  },
  {
   "cell_type": "code",
   "execution_count": 8,
   "metadata": {},
   "outputs": [
    {
     "name": "stdout",
     "output_type": "stream",
     "text": [
      "name\n",
      "age\n",
      "country\n",
      "language\n"
     ]
    }
   ],
   "source": [
    "for item in {'name':'sachin', 'age': 25, 'country': 'india', 'language': 'hindi'}:\n",
    "    print(item)"
   ]
  },
  {
   "cell_type": "code",
   "execution_count": 9,
   "metadata": {},
   "outputs": [
    {
     "name": "stdout",
     "output_type": "stream",
     "text": [
      "name  =  sachin\n",
      "age  =  25\n",
      "country  =  india\n",
      "language  =  hindi\n"
     ]
    }
   ],
   "source": [
    "info = {'name':'sachin', 'age': 25, 'country': 'india', 'language': 'hindi'}\n",
    "for key in info.keys():\n",
    "    print(f\"{key}  =  {info[key]}\")"
   ]
  },
  {
   "cell_type": "code",
   "execution_count": 10,
   "metadata": {},
   "outputs": [
    {
     "name": "stdout",
     "output_type": "stream",
     "text": [
      "('name', 'sachin')\n",
      "('age', 25)\n",
      "('country', 'india')\n",
      "('language', 'hindi')\n"
     ]
    }
   ],
   "source": [
    "for item in info.items():\n",
    "    print(item)"
   ]
  },
  {
   "cell_type": "code",
   "execution_count": 11,
   "metadata": {},
   "outputs": [
    {
     "name": "stdout",
     "output_type": "stream",
     "text": [
      "name = sachin\n",
      "age = 25\n",
      "country = india\n",
      "language = hindi\n"
     ]
    }
   ],
   "source": [
    "for item in info.items():\n",
    "    print(item[0], '=', item[1])"
   ]
  },
  {
   "cell_type": "markdown",
   "metadata": {},
   "source": [
    "### Tuple Unpacking"
   ]
  },
  {
   "cell_type": "code",
   "execution_count": 12,
   "metadata": {},
   "outputs": [
    {
     "name": "stdout",
     "output_type": "stream",
     "text": [
      "shyam\n",
      "ram\n"
     ]
    }
   ],
   "source": [
    "x, y = ('ram', 'shyam')[::-1]\n",
    "print(x)\n",
    "print(y)"
   ]
  },
  {
   "cell_type": "code",
   "execution_count": 14,
   "metadata": {},
   "outputs": [
    {
     "name": "stdout",
     "output_type": "stream",
     "text": [
      "name  =  sachin\n",
      "age  =  25\n",
      "country  =  india\n",
      "language  =  hindi\n"
     ]
    }
   ],
   "source": [
    "info = {'name':'sachin', 'age': 25, 'country': 'india', 'language': 'hindi'}\n",
    "for key, value in info.items():\n",
    "    print(f\"{key}  =  {value}\")"
   ]
  },
  {
   "cell_type": "code",
   "execution_count": 15,
   "metadata": {},
   "outputs": [],
   "source": [
    "data = [\n",
    "    [ 'gaurav', 'india', 'hindi'],\n",
    "    [ 'deepratan', 'us', 'english'],\n",
    "    [ 'arshika', 'pakisthan', 'urdu']\n",
    "]\n",
    "\n",
    "s = \"\"\"\n",
    "         Name     =   {}\n",
    "         Country  =   {}\n",
    "         Language =   {}\n",
    "         \n",
    "\"\"\""
   ]
  },
  {
   "cell_type": "code",
   "execution_count": 26,
   "metadata": {},
   "outputs": [],
   "source": [
    "s = \"\"\"\n",
    "         Name     =   {}\n",
    "         Country  =   {}\n",
    "         Language =   {}\n",
    "         \n",
    "\"\"\""
   ]
  },
  {
   "cell_type": "code",
   "execution_count": 24,
   "metadata": {},
   "outputs": [
    {
     "name": "stdout",
     "output_type": "stream",
     "text": [
      "\n",
      "         Name     =   {}\n",
      "         Country  =   {}\n",
      "         Language =   {}\n",
      "         \n",
      "    \n"
     ]
    }
   ],
   "source": [
    "print(s)"
   ]
  },
  {
   "cell_type": "code",
   "execution_count": 25,
   "metadata": {},
   "outputs": [
    {
     "name": "stdout",
     "output_type": "stream",
     "text": [
      "\n",
      "         Name     =   Sachin\n",
      "         Country  =   India\n",
      "         Language =   Hindi\n",
      "         \n",
      "    \n"
     ]
    }
   ],
   "source": [
    "print(s.format('Sachin', 'India', 'Hindi'))"
   ]
  },
  {
   "cell_type": "code",
   "execution_count": 29,
   "metadata": {},
   "outputs": [
    {
     "name": "stdout",
     "output_type": "stream",
     "text": [
      "________________________________________________________________________________\n",
      "\n",
      "\n",
      "         Name     =   gaurav\n",
      "         Country  =   india\n",
      "         Language =   hindi\n",
      "         \n",
      "\n",
      "\n",
      "________________________________________________________________________________\n",
      "\n",
      "\n",
      "         Name     =   deepratan\n",
      "         Country  =   us\n",
      "         Language =   english\n",
      "         \n",
      "\n",
      "\n",
      "________________________________________________________________________________\n",
      "\n",
      "\n",
      "         Name     =   arshika\n",
      "         Country  =   pakisthan\n",
      "         Language =   urdu\n",
      "         \n",
      "\n",
      "\n",
      "________________________________________________________________________________\n"
     ]
    }
   ],
   "source": [
    "data = [\n",
    "    [ 'gaurav', 'india', 'hindi'],\n",
    "    [ 'deepratan', 'us', 'english'],\n",
    "    [ 'arshika', 'pakisthan', 'urdu']\n",
    "]\n",
    "\n",
    "temp = \"\"\"\n",
    "         Name     =   {}\n",
    "         Country  =   {}\n",
    "         Language =   {}\n",
    "         \n",
    "\"\"\"\n",
    "\n",
    "for name, country, language in data:\n",
    "    print(\"__\"*40)\n",
    "    print()\n",
    "    print(temp.format(name, country, language))\n",
    "    print()\n",
    "else:\n",
    "    print(\"__\"*40)"
   ]
  },
  {
   "cell_type": "code",
   "execution_count": 30,
   "metadata": {},
   "outputs": [],
   "source": [
    "sales = [ \n",
    "    ('apple', 80000),\n",
    "    ('samsung', 60000),\n",
    "    ('oneplus', 50000)\n",
    "]"
   ]
  },
  {
   "cell_type": "code",
   "execution_count": 37,
   "metadata": {},
   "outputs": [
    {
     "name": "stdout",
     "output_type": "stream",
     "text": [
      "________________________________________\n",
      "|       apple         | 80000\t\t|\n",
      "________________________________________\n",
      "|      samsung        | 60000\t\t|\n",
      "________________________________________\n",
      "|      oneplus        | 50000\t\t|\n",
      "________________________________________\n"
     ]
    }
   ],
   "source": [
    "for name, price in sales:\n",
    "    print(\"__\"*20)\n",
    "    print(f\"|{name.center(20)} | {price}\\t\\t|\")\n",
    "else:\n",
    "    print(\"__\"*20)"
   ]
  },
  {
   "cell_type": "code",
   "execution_count": 38,
   "metadata": {},
   "outputs": [
    {
     "name": "stdout",
     "output_type": "stream",
     "text": [
      "________________________________________\n",
      "|       apple         | 80000\t\t|\n",
      "________________________________________\n",
      "|      samsung        | 60000\t\t|\n",
      "________________________________________\n",
      "|      oneplus        | 50000\t\t|\n"
     ]
    },
    {
     "ename": "ValueError",
     "evalue": "too many values to unpack (expected 2)",
     "output_type": "error",
     "traceback": [
      "\u001b[1;31m---------------------------------------------------------------------------\u001b[0m",
      "\u001b[1;31mValueError\u001b[0m                                Traceback (most recent call last)",
      "\u001b[1;32m<ipython-input-38-b89d6c677bba>\u001b[0m in \u001b[0;36m<module>\u001b[1;34m\u001b[0m\n\u001b[0;32m      5\u001b[0m     \u001b[1;33m(\u001b[0m\u001b[1;34m'micromax'\u001b[0m\u001b[1;33m,\u001b[0m \u001b[1;36m10000\u001b[0m\u001b[1;33m,\u001b[0m \u001b[1;36m20000\u001b[0m\u001b[1;33m)\u001b[0m\u001b[1;33m\u001b[0m\u001b[1;33m\u001b[0m\u001b[0m\n\u001b[0;32m      6\u001b[0m ]\n\u001b[1;32m----> 7\u001b[1;33m \u001b[1;32mfor\u001b[0m \u001b[0mname\u001b[0m\u001b[1;33m,\u001b[0m \u001b[0mprice\u001b[0m \u001b[1;32min\u001b[0m \u001b[0msales\u001b[0m\u001b[1;33m:\u001b[0m\u001b[1;33m\u001b[0m\u001b[1;33m\u001b[0m\u001b[0m\n\u001b[0m\u001b[0;32m      8\u001b[0m     \u001b[0mprint\u001b[0m\u001b[1;33m(\u001b[0m\u001b[1;34m\"__\"\u001b[0m\u001b[1;33m*\u001b[0m\u001b[1;36m20\u001b[0m\u001b[1;33m)\u001b[0m\u001b[1;33m\u001b[0m\u001b[1;33m\u001b[0m\u001b[0m\n\u001b[0;32m      9\u001b[0m     \u001b[0mprint\u001b[0m\u001b[1;33m(\u001b[0m\u001b[1;34mf\"|{name.center(20)} | {price}\\t\\t|\"\u001b[0m\u001b[1;33m)\u001b[0m\u001b[1;33m\u001b[0m\u001b[1;33m\u001b[0m\u001b[0m\n",
      "\u001b[1;31mValueError\u001b[0m: too many values to unpack (expected 2)"
     ]
    }
   ],
   "source": [
    "sales = [ \n",
    "    ('apple', 80000),\n",
    "    ('samsung', 60000),\n",
    "    ('oneplus', 50000),\n",
    "    ('micromax', 10000, 20000)\n",
    "]\n",
    "for name, price in sales:\n",
    "    print(\"__\"*20)\n",
    "    print(f\"|{name.center(20)} | {price}\\t\\t|\")\n",
    "else:\n",
    "    print(\"__\"*20)"
   ]
  },
  {
   "cell_type": "code",
   "execution_count": 41,
   "metadata": {},
   "outputs": [
    {
     "name": "stdout",
     "output_type": "stream",
     "text": [
      "________________________________________\n",
      "|       apple         | 80000\t\t|\n",
      "________________________________________\n",
      "|      samsung        | 60000\t\t|\n",
      "________________________________________\n",
      "|      oneplus        | 50000\t\t|\n",
      "________________________________________\n",
      "|      micromax       | 10000\t\t|\n",
      "________________________________________\n"
     ]
    },
    {
     "ename": "IndexError",
     "evalue": "tuple index out of range",
     "output_type": "error",
     "traceback": [
      "\u001b[1;31m---------------------------------------------------------------------------\u001b[0m",
      "\u001b[1;31mIndexError\u001b[0m                                Traceback (most recent call last)",
      "\u001b[1;32m<ipython-input-41-5c5a75f48b9a>\u001b[0m in \u001b[0;36m<module>\u001b[1;34m\u001b[0m\n\u001b[0;32m      8\u001b[0m \u001b[1;32mfor\u001b[0m \u001b[0mitem\u001b[0m \u001b[1;32min\u001b[0m \u001b[0msales\u001b[0m\u001b[1;33m:\u001b[0m\u001b[1;33m\u001b[0m\u001b[1;33m\u001b[0m\u001b[0m\n\u001b[0;32m      9\u001b[0m     \u001b[0mprint\u001b[0m\u001b[1;33m(\u001b[0m\u001b[1;34m\"__\"\u001b[0m\u001b[1;33m*\u001b[0m\u001b[1;36m20\u001b[0m\u001b[1;33m)\u001b[0m\u001b[1;33m\u001b[0m\u001b[1;33m\u001b[0m\u001b[0m\n\u001b[1;32m---> 10\u001b[1;33m     \u001b[0mprint\u001b[0m\u001b[1;33m(\u001b[0m\u001b[1;34mf\"|{item[0].center(20)} | {item[1]}\\t\\t|\"\u001b[0m\u001b[1;33m)\u001b[0m\u001b[1;33m\u001b[0m\u001b[1;33m\u001b[0m\u001b[0m\n\u001b[0m\u001b[0;32m     11\u001b[0m \u001b[1;32melse\u001b[0m\u001b[1;33m:\u001b[0m\u001b[1;33m\u001b[0m\u001b[1;33m\u001b[0m\u001b[0m\n\u001b[0;32m     12\u001b[0m     \u001b[0mprint\u001b[0m\u001b[1;33m(\u001b[0m\u001b[1;34m\"__\"\u001b[0m\u001b[1;33m*\u001b[0m\u001b[1;36m20\u001b[0m\u001b[1;33m)\u001b[0m\u001b[1;33m\u001b[0m\u001b[1;33m\u001b[0m\u001b[0m\n",
      "\u001b[1;31mIndexError\u001b[0m: tuple index out of range"
     ]
    }
   ],
   "source": [
    "sales = [ \n",
    "    ('apple', 80000),\n",
    "    ('samsung', 60000),\n",
    "    ('oneplus', 50000),\n",
    "    ('micromax', 10000, 20000),\n",
    "    ('gaurav', )\n",
    "]\n",
    "for item in sales:\n",
    "    print(\"__\"*20)\n",
    "    print(f\"|{item[0].center(20)} | {item[1]}\\t\\t|\")\n",
    "else:\n",
    "    print(\"__\"*20)"
   ]
  },
  {
   "cell_type": "code",
   "execution_count": 42,
   "metadata": {},
   "outputs": [],
   "source": [
    "data = [\n",
    "    {'name': 'sachin', 'country': 'india', 'language': 'hindi'},\n",
    "    {'name': 'gaurav', 'country': 'afganisthan', 'language': 'arbi'},\n",
    "    {'name': 'deepratan', 'country': 'shri lanka', 'language': 'tamil'}\n",
    "]"
   ]
  },
  {
   "cell_type": "code",
   "execution_count": 43,
   "metadata": {},
   "outputs": [
    {
     "name": "stdout",
     "output_type": "stream",
     "text": [
      "<class 'dict'>\n",
      "<class 'dict'>\n",
      "<class 'dict'>\n"
     ]
    }
   ],
   "source": [
    "for item in data:\n",
    "    print(type(item))"
   ]
  },
  {
   "cell_type": "code",
   "execution_count": 44,
   "metadata": {},
   "outputs": [
    {
     "name": "stdout",
     "output_type": "stream",
     "text": [
      "<class 'int'> 1\n",
      "<class 'float'> 6.14\n",
      "<class 'str'> hello\n",
      "<class 'list'> [1, 2, 3]\n",
      "<class 'tuple'> ('hi', 'bye')\n",
      "<class 'dict'> {'one': 'two', 'three': 'four'}\n"
     ]
    }
   ],
   "source": [
    "l = [ 1, 6.14, 'hello', [1, 2,3 ], ('hi', 'bye'), {'one': 'two', 'three': 'four'}]\n",
    "\n",
    "for item in l:\n",
    "    print(type(item), item)"
   ]
  },
  {
   "cell_type": "code",
   "execution_count": 45,
   "metadata": {},
   "outputs": [
    {
     "name": "stdout",
     "output_type": "stream",
     "text": [
      "________________________________________________________________________________\n",
      "                name = sachin\n",
      "             country = india\n",
      "            language = hindi\n",
      "________________________________________________________________________________\n",
      "________________________________________________________________________________\n",
      "                name = gaurav\n",
      "             country = afganisthan\n",
      "            language = arbi\n",
      "________________________________________________________________________________\n",
      "________________________________________________________________________________\n",
      "                name = deepratan\n",
      "             country = shri lanka\n",
      "            language = tamil\n",
      "________________________________________________________________________________\n"
     ]
    }
   ],
   "source": [
    "data = [\n",
    "    {'name': 'sachin', 'country': 'india', 'language': 'hindi'},\n",
    "    {'name': 'gaurav', 'country': 'afganisthan', 'language': 'arbi'},\n",
    "    {'name': 'deepratan', 'country': 'shri lanka', 'language': 'tamil'}\n",
    "]\n",
    "\n",
    "for info in data:\n",
    "    print(\"__\"*40)\n",
    "    for key, value in info.items():\n",
    "        print(f\"{key.rjust(20)} = {value}\")\n",
    "    print(\"__\"*40)"
   ]
  },
  {
   "cell_type": "code",
   "execution_count": 47,
   "metadata": {},
   "outputs": [
    {
     "name": "stdout",
     "output_type": "stream",
     "text": [
      "Enter name: gaurav\n",
      "________________________________________________________________________________\n",
      "                name = gaurav\n",
      "             country = afganisthan\n",
      "            language = arbi\n",
      "________________________________________________________________________________\n"
     ]
    }
   ],
   "source": [
    "data = [\n",
    "    {'name': 'sachin', 'country': 'india', 'language': 'hindi'},\n",
    "    {'name': 'gaurav', 'country': 'afganisthan', 'language': 'arbi'},\n",
    "    {'name': 'deepratan', 'country': 'shri lanka', 'language': 'tamil'}\n",
    "]\n",
    "\n",
    "search = input(\"Enter name: \").strip().lower()\n",
    "\n",
    "for info in data:\n",
    "    \n",
    "    if info['name'] == search:\n",
    "        print(\"__\"*40)\n",
    "        for key, value in info.items():\n",
    "            print(f\"{key.rjust(20)} = {value}\")\n",
    "        print(\"__\"*40)\n",
    "        break\n",
    "else:\n",
    "    print(\"Not Found\")"
   ]
  },
  {
   "cell_type": "code",
   "execution_count": 52,
   "metadata": {},
   "outputs": [],
   "source": [
    "s = { 1, 23, 12,2, 3,2, 3,2, 32,323, 23, 23, 23, 23}"
   ]
  },
  {
   "cell_type": "code",
   "execution_count": 53,
   "metadata": {},
   "outputs": [
    {
     "name": "stdout",
     "output_type": "stream",
     "text": [
      "{32, 1, 2, 3, 323, 12, 23}\n"
     ]
    }
   ],
   "source": [
    "print(s)"
   ]
  },
  {
   "cell_type": "code",
   "execution_count": 54,
   "metadata": {},
   "outputs": [
    {
     "name": "stdout",
     "output_type": "stream",
     "text": [
      "32\n",
      "1\n",
      "2\n",
      "3\n",
      "323\n",
      "12\n",
      "23\n"
     ]
    }
   ],
   "source": [
    "for item in s:\n",
    "    print(item)"
   ]
  },
  {
   "cell_type": "code",
   "execution_count": 55,
   "metadata": {},
   "outputs": [
    {
     "name": "stdout",
     "output_type": "stream",
     "text": [
      "name: sachin\n",
      "Not Found!\n"
     ]
    }
   ],
   "source": [
    "data = [ 'gaurav', 'deepratan', 'arhsika', 'naman', 'ankur']\n",
    "\n",
    "key = input('name: ').strip().lower()\n",
    "for name in data:\n",
    "    if name == key:\n",
    "        print(\"Found!\")\n",
    "        break\n",
    "else:\n",
    "    print(\"Not Found!\")"
   ]
  },
  {
   "cell_type": "code",
   "execution_count": 57,
   "metadata": {},
   "outputs": [
    {
     "name": "stdout",
     "output_type": "stream",
     "text": [
      "range(0, 5)\n"
     ]
    }
   ],
   "source": [
    "r = range(5)\n",
    "print(r)"
   ]
  },
  {
   "cell_type": "code",
   "execution_count": 58,
   "metadata": {},
   "outputs": [
    {
     "name": "stdout",
     "output_type": "stream",
     "text": [
      "0 1 2 3 4\n"
     ]
    }
   ],
   "source": [
    "print(*r)"
   ]
  },
  {
   "cell_type": "code",
   "execution_count": 59,
   "metadata": {},
   "outputs": [
    {
     "name": "stdout",
     "output_type": "stream",
     "text": [
      "[0, 1, 2, 3, 4]\n"
     ]
    }
   ],
   "source": [
    "print(list(r))"
   ]
  },
  {
   "cell_type": "code",
   "execution_count": 60,
   "metadata": {},
   "outputs": [
    {
     "name": "stdout",
     "output_type": "stream",
     "text": [
      "0\n",
      "1\n",
      "2\n",
      "3\n",
      "4\n",
      "5\n",
      "6\n",
      "7\n",
      "8\n",
      "9\n",
      "10\n"
     ]
    }
   ],
   "source": [
    "print(*range(11), sep='\\n')"
   ]
  },
  {
   "cell_type": "code",
   "execution_count": 61,
   "metadata": {},
   "outputs": [
    {
     "name": "stdout",
     "output_type": "stream",
     "text": [
      "[1, 2, 3, 4, 5, 6, 7, 8, 9, 10]\n"
     ]
    }
   ],
   "source": [
    "print(list(range(1, 11)))"
   ]
  },
  {
   "cell_type": "code",
   "execution_count": 62,
   "metadata": {},
   "outputs": [
    {
     "name": "stdout",
     "output_type": "stream",
     "text": [
      "[21, 22, 23, 24, 25, 26, 27, 28, 29]\n"
     ]
    }
   ],
   "source": [
    "print(list(range(21, 30)))"
   ]
  },
  {
   "cell_type": "code",
   "execution_count": 63,
   "metadata": {},
   "outputs": [
    {
     "name": "stdout",
     "output_type": "stream",
     "text": [
      "range(1, 11, 3)\n"
     ]
    }
   ],
   "source": [
    "print(range(1, 11, 3))"
   ]
  },
  {
   "cell_type": "code",
   "execution_count": 64,
   "metadata": {},
   "outputs": [
    {
     "name": "stdout",
     "output_type": "stream",
     "text": [
      "[1, 4, 7, 10]\n"
     ]
    }
   ],
   "source": [
    "print(list(range(1, 11, 3)))"
   ]
  },
  {
   "cell_type": "code",
   "execution_count": 67,
   "metadata": {},
   "outputs": [
    {
     "name": "stdout",
     "output_type": "stream",
     "text": [
      "number: 13\n",
      "13\n",
      "26\n",
      "39\n",
      "52\n",
      "65\n",
      "78\n",
      "91\n",
      "104\n",
      "117\n",
      "130\n"
     ]
    }
   ],
   "source": [
    "num = int(input(\"number: \"))\n",
    "\n",
    "print(*range(num, num*10+1, num), sep='\\n')"
   ]
  },
  {
   "cell_type": "code",
   "execution_count": 68,
   "metadata": {},
   "outputs": [
    {
     "name": "stdout",
     "output_type": "stream",
     "text": [
      "10 9 8 7 6 5 4 3 2 1\n"
     ]
    }
   ],
   "source": [
    "print(*range(10, 0, -1))"
   ]
  },
  {
   "cell_type": "code",
   "execution_count": 69,
   "metadata": {},
   "outputs": [
    {
     "name": "stdout",
     "output_type": "stream",
     "text": [
      "100 99 98 97 96 95 94 93 92 91 90 89 88 87 86 85 84 83 82 81 80 79 78 77 76 75 74 73 72 71 70 69 68 67 66 65 64 63 62 61 60 59 58 57 56 55 54 53 52 51 50 49 48 47 46 45 44 43 42 41 40 39 38 37 36 35 34 33 32 31 30 29 28 27 26 25 24 23 22 21 20 19 18 17 16 15 14 13 12 11 10 9 8 7 6 5 4 3 2 1\n"
     ]
    }
   ],
   "source": [
    "print(*range(100, 0, -1))"
   ]
  },
  {
   "cell_type": "code",
   "execution_count": 70,
   "metadata": {},
   "outputs": [
    {
     "name": "stdout",
     "output_type": "stream",
     "text": [
      "1\n",
      "3\n",
      "5\n",
      "7\n",
      "9\n"
     ]
    }
   ],
   "source": [
    "for i in range(1, 11, 2):\n",
    "    print(i)"
   ]
  },
  {
   "cell_type": "code",
   "execution_count": 71,
   "metadata": {},
   "outputs": [
    {
     "data": {
      "text/plain": [
       "'HelloHello'"
      ]
     },
     "execution_count": 71,
     "metadata": {},
     "output_type": "execute_result"
    }
   ],
   "source": [
    "\"Hello\" * 2"
   ]
  },
  {
   "cell_type": "code",
   "execution_count": 72,
   "metadata": {},
   "outputs": [
    {
     "name": "stdout",
     "output_type": "stream",
     "text": [
      "*\n",
      "**\n",
      "***\n",
      "****\n",
      "*****\n",
      "******\n",
      "*******\n",
      "********\n",
      "*********\n",
      "**********\n"
     ]
    }
   ],
   "source": [
    "for row in range(1, 11):\n",
    "    print(\"*\"*row)"
   ]
  },
  {
   "cell_type": "code",
   "execution_count": 73,
   "metadata": {},
   "outputs": [
    {
     "name": "stdout",
     "output_type": "stream",
     "text": [
      "1\n",
      "2\n",
      "3\n",
      "4\n"
     ]
    }
   ],
   "source": [
    "for i in range(1, 100):\n",
    "    if i % 5 == 0:\n",
    "        break\n",
    "    print(i)\n",
    "else:\n",
    "    print(\"how is the josh!\")"
   ]
  },
  {
   "cell_type": "code",
   "execution_count": 75,
   "metadata": {},
   "outputs": [
    {
     "name": "stdout",
     "output_type": "stream",
     "text": [
      "1\n",
      "2\n",
      "4\n",
      "5\n",
      "7\n",
      "8\n"
     ]
    }
   ],
   "source": [
    "for i in range(1, 100):\n",
    "    if i % 3 == 0:\n",
    "        continue\n",
    "    if i % 10 == 0:\n",
    "        break\n",
    "    print(i)\n",
    "else:\n",
    "    print(\"how is the josh!\")"
   ]
  },
  {
   "cell_type": "code",
   "execution_count": null,
   "metadata": {},
   "outputs": [],
   "source": []
  }
 ],
 "metadata": {
  "kernelspec": {
   "display_name": "Python 3",
   "language": "python",
   "name": "python3"
  },
  "language_info": {
   "codemirror_mode": {
    "name": "ipython",
    "version": 3
   },
   "file_extension": ".py",
   "mimetype": "text/x-python",
   "name": "python",
   "nbconvert_exporter": "python",
   "pygments_lexer": "ipython3",
   "version": "3.8.3"
  }
 },
 "nbformat": 4,
 "nbformat_minor": 4
}
