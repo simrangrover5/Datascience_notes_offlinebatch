{
 "cells": [
  {
   "cell_type": "markdown",
   "metadata": {},
   "source": [
    "### Conditional Statements"
   ]
  },
  {
   "cell_type": "code",
   "execution_count": 1,
   "metadata": {},
   "outputs": [
    {
     "name": "stdout",
     "output_type": "stream",
     "text": [
      "a: 6\n",
      "b: 59\n",
      "c: 9\n"
     ]
    }
   ],
   "source": [
    "a = int(input(\"a: \"))\n",
    "b = int(input(\"b: \"))\n",
    "c = int(input(\"c: \"))"
   ]
  },
  {
   "cell_type": "code",
   "execution_count": 3,
   "metadata": {},
   "outputs": [
    {
     "name": "stdout",
     "output_type": "stream",
     "text": [
      "nums: 10 40 60\n",
      "<class 'str'> '10 40 60'\n"
     ]
    }
   ],
   "source": [
    "nums = input(\"nums: \") # space seprated input\n",
    "print(type(nums), repr(nums))"
   ]
  },
  {
   "cell_type": "code",
   "execution_count": 4,
   "metadata": {},
   "outputs": [
    {
     "name": "stdout",
     "output_type": "stream",
     "text": [
      "nums: 10 40 60 30 40 70 80 90\n",
      "[10, 40, 60, 30, 40, 70, 80, 90] <class 'list'>\n"
     ]
    }
   ],
   "source": [
    "nums = list( map( int, input(\"nums: \").split() ))\n",
    "print(nums, type(nums))"
   ]
  },
  {
   "cell_type": "code",
   "execution_count": 5,
   "metadata": {},
   "outputs": [
    {
     "name": "stdout",
     "output_type": "stream",
     "text": [
      "nums: 10 40 60 50\n",
      "[10, 40, 60, 50] <class 'list'>\n"
     ]
    }
   ],
   "source": [
    "nums = list( map( int, input(\"nums: \").split() ))\n",
    "# nums = list( map( int, \"10 40 60 50\".split() ))\n",
    "# nums = list( map( int, [ \"10\", \"40\", \"60\", \"50\"] ))\n",
    "# nums = [ 10, 40, 60, 50] # \n",
    "print(nums, type(nums))"
   ]
  },
  {
   "cell_type": "code",
   "execution_count": 7,
   "metadata": {},
   "outputs": [
    {
     "name": "stdout",
     "output_type": "stream",
     "text": [
      "\n",
      "Hello my name is sachin and I am 25 years old.\n",
      "I live in India\n",
      "\n"
     ]
    }
   ],
   "source": [
    "name = 'sachin'\n",
    "age = 25\n",
    "country = 'India'\n",
    "\n",
    "s = f\"\"\"\n",
    "Hello my name is {name} and I am {age} years old.\n",
    "I live in {country}\n",
    "\"\"\"\n",
    "print(s)"
   ]
  },
  {
   "cell_type": "code",
   "execution_count": 8,
   "metadata": {},
   "outputs": [
    {
     "name": "stdout",
     "output_type": "stream",
     "text": [
      "10 50 30\n",
      "a = 10\n",
      "b = 50\n",
      "c = 30\n",
      "50 is biggest number\n"
     ]
    }
   ],
   "source": [
    "a, b, c = list(map( int, input().split() ))\n",
    "\n",
    "print(f\"a = {a}\")\n",
    "print(f\"b = {b}\")\n",
    "print(f\"c = {c}\")\n",
    "\n",
    "\n",
    "if a > b:\n",
    "    if a > c:\n",
    "        print(f\"{a} is biggest number\")\n",
    "    else:\n",
    "        print(f\"{c} is biggest number\")\n",
    "else:\n",
    "    if b > c:\n",
    "        print(f\"{b} is biggest number\")\n",
    "    else:\n",
    "        print(f\"{c} is biggest number\")"
   ]
  },
  {
   "cell_type": "code",
   "execution_count": 9,
   "metadata": {},
   "outputs": [
    {
     "name": "stdout",
     "output_type": "stream",
     "text": [
      "10 30 40\n",
      "40 is biggest\n"
     ]
    }
   ],
   "source": [
    "a, b, c = list(map(int, input().split()))\n",
    "if a > b and a > c:\n",
    "    print(f\"{a} is biggest\")\n",
    "elif b > c:\n",
    "    print(f\"{b} is biggest\")\n",
    "else:\n",
    "    print(f\"{c} is biggest\")"
   ]
  },
  {
   "cell_type": "markdown",
   "metadata": {},
   "source": [
    "#### greatest among 4 numbers"
   ]
  },
  {
   "cell_type": "code",
   "execution_count": 10,
   "metadata": {},
   "outputs": [
    {
     "name": "stdout",
     "output_type": "stream",
     "text": [
      "10 12 14 5\n",
      "14 is greatest\n"
     ]
    }
   ],
   "source": [
    "a, b, c, d = list( map( int, input().split() ))\n",
    "\n",
    "if a > b and a > c and a > d:\n",
    "    print(f\"{a} is greatest\")\n",
    "elif b > c and b > d:\n",
    "    print(f\"{b} is greatest\")\n",
    "elif c > d:\n",
    "    print(f\"{c} is greatest\")\n",
    "else:\n",
    "    print(f\"{d} is greatest\")"
   ]
  },
  {
   "cell_type": "markdown",
   "metadata": {},
   "source": [
    "#### take a week number input and print week name \n",
    "\n",
    "        0, 7 -> sunday\n",
    "        \n",
    "        1 -> monday\n",
    "        \n",
    "        2 -> tuesday\n",
    "        \n",
    "        3 -> wednesday\n",
    "        \n",
    "        4 -> thursday\n",
    "        \n",
    "        5 -> friday\n",
    "        \n",
    "        6 -> saturday"
   ]
  },
  {
   "cell_type": "code",
   "execution_count": 13,
   "metadata": {},
   "outputs": [
    {
     "name": "stdout",
     "output_type": "stream",
     "text": [
      "Enter day number: 3\n",
      "Wednesday\n"
     ]
    }
   ],
   "source": [
    "day_num = int(input(\"Enter day number: \"))\n",
    "\n",
    "if day_num == 0 or day_num == 1:\n",
    "    print(\"Sunday\")\n",
    "elif day_num == 1:\n",
    "    print(\"Monday\")\n",
    "elif day_num == 2:\n",
    "    print(\"Tuesday\")\n",
    "elif day_num == 3:\n",
    "    print(\"Wednesday\")\n",
    "elif day_num == 4:\n",
    "    print(\"Thursday\")\n",
    "elif day_num == 5:\n",
    "    print(\"Friday\")\n",
    "elif day_num == 6:\n",
    "    print(\"Saturday\")\n",
    "else:\n",
    "    print(\"Invalid Input for day number allowed values are 0-7\")\n",
    "    \n"
   ]
  },
  {
   "cell_type": "code",
   "execution_count": 16,
   "metadata": {},
   "outputs": [
    {
     "name": "stdout",
     "output_type": "stream",
     "text": [
      "Enter day number: 7\n",
      "Sunday\n"
     ]
    }
   ],
   "source": [
    "week_day = [ \"Sunday\", \"Monday\", \"Tuesday\", \"Wednesday\", \"Thursday\", \"Friday\", \"Saturday\", \"Sunday\"]\n",
    "\n",
    "day = int(input(\"Enter day number: \"))\n",
    "\n",
    "if day < 0 or day > 7:\n",
    "    print(\"Invalid Day number\")\n",
    "else:\n",
    "    print(week_day[day])\n"
   ]
  },
  {
   "cell_type": "code",
   "execution_count": 20,
   "metadata": {},
   "outputs": [
    {
     "name": "stdout",
     "output_type": "stream",
     "text": [
      "Day number: 100\n",
      "Invlid Day number\n"
     ]
    }
   ],
   "source": [
    "week_day = { 0: \"Sunday\", 1: \"Monday\", 2: \"Tuesday\", 3: \"Wednesday\", 4: \"Thursday\", \n",
    "           5: \"Friday\", 6: \"Saturday\", 7: \"Sunday\"}\n",
    "\n",
    "day = int(input(\"Day number: \"))\n",
    "\n",
    "if day >= 0 and day <= 7:\n",
    "    print(week_day[day])\n",
    "else:\n",
    "    print(\"Invlid Day number\")\n",
    "    "
   ]
  },
  {
   "cell_type": "code",
   "execution_count": 23,
   "metadata": {},
   "outputs": [
    {
     "name": "stdout",
     "output_type": "stream",
     "text": [
      "Day number: 100\n",
      "Invalid Day Number\n"
     ]
    }
   ],
   "source": [
    "week_day = { 0: \"Sunday\", 1: \"Monday\", 2: \"Tuesday\", 3: \"Wednesday\", 4: \"Thursday\", \n",
    "           5: \"Friday\", 6: \"Saturday\", 7: \"Sunday\"}\n",
    "day = int(input(\"Day number: \"))\n",
    "day_name = week_day.get(day, \"Invalid Day Number\")\n",
    "print(day_name)"
   ]
  },
  {
   "cell_type": "code",
   "execution_count": 24,
   "metadata": {},
   "outputs": [],
   "source": [
    "from getpass import getpass"
   ]
  },
  {
   "cell_type": "code",
   "execution_count": 25,
   "metadata": {},
   "outputs": [
    {
     "name": "stdout",
     "output_type": "stream",
     "text": [
      "Player-1: ········\n",
      "Player-2: ········\n",
      "rock\n",
      "scissor\n"
     ]
    }
   ],
   "source": [
    "ch1 = getpass(\"Player-1: \")\n",
    "ch2 = getpass(\"Player-2: \")\n",
    "\n",
    "print(ch1)\n",
    "\n",
    "print(ch2)"
   ]
  },
  {
   "cell_type": "code",
   "execution_count": null,
   "metadata": {},
   "outputs": [],
   "source": []
  }
 ],
 "metadata": {
  "kernelspec": {
   "display_name": "Python 3",
   "language": "python",
   "name": "python3"
  },
  "language_info": {
   "codemirror_mode": {
    "name": "ipython",
    "version": 3
   },
   "file_extension": ".py",
   "mimetype": "text/x-python",
   "name": "python",
   "nbconvert_exporter": "python",
   "pygments_lexer": "ipython3",
   "version": "3.8.3"
  }
 },
 "nbformat": 4,
 "nbformat_minor": 4
}
