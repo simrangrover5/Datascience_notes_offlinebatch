{
 "cells": [
  {
   "cell_type": "markdown",
   "metadata": {},
   "source": [
    "### Data Type"
   ]
  },
  {
   "cell_type": "code",
   "execution_count": 1,
   "metadata": {},
   "outputs": [
    {
     "name": "stdout",
     "output_type": "stream",
     "text": [
      "Enter your name : Naman\n",
      "Birth Year: 2003\n",
      "Hello, Naman. You are 18 years old.\n",
      "Hello, Naman you are 18 years old.\n"
     ]
    }
   ],
   "source": [
    "name = input(\"Enter your name : \")\n",
    "birth_year = int( input(\"Birth Year: \") )\n",
    "\n",
    "age = 2021 - birth_year\n",
    "\n",
    "msg = \"Hello, \" + name + \". You are \" + str(age) + \" years old.\"\n",
    "\n",
    "print(msg)\n",
    "\n",
    "print(\"Hello,\", name, \"you are\", age, \"years old.\")"
   ]
  },
  {
   "cell_type": "markdown",
   "metadata": {},
   "source": [
    "`We store data into variables / identifiers`"
   ]
  },
  {
   "cell_type": "code",
   "execution_count": 2,
   "metadata": {},
   "outputs": [],
   "source": [
    "import builtins\n",
    "from keyword import kwlist"
   ]
  },
  {
   "cell_type": "code",
   "execution_count": 7,
   "metadata": {},
   "outputs": [
    {
     "name": "stdout",
     "output_type": "stream",
     "text": [
      "Built-in Function\n",
      "abs, all, any, ascii, bin, bool, breakpoint, bytearray, bytes, callable, chr, classmethod, compile, complex, copyright, credits, delattr, dict, dir, display, divmod, enumerate, eval, exec, filter, float, format, frozenset, get_ipython, getattr, globals, hasattr, hash, help, hex, id, input, int, isinstance, issubclass, iter, len, license, list, locals, map, max, memoryview, min, next, object, oct, open, ord, pow, print, property, range, repr, reversed, round, set, setattr, slice, sorted, staticmethod, str, sum, super, tuple, type, vars, zip\n"
     ]
    }
   ],
   "source": [
    "print(\"Built-in Function\")\n",
    "print(*[f for f in dir(builtins) if f[0].islower()], sep=', ')"
   ]
  },
  {
   "cell_type": "code",
   "execution_count": null,
   "metadata": {},
   "outputs": [],
   "source": [
    "abs   any    tuple    sum  # builtin functions"
   ]
  },
  {
   "cell_type": "code",
   "execution_count": 9,
   "metadata": {},
   "outputs": [
    {
     "name": "stdout",
     "output_type": "stream",
     "text": [
      "False, None, True, and, as, assert, async, await, break, class, continue, def, del, elif, else, except, finally, for, from, global, if, import, in, is, lambda, nonlocal, not, or, pass, raise, return, try, while, with, yield\n"
     ]
    }
   ],
   "source": [
    "print(*kwlist, sep=', ')"
   ]
  },
  {
   "cell_type": "code",
   "execution_count": null,
   "metadata": {},
   "outputs": [],
   "source": [
    "False  as   and    lambda    not   if  while   or else # built-in keywords"
   ]
  },
  {
   "cell_type": "markdown",
   "metadata": {},
   "source": [
    "##### Rules of Identifiers \n",
    "\n",
    "\n",
    "    1. identifier name should not be same as built-in function name or keywords\n",
    "    2. it should start with a alphabate (a-z, A-Z, _)\n",
    "    3. spaces and special characters are not allowed\n",
    "    "
   ]
  },
  {
   "cell_type": "code",
   "execution_count": 11,
   "metadata": {},
   "outputs": [
    {
     "name": "stdout",
     "output_type": "stream",
     "text": [
      "Ram Ram Ram Ram Ram Ram Ram Ram Ram Ram Ram Ram Ram Ram Ram Ram Ram Ram Ram Ram Ram Ram Ram Ram Ram Ram Ram Ram Ram Ram Ram Ram Ram Ram Ram Ram Ram Ram Ram Ram Ram Ram Ram Ram Ram Ram Ram Ram Ram Ram Ram Ram Ram Ram Ram Ram Ram Ram Ram Ram Ram Ram Ram Ram Ram Ram Ram Ram Ram Ram Ram Ram Ram Ram Ram Ram Ram Ram Ram Ram Ram Ram Ram Ram Ram Ram Ram Ram Ram Ram Ram Ram Ram Ram Ram Ram Ram Ram Ram Ram Ram Ram Ram Ram Ram Ram Ram Ram \n"
     ]
    }
   ],
   "source": [
    "s = \"Ram \" * 108 # Replication / Repeatation\n",
    "print(s)"
   ]
  },
  {
   "cell_type": "code",
   "execution_count": 13,
   "metadata": {},
   "outputs": [
    {
     "name": "stdout",
     "output_type": "stream",
     "text": [
      "5\n",
      "<class 'int'>\n",
      "____________________________________________________________________________________________________\n",
      "5\n",
      "<class 'str'>\n",
      "____________________________________________________________________________________________________\n",
      "6.02\n",
      "<class 'float'>\n",
      "____________________________________________________________________________________________________\n",
      "['Gaurav', 'Deep Ratan', 'Naman', 'Ankur', 'Arshika']\n",
      "<class 'list'>\n"
     ]
    }
   ],
   "source": [
    "x = 5 # int type\n",
    "print(x, type(x), sep='\\n')\n",
    "\n",
    "print('_'*100)\n",
    "\n",
    "x = \"5\" # str type\n",
    "print(x, type(x), sep='\\n')\n",
    "\n",
    "print('_'*100)\n",
    "\n",
    "x =6.02 # float type\n",
    "print(x, type(x), sep='\\n')\n",
    "\n",
    "print('_'*100)\n",
    "\n",
    "x = [ \"Gaurav\", \"Deep Ratan\", \"Naman\", \"Ankur\", \"Arshika\"] # list type\n",
    "print(x, type(x), sep='\\n')"
   ]
  },
  {
   "cell_type": "markdown",
   "metadata": {},
   "source": [
    "#### Data Type\n",
    "\n",
    "    A way storing and manipulating data in computer memory using computer programs\n",
    "    \n",
    "    \n",
    "    Type of Data Types in General \n",
    "    \n",
    "        1. Primitive (Primary, Atomic)\n",
    "            \n",
    "            int, float, char\n",
    "        \n",
    "        2. Non primitive (Secondary, Complex)\n",
    "        \n",
    "            Linear         - Array, String, Link List, Stack, Queue\n",
    "            \n",
    "            Non Linear     - Tree, Graph, Hashmap"
   ]
  },
  {
   "cell_type": "markdown",
   "metadata": {},
   "source": [
    "### Built-in Data Types in Python\n",
    "\n",
    "    1. Numbers\n",
    "        \n",
    "        int, float, complex\n",
    "        \n",
    "    2. Strings\n",
    "    \n",
    "        single line string, multi line string\n",
    "        \n",
    "    3. List\n",
    "        \n",
    "        Homogenous List (Array), Hetrogenous List, Nested List\n",
    "        \n",
    "    4. Tuple\n",
    "    \n",
    "        Static List or Immutable List\n",
    "        \n",
    "    5. Dict\n",
    "        \n",
    "        Map Type Object, Collection of Key value pairs\n",
    "        \n",
    "    6. Set\n",
    "        \n",
    "        collection of unqiue elements\n",
    "        \n",
    "    7. FrozenSet\n",
    "        \n",
    "        Immutable Set\n",
    "        \n",
    "    8. Boolean\n",
    "    \n",
    "        yes - True, no - False\n",
    "        \n",
    "    9. None Type / null type\n",
    "    \n",
    "        represents nothing in memory - None"
   ]
  },
  {
   "cell_type": "markdown",
   "metadata": {},
   "source": [
    "### Examples"
   ]
  },
  {
   "cell_type": "code",
   "execution_count": 14,
   "metadata": {},
   "outputs": [
    {
     "name": "stdout",
     "output_type": "stream",
     "text": [
      "5 <class 'int'>\n"
     ]
    }
   ],
   "source": [
    "x = 5\n",
    "print(x, type(x))"
   ]
  },
  {
   "cell_type": "code",
   "execution_count": 16,
   "metadata": {},
   "outputs": [
    {
     "name": "stdout",
     "output_type": "stream",
     "text": [
      "5.6 <class 'float'>\n"
     ]
    }
   ],
   "source": [
    "x = 5.6\n",
    "print(x, type(x))"
   ]
  },
  {
   "cell_type": "code",
   "execution_count": 18,
   "metadata": {},
   "outputs": [
    {
     "name": "stdout",
     "output_type": "stream",
     "text": [
      "(50+6j) <class 'complex'>\n"
     ]
    }
   ],
   "source": [
    "x = 50 + 6j\n",
    "print(x, type(x))"
   ]
  },
  {
   "cell_type": "code",
   "execution_count": 19,
   "metadata": {},
   "outputs": [
    {
     "name": "stdout",
     "output_type": "stream",
     "text": [
      "Sachin Yadav <class 'str'>\n"
     ]
    }
   ],
   "source": [
    "x = \"Sachin Yadav\"\n",
    "print(x, type(s))"
   ]
  },
  {
   "cell_type": "code",
   "execution_count": 20,
   "metadata": {},
   "outputs": [],
   "source": [
    "para = \"\"\"6-aug, 2021\n",
    "\n",
    "    Hello This is an example of \n",
    "    \n",
    "    Multiline string.\n",
    "    \"\"\""
   ]
  },
  {
   "cell_type": "code",
   "execution_count": 21,
   "metadata": {},
   "outputs": [
    {
     "name": "stdout",
     "output_type": "stream",
     "text": [
      "6-aug, 2021\n",
      "\n",
      "    Hello This is an example of \n",
      "    \n",
      "    Multiline string.\n",
      "     <class 'str'>\n"
     ]
    }
   ],
   "source": [
    "print(para, type(para))"
   ]
  },
  {
   "cell_type": "code",
   "execution_count": 22,
   "metadata": {},
   "outputs": [],
   "source": [
    "names = [ 'ram', 'shyam', 'ghyanshyam', 'harimohan']"
   ]
  },
  {
   "cell_type": "code",
   "execution_count": 23,
   "metadata": {},
   "outputs": [
    {
     "name": "stdout",
     "output_type": "stream",
     "text": [
      "['ram', 'shyam', 'ghyanshyam', 'harimohan'] <class 'list'>\n"
     ]
    }
   ],
   "source": [
    "print(names, type(names))"
   ]
  },
  {
   "cell_type": "code",
   "execution_count": 24,
   "metadata": {},
   "outputs": [
    {
     "name": "stdout",
     "output_type": "stream",
     "text": [
      "('red', 'green', 'blue') <class 'tuple'>\n"
     ]
    }
   ],
   "source": [
    "color = ('red', 'green', 'blue')\n",
    "print(color, type(color))"
   ]
  },
  {
   "cell_type": "code",
   "execution_count": 25,
   "metadata": {},
   "outputs": [],
   "source": [
    "info = { \n",
    "    'name': 'sachin',\n",
    "    'age': 25,\n",
    "    'country': \"India\", \n",
    "    \"language\": 'Hindi',\n",
    "    \n",
    "    'skills': [ 'c', 'c++', 'java', 'python', 'ruby', 'perl', 'scala']\n",
    "}"
   ]
  },
  {
   "cell_type": "code",
   "execution_count": 26,
   "metadata": {},
   "outputs": [
    {
     "name": "stdout",
     "output_type": "stream",
     "text": [
      "{'name': 'sachin', 'age': 25, 'country': 'India', 'language': 'Hindi', 'skills': ['c', 'c++', 'java', 'python', 'ruby', 'perl', 'scala']} <class 'dict'>\n"
     ]
    }
   ],
   "source": [
    "print(info, type(info))"
   ]
  },
  {
   "cell_type": "code",
   "execution_count": 27,
   "metadata": {},
   "outputs": [
    {
     "data": {
      "text/plain": [
       "['c', 'c++', 'java', 'python', 'ruby', 'perl', 'scala']"
      ]
     },
     "execution_count": 27,
     "metadata": {},
     "output_type": "execute_result"
    }
   ],
   "source": [
    "info['skills']"
   ]
  },
  {
   "cell_type": "code",
   "execution_count": 28,
   "metadata": {},
   "outputs": [
    {
     "name": "stdout",
     "output_type": "stream",
     "text": [
      "{1, 2, 3, 6, 12, 21} <class 'set'>\n"
     ]
    }
   ],
   "source": [
    "s = { 1, 1, 1, 1,1 ,2,3 ,1, 12, 21, 6, 2, 1, 1, 1, 1}\n",
    "\n",
    "print(s, type(s))"
   ]
  },
  {
   "cell_type": "markdown",
   "metadata": {},
   "source": [
    "#### Everything is object in python"
   ]
  },
  {
   "cell_type": "markdown",
   "metadata": {},
   "source": [
    "##### What is a class\n",
    "\n",
    "#### What is a object"
   ]
  },
  {
   "cell_type": "code",
   "execution_count": null,
   "metadata": {},
   "outputs": [],
   "source": []
  }
 ],
 "metadata": {
  "kernelspec": {
   "display_name": "Python 3",
   "language": "python",
   "name": "python3"
  },
  "language_info": {
   "codemirror_mode": {
    "name": "ipython",
    "version": 3
   },
   "file_extension": ".py",
   "mimetype": "text/x-python",
   "name": "python",
   "nbconvert_exporter": "python",
   "pygments_lexer": "ipython3",
   "version": "3.8.3"
  }
 },
 "nbformat": 4,
 "nbformat_minor": 4
}
