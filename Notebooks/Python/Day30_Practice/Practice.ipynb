{
 "cells": [
  {
   "cell_type": "code",
   "execution_count": 1,
   "metadata": {},
   "outputs": [],
   "source": [
    "s = \"BANANA\""
   ]
  },
  {
   "cell_type": "code",
   "execution_count": 3,
   "metadata": {},
   "outputs": [
    {
     "name": "stdout",
     "output_type": "stream",
     "text": [
      "['B', 'BA', 'BAN', 'BANA', 'BANAN', 'BANANA']\n"
     ]
    }
   ],
   "source": [
    "i = 0\n",
    "char = ''\n",
    "j = i\n",
    "subs = []\n",
    "while j < len(s):\n",
    "    char += s[j]\n",
    "    subs.append(char)\n",
    "    j += 1\n",
    "print(subs)\n",
    "    "
   ]
  },
  {
   "cell_type": "code",
   "execution_count": 5,
   "metadata": {},
   "outputs": [
    {
     "name": "stdout",
     "output_type": "stream",
     "text": [
      "['A', 'AN', 'ANA', 'ANAN', 'ANANA']\n"
     ]
    }
   ],
   "source": [
    "s = \"BANANA\"\n",
    "i = 1\n",
    "char = ''\n",
    "j = i\n",
    "subs = []\n",
    "while j < len(s):\n",
    "    char += s[j]\n",
    "    subs.append(char)\n",
    "    j += 1\n",
    "print(subs)\n",
    "    "
   ]
  },
  {
   "cell_type": "code",
   "execution_count": 6,
   "metadata": {},
   "outputs": [
    {
     "name": "stdout",
     "output_type": "stream",
     "text": [
      "['N', 'NA', 'NAN', 'NANA']\n"
     ]
    }
   ],
   "source": [
    "s = \"BANANA\"\n",
    "i = 2\n",
    "char = ''\n",
    "j = i\n",
    "subs = []\n",
    "while j < len(s):\n",
    "    char += s[j]\n",
    "    subs.append(char)\n",
    "    j += 1\n",
    "print(subs)\n",
    "    "
   ]
  },
  {
   "cell_type": "code",
   "execution_count": 9,
   "metadata": {},
   "outputs": [
    {
     "name": "stdout",
     "output_type": "stream",
     "text": [
      "['B', 'BA', 'BAN', 'BANA', 'BANAN', 'BANANA'] 6\n",
      "['A', 'AN', 'ANA', 'ANAN', 'ANANA'] 5\n",
      "['N', 'NA', 'NAN', 'NANA'] 4\n",
      "['A', 'AN', 'ANA'] 3\n",
      "['N', 'NA'] 2\n",
      "['A'] 1\n"
     ]
    }
   ],
   "source": [
    "s = \"BANANA\"\n",
    "for i in range(len(s)):\n",
    "    char = ''\n",
    "    c = 0\n",
    "    subs = []\n",
    "    for j in range(i, len(s)):\n",
    "        char += s[j]\n",
    "        c += 1\n",
    "        subs.append(char)\n",
    "    print(subs, c)\n",
    "    "
   ]
  },
  {
   "cell_type": "code",
   "execution_count": 11,
   "metadata": {},
   "outputs": [],
   "source": [
    "def score(i, n):\n",
    "    c = 0\n",
    "    for j in range(i, n):\n",
    "        c += 1\n",
    "    return c\n",
    "def minion_game(string):\n",
    "    sturat, kevin = 0, 0\n",
    "    for i in range(0, len(s)):\n",
    "        if string[i] in \"AEIOU\":\n",
    "            kevin += score(i, len(string))\n",
    "        else:\n",
    "            sturat += score(i, len(string))\n",
    "    if sturat > kevin:\n",
    "        print(f\"Stuart {sturat}\")\n",
    "    elif kevin > sturat:\n",
    "        print(f\"Kevin {kevin}\")\n",
    "    else:\n",
    "        print(\"Draw\")\n",
    "            \n"
   ]
  },
  {
   "cell_type": "code",
   "execution_count": 12,
   "metadata": {},
   "outputs": [
    {
     "name": "stdout",
     "output_type": "stream",
     "text": [
      "Stuart 12\n"
     ]
    }
   ],
   "source": [
    "minion_game('BANANA')"
   ]
  },
  {
   "cell_type": "code",
   "execution_count": null,
   "metadata": {},
   "outputs": [],
   "source": []
  }
 ],
 "metadata": {
  "kernelspec": {
   "display_name": "Python 3",
   "language": "python",
   "name": "python3"
  },
  "language_info": {
   "codemirror_mode": {
    "name": "ipython",
    "version": 3
   },
   "file_extension": ".py",
   "mimetype": "text/x-python",
   "name": "python",
   "nbconvert_exporter": "python",
   "pygments_lexer": "ipython3",
   "version": "3.8.3"
  }
 },
 "nbformat": 4,
 "nbformat_minor": 4
}
