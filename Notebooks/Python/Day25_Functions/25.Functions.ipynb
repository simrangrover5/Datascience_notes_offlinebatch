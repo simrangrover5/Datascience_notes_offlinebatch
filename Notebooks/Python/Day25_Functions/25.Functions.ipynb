{
 "cells": [
  {
   "cell_type": "markdown",
   "metadata": {},
   "source": [
    "Rules: \n",
    "    \n",
    "    password must be greater than 6 character\n",
    "    \n",
    "    password must contain a digit, a lower case, a upper case and a special character\n",
    "    \n",
    "    password should not contain space, _"
   ]
  },
  {
   "cell_type": "code",
   "execution_count": 21,
   "metadata": {},
   "outputs": [
    {
     "name": "stdout",
     "output_type": "stream",
     "text": [
      "Password: !Hi123\n",
      "Valid Password\n"
     ]
    }
   ],
   "source": [
    "from getpass import getpass\n",
    "\n",
    "password = input('Password: ')\n",
    "\n",
    "if len(password) >= 6:\n",
    "    lower = False\n",
    "    upper = False\n",
    "    special = False\n",
    "    digit = False\n",
    "    for char in password:\n",
    "        if char.islower():\n",
    "            lower = True\n",
    "        elif char.isupper():\n",
    "            upper = True\n",
    "        elif char.isnumeric():\n",
    "            digit = True\n",
    "        elif char != \" \" and char != \"_\" and not char.isidentifier():\n",
    "            special = True\n",
    "    else:\n",
    "        conds = [ lower, upper, special, digit ]\n",
    "        if all( conds ):\n",
    "            print(\"Valid Password\")\n",
    "        else:\n",
    "            print(\"Invalid Password\")\n",
    "    \n",
    "else:\n",
    "    print('invalid password! password should contain atleast 6 characters')\n"
   ]
  },
  {
   "cell_type": "markdown",
   "metadata": {},
   "source": [
    "## Functions\n",
    "\n",
    "    Built-in Functions\n",
    "    \n",
    "    User Defined Functions"
   ]
  },
  {
   "cell_type": "markdown",
   "metadata": {},
   "source": [
    "### List Comprenshions"
   ]
  },
  {
   "cell_type": "markdown",
   "metadata": {},
   "source": [
    "**syntax**\n",
    "\n",
    "    lst = [ statement  for item in iterable ]"
   ]
  },
  {
   "cell_type": "code",
   "execution_count": 25,
   "metadata": {},
   "outputs": [
    {
     "name": "stdout",
     "output_type": "stream",
     "text": [
      "[1, 2, 3, 4, 5]\n"
     ]
    }
   ],
   "source": [
    "d = []\n",
    "for i in range(1, 6):\n",
    "    d.append(i)\n",
    "print(d)"
   ]
  },
  {
   "cell_type": "code",
   "execution_count": 26,
   "metadata": {},
   "outputs": [
    {
     "name": "stdout",
     "output_type": "stream",
     "text": [
      "[1, 2, 3, 4, 5]\n"
     ]
    }
   ],
   "source": [
    "d = [ i for i in range(1, 6) ]\n",
    "print(d)"
   ]
  },
  {
   "cell_type": "code",
   "execution_count": 27,
   "metadata": {},
   "outputs": [
    {
     "name": "stdout",
     "output_type": "stream",
     "text": [
      "[0, 0, 0, 0, 0]\n"
     ]
    }
   ],
   "source": [
    "d = [ 0 for i in range(5) ]\n",
    "print(d)"
   ]
  },
  {
   "cell_type": "code",
   "execution_count": 31,
   "metadata": {},
   "outputs": [
    {
     "name": "stdout",
     "output_type": "stream",
     "text": [
      "[100, 81, 64, 49, 36]\n"
     ]
    }
   ],
   "source": [
    "d = [ i**2 for i in range(10, 5, -1) ]\n",
    "print(d)"
   ]
  },
  {
   "cell_type": "code",
   "execution_count": 32,
   "metadata": {},
   "outputs": [
    {
     "name": "stdout",
     "output_type": "stream",
     "text": [
      "[1, 4, 27, 256, 3125]\n"
     ]
    }
   ],
   "source": [
    "d = [ i**i for i in range(1, 6) ]\n",
    "print(d)"
   ]
  },
  {
   "cell_type": "code",
   "execution_count": 33,
   "metadata": {},
   "outputs": [],
   "source": [
    "l1 = [ 1, 2, 3, 4, 5]\n",
    "l2 = [ 6, 7, 8, 9, 10]"
   ]
  },
  {
   "cell_type": "code",
   "execution_count": 34,
   "metadata": {},
   "outputs": [
    {
     "name": "stdout",
     "output_type": "stream",
     "text": [
      "[37, 53, 73, 97, 125]\n"
     ]
    }
   ],
   "source": [
    "r = [ (a**2+b**2) for a,b in zip(l1, l2) ]\n",
    "\n",
    "print(r)"
   ]
  },
  {
   "cell_type": "code",
   "execution_count": 35,
   "metadata": {},
   "outputs": [
    {
     "name": "stdout",
     "output_type": "stream",
     "text": [
      "[1, 2, 9, 64, 625]\n"
     ]
    }
   ],
   "source": [
    "r = [ (i**j) for j,i in enumerate(range(1, 6)) ]\n",
    "print(r)"
   ]
  },
  {
   "cell_type": "code",
   "execution_count": 36,
   "metadata": {},
   "outputs": [],
   "source": [
    "d = []\n",
    "\n",
    "for i in range(1, 11):\n",
    "    if i % 2:\n",
    "        d.append(i)"
   ]
  },
  {
   "cell_type": "code",
   "execution_count": 37,
   "metadata": {},
   "outputs": [
    {
     "name": "stdout",
     "output_type": "stream",
     "text": [
      "[1, 3, 5, 7, 9]\n"
     ]
    }
   ],
   "source": [
    "print(d)"
   ]
  },
  {
   "cell_type": "code",
   "execution_count": 38,
   "metadata": {},
   "outputs": [
    {
     "name": "stdout",
     "output_type": "stream",
     "text": [
      "[2, 4, 6, 8, 10]\n"
     ]
    }
   ],
   "source": [
    "d = [ i for i in range(1, 11) if i % 2 == 0 ]\n",
    "\n",
    "print(d)"
   ]
  },
  {
   "cell_type": "code",
   "execution_count": 22,
   "metadata": {},
   "outputs": [],
   "source": [
    "import builtins"
   ]
  },
  {
   "cell_type": "code",
   "execution_count": 23,
   "metadata": {},
   "outputs": [
    {
     "name": "stdout",
     "output_type": "stream",
     "text": [
      "['ArithmeticError', 'AssertionError', 'AttributeError', 'BaseException', 'BlockingIOError', 'BrokenPipeError', 'BufferError', 'BytesWarning', 'ChildProcessError', 'ConnectionAbortedError', 'ConnectionError', 'ConnectionRefusedError', 'ConnectionResetError', 'DeprecationWarning', 'EOFError', 'Ellipsis', 'EnvironmentError', 'Exception', 'False', 'FileExistsError', 'FileNotFoundError', 'FloatingPointError', 'FutureWarning', 'GeneratorExit', 'IOError', 'ImportError', 'ImportWarning', 'IndentationError', 'IndexError', 'InterruptedError', 'IsADirectoryError', 'KeyError', 'KeyboardInterrupt', 'LookupError', 'MemoryError', 'ModuleNotFoundError', 'NameError', 'None', 'NotADirectoryError', 'NotImplemented', 'NotImplementedError', 'OSError', 'OverflowError', 'PendingDeprecationWarning', 'PermissionError', 'ProcessLookupError', 'RecursionError', 'ReferenceError', 'ResourceWarning', 'RuntimeError', 'RuntimeWarning', 'StopAsyncIteration', 'StopIteration', 'SyntaxError', 'SyntaxWarning', 'SystemError', 'SystemExit', 'TabError', 'TimeoutError', 'True', 'TypeError', 'UnboundLocalError', 'UnicodeDecodeError', 'UnicodeEncodeError', 'UnicodeError', 'UnicodeTranslateError', 'UnicodeWarning', 'UserWarning', 'ValueError', 'Warning', 'WindowsError', 'ZeroDivisionError', '__IPYTHON__', '__build_class__', '__debug__', '__doc__', '__import__', '__loader__', '__name__', '__package__', '__spec__', 'abs', 'all', 'any', 'ascii', 'bin', 'bool', 'breakpoint', 'bytearray', 'bytes', 'callable', 'chr', 'classmethod', 'compile', 'complex', 'copyright', 'credits', 'delattr', 'dict', 'dir', 'display', 'divmod', 'enumerate', 'eval', 'exec', 'filter', 'float', 'format', 'frozenset', 'get_ipython', 'getattr', 'globals', 'hasattr', 'hash', 'help', 'hex', 'id', 'input', 'int', 'isinstance', 'issubclass', 'iter', 'len', 'license', 'list', 'locals', 'map', 'max', 'memoryview', 'min', 'next', 'object', 'oct', 'open', 'ord', 'pow', 'print', 'property', 'range', 'repr', 'reversed', 'round', 'set', 'setattr', 'slice', 'sorted', 'staticmethod', 'str', 'sum', 'super', 'tuple', 'type', 'vars', 'zip']\n"
     ]
    }
   ],
   "source": [
    "print(dir(builtins))"
   ]
  },
  {
   "cell_type": "code",
   "execution_count": 40,
   "metadata": {},
   "outputs": [
    {
     "name": "stdout",
     "output_type": "stream",
     "text": [
      "['abs', 'all', 'any', 'ascii', 'bin', 'bool', 'breakpoint', 'bytearray', 'bytes', 'callable', 'chr', 'classmethod', 'compile', 'complex', 'copyright', 'credits', 'delattr', 'dict', 'dir', 'display', 'divmod', 'enumerate', 'eval', 'exec', 'filter', 'float', 'format', 'frozenset', 'get_ipython', 'getattr', 'globals', 'hasattr', 'hash', 'help', 'hex', 'id', 'input', 'int', 'isinstance', 'issubclass', 'iter', 'len', 'license', 'list', 'locals', 'map', 'max', 'memoryview', 'min', 'next', 'object', 'oct', 'open', 'ord', 'pow', 'print', 'property', 'range', 'repr', 'reversed', 'round', 'set', 'setattr', 'slice', 'sorted', 'staticmethod', 'str', 'sum', 'super', 'tuple', 'type', 'vars', 'zip']\n"
     ]
    }
   ],
   "source": [
    "print([ f for f in dir(builtins) if f[0].islower() ])"
   ]
  },
  {
   "cell_type": "markdown",
   "metadata": {},
   "source": [
    "#### Built-in Functions"
   ]
  },
  {
   "cell_type": "markdown",
   "metadata": {},
   "source": [
    "### Function\n",
    "\n",
    "    block of statements which can perform a specif task"
   ]
  },
  {
   "cell_type": "markdown",
   "metadata": {},
   "source": [
    "`Why functions ?`\n",
    "\n",
    "\n",
    "        Code Reuseablility \n",
    "        Code Abstraction \n",
    "        Modular Programming\n",
    "        Easy Debugging\n",
    "        Reduce code complexity in terms of Read and Write"
   ]
  },
  {
   "cell_type": "markdown",
   "metadata": {},
   "source": [
    "#### syntax\n",
    "\n",
    "\n",
    "    defination of function\n",
    "\n",
    "        def function_name(arg1, arg2, ..., argn):\n",
    "            st-1\n",
    "            st-2\n",
    "            st-3\n",
    "            ...\n",
    "            st-7\n",
    "            \n",
    "            \n",
    "    calling of function\n",
    "    \n",
    "        result = function_name(para1, para2, ..., paran)\n",
    "        \n",
    "        \n",
    "   "
   ]
  },
  {
   "cell_type": "code",
   "execution_count": 53,
   "metadata": {},
   "outputs": [],
   "source": [
    "def hello():\n",
    "    print(\"Hello World!\")"
   ]
  },
  {
   "cell_type": "code",
   "execution_count": 55,
   "metadata": {},
   "outputs": [
    {
     "ename": "TypeError",
     "evalue": "hello() takes 0 positional arguments but 1 was given",
     "output_type": "error",
     "traceback": [
      "\u001b[1;31m---------------------------------------------------------------------------\u001b[0m",
      "\u001b[1;31mTypeError\u001b[0m                                 Traceback (most recent call last)",
      "\u001b[1;32m<ipython-input-55-10bdafd534f3>\u001b[0m in \u001b[0;36m<module>\u001b[1;34m\u001b[0m\n\u001b[1;32m----> 1\u001b[1;33m \u001b[0mhello\u001b[0m\u001b[1;33m(\u001b[0m\u001b[1;34m'hi'\u001b[0m\u001b[1;33m)\u001b[0m\u001b[1;33m\u001b[0m\u001b[1;33m\u001b[0m\u001b[0m\n\u001b[0m",
      "\u001b[1;31mTypeError\u001b[0m: hello() takes 0 positional arguments but 1 was given"
     ]
    }
   ],
   "source": [
    "hello('hi')"
   ]
  },
  {
   "cell_type": "code",
   "execution_count": 54,
   "metadata": {},
   "outputs": [
    {
     "name": "stdout",
     "output_type": "stream",
     "text": [
      "Hello World!\n"
     ]
    }
   ],
   "source": [
    "hello()"
   ]
  },
  {
   "cell_type": "code",
   "execution_count": 43,
   "metadata": {},
   "outputs": [
    {
     "name": "stdout",
     "output_type": "stream",
     "text": [
      "Hello World!\n",
      "Hello World!\n",
      "Hello World!\n",
      "Hello World!\n",
      "Hello World!\n",
      "Hello World!\n",
      "Hello World!\n",
      "Hello World!\n",
      "Hello World!\n",
      "Hello World!\n"
     ]
    }
   ],
   "source": [
    "for i in range(10):\n",
    "    hello()"
   ]
  },
  {
   "cell_type": "code",
   "execution_count": 44,
   "metadata": {},
   "outputs": [
    {
     "name": "stdout",
     "output_type": "stream",
     "text": [
      "Help on function hello in module __main__:\n",
      "\n",
      "hello()\n",
      "\n"
     ]
    }
   ],
   "source": [
    "help(hello)"
   ]
  },
  {
   "cell_type": "markdown",
   "metadata": {},
   "source": [
    "    doc-string or documentation string"
   ]
  },
  {
   "cell_type": "code",
   "execution_count": null,
   "metadata": {},
   "outputs": [],
   "source": []
  },
  {
   "cell_type": "code",
   "execution_count": 47,
   "metadata": {},
   "outputs": [],
   "source": [
    "def hello(name):\n",
    "    \"\"\"\n",
    "    hello(name) -> will print a welcome messege to user name\n",
    "    \"\"\"\n",
    "    print(f\"Welcome, {name} to the world of python!\")\n",
    "    "
   ]
  },
  {
   "cell_type": "code",
   "execution_count": 52,
   "metadata": {},
   "outputs": [
    {
     "ename": "TypeError",
     "evalue": "hello() takes 1 positional argument but 2 were given",
     "output_type": "error",
     "traceback": [
      "\u001b[1;31m---------------------------------------------------------------------------\u001b[0m",
      "\u001b[1;31mTypeError\u001b[0m                                 Traceback (most recent call last)",
      "\u001b[1;32m<ipython-input-52-e965124c33a7>\u001b[0m in \u001b[0;36m<module>\u001b[1;34m\u001b[0m\n\u001b[1;32m----> 1\u001b[1;33m \u001b[0mhello\u001b[0m\u001b[1;33m(\u001b[0m\u001b[1;34m'deepratan'\u001b[0m\u001b[1;33m,\u001b[0m \u001b[1;34m'arshika'\u001b[0m\u001b[1;33m)\u001b[0m\u001b[1;33m\u001b[0m\u001b[1;33m\u001b[0m\u001b[0m\n\u001b[0m",
      "\u001b[1;31mTypeError\u001b[0m: hello() takes 1 positional argument but 2 were given"
     ]
    }
   ],
   "source": [
    "hello('deepratan', 'arshika')"
   ]
  },
  {
   "cell_type": "code",
   "execution_count": 48,
   "metadata": {},
   "outputs": [
    {
     "name": "stdout",
     "output_type": "stream",
     "text": [
      "Help on function hello in module __main__:\n",
      "\n",
      "hello(name)\n",
      "    hello(name) -> will print a welcome messege to user name\n",
      "\n"
     ]
    }
   ],
   "source": [
    "help(hello)"
   ]
  },
  {
   "cell_type": "code",
   "execution_count": 49,
   "metadata": {},
   "outputs": [
    {
     "name": "stdout",
     "output_type": "stream",
     "text": [
      "Welcome, Naman to the world of python!\n"
     ]
    }
   ],
   "source": [
    "hello(\"Naman\")"
   ]
  },
  {
   "cell_type": "code",
   "execution_count": 50,
   "metadata": {},
   "outputs": [
    {
     "name": "stdout",
     "output_type": "stream",
     "text": [
      "Welcome, Gaurav to the world of python!\n"
     ]
    }
   ],
   "source": [
    "hello(\"Gaurav\")"
   ]
  },
  {
   "cell_type": "code",
   "execution_count": 56,
   "metadata": {},
   "outputs": [],
   "source": [
    "def add(a, b):\n",
    "    \"\"\"\n",
    "        will add a and b, and print result\n",
    "    \"\"\"\n",
    "    print(f\" a = {a} \")\n",
    "    print(f\" b = {b} \")\n",
    "    print(f\" {a} + {b} = {a+b}\")"
   ]
  },
  {
   "cell_type": "code",
   "execution_count": 57,
   "metadata": {},
   "outputs": [
    {
     "name": "stdout",
     "output_type": "stream",
     "text": [
      " a = 4 \n",
      " b = 5 \n",
      " 4 + 5 = 9\n"
     ]
    }
   ],
   "source": [
    "add(4, 5)"
   ]
  },
  {
   "cell_type": "code",
   "execution_count": 58,
   "metadata": {},
   "outputs": [],
   "source": [
    "import random"
   ]
  },
  {
   "cell_type": "code",
   "execution_count": 59,
   "metadata": {},
   "outputs": [
    {
     "data": {
      "text/plain": [
       "6"
      ]
     },
     "execution_count": 59,
     "metadata": {},
     "output_type": "execute_result"
    }
   ],
   "source": [
    "random.randint(1, 10)"
   ]
  },
  {
   "cell_type": "code",
   "execution_count": 61,
   "metadata": {},
   "outputs": [],
   "source": [
    "l1 = [ random.randint(10, 50) for _ in range(10) ]\n",
    "l2 = [ random.randint(10, 50) for _ in range(10) ]"
   ]
  },
  {
   "cell_type": "code",
   "execution_count": 62,
   "metadata": {},
   "outputs": [
    {
     "name": "stdout",
     "output_type": "stream",
     "text": [
      "[25, 44, 14, 46, 33, 44, 35, 27, 40, 31]\n",
      "[30, 39, 12, 30, 16, 39, 17, 16, 10, 29]\n"
     ]
    }
   ],
   "source": [
    "print(l1)\n",
    "print(l2)"
   ]
  },
  {
   "cell_type": "code",
   "execution_count": 66,
   "metadata": {},
   "outputs": [
    {
     "name": "stdout",
     "output_type": "stream",
     "text": [
      "____________________________________________________________\n",
      " a = 25 \n",
      " b = 30 \n",
      " 25 + 30 = 55\n",
      "____________________________________________________________\n",
      " a = 44 \n",
      " b = 39 \n",
      " 44 + 39 = 83\n",
      "____________________________________________________________\n",
      " a = 14 \n",
      " b = 12 \n",
      " 14 + 12 = 26\n",
      "____________________________________________________________\n",
      " a = 46 \n",
      " b = 30 \n",
      " 46 + 30 = 76\n",
      "____________________________________________________________\n",
      " a = 33 \n",
      " b = 16 \n",
      " 33 + 16 = 49\n",
      "____________________________________________________________\n",
      " a = 44 \n",
      " b = 39 \n",
      " 44 + 39 = 83\n",
      "____________________________________________________________\n",
      " a = 35 \n",
      " b = 17 \n",
      " 35 + 17 = 52\n",
      "____________________________________________________________\n",
      " a = 27 \n",
      " b = 16 \n",
      " 27 + 16 = 43\n",
      "____________________________________________________________\n",
      " a = 40 \n",
      " b = 10 \n",
      " 40 + 10 = 50\n",
      "____________________________________________________________\n",
      " a = 31 \n",
      " b = 29 \n",
      " 31 + 29 = 60\n"
     ]
    }
   ],
   "source": [
    "for a,b in zip(l1, l2):\n",
    "    print(\"__\"*30)\n",
    "    add(a, b)"
   ]
  },
  {
   "cell_type": "code",
   "execution_count": 64,
   "metadata": {},
   "outputs": [
    {
     "name": "stdout",
     "output_type": "stream",
     "text": [
      " a = 5 \n",
      " b = 6 \n",
      " 5 + 6 = 11\n"
     ]
    }
   ],
   "source": [
    "add(5, 6)"
   ]
  },
  {
   "cell_type": "code",
   "execution_count": 65,
   "metadata": {},
   "outputs": [],
   "source": [
    "def square_add(a, b):\n",
    "    \"\"\"\n",
    "        returns a^2 + b^2\n",
    "    \"\"\"\n",
    "    return a**2 + b**2"
   ]
  },
  {
   "cell_type": "code",
   "execution_count": 67,
   "metadata": {},
   "outputs": [
    {
     "name": "stdout",
     "output_type": "stream",
     "text": [
      "45\n"
     ]
    }
   ],
   "source": [
    "r = square_add(6, 3)\n",
    "print(r)"
   ]
  },
  {
   "cell_type": "code",
   "execution_count": 70,
   "metadata": {},
   "outputs": [
    {
     "name": "stdout",
     "output_type": "stream",
     "text": [
      "[6, 4, 9, 9, 7, 6, 2, 10, 3, 6]\n",
      "[5, 7, 7, 6, 6, 9, 8, 7, 1, 4]\n"
     ]
    }
   ],
   "source": [
    "l1 = [ random.randint(1, 10) for _ in range(10) ]\n",
    "l2 = [ random.randint(1, 10) for _ in range(10) ]\n",
    "print(l1)\n",
    "print(l2)"
   ]
  },
  {
   "cell_type": "code",
   "execution_count": 72,
   "metadata": {},
   "outputs": [
    {
     "name": "stdout",
     "output_type": "stream",
     "text": [
      "[61, 65, 130, 117, 85, 117, 68, 149, 10, 52]\n"
     ]
    }
   ],
   "source": [
    "def square_add(a, b):\n",
    "    \"\"\"\n",
    "        returns a^2 + b^2\n",
    "    \"\"\"\n",
    "    return a**2 + b**2\n",
    "\n",
    "\n",
    "r = [ square_add(a, b) for a,b in zip(l1, l2)]\n",
    "print(r)"
   ]
  },
  {
   "cell_type": "code",
   "execution_count": 73,
   "metadata": {},
   "outputs": [],
   "source": [
    "def validate_password(password):\n",
    "    \"\"\"\n",
    "        will return True if password is valid otherwise return False\n",
    "        \n",
    "        Conditions:\n",
    "            password should contain atleast 6 characters\n",
    "            password should contain atleast 1 lower case character\n",
    "            password should contain atleast 1 upper case character\n",
    "            password should contain atleast 1 number case character\n",
    "            password should contain atleast 1 Special case character\n",
    "            password should not contain ' ' and '_'\n",
    "    \"\"\"\n",
    "    if len(password) >= 6:\n",
    "        lower = False\n",
    "        upper = False\n",
    "        special = False\n",
    "        digit = False\n",
    "        for char in password:\n",
    "            if char.islower():\n",
    "                lower = True\n",
    "            elif char.isupper():\n",
    "                upper = True\n",
    "            elif char.isnumeric():\n",
    "                digit = True\n",
    "            elif char != \" \" and char != \"_\" and not char.isidentifier():\n",
    "                special = True\n",
    "        else:\n",
    "            conds = [ lower, upper, special, digit ]\n",
    "            if all( conds ):\n",
    "                print(\"Valid Password\")\n",
    "            else:\n",
    "                print(\"Invalid Password\")\n",
    "\n",
    "    else:\n",
    "        print('invalid password! password should contain atleast 6 characters')\n"
   ]
  },
  {
   "cell_type": "code",
   "execution_count": 74,
   "metadata": {},
   "outputs": [
    {
     "name": "stdout",
     "output_type": "stream",
     "text": [
      "invalid password! password should contain atleast 6 characters\n"
     ]
    }
   ],
   "source": [
    "validate_password('hello')"
   ]
  },
  {
   "cell_type": "code",
   "execution_count": 75,
   "metadata": {},
   "outputs": [
    {
     "name": "stdout",
     "output_type": "stream",
     "text": [
      "Valid Password\n"
     ]
    }
   ],
   "source": [
    "validate_password('Hell123@')"
   ]
  },
  {
   "cell_type": "code",
   "execution_count": 77,
   "metadata": {},
   "outputs": [],
   "source": [
    "def validate_password(password):\n",
    "    \"\"\"\n",
    "        will return True if password is valid otherwise return False\n",
    "        \n",
    "        Conditions:\n",
    "            password should contain atleast 6 characters\n",
    "            password should contain atleast 1 lower case character\n",
    "            password should contain atleast 1 upper case character\n",
    "            password should contain atleast 1 number case character\n",
    "            password should contain atleast 1 Special case character\n",
    "            password should not contain ' ' and '_'\n",
    "    \"\"\"\n",
    "    if len(password) >= 6:\n",
    "        lower = False\n",
    "        upper = False\n",
    "        special = False\n",
    "        digit = False\n",
    "        for char in password:\n",
    "            if char.islower():\n",
    "                lower = True\n",
    "            elif char.isupper():\n",
    "                upper = True\n",
    "            elif char.isnumeric():\n",
    "                digit = True\n",
    "            elif char != \" \" and char != \"_\" and not char.isidentifier():\n",
    "                special = True\n",
    "        else:\n",
    "            conds = [ lower, upper, special, digit ]\n",
    "            if all( conds ):\n",
    "                return True\n",
    "            else:\n",
    "                return False\n",
    "\n",
    "    else:\n",
    "        return False"
   ]
  },
  {
   "cell_type": "code",
   "execution_count": 78,
   "metadata": {},
   "outputs": [
    {
     "data": {
      "text/plain": [
       "False"
      ]
     },
     "execution_count": 78,
     "metadata": {},
     "output_type": "execute_result"
    }
   ],
   "source": [
    "validate_password('helloworld')"
   ]
  },
  {
   "cell_type": "code",
   "execution_count": 79,
   "metadata": {},
   "outputs": [
    {
     "data": {
      "text/plain": [
       "True"
      ]
     },
     "execution_count": 79,
     "metadata": {},
     "output_type": "execute_result"
    }
   ],
   "source": [
    "validate_password('H@123l')"
   ]
  },
  {
   "cell_type": "code",
   "execution_count": 80,
   "metadata": {},
   "outputs": [],
   "source": [
    "passwords = [ 'hello', 'world', '12345', 'Hello@123',\n",
    "            'redhat@Asimov', '123@Abc']"
   ]
  },
  {
   "cell_type": "code",
   "execution_count": 81,
   "metadata": {},
   "outputs": [],
   "source": [
    "v = [ p  for p in passwords if validate_password(p) ]"
   ]
  },
  {
   "cell_type": "code",
   "execution_count": 82,
   "metadata": {},
   "outputs": [
    {
     "data": {
      "text/plain": [
       "['Hello@123', '123@Abc']"
      ]
     },
     "execution_count": 82,
     "metadata": {},
     "output_type": "execute_result"
    }
   ],
   "source": [
    "v"
   ]
  },
  {
   "cell_type": "code",
   "execution_count": 83,
   "metadata": {},
   "outputs": [],
   "source": [
    "f = [ p  for p in passwords if validate_password(p) == False ]"
   ]
  },
  {
   "cell_type": "code",
   "execution_count": 84,
   "metadata": {},
   "outputs": [
    {
     "data": {
      "text/plain": [
       "['hello', 'world', '12345', 'redhat@Asimov']"
      ]
     },
     "execution_count": 84,
     "metadata": {},
     "output_type": "execute_result"
    }
   ],
   "source": [
    "f"
   ]
  },
  {
   "cell_type": "code",
   "execution_count": null,
   "metadata": {},
   "outputs": [],
   "source": []
  }
 ],
 "metadata": {
  "kernelspec": {
   "display_name": "Python 3",
   "language": "python",
   "name": "python3"
  },
  "language_info": {
   "codemirror_mode": {
    "name": "ipython",
    "version": 3
   },
   "file_extension": ".py",
   "mimetype": "text/x-python",
   "name": "python",
   "nbconvert_exporter": "python",
   "pygments_lexer": "ipython3",
   "version": "3.8.3"
  }
 },
 "nbformat": 4,
 "nbformat_minor": 4
}
