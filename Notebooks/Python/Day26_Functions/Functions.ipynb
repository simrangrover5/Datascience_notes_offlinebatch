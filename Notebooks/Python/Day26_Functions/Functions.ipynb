{
 "cells": [
  {
   "cell_type": "markdown",
   "metadata": {},
   "source": [
    "### Functions "
   ]
  },
  {
   "cell_type": "markdown",
   "metadata": {},
   "source": [
    "there are four type of functions exists in programming\n",
    "\n",
    "\n",
    "\n",
    "    1. without return value without argument\n",
    "    2. without return value with argument\n",
    "    3. with return value without argument\n",
    "    4. with return value with argument"
   ]
  },
  {
   "cell_type": "markdown",
   "metadata": {},
   "source": [
    "### 1. Without Return Type Without Argument"
   ]
  },
  {
   "cell_type": "code",
   "execution_count": 1,
   "metadata": {},
   "outputs": [],
   "source": [
    "def hello():\n",
    "    \"\"\"\n",
    "        A greeting Function\n",
    "    \"\"\"\n",
    "    print(\"Hello World! Welcome to Python\")"
   ]
  },
  {
   "cell_type": "code",
   "execution_count": 5,
   "metadata": {},
   "outputs": [
    {
     "name": "stdout",
     "output_type": "stream",
     "text": [
      "Hello World! Welcome to Python\n",
      "None <class 'NoneType'>\n"
     ]
    }
   ],
   "source": [
    "value = hello()\n",
    "\n",
    "print(value, type(value))"
   ]
  },
  {
   "cell_type": "code",
   "execution_count": 6,
   "metadata": {},
   "outputs": [
    {
     "name": "stdout",
     "output_type": "stream",
     "text": [
      "Hello World! Welcome to Python\n"
     ]
    }
   ],
   "source": [
    "hello()"
   ]
  },
  {
   "cell_type": "code",
   "execution_count": 7,
   "metadata": {},
   "outputs": [],
   "source": [
    "def author():\n",
    "    print(\"Written by Sachin Yadav!\")"
   ]
  },
  {
   "cell_type": "code",
   "execution_count": 8,
   "metadata": {},
   "outputs": [
    {
     "name": "stdout",
     "output_type": "stream",
     "text": [
      "Written by Sachin Yadav!\n"
     ]
    }
   ],
   "source": [
    "author()"
   ]
  },
  {
   "cell_type": "code",
   "execution_count": 9,
   "metadata": {},
   "outputs": [],
   "source": [
    "def calc_menu():\n",
    "    \"\"\"\n",
    "        use to print main menu of calculator\n",
    "    \"\"\"\n",
    "    menu = \"\"\"\n",
    "    Press 1 for addition       (+)\n",
    "    Press 2 for substraction   (-)\n",
    "    Press 3 for multiplication (*)\n",
    "    Press 4 for division       (/)\n",
    "    \"\"\"\n",
    "    print(menu)"
   ]
  },
  {
   "cell_type": "code",
   "execution_count": 10,
   "metadata": {},
   "outputs": [
    {
     "name": "stdout",
     "output_type": "stream",
     "text": [
      "\n",
      "    Press 1 for addition       (+)\n",
      "    Press 2 for substraction   (-)\n",
      "    Press 3 for multiplication (*)\n",
      "    Press 4 for division       (/)\n",
      "    \n"
     ]
    }
   ],
   "source": [
    "calc_menu()"
   ]
  },
  {
   "cell_type": "code",
   "execution_count": 13,
   "metadata": {},
   "outputs": [],
   "source": [
    "def add():\n",
    "    x = int(input(\"X: \"))\n",
    "    y = int(input(\"Y: \"))\n",
    "    r = x + y\n",
    "    print(f\"{x:^10} + {y:^10} = {r:^10}\")"
   ]
  },
  {
   "cell_type": "code",
   "execution_count": 14,
   "metadata": {},
   "outputs": [
    {
     "name": "stdout",
     "output_type": "stream",
     "text": [
      "X: 1000\n",
      "Y: 124\n",
      "   1000    +    124     =    1124   \n"
     ]
    }
   ],
   "source": [
    "add()"
   ]
  },
  {
   "cell_type": "markdown",
   "metadata": {},
   "source": [
    "## 2. Without Return Type With Arguments"
   ]
  },
  {
   "cell_type": "code",
   "execution_count": 15,
   "metadata": {},
   "outputs": [],
   "source": [
    "def hello(name):\n",
    "    \"\"\"\n",
    "        greet user\n",
    "    \"\"\"\n",
    "    print(f\"Hello user {name}, welcome to python world!\")"
   ]
  },
  {
   "cell_type": "code",
   "execution_count": 17,
   "metadata": {},
   "outputs": [
    {
     "name": "stdout",
     "output_type": "stream",
     "text": [
      "Hello user sachin yadav, welcome to python world!\n",
      "None\n"
     ]
    }
   ],
   "source": [
    "value = hello('sachin yadav')\n",
    "\n",
    "print(value)"
   ]
  },
  {
   "cell_type": "code",
   "execution_count": 19,
   "metadata": {},
   "outputs": [
    {
     "name": "stdout",
     "output_type": "stream",
     "text": [
      "Hello user gaurav, welcome to python world!\n"
     ]
    }
   ],
   "source": [
    "hello('gaurav')"
   ]
  },
  {
   "cell_type": "code",
   "execution_count": 20,
   "metadata": {},
   "outputs": [
    {
     "name": "stdout",
     "output_type": "stream",
     "text": [
      "Hello user deepratan, welcome to python world!\n",
      "Hello user gaurav, welcome to python world!\n",
      "Hello user naman, welcome to python world!\n",
      "Hello user arshika, welcome to python world!\n"
     ]
    }
   ],
   "source": [
    "lst = [ 'deepratan', 'gaurav', 'naman', 'arshika']\n",
    "\n",
    "for name in lst:\n",
    "    hello(name)"
   ]
  },
  {
   "cell_type": "code",
   "execution_count": 22,
   "metadata": {},
   "outputs": [],
   "source": [
    "def add(x, y):\n",
    "    \"\"\"\n",
    "        will print addtion of x and y\n",
    "    \"\"\"\n",
    "    print(\"_\"*30)\n",
    "    print(f\"x = {x}\".center(30))\n",
    "    print(f\"y = {y}\".center(30))\n",
    "    print(f\"x + y = {x+y}\".center(30))\n",
    "    print(\"_\"*30)"
   ]
  },
  {
   "cell_type": "code",
   "execution_count": 23,
   "metadata": {},
   "outputs": [
    {
     "name": "stdout",
     "output_type": "stream",
     "text": [
      "______________________________\n",
      "            x = 4             \n",
      "            y = 5             \n",
      "          x + y = 9           \n",
      "______________________________\n"
     ]
    }
   ],
   "source": [
    "add(4, 5)"
   ]
  },
  {
   "cell_type": "code",
   "execution_count": 24,
   "metadata": {},
   "outputs": [
    {
     "name": "stdout",
     "output_type": "stream",
     "text": [
      "______________________________\n",
      "            x = 1             \n",
      "            y = 10            \n",
      "          x + y = 11          \n",
      "______________________________\n",
      "______________________________\n",
      "            x = 2             \n",
      "            y = 40            \n",
      "          x + y = 42          \n",
      "______________________________\n",
      "______________________________\n",
      "            x = 3             \n",
      "            y = 30            \n",
      "          x + y = 33          \n",
      "______________________________\n",
      "______________________________\n",
      "            x = 4             \n",
      "            y = 20            \n",
      "          x + y = 24          \n",
      "______________________________\n"
     ]
    }
   ],
   "source": [
    "lst1 = [ 1, 2, 3, 4, 5]\n",
    "lst2 = [ 10, 40, 30, 20]\n",
    "\n",
    "for e1, e2 in zip(lst1, lst2):\n",
    "    add(e1, e2)"
   ]
  },
  {
   "cell_type": "markdown",
   "metadata": {},
   "source": [
    "### Tic Tac Toe"
   ]
  },
  {
   "cell_type": "code",
   "execution_count": 25,
   "metadata": {},
   "outputs": [],
   "source": [
    "x = \"{} hello {} hi\""
   ]
  },
  {
   "cell_type": "code",
   "execution_count": 29,
   "metadata": {},
   "outputs": [
    {
     "name": "stdout",
     "output_type": "stream",
     "text": [
      "sachin hello grras hi\n"
     ]
    }
   ],
   "source": [
    "print(x.format(*['sachin', 'grras']))"
   ]
  },
  {
   "cell_type": "code",
   "execution_count": 44,
   "metadata": {},
   "outputs": [],
   "source": [
    "def print_board(pos):\n",
    "    \"\"\"\n",
    "        Fill Tic Tac Toe Board With Given Positions\n",
    "    \"\"\"\n",
    "    board = \"\"\"\n",
    "    ----------------------------------\n",
    "    |          |          |          |\n",
    "    |{:^10}|{:^10}|{:^10}|\n",
    "    |          |          |          |\n",
    "    ----------------------------------\n",
    "    |          |          |          |\n",
    "    |{:^10}|{:^10}|{:^10}|\n",
    "    |          |          |          |\n",
    "    ----------------------------------\n",
    "    |          |          |          |\n",
    "    |{:^10}|{:^10}|{:^10}|\n",
    "    |          |          |          |\n",
    "    ----------------------------------\n",
    "        \n",
    "    \"\"\"\n",
    "    print(board.format(*pos))"
   ]
  },
  {
   "cell_type": "code",
   "execution_count": 45,
   "metadata": {},
   "outputs": [
    {
     "name": "stdout",
     "output_type": "stream",
     "text": [
      "\n",
      "    ----------------------------------\n",
      "    |          |          |          |\n",
      "    |    X     |          |          |\n",
      "    |          |          |          |\n",
      "    ----------------------------------\n",
      "    |          |          |          |\n",
      "    |          |    X     |          |\n",
      "    |          |          |          |\n",
      "    ----------------------------------\n",
      "    |          |          |          |\n",
      "    |          |          |    0     |\n",
      "    |          |          |          |\n",
      "    ----------------------------------\n",
      "        \n",
      "    \n",
      "\n",
      "    ----------------------------------\n",
      "    |          |          |          |\n",
      "    |    X     |          |    X     |\n",
      "    |          |          |          |\n",
      "    ----------------------------------\n",
      "    |          |          |          |\n",
      "    |          |    X     |          |\n",
      "    |          |          |          |\n",
      "    ----------------------------------\n",
      "    |          |          |          |\n",
      "    |    0     |          |    0     |\n",
      "    |          |          |          |\n",
      "    ----------------------------------\n",
      "        \n",
      "    \n"
     ]
    }
   ],
   "source": [
    "pos1 = [ \"X\", \" \", \" \", \" \", \"X\", \" \", \" \", \" \", \"0\"]\n",
    "print_board(pos1)\n",
    "pos1 = [ \"X\", \" \", \"X\", \" \", \"X\", \" \", \"0\", \" \", \"0\"]\n",
    "print_board(pos1)"
   ]
  },
  {
   "cell_type": "code",
   "execution_count": 46,
   "metadata": {},
   "outputs": [
    {
     "name": "stdout",
     "output_type": "stream",
     "text": [
      "\n",
      "    ----------------------------------\n",
      "    |          |          |          |\n",
      "    |    X     |          |          |\n",
      "    |          |          |          |\n",
      "    ----------------------------------\n",
      "    |          |          |          |\n",
      "    |          |    X     |          |\n",
      "    |          |          |          |\n",
      "    ----------------------------------\n",
      "    |          |          |          |\n",
      "    |          |          |    X     |\n",
      "    |          |          |          |\n",
      "    ----------------------------------\n",
      "        \n",
      "    \n"
     ]
    }
   ],
   "source": [
    "print_board([ \"X\", \" \", \" \", \" \", \"X\", \" \", \" \",\" \", \"X\"])"
   ]
  },
  {
   "cell_type": "code",
   "execution_count": 47,
   "metadata": {},
   "outputs": [],
   "source": [
    "def win_player(pos):\n",
    "    cond1 = [\n",
    "        (pos[0]==pos[1]==pos[2]),\n",
    "        (pos[0]==pos[3]==pos[6]),\n",
    "        (pos[0]==pos[4]==pos[8]),\n",
    "    ]\n",
    "    cond2 = [\n",
    "        (pos[2]==pos[4]==pos[6]),\n",
    "        (pos[2]==pos[5]==pos[8]),\n",
    "    ]\n",
    "    if any(cond1):\n",
    "        win_char = pos[0]\n",
    "    elif any(cond2):\n",
    "        win_char = pos[2]\n",
    "    elif (pos[1]==pos[4]==pos[7]):\n",
    "        win_char = pos[1]\n",
    "    elif (pos[3]==pos[4]==pos[5]):\n",
    "        win_char = pos[3]\n",
    "    elif (pos[6]==pos[7]==pos[8]):\n",
    "        win_char = pos[6]\n",
    "    else:\n",
    "        win_char = ''\n",
    "    return win_char"
   ]
  },
  {
   "cell_type": "code",
   "execution_count": 48,
   "metadata": {},
   "outputs": [
    {
     "name": "stdout",
     "output_type": "stream",
     "text": [
      "\n",
      "    ----------------------------------\n",
      "    |          |          |          |\n",
      "    |    X     |    0     |    0     |\n",
      "    |          |          |          |\n",
      "    ----------------------------------\n",
      "    |          |          |          |\n",
      "    |    0     |    X     |    0     |\n",
      "    |          |          |          |\n",
      "    ----------------------------------\n",
      "    |          |          |          |\n",
      "    |    0     |    0     |    X     |\n",
      "    |          |          |          |\n",
      "    ----------------------------------\n",
      "        \n",
      "    \n",
      "X\n"
     ]
    }
   ],
   "source": [
    "pos = [\"X\", \"0\", \"0\", \"0\", \"X\", \"0\", \"0\", \"0\", \"X\"]\n",
    "print_board(pos)\n",
    "value = win_player(pos)\n",
    "print(value)"
   ]
  },
  {
   "cell_type": "code",
   "execution_count": 49,
   "metadata": {},
   "outputs": [
    {
     "name": "stdout",
     "output_type": "stream",
     "text": [
      "\n",
      "    ----------------------------------\n",
      "    |          |          |          |\n",
      "    |    X     |    0     |    0     |\n",
      "    |          |          |          |\n",
      "    ----------------------------------\n",
      "    |          |          |          |\n",
      "    |    0     |    X     |    0     |\n",
      "    |          |          |          |\n",
      "    ----------------------------------\n",
      "    |          |          |          |\n",
      "    |    0     |    X     |    0     |\n",
      "    |          |          |          |\n",
      "    ----------------------------------\n",
      "        \n",
      "    \n",
      "0\n"
     ]
    }
   ],
   "source": [
    "pos = [\"X\", \"0\", \"0\", \"0\", \"X\", \"0\", \"0\", \"X\", \"0\"]\n",
    "print_board(pos)\n",
    "value = win_player(pos)\n",
    "print(value)"
   ]
  },
  {
   "cell_type": "code",
   "execution_count": 51,
   "metadata": {},
   "outputs": [
    {
     "name": "stdout",
     "output_type": "stream",
     "text": [
      "\n",
      "    ----------------------------------\n",
      "    |          |          |          |\n",
      "    |    X     |    0     |    0     |\n",
      "    |          |          |          |\n",
      "    ----------------------------------\n",
      "    |          |          |          |\n",
      "    |    X     |    X     |    X     |\n",
      "    |          |          |          |\n",
      "    ----------------------------------\n",
      "    |          |          |          |\n",
      "    |    0     |    X     |    0     |\n",
      "    |          |          |          |\n",
      "    ----------------------------------\n",
      "        \n",
      "    \n",
      "X\n"
     ]
    }
   ],
   "source": [
    "pos = [\"X\", \"0\", \"0\", \"X\", \"X\", \"X\", \"0\", \"X\", \"0\"]\n",
    "print_board(pos)\n",
    "value = win_player(pos)\n",
    "print(value)"
   ]
  },
  {
   "cell_type": "code",
   "execution_count": 52,
   "metadata": {},
   "outputs": [],
   "source": [
    "player_dict = {\n",
    "    'X': 'Naman',\n",
    "    '0': 'Deepratan'\n",
    "}"
   ]
  },
  {
   "cell_type": "code",
   "execution_count": 53,
   "metadata": {},
   "outputs": [
    {
     "data": {
      "text/plain": [
       "'Naman'"
      ]
     },
     "execution_count": 53,
     "metadata": {},
     "output_type": "execute_result"
    }
   ],
   "source": [
    "player_dict.get(win_player(pos))"
   ]
  },
  {
   "cell_type": "markdown",
   "metadata": {},
   "source": [
    "### 3. Without Argument With Return Type"
   ]
  },
  {
   "cell_type": "markdown",
   "metadata": {},
   "source": [
    "    return is last statement of function"
   ]
  },
  {
   "cell_type": "code",
   "execution_count": 54,
   "metadata": {},
   "outputs": [],
   "source": [
    "def hello():\n",
    "    return \"Hello World! I am without argument with return type function\""
   ]
  },
  {
   "cell_type": "code",
   "execution_count": 55,
   "metadata": {},
   "outputs": [],
   "source": [
    "x = hello()"
   ]
  },
  {
   "cell_type": "code",
   "execution_count": 56,
   "metadata": {},
   "outputs": [
    {
     "name": "stdout",
     "output_type": "stream",
     "text": [
      "Hello World! I am without argument with return type function\n"
     ]
    }
   ],
   "source": [
    "print(x)"
   ]
  },
  {
   "cell_type": "code",
   "execution_count": 57,
   "metadata": {},
   "outputs": [],
   "source": [
    "def tell_me():\n",
    "    return 1\n",
    "    return 2\n",
    "    return 3"
   ]
  },
  {
   "cell_type": "code",
   "execution_count": 58,
   "metadata": {},
   "outputs": [],
   "source": [
    "value = tell_me()"
   ]
  },
  {
   "cell_type": "code",
   "execution_count": 59,
   "metadata": {},
   "outputs": [
    {
     "name": "stdout",
     "output_type": "stream",
     "text": [
      "1\n"
     ]
    }
   ],
   "source": [
    "print(value)"
   ]
  },
  {
   "cell_type": "code",
   "execution_count": 60,
   "metadata": {},
   "outputs": [],
   "source": [
    "def hello():\n",
    "    x = 25\n",
    "    return x\n",
    "    print(\"value of x is \", x)"
   ]
  },
  {
   "cell_type": "code",
   "execution_count": 61,
   "metadata": {},
   "outputs": [
    {
     "name": "stdout",
     "output_type": "stream",
     "text": [
      "25\n"
     ]
    }
   ],
   "source": [
    "value = hello()\n",
    "\n",
    "print(value)"
   ]
  },
  {
   "cell_type": "markdown",
   "metadata": {},
   "source": [
    "### 4.With Argument With Return Value"
   ]
  },
  {
   "cell_type": "code",
   "execution_count": 66,
   "metadata": {},
   "outputs": [],
   "source": [
    "def is_even(value):\n",
    "    if value % 2 == 0:\n",
    "        return True\n",
    "    return False"
   ]
  },
  {
   "cell_type": "code",
   "execution_count": 67,
   "metadata": {},
   "outputs": [
    {
     "name": "stdout",
     "output_type": "stream",
     "text": [
      "True\n"
     ]
    }
   ],
   "source": [
    "v = is_even(12)\n",
    "print(v)"
   ]
  },
  {
   "cell_type": "code",
   "execution_count": 68,
   "metadata": {},
   "outputs": [
    {
     "name": "stdout",
     "output_type": "stream",
     "text": [
      "False\n"
     ]
    }
   ],
   "source": [
    "v = is_even(13)\n",
    "print(v)"
   ]
  },
  {
   "cell_type": "code",
   "execution_count": 69,
   "metadata": {},
   "outputs": [
    {
     "name": "stdout",
     "output_type": "stream",
     "text": [
      "[2, 4, 6, 8, 10, 12, 14, 16, 18]\n"
     ]
    }
   ],
   "source": [
    "lst = [ v for v in range(1, 20) if is_even(v) ]\n",
    "print(lst)"
   ]
  },
  {
   "cell_type": "code",
   "execution_count": 70,
   "metadata": {},
   "outputs": [],
   "source": [
    "def win_player(pos):\n",
    "    cond1 = [\n",
    "        (pos[0]==pos[1]==pos[2]),\n",
    "        (pos[0]==pos[3]==pos[6]),\n",
    "        (pos[0]==pos[4]==pos[8]),\n",
    "    ]\n",
    "    cond2 = [\n",
    "        (pos[2]==pos[4]==pos[6]),\n",
    "        (pos[2]==pos[5]==pos[8]),\n",
    "    ]\n",
    "    if any(cond1):\n",
    "        win_char = pos[0]\n",
    "    elif any(cond2):\n",
    "        win_char = pos[2]\n",
    "    elif (pos[1]==pos[4]==pos[7]):\n",
    "        win_char = pos[1]\n",
    "    elif (pos[3]==pos[4]==pos[5]):\n",
    "        win_char = pos[3]\n",
    "    elif (pos[6]==pos[7]==pos[8]):\n",
    "        win_char = pos[6]\n",
    "    else:\n",
    "        win_char = ''\n",
    "    return win_char"
   ]
  },
  {
   "cell_type": "code",
   "execution_count": 75,
   "metadata": {},
   "outputs": [],
   "source": [
    "def result(maths, physics, chemistry):\n",
    "    \"\"\"\n",
    "        calculates and return percentage\n",
    "    \"\"\"\n",
    "    total_marks = maths + physics + chemistry\n",
    "    percentage = (total_marks/300)*100\n",
    "    return percentage"
   ]
  },
  {
   "cell_type": "code",
   "execution_count": 76,
   "metadata": {},
   "outputs": [
    {
     "data": {
      "text/plain": [
       "77.0"
      ]
     },
     "execution_count": 76,
     "metadata": {},
     "output_type": "execute_result"
    }
   ],
   "source": [
    "result(88, 65, 78)"
   ]
  },
  {
   "cell_type": "code",
   "execution_count": null,
   "metadata": {},
   "outputs": [],
   "source": []
  },
  {
   "cell_type": "code",
   "execution_count": 87,
   "metadata": {},
   "outputs": [],
   "source": [
    "data = [\n",
    "    [ 'Deepratan', 60, 70,  89],\n",
    "    [ 'Naman', 70, 60, 87],\n",
    "    [ 'Arshika', 80, 90, 87],\n",
    "    [ 'Gaurav', 68, 90, 78 ],\n",
    "    [ 'Sachin', 70, 68, 68]\n",
    "]"
   ]
  },
  {
   "cell_type": "code",
   "execution_count": 88,
   "metadata": {},
   "outputs": [],
   "source": [
    "def print_result(data):\n",
    "    print('-'*66)\n",
    "    print(f\"|{'Name':^20}|{'Maths':^10}|{'Physics':^10}|{'Chemistry':^10}|{'Result':^10}|\")\n",
    "    for n, m, p, c in data:\n",
    "        print('-'*66)\n",
    "        print(f\"|{n:^20}|{m:^10}|{p:^10}|{c:^10}|{result(m, p, c):^10.2f}|\")\n",
    "    print('-'*66)\n",
    "        "
   ]
  },
  {
   "cell_type": "code",
   "execution_count": 89,
   "metadata": {},
   "outputs": [
    {
     "name": "stdout",
     "output_type": "stream",
     "text": [
      "------------------------------------------------------------------\n",
      "|        Name        |  Maths   | Physics  |Chemistry |  Result  |\n",
      "------------------------------------------------------------------\n",
      "|     Deepratan      |    60    |    70    |    89    |  73.00   |\n",
      "------------------------------------------------------------------\n",
      "|       Naman        |    70    |    60    |    87    |  72.33   |\n",
      "------------------------------------------------------------------\n",
      "|      Arshika       |    80    |    90    |    87    |  85.67   |\n",
      "------------------------------------------------------------------\n",
      "|       Gaurav       |    68    |    90    |    78    |  78.67   |\n",
      "------------------------------------------------------------------\n",
      "|       Sachin       |    70    |    68    |    68    |  68.67   |\n",
      "------------------------------------------------------------------\n"
     ]
    }
   ],
   "source": [
    "print_result(data)"
   ]
  },
  {
   "cell_type": "markdown",
   "metadata": {},
   "source": [
    "    def is_prime(num):\n",
    "        if num is prime:\n",
    "            return True\n",
    "        return False"
   ]
  },
  {
   "cell_type": "code",
   "execution_count": null,
   "metadata": {},
   "outputs": [],
   "source": []
  }
 ],
 "metadata": {
  "kernelspec": {
   "display_name": "Python 3",
   "language": "python",
   "name": "python3"
  },
  "language_info": {
   "codemirror_mode": {
    "name": "ipython",
    "version": 3
   },
   "file_extension": ".py",
   "mimetype": "text/x-python",
   "name": "python",
   "nbconvert_exporter": "python",
   "pygments_lexer": "ipython3",
   "version": "3.8.3"
  }
 },
 "nbformat": 4,
 "nbformat_minor": 4
}
