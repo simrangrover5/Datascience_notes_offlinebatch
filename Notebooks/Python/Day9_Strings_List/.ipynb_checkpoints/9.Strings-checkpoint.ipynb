{
 "cells": [
  {
   "cell_type": "markdown",
   "metadata": {},
   "source": [
    "### Strings"
   ]
  },
  {
   "cell_type": "markdown",
   "metadata": {},
   "source": [
    "### Justification\n",
    "\n",
    "\n",
    "    str.center(width, fillchar=' ')\n",
    "    \n",
    "    str.rjust(width, fillchar=' ')\n",
    "    \n",
    "    str.ljust(width, fillchar=' ')\n",
    "    \n",
    "    str.zfill(width) "
   ]
  },
  {
   "cell_type": "code",
   "execution_count": 3,
   "metadata": {},
   "outputs": [
    {
     "name": "stdout",
     "output_type": "stream",
     "text": [
      "'Sachin'\n",
      "'Sachin    '\n",
      "'Sachin****'\n"
     ]
    }
   ],
   "source": [
    "s = \"Sachin\"\n",
    "print(repr(s))\n",
    "s1 = s.ljust(10)\n",
    "print(repr(s1))\n",
    "s1 = s.ljust(10, '*')\n",
    "print(repr(s1))"
   ]
  },
  {
   "cell_type": "code",
   "execution_count": 9,
   "metadata": {},
   "outputs": [
    {
     "name": "stdout",
     "output_type": "stream",
     "text": [
      "'1     '\n",
      "'121   '\n",
      "'1234  '\n",
      "'65342 '\n",
      "'978632'\n"
     ]
    }
   ],
   "source": [
    "print(repr(\"1\".ljust(6)))\n",
    "print(repr(\"121\".ljust(6)))\n",
    "print(repr(\"1234\".ljust(6)))\n",
    "print(repr(\"65342\".ljust(6)))\n",
    "print(repr(\"978632\".ljust(6)))"
   ]
  },
  {
   "cell_type": "code",
   "execution_count": 5,
   "metadata": {},
   "outputs": [
    {
     "name": "stdout",
     "output_type": "stream",
     "text": [
      "'1'\n",
      "'121'\n",
      "'1234'\n",
      "'65342'\n",
      "'978632'\n"
     ]
    }
   ],
   "source": [
    "print(repr(\"1\"))\n",
    "print(repr(\"121\"))\n",
    "print(repr(\"1234\"))\n",
    "print(repr(\"65342\"))\n",
    "print(repr(\"978632\"))"
   ]
  },
  {
   "cell_type": "code",
   "execution_count": 10,
   "metadata": {},
   "outputs": [
    {
     "name": "stdout",
     "output_type": "stream",
     "text": [
      "'     1'\n",
      "'   121'\n",
      "'  1234'\n",
      "' 65342'\n",
      "'978632'\n"
     ]
    }
   ],
   "source": [
    "print(repr(\"1\".rjust(6)))\n",
    "print(repr(\"121\".rjust(6)))\n",
    "print(repr(\"1234\".rjust(6)))\n",
    "print(repr(\"65342\".rjust(6)))\n",
    "print(repr(\"978632\".rjust(6)))"
   ]
  },
  {
   "cell_type": "code",
   "execution_count": 11,
   "metadata": {},
   "outputs": [
    {
     "name": "stdout",
     "output_type": "stream",
     "text": [
      "'  1   '\n",
      "' 121  '\n",
      "' 1234 '\n",
      "'65342 '\n",
      "'978632'\n"
     ]
    }
   ],
   "source": [
    "print(repr(\"1\".center(6)))\n",
    "print(repr(\"121\".center(6)))\n",
    "print(repr(\"1234\".center(6)))\n",
    "print(repr(\"65342\".center(6)))\n",
    "print(repr(\"978632\".center(6)))"
   ]
  },
  {
   "cell_type": "code",
   "execution_count": 16,
   "metadata": {},
   "outputs": [
    {
     "name": "stdout",
     "output_type": "stream",
     "text": [
      "'000001'\n",
      "'000121'\n",
      "'001234'\n",
      "'065342'\n",
      "'978632'\n"
     ]
    }
   ],
   "source": [
    "print(repr(\"1\".zfill(6)))\n",
    "print(repr(\"121\".zfill(6)))\n",
    "print(repr(\"1234\".zfill(6)))\n",
    "print(repr(\"65342\".zfill(6)))\n",
    "print(repr(\"978632\".zfill(6)))"
   ]
  },
  {
   "cell_type": "code",
   "execution_count": 12,
   "metadata": {},
   "outputs": [],
   "source": [
    "name = \"Sachin Yadav\""
   ]
  },
  {
   "cell_type": "code",
   "execution_count": 15,
   "metadata": {},
   "outputs": [
    {
     "name": "stdout",
     "output_type": "stream",
     "text": [
      "________________________Sachin Yadav________________________\n",
      "Sachin Yadav________________________________________________\n",
      "________________________________________________Sachin Yadav\n"
     ]
    }
   ],
   "source": [
    "c = name.center(60, '_')\n",
    "print(c)\n",
    "l = name.ljust(60, '_')\n",
    "print(l)\n",
    "r = name.rjust(60, '_')\n",
    "print(r)"
   ]
  },
  {
   "cell_type": "markdown",
   "metadata": {},
   "source": [
    "### Indexing "
   ]
  },
  {
   "cell_type": "code",
   "execution_count": 17,
   "metadata": {},
   "outputs": [],
   "source": [
    "s = \"Hello World!\""
   ]
  },
  {
   "cell_type": "code",
   "execution_count": 19,
   "metadata": {},
   "outputs": [
    {
     "name": "stdout",
     "output_type": "stream",
     "text": [
      "W\n"
     ]
    }
   ],
   "source": [
    "char = s[6]\n",
    "print(char)"
   ]
  },
  {
   "cell_type": "code",
   "execution_count": 20,
   "metadata": {},
   "outputs": [
    {
     "name": "stdout",
     "output_type": "stream",
     "text": [
      "W\n"
     ]
    }
   ],
   "source": [
    "char = s[-6]\n",
    "print(char)"
   ]
  },
  {
   "cell_type": "code",
   "execution_count": 21,
   "metadata": {},
   "outputs": [
    {
     "name": "stdout",
     "output_type": "stream",
     "text": [
      "r\n"
     ]
    }
   ],
   "source": [
    "print(s[8])"
   ]
  },
  {
   "cell_type": "code",
   "execution_count": 22,
   "metadata": {},
   "outputs": [
    {
     "name": "stdout",
     "output_type": "stream",
     "text": [
      "r\n"
     ]
    }
   ],
   "source": [
    "print(s[-4])"
   ]
  },
  {
   "cell_type": "markdown",
   "metadata": {},
   "source": [
    "### Slicing"
   ]
  },
  {
   "cell_type": "code",
   "execution_count": 23,
   "metadata": {},
   "outputs": [
    {
     "name": "stdout",
     "output_type": "stream",
     "text": [
      "World\n"
     ]
    }
   ],
   "source": [
    "s = \"Hello World!\"\n",
    "\n",
    "s1 = s[6:11]\n",
    "\n",
    "print(s1)"
   ]
  },
  {
   "cell_type": "code",
   "execution_count": 24,
   "metadata": {},
   "outputs": [
    {
     "name": "stdout",
     "output_type": "stream",
     "text": [
      "llo Wo\n"
     ]
    }
   ],
   "source": [
    "s1 = s[2: 8]\n",
    "print(s1)"
   ]
  },
  {
   "cell_type": "code",
   "execution_count": 25,
   "metadata": {},
   "outputs": [
    {
     "name": "stdout",
     "output_type": "stream",
     "text": [
      "HloWrd\n"
     ]
    }
   ],
   "source": [
    "s1 = s[0:12:2]\n",
    "print(s1)"
   ]
  },
  {
   "cell_type": "code",
   "execution_count": 26,
   "metadata": {},
   "outputs": [],
   "source": [
    "one   = s[3:10:3]\n",
    "two   = s[2:9:4]\n",
    "three = s[1:11:2]"
   ]
  },
  {
   "cell_type": "code",
   "execution_count": 27,
   "metadata": {},
   "outputs": [
    {
     "name": "stdout",
     "output_type": "stream",
     "text": [
      "lWl\n",
      "lW\n",
      "el ol\n"
     ]
    }
   ],
   "source": [
    "print(one)\n",
    "print(two)\n",
    "print(three)"
   ]
  },
  {
   "cell_type": "code",
   "execution_count": 28,
   "metadata": {},
   "outputs": [
    {
     "name": "stdout",
     "output_type": "stream",
     "text": [
      "Hello\n"
     ]
    }
   ],
   "source": [
    "print(s[:5]) # first n characters"
   ]
  },
  {
   "cell_type": "code",
   "execution_count": 29,
   "metadata": {},
   "outputs": [
    {
     "name": "stdout",
     "output_type": "stream",
     "text": [
      "World!\n"
     ]
    }
   ],
   "source": [
    "print(s[6:]) # all character except first n char"
   ]
  },
  {
   "cell_type": "code",
   "execution_count": 30,
   "metadata": {},
   "outputs": [
    {
     "name": "stdout",
     "output_type": "stream",
     "text": [
      "Hello World!\n"
     ]
    }
   ],
   "source": [
    "print(s[:]) # copy of string"
   ]
  },
  {
   "cell_type": "code",
   "execution_count": 31,
   "metadata": {},
   "outputs": [
    {
     "name": "stdout",
     "output_type": "stream",
     "text": [
      "HloWrd\n"
     ]
    }
   ],
   "source": [
    "print(s[::2]) # each second character from string"
   ]
  },
  {
   "cell_type": "code",
   "execution_count": 32,
   "metadata": {},
   "outputs": [
    {
     "name": "stdout",
     "output_type": "stream",
     "text": [
      "HlWl\n"
     ]
    }
   ],
   "source": [
    "print(s[::3]) # each third character from string"
   ]
  },
  {
   "cell_type": "code",
   "execution_count": 33,
   "metadata": {},
   "outputs": [
    {
     "name": "stdout",
     "output_type": "stream",
     "text": [
      "''\n"
     ]
    }
   ],
   "source": [
    "s1 = s[9:3:2]\n",
    "print(repr(s1))"
   ]
  },
  {
   "cell_type": "code",
   "execution_count": 34,
   "metadata": {},
   "outputs": [
    {
     "name": "stdout",
     "output_type": "stream",
     "text": [
      "'lo '\n"
     ]
    }
   ],
   "source": [
    "s1 = s[9:3:-2]\n",
    "print(repr(s1))"
   ]
  },
  {
   "cell_type": "code",
   "execution_count": 35,
   "metadata": {},
   "outputs": [
    {
     "name": "stdout",
     "output_type": "stream",
     "text": [
      "!dlro\n",
      "!dlroW olleH\n",
      "olH\n",
      "!r l\n"
     ]
    }
   ],
   "source": [
    "s = \"Hello World!\"\n",
    "\n",
    "print(s[:6:-1])\n",
    "print(s[::-1])\n",
    "print(s[4::-2])\n",
    "print(s[::-3])"
   ]
  },
  {
   "cell_type": "code",
   "execution_count": null,
   "metadata": {},
   "outputs": [],
   "source": []
  }
 ],
 "metadata": {
  "kernelspec": {
   "display_name": "Python 3",
   "language": "python",
   "name": "python3"
  },
  "language_info": {
   "codemirror_mode": {
    "name": "ipython",
    "version": 3
   },
   "file_extension": ".py",
   "mimetype": "text/x-python",
   "name": "python",
   "nbconvert_exporter": "python",
   "pygments_lexer": "ipython3",
   "version": "3.8.3"
  }
 },
 "nbformat": 4,
 "nbformat_minor": 4
}
