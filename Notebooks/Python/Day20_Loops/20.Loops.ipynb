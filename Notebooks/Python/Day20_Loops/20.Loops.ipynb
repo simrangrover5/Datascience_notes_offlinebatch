{
 "cells": [
  {
   "cell_type": "code",
   "execution_count": 5,
   "metadata": {},
   "outputs": [
    {
     "name": "stdout",
     "output_type": "stream",
     "text": [
      "['123', '456', '657']\n"
     ]
    }
   ],
   "source": [
    "data = [ \"123#red\", \"456#green\", \"657#blue\"]\n",
    "\n",
    "result = []\n",
    "\n",
    "for item in data:\n",
    "    result.append(item.split('#')[0])\n",
    "    \n",
    "print(result)"
   ]
  },
  {
   "cell_type": "markdown",
   "metadata": {},
   "source": [
    "#### Leap Year "
   ]
  },
  {
   "cell_type": "code",
   "execution_count": 16,
   "metadata": {},
   "outputs": [
    {
     "name": "stdout",
     "output_type": "stream",
     "text": [
      "Enter year: 2018\n",
      "Not a Leap Year\n"
     ]
    }
   ],
   "source": [
    "year = int(input(\"Enter year: \"))\n",
    "\n",
    "if year % 4 == 0:\n",
    "    if year % 100 == 0:\n",
    "        # we need to wheter this century year is leap or not\n",
    "        if year % 400 == 0:\n",
    "            print(\"Leap Year\")\n",
    "        else:\n",
    "            print(\"Not Leap Year\")\n",
    "    else:\n",
    "        print(\"Leap Year\")\n",
    "else:\n",
    "    print(\"Not a Leap Year\")"
   ]
  },
  {
   "cell_type": "code",
   "execution_count": 20,
   "metadata": {},
   "outputs": [
    {
     "name": "stdout",
     "output_type": "stream",
     "text": [
      "Enter year: 2000\n",
      "Leap Year\n"
     ]
    }
   ],
   "source": [
    "year = int(input(\"Enter year: \"))\n",
    "\n",
    "if year % 4 == 0:\n",
    "    if (year % 100 != 0) or (year % 400 == 0):\n",
    "        print(\"Leap Year\")\n",
    "    else:\n",
    "        print(\"Not Leap Year\")\n",
    "else:\n",
    "    print(\"Not a Leap Year\")"
   ]
  },
  {
   "cell_type": "code",
   "execution_count": 26,
   "metadata": {},
   "outputs": [
    {
     "name": "stdout",
     "output_type": "stream",
     "text": [
      "Enter year: 2000\n",
      "year is Leap Year\n"
     ]
    }
   ],
   "source": [
    "year = int(input(\"Enter year: \"))\n",
    "\n",
    "if ( year % 100 != 0 ) and ( year % 4 == 0 ):\n",
    "    print('year is Leap Year')\n",
    "elif ( year % 100 == 0 ) and ( year % 400 == 0):\n",
    "    print(\"year is Leap Year\")\n",
    "else:\n",
    "    print(\"not a leap year\")"
   ]
  },
  {
   "cell_type": "code",
   "execution_count": 27,
   "metadata": {},
   "outputs": [
    {
     "name": "stdout",
     "output_type": "stream",
     "text": [
      "year is Leap Year\n"
     ]
    }
   ],
   "source": [
    "if  ( ( year % 100 != 0 ) and ( year % 4 == 0 ) ) or (  ( year % 100 == 0 ) and ( year % 400 == 0)):\n",
    "    print('year is Leap Year')\n",
    "else:\n",
    "    print(\"not a leap year\")\n"
   ]
  },
  {
   "cell_type": "code",
   "execution_count": 25,
   "metadata": {},
   "outputs": [
    {
     "name": "stdout",
     "output_type": "stream",
     "text": [
      "Enter year: 2013\n",
      "Not a Leap Year\n"
     ]
    }
   ],
   "source": [
    "year = int(input(\"Enter year: \"))\n",
    "\n",
    "if year % 4 == 0 and (year % 100 != 0) or (year % 400 == 0):\n",
    "        print(\"Leap Year\")\n",
    "else:\n",
    "    print(\"Not a Leap Year\")"
   ]
  },
  {
   "cell_type": "code",
   "execution_count": null,
   "metadata": {},
   "outputs": [],
   "source": []
  },
  {
   "cell_type": "code",
   "execution_count": 33,
   "metadata": {},
   "outputs": [
    {
     "name": "stdout",
     "output_type": "stream",
     "text": [
      "Enter a year: 2021\n",
      "Not Leap Year\n"
     ]
    }
   ],
   "source": [
    "year = int(input(\"Enter a year: \"))\n",
    "\n",
    "conds = [\n",
    "     (year % 4 == 0),\n",
    "    \n",
    "    any([\n",
    "        ( year % 100 != 0 ),\n",
    "        ( year % 400 == 0 )\n",
    "    ])\n",
    "     \n",
    "]\n",
    "\n",
    "if all(conds):\n",
    "    print(\"Leap Year\")\n",
    "else:\n",
    "    print(\"Not Leap Year\")"
   ]
  },
  {
   "cell_type": "code",
   "execution_count": null,
   "metadata": {},
   "outputs": [],
   "source": []
  },
  {
   "cell_type": "code",
   "execution_count": 34,
   "metadata": {},
   "outputs": [
    {
     "data": {
      "text/plain": [
       "True"
      ]
     },
     "execution_count": 34,
     "metadata": {},
     "output_type": "execute_result"
    }
   ],
   "source": [
    "all( [ True, True, True, True]) # AND"
   ]
  },
  {
   "cell_type": "code",
   "execution_count": 35,
   "metadata": {},
   "outputs": [
    {
     "data": {
      "text/plain": [
       "False"
      ]
     },
     "execution_count": 35,
     "metadata": {},
     "output_type": "execute_result"
    }
   ],
   "source": [
    "all([ True, False, True, True])"
   ]
  },
  {
   "cell_type": "code",
   "execution_count": 36,
   "metadata": {},
   "outputs": [
    {
     "data": {
      "text/plain": [
       "False"
      ]
     },
     "execution_count": 36,
     "metadata": {},
     "output_type": "execute_result"
    }
   ],
   "source": [
    "any([ False, False, False, False])"
   ]
  },
  {
   "cell_type": "code",
   "execution_count": 39,
   "metadata": {},
   "outputs": [
    {
     "data": {
      "text/plain": [
       "True"
      ]
     },
     "execution_count": 39,
     "metadata": {},
     "output_type": "execute_result"
    }
   ],
   "source": [
    "any([ False, True, False, False])"
   ]
  },
  {
   "cell_type": "code",
   "execution_count": null,
   "metadata": {},
   "outputs": [],
   "source": [
    "from getpass import getpass\n",
    "\n",
    "player1 = input(\"Enter player 1 name : \")\n",
    "player2 = input(\"Enter player 2 name : \")\n",
    "\n",
    "ch1 = getpass(\"Player1 Choice (rock, paper, scissor): \").strip().lower()\n",
    "ch2 = getpass(\"Player2 Choice (rock, paper, scissor): \").strip().lower()\n",
    "\n",
    "print(f\"{player1} Choice: {ch1}\")\n",
    "print(f\"{player2} Choice: {ch2}\")\n",
    "\n",
    "\n",
    "if ch1 == ch2:\n",
    "    print(\"Match is Tie\")\n",
    "elif (ch1 == 'rock' and ch2 == 'scissor') or (ch1 == 'scissor' and ch2 == 'paper' ) or\\\n",
    "( ch1 == 'paper' and ch2 == 'rock'):\n",
    "    print(f\"{player1} has won the Game\")\n",
    "else:\n",
    "    print(f\"{player2} has won the Game\")"
   ]
  },
  {
   "cell_type": "code",
   "execution_count": 43,
   "metadata": {},
   "outputs": [
    {
     "name": "stdout",
     "output_type": "stream",
     "text": [
      "Enter player 1 name : ankur\n",
      "Enter player 2 name : gaurav\n",
      "Player1 Choice (rock, paper, scissor): ········\n",
      "Player2 Choice (rock, paper, scissor): ········\n",
      "ankur Choice: scissor\n",
      "naman Choice: rock\n",
      "naman has won the Game\n"
     ]
    }
   ],
   "source": [
    "from getpass import getpass\n",
    "\n",
    "player1 = input(\"Enter player 1 name : \")\n",
    "player2 = input(\"Enter player 2 name : \")\n",
    "\n",
    "ch1 = getpass(\"Player1 Choice (rock, paper, scissor): \").strip().lower()\n",
    "ch2 = getpass(\"Player2 Choice (rock, paper, scissor): \").strip().lower()\n",
    "\n",
    "print(f\"{player1} Choice: {ch1}\")\n",
    "print(f\"{player2} Choice: {ch2}\")\n",
    "\n",
    "conds = [\n",
    "     ( ch1 == 'rock'    and ch2 == 'scissor'),\n",
    "     ( ch1 == 'scissor' and ch2 == 'paper'  ), \n",
    "     ( ch1 == 'paper'   and ch2 == 'rock'   )\n",
    "]\n",
    "\n",
    "if ch1 == ch2:\n",
    "    print(\"Match is Tie\")\n",
    "elif any(conds):\n",
    "    print(f\"{player1} has won the Game\")\n",
    "else:\n",
    "    print(f\"{player2} has won the Game\")"
   ]
  },
  {
   "cell_type": "code",
   "execution_count": 44,
   "metadata": {},
   "outputs": [
    {
     "name": "stdout",
     "output_type": "stream",
     "text": [
      "Enter player 1 name : sachin\n",
      "Enter player 2 name : naman\n",
      "Player1 Choice (rock, paper, scissor): ········\n",
      "Player2 Choice (rock, paper, scissor): ········\n",
      "sachin Choice: scissor\n",
      "naman Choice: rock\n",
      "naman has won the game\n"
     ]
    }
   ],
   "source": [
    "from getpass import getpass\n",
    "\n",
    "player1 = input(\"Enter player 1 name : \")\n",
    "player2 = input(\"Enter player 2 name : \")\n",
    "\n",
    "ch1 = getpass(\"Player1 Choice (rock, paper, scissor): \").strip().lower()\n",
    "ch2 = getpass(\"Player2 Choice (rock, paper, scissor): \").strip().lower()\n",
    "\n",
    "print(f\"{player1} Choice: {ch1}\")\n",
    "print(f\"{player2} Choice: {ch2}\")\n",
    "\n",
    "\n",
    "p1_win = [ \n",
    "    (\"rock\", \"scissor\"),\n",
    "    (\"scissor\", \"paper\"),\n",
    "    (\"paper\", \"rock\")\n",
    "         ]\n",
    "\n",
    "ch = (ch1, ch2)\n",
    "\n",
    "if ch in p1_win:\n",
    "    print(f\"{player1} has won the game\")\n",
    "elif ch1 == ch2:\n",
    "    print(\"Match Tie\")\n",
    "else:\n",
    "    print(f\"{player2} has won the game\")"
   ]
  },
  {
   "cell_type": "code",
   "execution_count": null,
   "metadata": {},
   "outputs": [],
   "source": []
  }
 ],
 "metadata": {
  "kernelspec": {
   "display_name": "Python 3",
   "language": "python",
   "name": "python3"
  },
  "language_info": {
   "codemirror_mode": {
    "name": "ipython",
    "version": 3
   },
   "file_extension": ".py",
   "mimetype": "text/x-python",
   "name": "python",
   "nbconvert_exporter": "python",
   "pygments_lexer": "ipython3",
   "version": "3.8.3"
  }
 },
 "nbformat": 4,
 "nbformat_minor": 4
}
