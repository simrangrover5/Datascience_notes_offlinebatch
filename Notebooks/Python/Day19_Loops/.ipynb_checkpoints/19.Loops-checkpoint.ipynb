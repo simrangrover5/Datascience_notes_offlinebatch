{
 "cells": [
  {
   "cell_type": "markdown",
   "metadata": {},
   "source": [
    "you deliver online food here is the menu\n",
    "\n",
    "    1. pizza    - 350\n",
    "    \n",
    "    2. spring roll - 60\n",
    "    \n",
    "    3. momos  - 50\n",
    "    \n",
    "    4. chole bhature - 120\n",
    "    \n",
    "    5. chiken malai tikka - 150\n",
    "    \n",
    "print menu ask for option \n",
    "\n",
    "    amount \n",
    "    \n",
    "delivery distance - input \n",
    "\n",
    "\n",
    "    print final amount \n",
    "    \n",
    "            amount + delivery charge\n",
    "            \n",
    "            \n",
    "first 3 km free\n",
    "\n",
    "\n",
    "after 3 km 2 rs per km till 6 km \n",
    "\n",
    "\n",
    "after 6 km 3 rs per km till 9 km\n",
    "\n",
    "after 9 km 5 rs per km \n",
    "\n",
    " Test case \n",
    " \n",
    "     input \n",
    "     \n",
    "         3                 # item \n",
    "         3                 # quantity\n",
    "         15                # kms\n",
    "    "
   ]
  },
  {
   "cell_type": "code",
   "execution_count": 12,
   "metadata": {},
   "outputs": [
    {
     "name": "stdout",
     "output_type": "stream",
     "text": [
      "Choice: 0\n",
      "Invalid Choice\n"
     ]
    }
   ],
   "source": [
    "\n",
    "items = [ (\"pizza\", 350), (\"spring roll\", 60), (\"momos\", 50), (\"chole bhature\", 120), (\"chiken malai tikka\", 150) ]\n",
    "#             0                  1                  2                  3                     4\n",
    "\n",
    "ch = int(input(\"Choice: \"))\n",
    "if ch > 0 and ch <= len(items):\n",
    "    i = ch-1\n",
    "    print(items[i])\n",
    "else:\n",
    "    print(\"Invalid Choice\")"
   ]
  },
  {
   "cell_type": "code",
   "execution_count": 8,
   "metadata": {},
   "outputs": [
    {
     "data": {
      "text/plain": [
       "('momos', 50)"
      ]
     },
     "execution_count": 8,
     "metadata": {},
     "output_type": "execute_result"
    }
   ],
   "source": []
  },
  {
   "cell_type": "markdown",
   "metadata": {},
   "source": [
    "## Function\n",
    "\n",
    "    A function is group of statements to perform a specific task \n",
    "    \n",
    "    \n",
    "###### why function ? \n",
    "\n",
    "    1. Code Reusability\n",
    "    2. Easy Debugging \n",
    "    3. Reduce Code Complexity\n",
    "    4. Clean Code\n",
    "    5. Extensible Code\n",
    "    6. Easy Documentation"
   ]
  },
  {
   "cell_type": "markdown",
   "metadata": {},
   "source": [
    "### Syntax \n",
    "\n",
    "    Defining a Function\n",
    "\n",
    "        def function_name(arg1, arg2):\n",
    "            st1\n",
    "            st2\n",
    "            st3\n",
    "            ...\n",
    "            stn\n",
    "            return value\n",
    "            \n",
    "    Calling a Function\n",
    "    \n",
    "    value = function_name(para_1, para2)\n",
    "    \n",
    "        "
   ]
  },
  {
   "cell_type": "markdown",
   "metadata": {},
   "source": [
    "### User Defined Function (UDF)"
   ]
  },
  {
   "cell_type": "code",
   "execution_count": 14,
   "metadata": {},
   "outputs": [],
   "source": [
    "def hello(name):\n",
    "    print(f\"Hello {name} Welcome to Functional Programmin\")"
   ]
  },
  {
   "cell_type": "code",
   "execution_count": 15,
   "metadata": {},
   "outputs": [
    {
     "ename": "TypeError",
     "evalue": "hello() missing 1 required positional argument: 'name'",
     "output_type": "error",
     "traceback": [
      "\u001b[1;31m---------------------------------------------------------------------------\u001b[0m",
      "\u001b[1;31mTypeError\u001b[0m                                 Traceback (most recent call last)",
      "\u001b[1;32m<ipython-input-15-a75d7781aaeb>\u001b[0m in \u001b[0;36m<module>\u001b[1;34m\u001b[0m\n\u001b[1;32m----> 1\u001b[1;33m \u001b[0mhello\u001b[0m\u001b[1;33m(\u001b[0m\u001b[1;33m)\u001b[0m\u001b[1;33m\u001b[0m\u001b[1;33m\u001b[0m\u001b[0m\n\u001b[0m",
      "\u001b[1;31mTypeError\u001b[0m: hello() missing 1 required positional argument: 'name'"
     ]
    }
   ],
   "source": [
    "hello()"
   ]
  },
  {
   "cell_type": "code",
   "execution_count": 16,
   "metadata": {},
   "outputs": [
    {
     "name": "stdout",
     "output_type": "stream",
     "text": [
      "Hello Naman Welcome to Functional Programmin\n"
     ]
    }
   ],
   "source": [
    "hello(\"Naman\")"
   ]
  },
  {
   "cell_type": "code",
   "execution_count": 17,
   "metadata": {},
   "outputs": [
    {
     "name": "stdout",
     "output_type": "stream",
     "text": [
      "Hello Gaurav Welcome to Functional Programmin\n"
     ]
    }
   ],
   "source": [
    "hello(\"Gaurav\")"
   ]
  },
  {
   "cell_type": "code",
   "execution_count": 18,
   "metadata": {},
   "outputs": [
    {
     "name": "stdout",
     "output_type": "stream",
     "text": [
      "Hello gaurav Welcome to Functional Programmin\n",
      "Hello deepratan Welcome to Functional Programmin\n",
      "Hello naman Welcome to Functional Programmin\n",
      "Hello arshika Welcome to Functional Programmin\n"
     ]
    }
   ],
   "source": [
    "def hello(name):\n",
    "    print(f\"Hello {name} Welcome to Functional Programmin\")\n",
    "names = [ 'gaurav', 'deepratan', 'naman', 'arshika']\n",
    "\n",
    "for item in names:\n",
    "    hello(item)"
   ]
  },
  {
   "cell_type": "code",
   "execution_count": 23,
   "metadata": {},
   "outputs": [
    {
     "name": "stdout",
     "output_type": "stream",
     "text": [
      "2, 4, 6, 8, 10, 12, 14, 16, 18, 20, "
     ]
    }
   ],
   "source": [
    "def is_even(num):\n",
    "    \"\"\"\n",
    "        return True if num is even else return False\n",
    "    \"\"\"\n",
    "    flag = False\n",
    "    if num % 2 == 0:\n",
    "        flag = True\n",
    "    return flag\n",
    "    \n",
    "for val in range(1, 21):\n",
    "    if is_even(val):\n",
    "        print(val, end=', ')\n"
   ]
  },
  {
   "cell_type": "code",
   "execution_count": 21,
   "metadata": {},
   "outputs": [
    {
     "name": "stdout",
     "output_type": "stream",
     "text": [
      "True\n"
     ]
    }
   ],
   "source": [
    "v = is_even(20)\n",
    "print(v)"
   ]
  },
  {
   "cell_type": "code",
   "execution_count": 22,
   "metadata": {},
   "outputs": [
    {
     "name": "stdout",
     "output_type": "stream",
     "text": [
      "False\n"
     ]
    }
   ],
   "source": [
    "v = is_even(13)\n",
    "print(v)"
   ]
  },
  {
   "cell_type": "code",
   "execution_count": 56,
   "metadata": {},
   "outputs": [
    {
     "name": "stdout",
     "output_type": "stream",
     "text": [
      "1. Dish = \"       PIZZA        \" Price = 350\n",
      "2. Dish = \"    SPRING ROLL     \" Price = 60\n",
      "3. Dish = \"       MOMOS        \" Price = 50\n",
      "4. Dish = \"   CHOLE BHATURE    \" Price = 120\n",
      "5. Dish = \" CHIKEN MALAI TIKKA \" Price = 150\n",
      "6. Dish = \"       LASSI        \" Price = 60\n",
      "\n",
      "Enter your choice: 5\n",
      "\n",
      "Quantity: 2\n",
      "\n",
      "Item to Deliver chiken malai tikka\n",
      "\n",
      "Distance in kms: 8\n",
      "\n",
      "You have to Pay:  312\n"
     ]
    }
   ],
   "source": [
    "items = [ \n",
    "    (\"pizza\", 350), # 0\n",
    "    (\"spring roll\", 60), # 1\n",
    "    (\"momos\", 50), # 2\n",
    "    (\"chole bhature\", 120), # 3\n",
    "    (\"chiken malai tikka\", 150), # 4\n",
    "    (\"lassi\", 60)\n",
    "]\n",
    "   \n",
    "    \n",
    "def print_menu(items):\n",
    "    \"\"\"\n",
    "        will show restaurant menu\n",
    "    \"\"\"\n",
    "    c = 1\n",
    "    for item in items:\n",
    "        print(f'{c}. Dish = \"{item[0].upper().center(20)}\" Price = {item[1]}')\n",
    "        c = c+1\n",
    "    \n",
    "def item_price(ch, q):\n",
    "    \"\"\"Returns item Price\"\"\"\n",
    "    return items[ch-1][1] * q\n",
    "\n",
    "def delivery_charge(kms):\n",
    "    \"\"\"Returns delivery charge based on distance\"\"\"\n",
    "    kms = kms - 3 # first 3 kms\n",
    "    charge = 0\n",
    "    if kms > 0:\n",
    "        kms = kms - 3\n",
    "        if kms > 0:\n",
    "            charge += 3 * 2\n",
    "            kms = kms - 3\n",
    "            if kms > 0:\n",
    "                charge += 3 * 3\n",
    "                charge += (kms * 5)\n",
    "            else:\n",
    "                charge += (3 + kms) * 3\n",
    "            \n",
    "        else:\n",
    "            charge += (3 + kms)* 2\n",
    "    return charge\n",
    "        \n",
    "    \n",
    "print_menu(items)\n",
    "ch = int(input(\"\\nEnter your choice: \"))\n",
    "q = int(input(\"\\nQuantity: \"))\n",
    "if ch > 0 and ch < len(items) and q > 0:\n",
    "    print(f\"\\nItem to Deliver {items[ch-1][0]}\")\n",
    "    amount = item_price(ch, q)\n",
    "    kms = int(input(\"\\nDistance in kms: \"))\n",
    "    del_charge = delivery_charge(kms)\n",
    "    total_amount = amount + del_charge\n",
    "    print(\"\\nYou have to Pay: \", total_amount)\n",
    "else:\n",
    "    print(\"\\nInvalid Choice: \")"
   ]
  },
  {
   "cell_type": "code",
   "execution_count": 51,
   "metadata": {},
   "outputs": [
    {
     "data": {
      "text/plain": [
       "45"
      ]
     },
     "execution_count": 51,
     "metadata": {},
     "output_type": "execute_result"
    }
   ],
   "source": [
    "delivery_charge(15)"
   ]
  },
  {
   "cell_type": "code",
   "execution_count": 45,
   "metadata": {},
   "outputs": [
    {
     "data": {
      "text/plain": [
       "0"
      ]
     },
     "execution_count": 45,
     "metadata": {},
     "output_type": "execute_result"
    }
   ],
   "source": [
    "delivery_charge(3)"
   ]
  },
  {
   "cell_type": "code",
   "execution_count": 50,
   "metadata": {},
   "outputs": [
    {
     "data": {
      "text/plain": [
       "12"
      ]
     },
     "execution_count": 50,
     "metadata": {},
     "output_type": "execute_result"
    }
   ],
   "source": [
    "delivery_charge(8)"
   ]
  },
  {
   "cell_type": "code",
   "execution_count": 35,
   "metadata": {},
   "outputs": [
    {
     "name": "stdout",
     "output_type": "stream",
     "text": [
      "1. Dish = \"       PIZZA        \" Price = 350\n",
      "2. Dish = \"    SPRING ROLL     \" Price = 60\n",
      "3. Dish = \"       MOMOS        \" Price = 50\n",
      "4. Dish = \"   CHOLE BHATURE    \" Price = 120\n",
      "5. Dish = \" CHIKEN MALAI TIKKA \" Price = 150\n",
      "6. Dish = \"       LASSI        \" Price = 60\n"
     ]
    }
   ],
   "source": [
    "print_menu(items)"
   ]
  },
  {
   "cell_type": "code",
   "execution_count": 63,
   "metadata": {},
   "outputs": [
    {
     "name": "stdout",
     "output_type": "stream",
     "text": [
      "1. Dish = \"       PIZZA        \" Price = 350\n",
      "2. Dish = \"    SPRING ROLL     \" Price = 60\n",
      "3. Dish = \"       MOMOS        \" Price = 50\n",
      "4. Dish = \"   CHOLE BHATURE    \" Price = 120\n",
      "5. Dish = \" CHIKEN MALAI TIKKA \" Price = 150\n",
      "6. Dish = \"       LASSI        \" Price = 60\n",
      "\n",
      "Enter your choice: 5\n",
      "\n",
      "Quantity: 2\n",
      "\n",
      "Item to Deliver chiken malai tikka\n",
      "\n",
      "Distance in kms: 8\n",
      "\n",
      "You have to Pay:  312\n"
     ]
    }
   ],
   "source": [
    "items = [ \n",
    "    (\"pizza\", 350), # 0\n",
    "    (\"spring roll\", 60), # 1\n",
    "    (\"momos\", 50), # 2\n",
    "    (\"chole bhature\", 120), # 3\n",
    "    (\"chiken malai tikka\", 150), # 4\n",
    "    (\"lassi\", 60)\n",
    "]\n",
    "   \n",
    "    \n",
    "def print_menu(items):\n",
    "    \"\"\"\n",
    "        will show restaurant menu\n",
    "    \"\"\"\n",
    "    c = 1\n",
    "    for item in items:\n",
    "        print(f'{c}. Dish = \"{item[0].upper().center(20)}\" Price = {item[1]}')\n",
    "        c = c+1\n",
    "    \n",
    "def item_price(ch, q):\n",
    "    \"\"\"Returns item Price\"\"\"\n",
    "    return items[ch-1][1] * q\n",
    "\n",
    "def delivery_charge(kms):\n",
    "    \"\"\"Returns delivery charge based on distance\"\"\"\n",
    "    if kms > 3 and kms <= 6:\n",
    "        charge = (kms-3)*2\n",
    "    if kms > 6 and kms <= 9:\n",
    "        charge = (kms- 6) * 3  + 6\n",
    "    if kms > 9:\n",
    "        charge = (kms - 9)  * 5 + 15\n",
    "    return charge\n",
    "        \n",
    "    \n",
    "print_menu(items)\n",
    "ch = int(input(\"\\nEnter your choice: \"))\n",
    "q = int(input(\"\\nQuantity: \"))\n",
    "if ch > 0 and ch < len(items) and q > 0:\n",
    "    print(f\"\\nItem to Deliver {items[ch-1][0]}\")\n",
    "    amount = item_price(ch, q)\n",
    "    kms = int(input(\"\\nDistance in kms: \"))\n",
    "    del_charge = delivery_charge(kms)\n",
    "    total_amount = amount + del_charge\n",
    "    print(\"\\nYou have to Pay: \", total_amount)\n",
    "else:\n",
    "    print(\"\\nInvalid Choice: \")"
   ]
  },
  {
   "cell_type": "code",
   "execution_count": 64,
   "metadata": {},
   "outputs": [
    {
     "data": {
      "text/plain": [
       "12"
      ]
     },
     "execution_count": 64,
     "metadata": {},
     "output_type": "execute_result"
    }
   ],
   "source": [
    "delivery_charge(8)"
   ]
  },
  {
   "cell_type": "code",
   "execution_count": null,
   "metadata": {},
   "outputs": [],
   "source": []
  }
 ],
 "metadata": {
  "kernelspec": {
   "display_name": "Python 3",
   "language": "python",
   "name": "python3"
  },
  "language_info": {
   "codemirror_mode": {
    "name": "ipython",
    "version": 3
   },
   "file_extension": ".py",
   "mimetype": "text/x-python",
   "name": "python",
   "nbconvert_exporter": "python",
   "pygments_lexer": "ipython3",
   "version": "3.8.3"
  }
 },
 "nbformat": 4,
 "nbformat_minor": 4
}
