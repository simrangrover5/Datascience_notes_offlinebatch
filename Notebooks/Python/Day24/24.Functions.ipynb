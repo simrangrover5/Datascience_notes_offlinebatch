{
 "cells": [
  {
   "cell_type": "code",
   "execution_count": 1,
   "metadata": {},
   "outputs": [
    {
     "name": "stdout",
     "output_type": "stream",
     "text": [
      "S\n",
      "t\n",
      "r\n",
      "i\n",
      "n\n",
      "g\n"
     ]
    }
   ],
   "source": [
    "for char in 'String':\n",
    "    print(char)"
   ]
  },
  {
   "cell_type": "markdown",
   "metadata": {},
   "source": [
    "#### Iteration"
   ]
  },
  {
   "cell_type": "code",
   "execution_count": 5,
   "metadata": {},
   "outputs": [
    {
     "name": "stdout",
     "output_type": "stream",
     "text": [
      "gaurav\n",
      "naman\n"
     ]
    }
   ],
   "source": [
    "for item in [ 'gaurav', 'naman', 'ankur']:\n",
    "    if item == 'ankur':\n",
    "        break\n",
    "    print(item)"
   ]
  },
  {
   "cell_type": "code",
   "execution_count": 3,
   "metadata": {},
   "outputs": [
    {
     "name": "stdout",
     "output_type": "stream",
     "text": [
      "name\n",
      "country\n",
      "city\n"
     ]
    }
   ],
   "source": [
    "d = { 'name': 'naman', 'country': 'india', 'city': 'jaipur'}\n",
    "for key in d:\n",
    "    print(key)\n",
    "    "
   ]
  },
  {
   "cell_type": "code",
   "execution_count": 4,
   "metadata": {},
   "outputs": [
    {
     "ename": "TypeError",
     "evalue": "'int' object is not iterable",
     "output_type": "error",
     "traceback": [
      "\u001b[1;31m---------------------------------------------------------------------------\u001b[0m",
      "\u001b[1;31mTypeError\u001b[0m                                 Traceback (most recent call last)",
      "\u001b[1;32m<ipython-input-4-ca1cfff8bccf>\u001b[0m in \u001b[0;36m<module>\u001b[1;34m\u001b[0m\n\u001b[1;32m----> 1\u001b[1;33m \u001b[1;32mfor\u001b[0m \u001b[0mi\u001b[0m \u001b[1;32min\u001b[0m \u001b[1;36m12345\u001b[0m\u001b[1;33m:\u001b[0m\u001b[1;33m\u001b[0m\u001b[1;33m\u001b[0m\u001b[0m\n\u001b[0m\u001b[0;32m      2\u001b[0m     \u001b[0mprint\u001b[0m\u001b[1;33m(\u001b[0m\u001b[0mi\u001b[0m\u001b[1;33m)\u001b[0m\u001b[1;33m\u001b[0m\u001b[1;33m\u001b[0m\u001b[0m\n",
      "\u001b[1;31mTypeError\u001b[0m: 'int' object is not iterable"
     ]
    }
   ],
   "source": [
    "for i in 12345:\n",
    "    print(i)"
   ]
  },
  {
   "cell_type": "code",
   "execution_count": 7,
   "metadata": {},
   "outputs": [
    {
     "name": "stdout",
     "output_type": "stream",
     "text": [
      "name = naman\n",
      "country = india\n",
      "city = jaipur\n"
     ]
    }
   ],
   "source": [
    "d = { 'name': 'naman', 'country': 'india', 'city': 'jaipur'}\n",
    "for key in d:\n",
    "    print(key,'=', d[key])\n",
    "    "
   ]
  },
  {
   "cell_type": "code",
   "execution_count": 8,
   "metadata": {},
   "outputs": [
    {
     "name": "stdout",
     "output_type": "stream",
     "text": [
      "('name', 'naman')\n",
      "('country', 'india')\n",
      "('city', 'jaipur')\n"
     ]
    }
   ],
   "source": [
    "d = { 'name': 'naman', 'country': 'india', 'city': 'jaipur'}\n",
    "\n",
    "for item in d.items():\n",
    "    print(item)"
   ]
  },
  {
   "cell_type": "code",
   "execution_count": 9,
   "metadata": {},
   "outputs": [
    {
     "name": "stdout",
     "output_type": "stream",
     "text": [
      "6\n",
      "8\n"
     ]
    }
   ],
   "source": [
    "x, y = 6, 8\n",
    "print(x)\n",
    "print(y)"
   ]
  },
  {
   "cell_type": "code",
   "execution_count": 10,
   "metadata": {},
   "outputs": [
    {
     "name": "stdout",
     "output_type": "stream",
     "text": [
      "name = naman\n",
      "country = india\n",
      "city = jaipur\n"
     ]
    }
   ],
   "source": [
    "d = { 'name': 'naman', 'country': 'india', 'city': 'jaipur'}\n",
    "\n",
    "for key, value in d.items():\n",
    "    print(key, '=', value)"
   ]
  },
  {
   "cell_type": "code",
   "execution_count": 11,
   "metadata": {},
   "outputs": [],
   "source": [
    "data = [\n",
    "    ('sachin', 'data scientist'),\n",
    "    ('gaurav', 'business analyst'),\n",
    "    ('deepratan', 'developer'),\n",
    "    ('naman', 'the hacker'),\n",
    "    ('ankur', 'data analyst'),\n",
    "    ('arshika', 'machine learning engineer')\n",
    "]"
   ]
  },
  {
   "cell_type": "code",
   "execution_count": 12,
   "metadata": {},
   "outputs": [
    {
     "name": "stdout",
     "output_type": "stream",
     "text": [
      "('sachin', 'data scientist')\n",
      "('gaurav', 'business analyst')\n",
      "('deepratan', 'developer')\n",
      "('naman', 'the hacker')\n",
      "('ankur', 'data analyst')\n",
      "('arshika', 'machine learning engineer')\n"
     ]
    }
   ],
   "source": [
    "for item in data:\n",
    "    print(item)"
   ]
  },
  {
   "cell_type": "code",
   "execution_count": 13,
   "metadata": {},
   "outputs": [
    {
     "name": "stdout",
     "output_type": "stream",
     "text": [
      "sachin is data scientist.\n",
      "gaurav is business analyst.\n",
      "deepratan is developer.\n",
      "naman is the hacker.\n",
      "ankur is data analyst.\n",
      "arshika is machine learning engineer.\n"
     ]
    }
   ],
   "source": [
    "data = [\n",
    "    ('sachin', 'data scientist'),\n",
    "    ('gaurav', 'business analyst'),\n",
    "    ('deepratan', 'developer'),\n",
    "    ('naman', 'the hacker'),\n",
    "    ('ankur', 'data analyst'),\n",
    "    ('arshika', 'machine learning engineer')\n",
    "]\n",
    "\n",
    "for name, profile in data:\n",
    "    print(f\"{name} is {profile}.\")"
   ]
  },
  {
   "cell_type": "markdown",
   "metadata": {},
   "source": [
    "    polynomial -> a*x**2 + bx + c"
   ]
  },
  {
   "cell_type": "code",
   "execution_count": 1,
   "metadata": {},
   "outputs": [],
   "source": [
    "params = [\n",
    "    (10, 20, 0), \n",
    "    (5, 3, 4),\n",
    "    (1, 2, 3), \n",
    "    (6, 2, 4)\n",
    "]"
   ]
  },
  {
   "cell_type": "code",
   "execution_count": 2,
   "metadata": {},
   "outputs": [
    {
     "name": "stdout",
     "output_type": "stream",
     "text": [
      "X: 5\n",
      " 10   +  20   +   0   =    350     \n",
      "  5   +   3   +   4   =    144     \n",
      "  1   +   2   +   3   =     38     \n",
      "  6   +   2   +   4   =    164     \n"
     ]
    }
   ],
   "source": [
    "x = int(input(\"X: \"))\n",
    "\n",
    "for a, b, c in params:\n",
    "    ans = a*x**2 + b*x + c\n",
    "    print(f\"{a:^5} + {b:^5} + {c:^5} = {ans:^10} \")"
   ]
  },
  {
   "cell_type": "code",
   "execution_count": 4,
   "metadata": {},
   "outputs": [],
   "source": [
    "data = [\n",
    "    {'name': 'sachin', 'country': 'India', 'language': 'hindi'},\n",
    "    {'name': 'naman', 'country': 'Afganisthan', 'language': 'pasto'},\n",
    "    {'name': 'gaurav', 'country': 'USA', 'language': 'english'}\n",
    "    \n",
    "]"
   ]
  },
  {
   "cell_type": "code",
   "execution_count": 5,
   "metadata": {},
   "outputs": [
    {
     "name": "stdout",
     "output_type": "stream",
     "text": [
      "{'name': 'sachin', 'country': 'India', 'language': 'hindi'}\n",
      "{'name': 'naman', 'country': 'Afganisthan', 'language': 'pasto'}\n",
      "{'name': 'gaurav', 'country': 'USA', 'language': 'english'}\n"
     ]
    }
   ],
   "source": [
    "for item in data:\n",
    "    print(item)"
   ]
  },
  {
   "cell_type": "markdown",
   "metadata": {},
   "source": [
    "    _________________________________________\n",
    "    |   name    |    country    |   language |\n",
    "    _________________________________________\n",
    "    |   sachin   |   India      |   Hindi    |\n",
    "    __________________________________________"
   ]
  },
  {
   "cell_type": "code",
   "execution_count": 8,
   "metadata": {},
   "outputs": [
    {
     "name": "stdout",
     "output_type": "stream",
     "text": [
      "______________________________________________________________________________________________\n",
      "|             name             |           country            |           langauge           |\n",
      "______________________________________________________________________________________________\n"
     ]
    }
   ],
   "source": []
  },
  {
   "cell_type": "code",
   "execution_count": 13,
   "metadata": {},
   "outputs": [],
   "source": [
    "name, country, language = list({'name': 'sachin', 'country': 'India', 'language': 'hindi'}.values())"
   ]
  },
  {
   "cell_type": "code",
   "execution_count": 14,
   "metadata": {},
   "outputs": [],
   "source": [
    "data = [\n",
    "    {'name': 'sachin', 'country': 'India', 'language': 'hindi'},\n",
    "    {'name': 'naman', 'country': 'Afganisthan', 'language': 'pasto'},\n",
    "    {'name': 'gaurav', 'country': 'USA', 'language': 'english'}\n",
    "    \n",
    "]"
   ]
  },
  {
   "cell_type": "code",
   "execution_count": 17,
   "metadata": {},
   "outputs": [
    {
     "name": "stdout",
     "output_type": "stream",
     "text": [
      "______________________________________________________________________________________________\n",
      "|             name             |           country            |           langauge           |\n",
      "______________________________________________________________________________________________\n",
      "|            sachin            |            India             |            hindi             |\n",
      "______________________________________________________________________________________________\n",
      "|            naman             |         Afganisthan          |            pasto             |\n",
      "______________________________________________________________________________________________\n",
      "|            gaurav            |             USA              |           english            |\n",
      "______________________________________________________________________________________________\n"
     ]
    }
   ],
   "source": [
    "print(\"_\"*94)\n",
    "print(f\"|{'name':^30}|{'country':^30}|{'langauge':^30}|\")\n",
    "print(\"_\"*94)\n",
    "for item in data:\n",
    "    name, country, language = item.values()\n",
    "    print(f\"|{name:^30}|{country:^30}|{language:^30}|\")\n",
    "    print(\"_\"*94)"
   ]
  },
  {
   "cell_type": "code",
   "execution_count": 19,
   "metadata": {},
   "outputs": [
    {
     "name": "stdout",
     "output_type": "stream",
     "text": [
      "0 1 2 3 4\n"
     ]
    }
   ],
   "source": [
    "print(*range(5))"
   ]
  },
  {
   "cell_type": "code",
   "execution_count": 20,
   "metadata": {},
   "outputs": [
    {
     "name": "stdout",
     "output_type": "stream",
     "text": [
      "[0, 1, 2, 3, 4]\n"
     ]
    }
   ],
   "source": [
    "print(list(range(5)))"
   ]
  },
  {
   "cell_type": "code",
   "execution_count": 22,
   "metadata": {},
   "outputs": [
    {
     "name": "stdout",
     "output_type": "stream",
     "text": [
      "[1, 2, 3, 4, 5, 6, 7, 8, 9, 10]\n"
     ]
    }
   ],
   "source": [
    "print(list(range(1, 11)))"
   ]
  },
  {
   "cell_type": "code",
   "execution_count": 23,
   "metadata": {},
   "outputs": [
    {
     "name": "stdout",
     "output_type": "stream",
     "text": [
      "[51, 52, 53, 54, 55, 56, 57, 58, 59]\n"
     ]
    }
   ],
   "source": [
    "print(list(range(51, 60)))"
   ]
  },
  {
   "cell_type": "code",
   "execution_count": 24,
   "metadata": {},
   "outputs": [
    {
     "name": "stdout",
     "output_type": "stream",
     "text": [
      "[1, 6, 11, 16]\n"
     ]
    }
   ],
   "source": [
    "print(list(range(1, 20, 5)))"
   ]
  },
  {
   "cell_type": "code",
   "execution_count": 25,
   "metadata": {},
   "outputs": [
    {
     "name": "stdout",
     "output_type": "stream",
     "text": [
      "[]\n"
     ]
    }
   ],
   "source": [
    "print(list(range(10, 1)))"
   ]
  },
  {
   "cell_type": "code",
   "execution_count": 26,
   "metadata": {},
   "outputs": [
    {
     "name": "stdout",
     "output_type": "stream",
     "text": [
      "[-10, -9, -8, -7, -6, -5, -4, -3, -2]\n"
     ]
    }
   ],
   "source": [
    "print(list(range(-10, -1)))"
   ]
  },
  {
   "cell_type": "code",
   "execution_count": 28,
   "metadata": {},
   "outputs": [
    {
     "name": "stdout",
     "output_type": "stream",
     "text": [
      "[-1, -2, -3, -4, -5, -6, -7, -8, -9]\n"
     ]
    }
   ],
   "source": [
    "print(list(range(-1, -10, -1)))"
   ]
  },
  {
   "cell_type": "code",
   "execution_count": 29,
   "metadata": {},
   "outputs": [
    {
     "name": "stdout",
     "output_type": "stream",
     "text": [
      "[10, 8, 6, 4, 2]\n"
     ]
    }
   ],
   "source": [
    "print(list(range(10, 1, -2)))"
   ]
  },
  {
   "cell_type": "code",
   "execution_count": 30,
   "metadata": {},
   "outputs": [
    {
     "name": "stdout",
     "output_type": "stream",
     "text": [
      "Hello 1!\n",
      "Hello 2!\n",
      "Hello 3!\n",
      "Hello 4!\n",
      "Hello 5!\n",
      "Hello 6!\n",
      "Hello 7!\n",
      "Hello 8!\n",
      "Hello 9!\n",
      "Hello 10!\n"
     ]
    }
   ],
   "source": [
    "for var in range(1, 11):\n",
    "    print(f\"Hello {var}!\")"
   ]
  },
  {
   "cell_type": "code",
   "execution_count": 31,
   "metadata": {},
   "outputs": [
    {
     "name": "stdout",
     "output_type": "stream",
     "text": [
      "Hello\n"
     ]
    }
   ],
   "source": [
    "print(\"Hello\")"
   ]
  },
  {
   "cell_type": "code",
   "execution_count": 33,
   "metadata": {},
   "outputs": [
    {
     "name": "stdout",
     "output_type": "stream",
     "text": [
      "H\n",
      "e\n",
      "l\n",
      "l\n",
      "o\n"
     ]
    }
   ],
   "source": [
    "print(*\"Hello\", sep='\\n')"
   ]
  },
  {
   "cell_type": "code",
   "execution_count": 36,
   "metadata": {},
   "outputs": [
    {
     "name": "stdout",
     "output_type": "stream",
     "text": [
      "[1, 2, 3, 4]\n",
      "1\n",
      "2\n",
      "3\n",
      "4\n"
     ]
    }
   ],
   "source": [
    "lst = [ 1, 2, 3, 4]\n",
    "print(lst)\n",
    "\n",
    "print(*lst, sep='\\n')"
   ]
  },
  {
   "cell_type": "code",
   "execution_count": 38,
   "metadata": {},
   "outputs": [
    {
     "name": "stdout",
     "output_type": "stream",
     "text": [
      "number: 5\n",
      "5\n",
      "10\n",
      "15\n",
      "20\n",
      "25\n",
      "30\n",
      "35\n",
      "40\n",
      "45\n",
      "50\n"
     ]
    }
   ],
   "source": [
    "num = int(input(\"number: \"))\n",
    "print(*range(num, num*10+1, num), sep='\\n')"
   ]
  },
  {
   "cell_type": "code",
   "execution_count": 41,
   "metadata": {},
   "outputs": [
    {
     "name": "stdout",
     "output_type": "stream",
     "text": [
      "1. gaurav\n",
      "2. deepratan\n",
      "3. naman\n",
      "4. ankur\n",
      "5. arshika\n"
     ]
    }
   ],
   "source": [
    "data = [ 'gaurav', 'deepratan', 'naman', 'ankur', 'arshika']\n",
    "#   i       0,       1,           2,      3,         4\n",
    "\n",
    "for i in range(len(data)):\n",
    "    print(f\"{i+1}. {data[i]}\")"
   ]
  },
  {
   "cell_type": "code",
   "execution_count": 40,
   "metadata": {},
   "outputs": [
    {
     "name": "stdout",
     "output_type": "stream",
     "text": [
      "gaurav\n",
      "deepratan\n",
      "naman\n",
      "ankur\n",
      "arshika\n"
     ]
    }
   ],
   "source": [
    "for item in data:\n",
    "    print(item)"
   ]
  },
  {
   "cell_type": "code",
   "execution_count": 42,
   "metadata": {},
   "outputs": [
    {
     "name": "stdout",
     "output_type": "stream",
     "text": [
      "<enumerate object at 0x000001E5252256C0>\n"
     ]
    }
   ],
   "source": [
    "s = \"Hello\"\n",
    "\n",
    "e = enumerate(s)\n",
    "\n",
    "print(e)"
   ]
  },
  {
   "cell_type": "code",
   "execution_count": 43,
   "metadata": {},
   "outputs": [
    {
     "data": {
      "text/plain": [
       "(0, 'H')"
      ]
     },
     "execution_count": 43,
     "metadata": {},
     "output_type": "execute_result"
    }
   ],
   "source": [
    "next(e)"
   ]
  },
  {
   "cell_type": "code",
   "execution_count": 44,
   "metadata": {},
   "outputs": [
    {
     "data": {
      "text/plain": [
       "(1, 'e')"
      ]
     },
     "execution_count": 44,
     "metadata": {},
     "output_type": "execute_result"
    }
   ],
   "source": [
    "next(e)"
   ]
  },
  {
   "cell_type": "code",
   "execution_count": 45,
   "metadata": {},
   "outputs": [
    {
     "data": {
      "text/plain": [
       "(2, 'l')"
      ]
     },
     "execution_count": 45,
     "metadata": {},
     "output_type": "execute_result"
    }
   ],
   "source": [
    "next(e)"
   ]
  },
  {
   "cell_type": "code",
   "execution_count": 46,
   "metadata": {},
   "outputs": [
    {
     "data": {
      "text/plain": [
       "(3, 'l')"
      ]
     },
     "execution_count": 46,
     "metadata": {},
     "output_type": "execute_result"
    }
   ],
   "source": [
    "next(e)"
   ]
  },
  {
   "cell_type": "code",
   "execution_count": 47,
   "metadata": {},
   "outputs": [
    {
     "data": {
      "text/plain": [
       "(4, 'o')"
      ]
     },
     "execution_count": 47,
     "metadata": {},
     "output_type": "execute_result"
    }
   ],
   "source": [
    "next(e)"
   ]
  },
  {
   "cell_type": "code",
   "execution_count": 48,
   "metadata": {},
   "outputs": [
    {
     "ename": "StopIteration",
     "evalue": "",
     "output_type": "error",
     "traceback": [
      "\u001b[1;31m---------------------------------------------------------------------------\u001b[0m",
      "\u001b[1;31mStopIteration\u001b[0m                             Traceback (most recent call last)",
      "\u001b[1;32m<ipython-input-48-4a9660f4a098>\u001b[0m in \u001b[0;36m<module>\u001b[1;34m\u001b[0m\n\u001b[1;32m----> 1\u001b[1;33m \u001b[0mnext\u001b[0m\u001b[1;33m(\u001b[0m\u001b[0me\u001b[0m\u001b[1;33m)\u001b[0m\u001b[1;33m\u001b[0m\u001b[1;33m\u001b[0m\u001b[0m\n\u001b[0m",
      "\u001b[1;31mStopIteration\u001b[0m: "
     ]
    }
   ],
   "source": [
    "next(e)"
   ]
  },
  {
   "cell_type": "code",
   "execution_count": 49,
   "metadata": {},
   "outputs": [],
   "source": [
    "e = enumerate(\"Hello\")"
   ]
  },
  {
   "cell_type": "code",
   "execution_count": 50,
   "metadata": {},
   "outputs": [
    {
     "name": "stdout",
     "output_type": "stream",
     "text": [
      "<enumerate object at 0x000001E5251CA2C0>\n"
     ]
    }
   ],
   "source": [
    "print(e)"
   ]
  },
  {
   "cell_type": "code",
   "execution_count": 51,
   "metadata": {},
   "outputs": [
    {
     "name": "stdout",
     "output_type": "stream",
     "text": [
      "[(0, 'H'), (1, 'e'), (2, 'l'), (3, 'l'), (4, 'o')]\n"
     ]
    }
   ],
   "source": [
    "print(list(e))"
   ]
  },
  {
   "cell_type": "code",
   "execution_count": 52,
   "metadata": {},
   "outputs": [
    {
     "name": "stdout",
     "output_type": "stream",
     "text": [
      "0. H\n",
      "1. e\n",
      "2. l\n",
      "3. l\n",
      "4. o\n"
     ]
    }
   ],
   "source": [
    "for i, value in enumerate('Hello'):\n",
    "    print(f\"{i}. {value}\")"
   ]
  },
  {
   "cell_type": "code",
   "execution_count": 53,
   "metadata": {},
   "outputs": [
    {
     "data": {
      "text/plain": [
       "['gaurav', 'deepratan', 'naman', 'ankur', 'arshika']"
      ]
     },
     "execution_count": 53,
     "metadata": {},
     "output_type": "execute_result"
    }
   ],
   "source": [
    "data "
   ]
  },
  {
   "cell_type": "code",
   "execution_count": 55,
   "metadata": {},
   "outputs": [
    {
     "name": "stdout",
     "output_type": "stream",
     "text": [
      "0. gaurav\n",
      "1. deepratan\n",
      "2. naman\n",
      "3. ankur\n",
      "4. arshika\n"
     ]
    }
   ],
   "source": [
    "for i, n in enumerate(data):\n",
    "    print(f\"{i}. {n}\")"
   ]
  },
  {
   "cell_type": "code",
   "execution_count": 56,
   "metadata": {},
   "outputs": [
    {
     "name": "stdout",
     "output_type": "stream",
     "text": [
      "(0, 'gaurav')\n",
      "(1, 'deepratan')\n",
      "(2, 'naman')\n",
      "(3, 'ankur')\n",
      "(4, 'arshika')\n"
     ]
    }
   ],
   "source": [
    "for item in enumerate(data):\n",
    "    print(f\"{item}\")"
   ]
  },
  {
   "cell_type": "code",
   "execution_count": 61,
   "metadata": {},
   "outputs": [],
   "source": [
    "d = { 'name': 'sachin', 'age': 25, 'country': 'india',}"
   ]
  },
  {
   "cell_type": "code",
   "execution_count": 62,
   "metadata": {},
   "outputs": [
    {
     "name": "stdout",
     "output_type": "stream",
     "text": [
      "0 name\n",
      "1 age\n",
      "2 country\n"
     ]
    }
   ],
   "source": [
    "for i, v in enumerate(d):\n",
    "    print(i, v)"
   ]
  },
  {
   "cell_type": "code",
   "execution_count": 63,
   "metadata": {},
   "outputs": [
    {
     "name": "stdout",
     "output_type": "stream",
     "text": [
      "0 sachin\n",
      "1 25\n",
      "2 india\n"
     ]
    }
   ],
   "source": [
    "for i, v in enumerate(d.values()):\n",
    "    print(i, v)"
   ]
  },
  {
   "cell_type": "code",
   "execution_count": 70,
   "metadata": {},
   "outputs": [
    {
     "name": "stdout",
     "output_type": "stream",
     "text": [
      "1. name       = sachin\n",
      "2. age        = 25\n",
      "3. country    = india\n"
     ]
    }
   ],
   "source": [
    "for i, (k,v) in enumerate(d.items()):\n",
    "    print(f\"{i+1}. {k:<10} = {v}\")"
   ]
  },
  {
   "cell_type": "code",
   "execution_count": 71,
   "metadata": {},
   "outputs": [
    {
     "name": "stdout",
     "output_type": "stream",
     "text": [
      "0 1\n",
      "1 2\n",
      "2 3\n",
      "3 4\n",
      "4 5\n",
      "5 6\n",
      "6 7\n",
      "7 8\n",
      "8 9\n",
      "9 10\n"
     ]
    }
   ],
   "source": [
    "for i, j in enumerate(range(1, 11)):\n",
    "    print(i, j)"
   ]
  },
  {
   "cell_type": "code",
   "execution_count": 73,
   "metadata": {},
   "outputs": [
    {
     "name": "stdout",
     "output_type": "stream",
     "text": [
      "Enter number: 7\n",
      " 7  x  1  = 7\n",
      " 7  x  2  = 14\n",
      " 7  x  3  = 21\n",
      " 7  x  4  = 28\n",
      " 7  x  5  = 35\n",
      " 7  x  6  = 42\n",
      " 7  x  7  = 49\n",
      " 7  x  8  = 56\n",
      " 7  x  9  = 63\n",
      " 7  x 10  = 70\n"
     ]
    }
   ],
   "source": [
    "num = int(input(\"Enter number: \"))\n",
    "\n",
    "for i, v in enumerate(range(num, num*10+1, num)):\n",
    "    print(f\"{num:^3} x {i+1:^3} = {v}\")"
   ]
  },
  {
   "cell_type": "markdown",
   "metadata": {},
   "source": [
    "### zip\n",
    "\n",
    "    to combine 2 or more iterables together"
   ]
  },
  {
   "cell_type": "code",
   "execution_count": null,
   "metadata": {},
   "outputs": [],
   "source": []
  },
  {
   "cell_type": "code",
   "execution_count": 77,
   "metadata": {},
   "outputs": [
    {
     "name": "stdout",
     "output_type": "stream",
     "text": [
      "hello world!"
     ]
    }
   ],
   "source": [
    "s1 = \"hlowrd\"\n",
    "s2 = \"el ol!\"\n",
    "\n",
    "for i1, i2 in zip(s1, s2):\n",
    "    print(i1, i2, sep='', end='')"
   ]
  },
  {
   "cell_type": "code",
   "execution_count": 60,
   "metadata": {},
   "outputs": [],
   "source": [
    "z = list(zip(s1, s2))"
   ]
  },
  {
   "cell_type": "code",
   "execution_count": 74,
   "metadata": {},
   "outputs": [
    {
     "name": "stdout",
     "output_type": "stream",
     "text": [
      "[('h', 'e'), ('l', 'l'), ('o', ' '), ('w', 'o'), ('r', 'l'), ('d', '!')]\n"
     ]
    }
   ],
   "source": [
    "print(z)"
   ]
  },
  {
   "cell_type": "code",
   "execution_count": 79,
   "metadata": {},
   "outputs": [],
   "source": [
    "names = [ 'apple', 'samsung', 'oneplus']\n",
    "price = [ 80000, 70000, 60000]"
   ]
  },
  {
   "cell_type": "code",
   "execution_count": 82,
   "metadata": {},
   "outputs": [
    {
     "name": "stdout",
     "output_type": "stream",
     "text": [
      "___________________________________________\n",
      "|        Name        |       Price        |\n",
      "___________________________________________\n",
      "|       apple        |       80000        |\n",
      "___________________________________________\n",
      "|      samsung       |       70000        |\n",
      "___________________________________________\n",
      "|      oneplus       |       60000        |\n",
      "___________________________________________\n"
     ]
    }
   ],
   "source": [
    "print(\"_\"*43)\n",
    "print(f\"|{'Name':^20}|{'Price':^20}|\")\n",
    "print(\"_\"*43)\n",
    "\n",
    "for i in range(len(names)):\n",
    "    print(f\"|{names[i]:^20}|{price[i]:^20}|\")\n",
    "    print(\"_\"*43)"
   ]
  },
  {
   "cell_type": "code",
   "execution_count": 83,
   "metadata": {},
   "outputs": [
    {
     "name": "stdout",
     "output_type": "stream",
     "text": [
      "___________________________________________\n",
      "|        Name        |       Price        |\n",
      "___________________________________________\n",
      "|       apple        |       80000        |\n",
      "___________________________________________\n",
      "|      samsung       |       70000        |\n",
      "___________________________________________\n",
      "|      oneplus       |       60000        |\n",
      "___________________________________________\n"
     ]
    }
   ],
   "source": [
    "names = [ 'apple', 'samsung', 'oneplus']\n",
    "price = [ 80000, 70000, 60000]\n",
    "\n",
    "print(\"_\"*43)\n",
    "print(f\"|{'Name':^20}|{'Price':^20}|\")\n",
    "print(\"_\"*43)\n",
    "\n",
    "for n, p in zip(names, price):\n",
    "    print(f\"|{n:^20}|{p:^20}|\")\n",
    "    print(\"_\"*43)"
   ]
  },
  {
   "cell_type": "code",
   "execution_count": 84,
   "metadata": {},
   "outputs": [
    {
     "name": "stdout",
     "output_type": "stream",
     "text": [
      "('naman', 'funny')\n",
      "('ankur', 'intelligent')\n"
     ]
    }
   ],
   "source": [
    "print(*zip(['naman', 'ankur'], ['funny', 'intelligent']), sep='\\n')"
   ]
  },
  {
   "cell_type": "code",
   "execution_count": 85,
   "metadata": {},
   "outputs": [],
   "source": [
    "hindi = [ 'ek', 'dou', 'teen', 'chaar', 'paanch']\n",
    "numeric = [ 1, 2, 3, 4, 5]\n",
    "english = [ 'one', 'two', 'three', 'four', 'five']"
   ]
  },
  {
   "cell_type": "code",
   "execution_count": 87,
   "metadata": {},
   "outputs": [
    {
     "name": "stdout",
     "output_type": "stream",
     "text": [
      "1  ->          ek          -> one\n",
      "2  ->         dou          -> two\n",
      "3  ->         teen         -> three\n",
      "4  ->        chaar         -> four\n",
      "5  ->        paanch        -> five\n"
     ]
    }
   ],
   "source": [
    "for n, h, e in zip(numeric, hindi, english):\n",
    "    print(f\"{n:^2} -> {h:^20} -> {e}\")"
   ]
  },
  {
   "cell_type": "code",
   "execution_count": 88,
   "metadata": {},
   "outputs": [],
   "source": [
    "l1 = [ 'apple', 'mango', 'papaya', 'banana']\n",
    "l2 = [ 'kashmir', 'up', 'rajasthan']"
   ]
  },
  {
   "cell_type": "code",
   "execution_count": 90,
   "metadata": {},
   "outputs": [
    {
     "name": "stdout",
     "output_type": "stream",
     "text": [
      "apple is purchased from kashmir\n",
      "mango is purchased from up\n",
      "papaya is purchased from rajasthan\n"
     ]
    }
   ],
   "source": [
    "for item1, item2 in zip(l1, l2):\n",
    "    print(f\"{item1} is purchased from {item2}\")"
   ]
  },
  {
   "cell_type": "code",
   "execution_count": null,
   "metadata": {},
   "outputs": [],
   "source": []
  }
 ],
 "metadata": {
  "kernelspec": {
   "display_name": "Python 3",
   "language": "python",
   "name": "python3"
  },
  "language_info": {
   "codemirror_mode": {
    "name": "ipython",
    "version": 3
   },
   "file_extension": ".py",
   "mimetype": "text/x-python",
   "name": "python",
   "nbconvert_exporter": "python",
   "pygments_lexer": "ipython3",
   "version": "3.8.3"
  }
 },
 "nbformat": 4,
 "nbformat_minor": 4
}
