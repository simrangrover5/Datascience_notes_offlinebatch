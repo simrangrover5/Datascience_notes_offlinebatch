{
 "cells": [
  {
   "cell_type": "markdown",
   "metadata": {},
   "source": [
    "## Functions"
   ]
  },
  {
   "cell_type": "markdown",
   "metadata": {},
   "source": [
    "### Scope"
   ]
  },
  {
   "cell_type": "code",
   "execution_count": 1,
   "metadata": {},
   "outputs": [],
   "source": [
    "x = 10\n",
    "# global variable"
   ]
  },
  {
   "cell_type": "code",
   "execution_count": 2,
   "metadata": {},
   "outputs": [
    {
     "name": "stdout",
     "output_type": "stream",
     "text": [
      "10\n"
     ]
    }
   ],
   "source": [
    "print(x)"
   ]
  },
  {
   "cell_type": "code",
   "execution_count": 3,
   "metadata": {},
   "outputs": [],
   "source": [
    "def function(x):\n",
    "    x = x ** 2\n",
    "    print(\"Inside x is : \", x)"
   ]
  },
  {
   "cell_type": "code",
   "execution_count": 5,
   "metadata": {},
   "outputs": [
    {
     "name": "stdout",
     "output_type": "stream",
     "text": [
      "Before x is :  10\n",
      "Inside x is :  100\n",
      "After x is :  10\n"
     ]
    }
   ],
   "source": [
    "x = 10\n",
    "print(\"Before x is : \", x)\n",
    "function(x) # call by value\n",
    "print(\"After x is : \", x)"
   ]
  },
  {
   "cell_type": "code",
   "execution_count": 6,
   "metadata": {},
   "outputs": [],
   "source": [
    "def add(a, b):\n",
    "    return a + b\n",
    "\n",
    "a = add"
   ]
  },
  {
   "cell_type": "code",
   "execution_count": 7,
   "metadata": {},
   "outputs": [
    {
     "name": "stdout",
     "output_type": "stream",
     "text": [
      "<function add at 0x0000017F6C85F8B0>\n"
     ]
    }
   ],
   "source": [
    "print(a)"
   ]
  },
  {
   "cell_type": "code",
   "execution_count": 8,
   "metadata": {},
   "outputs": [
    {
     "name": "stdout",
     "output_type": "stream",
     "text": [
      "Before x is :  10\n",
      "Inside x is :  110\n",
      "After x is :  110\n"
     ]
    }
   ],
   "source": [
    "def function(x):\n",
    "    x = x + 100\n",
    "    print(\"Inside x is : \", x)\n",
    "    return x\n",
    "x = 10\n",
    "print(\"Before x is : \", x)\n",
    "x = function(x) # call by value\n",
    "print(\"After x is : \", x)"
   ]
  },
  {
   "cell_type": "markdown",
   "metadata": {},
   "source": [
    "    note: we can access global variables inside local scope"
   ]
  },
  {
   "cell_type": "code",
   "execution_count": 9,
   "metadata": {},
   "outputs": [
    {
     "name": "stdout",
     "output_type": "stream",
     "text": [
      "before x  10\n",
      "Inside x is 10\n",
      "after x  10\n"
     ]
    }
   ],
   "source": [
    "x = 10\n",
    "\n",
    "def hi():\n",
    "    print(f\"Inside x is {x}\")\n",
    "    \n",
    "print(\"before x \", x)\n",
    "hi()\n",
    "print(\"after x \", x)"
   ]
  },
  {
   "cell_type": "code",
   "execution_count": 10,
   "metadata": {},
   "outputs": [
    {
     "name": "stdout",
     "output_type": "stream",
     "text": [
      "before x  10\n",
      "Inside x is 100\n",
      "after x  10\n"
     ]
    }
   ],
   "source": [
    "x = 10\n",
    "\n",
    "def hi():\n",
    "    x ** 2\n",
    "    print(f\"Inside x is {x**2}\")\n",
    "    \n",
    "print(\"before x \", x)\n",
    "hi()\n",
    "print(\"after x \", x)"
   ]
  },
  {
   "cell_type": "code",
   "execution_count": 11,
   "metadata": {},
   "outputs": [
    {
     "name": "stdout",
     "output_type": "stream",
     "text": [
      "before x  20\n",
      "Inside x is 400\n",
      "after x  20\n"
     ]
    }
   ],
   "source": [
    "x = 10\n",
    "\n",
    "def hi():\n",
    "    print(f\"Inside x is {x**2}\")\n",
    "    \n",
    "x = 2 * x\n",
    "print(\"before x \", x)\n",
    "hi()\n",
    "print(\"after x \", x)"
   ]
  },
  {
   "cell_type": "markdown",
   "metadata": {},
   "source": [
    "note: we can not manipluate global data inside local scope directly"
   ]
  },
  {
   "cell_type": "code",
   "execution_count": 12,
   "metadata": {},
   "outputs": [
    {
     "name": "stdout",
     "output_type": "stream",
     "text": [
      "before x  20\n"
     ]
    },
    {
     "ename": "UnboundLocalError",
     "evalue": "local variable 'x' referenced before assignment",
     "output_type": "error",
     "traceback": [
      "\u001b[1;31m---------------------------------------------------------------------------\u001b[0m",
      "\u001b[1;31mUnboundLocalError\u001b[0m                         Traceback (most recent call last)",
      "\u001b[1;32m<ipython-input-12-d6bd208b6515>\u001b[0m in \u001b[0;36m<module>\u001b[1;34m\u001b[0m\n\u001b[0;32m      7\u001b[0m \u001b[0mx\u001b[0m \u001b[1;33m=\u001b[0m \u001b[1;36m2\u001b[0m \u001b[1;33m*\u001b[0m \u001b[0mx\u001b[0m\u001b[1;33m\u001b[0m\u001b[1;33m\u001b[0m\u001b[0m\n\u001b[0;32m      8\u001b[0m \u001b[0mprint\u001b[0m\u001b[1;33m(\u001b[0m\u001b[1;34m\"before x \"\u001b[0m\u001b[1;33m,\u001b[0m \u001b[0mx\u001b[0m\u001b[1;33m)\u001b[0m\u001b[1;33m\u001b[0m\u001b[1;33m\u001b[0m\u001b[0m\n\u001b[1;32m----> 9\u001b[1;33m \u001b[0mhi\u001b[0m\u001b[1;33m(\u001b[0m\u001b[1;33m)\u001b[0m\u001b[1;33m\u001b[0m\u001b[1;33m\u001b[0m\u001b[0m\n\u001b[0m\u001b[0;32m     10\u001b[0m \u001b[0mprint\u001b[0m\u001b[1;33m(\u001b[0m\u001b[1;34m\"after x \"\u001b[0m\u001b[1;33m,\u001b[0m \u001b[0mx\u001b[0m\u001b[1;33m)\u001b[0m\u001b[1;33m\u001b[0m\u001b[1;33m\u001b[0m\u001b[0m\n",
      "\u001b[1;32m<ipython-input-12-d6bd208b6515>\u001b[0m in \u001b[0;36mhi\u001b[1;34m()\u001b[0m\n\u001b[0;32m      2\u001b[0m \u001b[1;33m\u001b[0m\u001b[0m\n\u001b[0;32m      3\u001b[0m \u001b[1;32mdef\u001b[0m \u001b[0mhi\u001b[0m\u001b[1;33m(\u001b[0m\u001b[1;33m)\u001b[0m\u001b[1;33m:\u001b[0m\u001b[1;33m\u001b[0m\u001b[1;33m\u001b[0m\u001b[0m\n\u001b[1;32m----> 4\u001b[1;33m     \u001b[0mx\u001b[0m \u001b[1;33m=\u001b[0m \u001b[0mx\u001b[0m \u001b[1;33m*\u001b[0m \u001b[1;36m20\u001b[0m\u001b[1;33m\u001b[0m\u001b[1;33m\u001b[0m\u001b[0m\n\u001b[0m\u001b[0;32m      5\u001b[0m     \u001b[0mprint\u001b[0m\u001b[1;33m(\u001b[0m\u001b[1;34mf\"Inside x is {x}\"\u001b[0m\u001b[1;33m)\u001b[0m\u001b[1;33m\u001b[0m\u001b[1;33m\u001b[0m\u001b[0m\n\u001b[0;32m      6\u001b[0m \u001b[1;33m\u001b[0m\u001b[0m\n",
      "\u001b[1;31mUnboundLocalError\u001b[0m: local variable 'x' referenced before assignment"
     ]
    }
   ],
   "source": [
    "x = 10\n",
    "\n",
    "def hi():\n",
    "    x = x * 20\n",
    "    print(f\"Inside x is {x}\")\n",
    "    \n",
    "x = 2 * x\n",
    "print(\"before x \", x)\n",
    "hi()\n",
    "print(\"after x \", x)"
   ]
  },
  {
   "cell_type": "code",
   "execution_count": 13,
   "metadata": {},
   "outputs": [
    {
     "name": "stdout",
     "output_type": "stream",
     "text": [
      "before x  20\n",
      "Inside x is 400\n",
      "after x  400\n"
     ]
    }
   ],
   "source": [
    "x = 10\n",
    "\n",
    "def hi():\n",
    "    global x\n",
    "    x = x * 20\n",
    "    print(f\"Inside x is {x}\")\n",
    "    \n",
    "x = 2 * x\n",
    "print(\"before x \", x)\n",
    "hi()\n",
    "print(\"after x \", x)"
   ]
  },
  {
   "cell_type": "code",
   "execution_count": 14,
   "metadata": {},
   "outputs": [
    {
     "name": "stdout",
     "output_type": "stream",
     "text": [
      "before x  10\n",
      "inside x  20\n",
      "after x 10\n"
     ]
    }
   ],
   "source": [
    "def f():\n",
    "    x = 20\n",
    "    print(\"inside x \", x)\n",
    "\n",
    "x = 10\n",
    "print(\"before x \", x)\n",
    "f()\n",
    "print('after x', x)"
   ]
  },
  {
   "cell_type": "code",
   "execution_count": 16,
   "metadata": {},
   "outputs": [
    {
     "name": "stdout",
     "output_type": "stream",
     "text": [
      "before x  10\n",
      "inside x  20\n",
      "after x 10\n"
     ]
    }
   ],
   "source": [
    "def f(x):\n",
    "    x = 20\n",
    "    print(\"inside x \", x)\n",
    "\n",
    "x = 10\n",
    "print(\"before x \", x)\n",
    "f(x)\n",
    "print('after x', x)"
   ]
  },
  {
   "cell_type": "code",
   "execution_count": 18,
   "metadata": {},
   "outputs": [
    {
     "name": "stdout",
     "output_type": "stream",
     "text": [
      "before x  10\n",
      "inside x  20\n",
      "after x 20\n",
      "inside x  40\n",
      "final x 40\n"
     ]
    }
   ],
   "source": [
    "def f():\n",
    "    global x\n",
    "    x = 2 * x\n",
    "    print(\"inside x \", x)\n",
    "\n",
    "x = 10\n",
    "print(\"before x \", x)\n",
    "f()\n",
    "print('after x', x)\n",
    "f()\n",
    "print(\"final x\", x)"
   ]
  },
  {
   "cell_type": "code",
   "execution_count": 19,
   "metadata": {},
   "outputs": [],
   "source": [
    "def f():\n",
    "    global c\n",
    "    c += 1"
   ]
  },
  {
   "cell_type": "code",
   "execution_count": 20,
   "metadata": {},
   "outputs": [],
   "source": [
    "c = 10"
   ]
  },
  {
   "cell_type": "code",
   "execution_count": 21,
   "metadata": {},
   "outputs": [],
   "source": [
    "for i in range(10):\n",
    "    f()"
   ]
  },
  {
   "cell_type": "code",
   "execution_count": 22,
   "metadata": {},
   "outputs": [
    {
     "name": "stdout",
     "output_type": "stream",
     "text": [
      "value of c is  20\n"
     ]
    }
   ],
   "source": [
    "print('value of c is ', c)"
   ]
  },
  {
   "cell_type": "code",
   "execution_count": 24,
   "metadata": {},
   "outputs": [
    {
     "name": "stdout",
     "output_type": "stream",
     "text": [
      "value of c is  10\n"
     ]
    }
   ],
   "source": [
    "def f(c):\n",
    "    c += 1\n",
    "    \n",
    "c = 10\n",
    "\n",
    "for i in range(10):\n",
    "    f(i)\n",
    "    \n",
    "print('value of c is ', c)"
   ]
  },
  {
   "cell_type": "code",
   "execution_count": null,
   "metadata": {},
   "outputs": [],
   "source": []
  }
 ],
 "metadata": {
  "kernelspec": {
   "display_name": "Python 3",
   "language": "python",
   "name": "python3"
  },
  "language_info": {
   "codemirror_mode": {
    "name": "ipython",
    "version": 3
   },
   "file_extension": ".py",
   "mimetype": "text/x-python",
   "name": "python",
   "nbconvert_exporter": "python",
   "pygments_lexer": "ipython3",
   "version": "3.8.3"
  }
 },
 "nbformat": 4,
 "nbformat_minor": 4
}
