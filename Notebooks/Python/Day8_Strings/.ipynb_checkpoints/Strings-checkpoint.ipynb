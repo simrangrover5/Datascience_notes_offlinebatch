{
 "cells": [
  {
   "cell_type": "markdown",
   "metadata": {},
   "source": [
    "### Methods of String"
   ]
  },
  {
   "cell_type": "code",
   "execution_count": 2,
   "metadata": {},
   "outputs": [
    {
     "name": "stdout",
     "output_type": "stream",
     "text": [
      "capitalize, casefold, center, count, encode, endswith, expandtabs, find, format, format_map, index, isalnum, isalpha, isascii, isdecimal, isdigit, isidentifier, islower, isnumeric, isprintable, isspace, istitle, isupper, join, ljust, lower, lstrip, maketrans, partition, replace, rfind, rindex, rjust, rpartition, rsplit, rstrip, split, splitlines, startswith, strip, swapcase, title, translate, upper, zfill\n"
     ]
    }
   ],
   "source": [
    "print(*[ f for f in dir(str) if f[0].islower() ], sep=', ')"
   ]
  },
  {
   "cell_type": "markdown",
   "metadata": {},
   "source": [
    "### Strings Methods\n",
    "\n",
    "\n",
    "    Case Related Methods\n",
    "    \n",
    "    str.lower() -> returns a lower cased string\n",
    "    \n",
    "    str.upper() -> returns a upper cased string\n",
    "    \n",
    "    str.title() -> first letter of each word will in upper case rest in lowercase\n",
    "    \n",
    "    str.capitalize() -> first letter of first word in string will be in upper case and rest will be in lowercase\n",
    "    \n",
    "    str.swapcase() -> lower cases will be converted into uppercases and vice-versa"
   ]
  },
  {
   "cell_type": "code",
   "execution_count": 4,
   "metadata": {},
   "outputs": [],
   "source": [
    "s = 'PYThon is AwEsoMe'\n",
    "\n",
    "s1 = s.lower()\n",
    "s2 = s.upper()\n",
    "s3 = s.swapcase()\n",
    "s4 = s.title()\n",
    "s5 = s.capitalize()\n"
   ]
  },
  {
   "cell_type": "markdown",
   "metadata": {},
   "source": [
    "`repr` stands for raw representation of string"
   ]
  },
  {
   "cell_type": "code",
   "execution_count": 9,
   "metadata": {},
   "outputs": [
    {
     "name": "stdout",
     "output_type": "stream",
     "text": [
      "'Hello World!\\nGood Afternoon'\n"
     ]
    }
   ],
   "source": [
    "print(repr(\"Hello World!\\nGood Afternoon\")) # Standard Output"
   ]
  },
  {
   "cell_type": "code",
   "execution_count": null,
   "metadata": {},
   "outputs": [],
   "source": [
    "print(\"Hello World!\\nGood Afternoon\") # Raw Output"
   ]
  },
  {
   "cell_type": "code",
   "execution_count": 5,
   "metadata": {},
   "outputs": [
    {
     "name": "stdout",
     "output_type": "stream",
     "text": [
      "Original        :  PYThon is AwEsoMe\n",
      "Lower Case      :  python is awesome\n",
      "Upper Case      :  PYTHON IS AWESOME\n",
      "Swapcase        :  pytHON IS aWeSOmE\n",
      "Title Case      :  Python Is Awesome\n",
      "Capitalize      :  Python is awesome\n"
     ]
    }
   ],
   "source": [
    "print(\"Original        : \", s)\n",
    "print(\"Lower Case      : \", s1)\n",
    "print(\"Upper Case      : \", s2)\n",
    "print(\"Swapcase        : \", s3)\n",
    "print(\"Title Case      : \", s4)\n",
    "print(\"Capitalize      : \", s5)"
   ]
  },
  {
   "cell_type": "code",
   "execution_count": 10,
   "metadata": {},
   "outputs": [
    {
     "name": "stdout",
     "output_type": "stream",
     "text": [
      "Original        :  'PYThon is AwEsoMe'\n",
      "Lower Case      :  'python is awesome'\n",
      "Upper Case      :  'PYTHON IS AWESOME'\n",
      "Swapcase        :  'pytHON IS aWeSOmE'\n",
      "Title Case      :  'Python Is Awesome'\n",
      "Capitalize      :  'Python is awesome'\n"
     ]
    }
   ],
   "source": [
    "print(\"Original        : \", repr(s))\n",
    "print(\"Lower Case      : \", repr(s1))\n",
    "print(\"Upper Case      : \", repr(s2))\n",
    "print(\"Swapcase        : \", repr(s3))\n",
    "print(\"Title Case      : \", repr(s4))\n",
    "print(\"Capitalize      : \", repr(s5))"
   ]
  },
  {
   "cell_type": "code",
   "execution_count": 11,
   "metadata": {},
   "outputs": [
    {
     "data": {
      "text/plain": [
       "False"
      ]
     },
     "execution_count": 11,
     "metadata": {},
     "output_type": "execute_result"
    }
   ],
   "source": [
    "'hello' == 'HeLlO'"
   ]
  },
  {
   "cell_type": "code",
   "execution_count": 12,
   "metadata": {},
   "outputs": [
    {
     "data": {
      "text/plain": [
       "True"
      ]
     },
     "execution_count": 12,
     "metadata": {},
     "output_type": "execute_result"
    }
   ],
   "source": [
    "'hello'.casefold() == 'HeLlO'.casefold()"
   ]
  },
  {
   "cell_type": "markdown",
   "metadata": {},
   "source": [
    "### Trim Operations"
   ]
  },
  {
   "cell_type": "markdown",
   "metadata": {},
   "source": [
    "    str.strip() -> trim string from begning and also from end\n",
    "                   remove all leading and trailing white spaces\n",
    "    \n",
    "    str.lstrip() -> trim string from begning\n",
    "    \n",
    "    str.rstrip() -> trim string from ending"
   ]
  },
  {
   "cell_type": "code",
   "execution_count": 13,
   "metadata": {},
   "outputs": [],
   "source": [
    "s = \"\\n\\n  \\t\\t   Hello \\t   world! \\n \\t  Python is Awesome.\\t\\t   \\n\\n\""
   ]
  },
  {
   "cell_type": "code",
   "execution_count": 14,
   "metadata": {},
   "outputs": [
    {
     "name": "stdout",
     "output_type": "stream",
     "text": [
      "\n",
      "\n",
      "  \t\t   Hello \t   world! \n",
      " \t  Python is Awesome.\t\t   \n",
      "\n",
      "\n"
     ]
    }
   ],
   "source": [
    "print(s)"
   ]
  },
  {
   "cell_type": "code",
   "execution_count": 17,
   "metadata": {},
   "outputs": [
    {
     "name": "stdout",
     "output_type": "stream",
     "text": [
      "'\\n\\n  \\t\\t   Hello \\t   world! \\n \\t  Python is Awesome.\\t\\t   \\n\\n'\n",
      "'Hello \\t   world! \\n \\t  Python is Awesome.'\n"
     ]
    }
   ],
   "source": [
    "print(repr(s))\n",
    "\n",
    "s1 = s.strip()\n",
    "\n",
    "print(repr(s1))"
   ]
  },
  {
   "cell_type": "code",
   "execution_count": 18,
   "metadata": {},
   "outputs": [
    {
     "name": "stdout",
     "output_type": "stream",
     "text": [
      "Hello \t   world! \n",
      " \t  Python is Awesome.\n"
     ]
    }
   ],
   "source": [
    "print(s1)"
   ]
  },
  {
   "cell_type": "code",
   "execution_count": 19,
   "metadata": {},
   "outputs": [],
   "source": [
    "s = \"               \\n\\n\\t\\tSachin Yadav\\n\\n              \""
   ]
  },
  {
   "cell_type": "code",
   "execution_count": 20,
   "metadata": {},
   "outputs": [
    {
     "name": "stdout",
     "output_type": "stream",
     "text": [
      "               \n",
      "\n",
      "\t\tSachin Yadav\n",
      "\n",
      "              \n"
     ]
    }
   ],
   "source": [
    "print(s)"
   ]
  },
  {
   "cell_type": "code",
   "execution_count": 21,
   "metadata": {},
   "outputs": [
    {
     "name": "stdout",
     "output_type": "stream",
     "text": [
      "'               \\n\\n\\t\\tSachin Yadav\\n\\n              '\n",
      "'Sachin Yadav'\n"
     ]
    }
   ],
   "source": [
    "s1 = s.strip()\n",
    "print(repr(s))\n",
    "print(repr(s1))"
   ]
  },
  {
   "cell_type": "code",
   "execution_count": 22,
   "metadata": {},
   "outputs": [
    {
     "name": "stdout",
     "output_type": "stream",
     "text": [
      "Sachin Yadav\n"
     ]
    }
   ],
   "source": [
    "print(s1)"
   ]
  },
  {
   "cell_type": "code",
   "execution_count": 23,
   "metadata": {},
   "outputs": [
    {
     "name": "stdout",
     "output_type": "stream",
     "text": [
      "'               \\n\\n\\t\\tSachin Yadav\\n\\n              '\n",
      "'\\n\\n\\t\\tSachin Yadav\\n\\n'\n"
     ]
    }
   ],
   "source": [
    "s1 = s.strip(' ')\n",
    "print(repr(s))\n",
    "print(repr(s1))"
   ]
  },
  {
   "cell_type": "code",
   "execution_count": 24,
   "metadata": {},
   "outputs": [
    {
     "name": "stdout",
     "output_type": "stream",
     "text": [
      "\n",
      "\n",
      "\t\tSachin Yadav\n",
      "\n",
      "\n"
     ]
    }
   ],
   "source": [
    "print(s1)"
   ]
  },
  {
   "cell_type": "code",
   "execution_count": 25,
   "metadata": {},
   "outputs": [
    {
     "name": "stdout",
     "output_type": "stream",
     "text": [
      "Help on method_descriptor:\n",
      "\n",
      "lower(self, /)\n",
      "    Return a copy of the string converted to lowercase.\n",
      "\n"
     ]
    }
   ],
   "source": [
    "help(str.lower)"
   ]
  },
  {
   "cell_type": "code",
   "execution_count": 26,
   "metadata": {},
   "outputs": [
    {
     "name": "stdout",
     "output_type": "stream",
     "text": [
      "Help on method_descriptor:\n",
      "\n",
      "strip(self, chars=None, /)\n",
      "    Return a copy of the string with leading and trailing whitespace removed.\n",
      "    \n",
      "    If chars is given and not None, remove characters in chars instead.\n",
      "\n"
     ]
    }
   ],
   "source": [
    "help(str.strip)"
   ]
  },
  {
   "cell_type": "code",
   "execution_count": 33,
   "metadata": {},
   "outputs": [],
   "source": [
    "s = \"@#$%^&^%$#@$%$#@$%^%$#@%^Hello World!@#$%^&%$#@#@$%^&*&^%$#@!\""
   ]
  },
  {
   "cell_type": "code",
   "execution_count": 34,
   "metadata": {},
   "outputs": [
    {
     "name": "stdout",
     "output_type": "stream",
     "text": [
      "@#$%^&^%$#@$%$#@$%^%$#@%^Hello World!@#$%^&%$#@#@$%^&*&^%$#@!\n"
     ]
    }
   ],
   "source": [
    "print(s)"
   ]
  },
  {
   "cell_type": "code",
   "execution_count": 35,
   "metadata": {},
   "outputs": [
    {
     "name": "stdout",
     "output_type": "stream",
     "text": [
      "Hello World\n"
     ]
    }
   ],
   "source": [
    "s1 = s.strip('!@#$%^&*()')\n",
    "print(s1)"
   ]
  },
  {
   "cell_type": "code",
   "execution_count": 36,
   "metadata": {},
   "outputs": [
    {
     "name": "stdout",
     "output_type": "stream",
     "text": [
      "$!#!!@H!#$!E#!@$#!\n",
      "@H!#$!E#!@\n"
     ]
    }
   ],
   "source": [
    "s = \"$!#!!@H!#$!E#!@$#!\"\n",
    "\n",
    "s1 = s.strip('$!#')\n",
    "print(s)\n",
    "print(s1)"
   ]
  },
  {
   "cell_type": "code",
   "execution_count": 38,
   "metadata": {},
   "outputs": [
    {
     "name": "stdout",
     "output_type": "stream",
     "text": [
      "H!#$!E#!@$#!\n",
      "$!#!!@H!#$!E\n"
     ]
    }
   ],
   "source": [
    "s = \"$!#!!@H!#$!E#!@$#!\"\n",
    "\n",
    "s1 = s.lstrip(\"$#!@\") # A\n",
    "\n",
    "s2 = s.rstrip('$#!@') # B\n",
    "\n",
    "print(s1) # H!#$!E#!@$#!\n",
    "\n",
    "print(s2) #$!#!!@H!#$!E"
   ]
  },
  {
   "cell_type": "markdown",
   "metadata": {},
   "source": [
    "#### Split\n",
    "\n"
   ]
  },
  {
   "cell_type": "code",
   "execution_count": 39,
   "metadata": {},
   "outputs": [],
   "source": [
    "s = \"Hello World!\\t \\n hello hi\""
   ]
  },
  {
   "cell_type": "code",
   "execution_count": 40,
   "metadata": {},
   "outputs": [],
   "source": [
    "words = s.split()"
   ]
  },
  {
   "cell_type": "code",
   "execution_count": 41,
   "metadata": {},
   "outputs": [
    {
     "name": "stdout",
     "output_type": "stream",
     "text": [
      "['Hello', 'World!', 'hello', 'hi']\n"
     ]
    }
   ],
   "source": [
    "print(words)"
   ]
  },
  {
   "cell_type": "code",
   "execution_count": 42,
   "metadata": {},
   "outputs": [],
   "source": [
    "s = \"hello-world-how-are-you-?\""
   ]
  },
  {
   "cell_type": "code",
   "execution_count": 43,
   "metadata": {},
   "outputs": [],
   "source": [
    "words = s.split('-')"
   ]
  },
  {
   "cell_type": "code",
   "execution_count": 45,
   "metadata": {},
   "outputs": [
    {
     "name": "stdout",
     "output_type": "stream",
     "text": [
      "['hello', 'world', 'how', 'are', 'you', '?']\n"
     ]
    }
   ],
   "source": [
    "print(words)"
   ]
  },
  {
   "cell_type": "markdown",
   "metadata": {},
   "source": [
    "## Join"
   ]
  },
  {
   "cell_type": "code",
   "execution_count": 46,
   "metadata": {},
   "outputs": [],
   "source": [
    "s = \"<->\".join([ \"This\", \"is\", \"Join\", \"Operation\", \"of\", \"String\" ])"
   ]
  },
  {
   "cell_type": "code",
   "execution_count": 47,
   "metadata": {},
   "outputs": [
    {
     "name": "stdout",
     "output_type": "stream",
     "text": [
      "This<->is<->Join<->Operation<->of<->String\n"
     ]
    }
   ],
   "source": [
    "print(s)"
   ]
  },
  {
   "cell_type": "code",
   "execution_count": 49,
   "metadata": {},
   "outputs": [
    {
     "name": "stdout",
     "output_type": "stream",
     "text": [
      "'Hello world how are you ?'\n"
     ]
    }
   ],
   "source": [
    "s = \"Hello-world-how-are-you-?\"\n",
    "\n",
    "words = s.split('-')\n",
    "\n",
    "s1 = \" \".join(words)\n",
    "\n",
    "print(repr(s1))"
   ]
  },
  {
   "cell_type": "code",
   "execution_count": null,
   "metadata": {},
   "outputs": [],
   "source": []
  }
 ],
 "metadata": {
  "kernelspec": {
   "display_name": "Python 3",
   "language": "python",
   "name": "python3"
  },
  "language_info": {
   "codemirror_mode": {
    "name": "ipython",
    "version": 3
   },
   "file_extension": ".py",
   "mimetype": "text/x-python",
   "name": "python",
   "nbconvert_exporter": "python",
   "pygments_lexer": "ipython3",
   "version": "3.8.3"
  }
 },
 "nbformat": 4,
 "nbformat_minor": 4
}
