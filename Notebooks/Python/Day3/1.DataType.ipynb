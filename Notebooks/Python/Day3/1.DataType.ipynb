{
 "cells": [
  {
   "cell_type": "code",
   "execution_count": 1,
   "metadata": {},
   "outputs": [
    {
     "name": "stdout",
     "output_type": "stream",
     "text": [
      "Hello World!\n"
     ]
    }
   ],
   "source": [
    "print(\"Hello World!\")\n",
    "# shift + Enter"
   ]
  },
  {
   "cell_type": "code",
   "execution_count": 2,
   "metadata": {},
   "outputs": [
    {
     "name": "stdout",
     "output_type": "stream",
     "text": [
      "/c/Users/sachin/Grras Solution Pvt. Ltd/DA_Offline_101 - Live Class ðŸ“º/Notebooks/Python/Day3\n"
     ]
    }
   ],
   "source": [
    "!pwd"
   ]
  },
  {
   "cell_type": "code",
   "execution_count": 3,
   "metadata": {},
   "outputs": [
    {
     "name": "stdout",
     "output_type": "stream",
     "text": [
      "1.DataType.ipynb\n"
     ]
    }
   ],
   "source": [
    "!ls"
   ]
  },
  {
   "cell_type": "code",
   "execution_count": 8,
   "metadata": {},
   "outputs": [
    {
     "name": "stdout",
     "output_type": "stream",
     "text": [
      "Overwriting circle.py\n"
     ]
    }
   ],
   "source": [
    "%%writefile circle.py\n",
    "import turtle\n",
    "\n",
    "colors = [ \"#feae51\", \"#98b2d1\",  \"#b35f44\", \"#f3df4d\", \"#3078b4\",\n",
    "           \"#9fdbad\", \"#ec8b83\", \"#00a779\", \"#9369a8\", \"#cd4a77\" ]\n",
    "\n",
    "pen = turtle.Pen()\n",
    "\n",
    "x, y = 0, -200\n",
    "\n",
    "radius = 200\n",
    "\n",
    "for color in colors:\n",
    "    pen.up()\n",
    "    pen.goto(x, y)\n",
    "    pen.down()\n",
    "    \n",
    "    pen.color('black', color)\n",
    "    pen.begin_fill()\n",
    "    pen.circle( radius )\n",
    "    pen.end_fill()\n",
    "    \n",
    "    radius = radius - 20\n",
    "    y = y + 20\n",
    "    \n",
    "turtle.exitonclick()"
   ]
  },
  {
   "cell_type": "code",
   "execution_count": null,
   "metadata": {},
   "outputs": [],
   "source": [
    "!python circle.py"
   ]
  },
  {
   "cell_type": "code",
   "execution_count": null,
   "metadata": {},
   "outputs": [],
   "source": []
  }
 ],
 "metadata": {
  "kernelspec": {
   "display_name": "Python 3",
   "language": "python",
   "name": "python3"
  },
  "language_info": {
   "codemirror_mode": {
    "name": "ipython",
    "version": 3
   },
   "file_extension": ".py",
   "mimetype": "text/x-python",
   "name": "python",
   "nbconvert_exporter": "python",
   "pygments_lexer": "ipython3",
   "version": "3.8.3"
  }
 },
 "nbformat": 4,
 "nbformat_minor": 4
}
