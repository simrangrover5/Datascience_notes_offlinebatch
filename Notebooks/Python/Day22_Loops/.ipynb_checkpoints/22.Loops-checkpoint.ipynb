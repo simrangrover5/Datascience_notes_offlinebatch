{
 "cells": [
  {
   "cell_type": "code",
   "execution_count": 1,
   "metadata": {},
   "outputs": [
    {
     "name": "stdout",
     "output_type": "stream",
     "text": [
      "Hello\n",
      "oh boy!\n"
     ]
    }
   ],
   "source": [
    "if print(\"Hello\"):\n",
    "    print(\"World!\")\n",
    "else:\n",
    "    print(\"oh boy!\")"
   ]
  },
  {
   "cell_type": "code",
   "execution_count": 2,
   "metadata": {},
   "outputs": [
    {
     "name": "stdout",
     "output_type": "stream",
     "text": [
      "9, 7, 5, 3, 1, "
     ]
    }
   ],
   "source": [
    "i = 10\n",
    "while i:\n",
    "    if i % 2:\n",
    "        print(i, end=', ')\n",
    "    i -= 1"
   ]
  },
  {
   "cell_type": "code",
   "execution_count": 3,
   "metadata": {},
   "outputs": [
    {
     "name": "stdout",
     "output_type": "stream",
     "text": [
      "9, 7, 5, 3, 1, "
     ]
    }
   ],
   "source": [
    "i = 10\n",
    "while i >= 0:\n",
    "    if i % 2 != 0:\n",
    "        print(i, end=', ')\n",
    "    i -= 1"
   ]
  },
  {
   "cell_type": "markdown",
   "metadata": {},
   "source": [
    "### Traversing"
   ]
  },
  {
   "cell_type": "markdown",
   "metadata": {},
   "source": [
    "Order sequential Data Structures\n",
    "\n",
    "    List\n",
    "    Tuple\n",
    "    String\n",
    "    "
   ]
  },
  {
   "cell_type": "code",
   "execution_count": 5,
   "metadata": {},
   "outputs": [
    {
     "name": "stdout",
     "output_type": "stream",
     "text": [
      "H\n",
      "e\n",
      "l\n",
      "l\n",
      "o\n",
      " \n",
      "W\n",
      "o\n",
      "r\n",
      "l\n",
      "d\n",
      "!\n"
     ]
    }
   ],
   "source": [
    "s = \"Hello World!\"\n",
    "i = 0\n",
    "while i  < len(s):\n",
    "    print(s[i])\n",
    "    i += 1"
   ]
  },
  {
   "cell_type": "code",
   "execution_count": 11,
   "metadata": {},
   "outputs": [
    {
     "data": {
      "text/plain": [
       "True"
      ]
     },
     "execution_count": 11,
     "metadata": {},
     "output_type": "execute_result"
    }
   ],
   "source": [
    "s = \"Sachin\"\n",
    "\n",
    "s[1].islower()"
   ]
  },
  {
   "cell_type": "code",
   "execution_count": 6,
   "metadata": {},
   "outputs": [
    {
     "data": {
      "text/plain": [
       "True"
      ]
     },
     "execution_count": 6,
     "metadata": {},
     "output_type": "execute_result"
    }
   ],
   "source": [
    "\"a\".islower()"
   ]
  },
  {
   "cell_type": "code",
   "execution_count": 7,
   "metadata": {},
   "outputs": [
    {
     "data": {
      "text/plain": [
       "False"
      ]
     },
     "execution_count": 7,
     "metadata": {},
     "output_type": "execute_result"
    }
   ],
   "source": [
    "\"A\".islower()"
   ]
  },
  {
   "cell_type": "code",
   "execution_count": 8,
   "metadata": {},
   "outputs": [
    {
     "data": {
      "text/plain": [
       "False"
      ]
     },
     "execution_count": 8,
     "metadata": {},
     "output_type": "execute_result"
    }
   ],
   "source": [
    "\" \".islower()"
   ]
  },
  {
   "cell_type": "code",
   "execution_count": 9,
   "metadata": {},
   "outputs": [
    {
     "data": {
      "text/plain": [
       "False"
      ]
     },
     "execution_count": 9,
     "metadata": {},
     "output_type": "execute_result"
    }
   ],
   "source": [
    "\"#\".islower()"
   ]
  },
  {
   "cell_type": "code",
   "execution_count": 12,
   "metadata": {},
   "outputs": [
    {
     "name": "stdout",
     "output_type": "stream",
     "text": [
      "$HeLlo Wor@ld!\n",
      "Lower Cases:  7\n",
      "Upper Cases:  3\n"
     ]
    }
   ],
   "source": [
    "s = \"$HeLlo Wor@ld!\"\n",
    "\n",
    "lower_count = 0\n",
    "upper_count = 0\n",
    "\n",
    "i = 0\n",
    "while i < len(s):\n",
    "    char = s[i]\n",
    "    if char.islower():\n",
    "        lower_count += 1\n",
    "    if char.isupper():\n",
    "        upper_count += 1\n",
    "    i +=1\n",
    "print(s)\n",
    "print(\"Lower Cases: \", lower_count)\n",
    "print('Upper Cases: ', upper_count)"
   ]
  },
  {
   "cell_type": "code",
   "execution_count": 14,
   "metadata": {},
   "outputs": [
    {
     "data": {
      "text/plain": [
       "65"
      ]
     },
     "execution_count": 14,
     "metadata": {},
     "output_type": "execute_result"
    }
   ],
   "source": [
    "ord('A')"
   ]
  },
  {
   "cell_type": "code",
   "execution_count": 15,
   "metadata": {},
   "outputs": [
    {
     "data": {
      "text/plain": [
       "90"
      ]
     },
     "execution_count": 15,
     "metadata": {},
     "output_type": "execute_result"
    }
   ],
   "source": [
    "ord('Z')"
   ]
  },
  {
   "cell_type": "code",
   "execution_count": 16,
   "metadata": {},
   "outputs": [
    {
     "data": {
      "text/plain": [
       "97"
      ]
     },
     "execution_count": 16,
     "metadata": {},
     "output_type": "execute_result"
    }
   ],
   "source": [
    "ord('a')"
   ]
  },
  {
   "cell_type": "code",
   "execution_count": 17,
   "metadata": {},
   "outputs": [
    {
     "data": {
      "text/plain": [
       "122"
      ]
     },
     "execution_count": 17,
     "metadata": {},
     "output_type": "execute_result"
    }
   ],
   "source": [
    "ord('z')"
   ]
  },
  {
   "cell_type": "code",
   "execution_count": 13,
   "metadata": {},
   "outputs": [
    {
     "name": "stdout",
     "output_type": "stream",
     "text": [
      "$HeLlo Wor@ld!\n",
      "Lower Cases:  7\n",
      "Upper Cases:  3\n"
     ]
    }
   ],
   "source": [
    "s = \"$HeLlo Wor@ld!\"\n",
    "\n",
    "lower_count = 0\n",
    "upper_count = 0\n",
    "\n",
    "i = 0\n",
    "while i < len(s):\n",
    "    if s[i].islower():\n",
    "        lower_count += 1\n",
    "    if s[i].isupper():\n",
    "        upper_count += 1\n",
    "    i +=1\n",
    "print(s)\n",
    "print(\"Lower Cases: \", lower_count)\n",
    "print('Upper Cases: ', upper_count)"
   ]
  },
  {
   "cell_type": "code",
   "execution_count": 18,
   "metadata": {},
   "outputs": [
    {
     "name": "stdout",
     "output_type": "stream",
     "text": [
      "$HeLlo Wor@ld!\n",
      "Lower Cases:  7\n",
      "Upper Cases:  3\n"
     ]
    }
   ],
   "source": [
    "s = \"$HeLlo Wor@ld!\"\n",
    "\n",
    "lower_count = 0\n",
    "upper_count = 0\n",
    "\n",
    "i = 0\n",
    "while i < len(s):\n",
    "    value = ord(s[i]) # \n",
    "    if value >= 65 and value <= 90:\n",
    "        upper_count += 1\n",
    "    if value >= 97 and value <= 122:\n",
    "        lower_count += 1\n",
    "    i +=1\n",
    "print(s)\n",
    "print(\"Lower Cases: \", lower_count)\n",
    "print('Upper Cases: ', upper_count)"
   ]
  },
  {
   "cell_type": "code",
   "execution_count": 19,
   "metadata": {},
   "outputs": [],
   "source": []
  },
  {
   "cell_type": "code",
   "execution_count": 21,
   "metadata": {},
   "outputs": [
    {
     "name": "stdout",
     "output_type": "stream",
     "text": [
      "SaOwMEe\n",
      "aweSOME\n"
     ]
    }
   ],
   "source": [
    "s = \"SaOwMEe\"\n",
    "\n",
    "lower = \"\"\n",
    "upper  = \"\"\n",
    "\n",
    "i = 0\n",
    "while i < len(s):\n",
    "    char = s[i]\n",
    "    if char.islower():\n",
    "        lower += char\n",
    "    if char.isupper():\n",
    "        upper += char\n",
    "    i +=1\n",
    "print(s)\n",
    "fs = lower + upper\n",
    "print(fs)\n"
   ]
  },
  {
   "cell_type": "code",
   "execution_count": 29,
   "metadata": {},
   "outputs": [
    {
     "name": "stdout",
     "output_type": "stream",
     "text": [
      "name: naman\n",
      "Exists\n"
     ]
    }
   ],
   "source": [
    "data = [ 'gaurav', 'deepratan', 'naman', 'arshika', 'ankur']\n",
    "#           0          1          2         3          4\n",
    "\n",
    "name = input(\"name: \").strip().lower()\n",
    "\n",
    "i = 0\n",
    "while i < len(data):\n",
    "    if name == data[i]:\n",
    "        print(\"Exists\")\n",
    "        break\n",
    "    i += 1\n",
    "    \n",
    "if i == len(data):\n",
    "    print(\"Not Exists\")"
   ]
  },
  {
   "cell_type": "code",
   "execution_count": 32,
   "metadata": {},
   "outputs": [
    {
     "name": "stdout",
     "output_type": "stream",
     "text": [
      "name: naman\n",
      "Exists\n"
     ]
    }
   ],
   "source": [
    "data = [ 'gaurav', 'deepratan', 'naman', 'arshika', 'ankur']\n",
    "#           0          1          2         3          4\n",
    "\n",
    "name = input(\"name: \").strip().lower()\n",
    "\n",
    "mila_kya = False\n",
    "\n",
    "i = 0\n",
    "while i < len(data):\n",
    "    if name == data[i]:\n",
    "        mila_kya = True\n",
    "        break\n",
    "    i += 1\n",
    "    \n",
    "if mila_kya:\n",
    "    print(\"Exists\")\n",
    "else:\n",
    "    print(\"Not Exists\")"
   ]
  },
  {
   "cell_type": "code",
   "execution_count": 33,
   "metadata": {},
   "outputs": [
    {
     "name": "stdout",
     "output_type": "stream",
     "text": [
      "name: sachin\n",
      "Not Exists\n"
     ]
    }
   ],
   "source": [
    "data = [ 'gaurav', 'deepratan', 'naman', 'arshika', 'ankur']\n",
    "#           0          1          2         3          4\n",
    "\n",
    "name = input(\"name: \").strip().lower()\n",
    "\n",
    "flag = False\n",
    "\n",
    "i = 0\n",
    "while i < len(data):\n",
    "    if name == data[i]:\n",
    "        flag = True\n",
    "        break\n",
    "    i += 1\n",
    "    \n",
    "if flag:\n",
    "    print(\"Exists\")\n",
    "else:\n",
    "    print(\"Not Exists\")"
   ]
  },
  {
   "cell_type": "code",
   "execution_count": 38,
   "metadata": {},
   "outputs": [
    {
     "name": "stdout",
     "output_type": "stream",
     "text": [
      "name: sachin\n",
      "Not Exists\n"
     ]
    }
   ],
   "source": [
    "data = [ 'gaurav', 'deepratan', 'naman', 'arshika', 'ankur']\n",
    "#           0          1          2         3          4\n",
    "name = input(\"name: \").strip().lower()\n",
    "\n",
    "\n",
    "i = 0\n",
    "while i < len(data):\n",
    "    if name == data[i]:\n",
    "        print(\"Exists\")\n",
    "        break\n",
    "    i += 1\n",
    "else:\n",
    "    print(\"Not Exists\")\n",
    "    "
   ]
  },
  {
   "cell_type": "code",
   "execution_count": 35,
   "metadata": {},
   "outputs": [
    {
     "name": "stdout",
     "output_type": "stream",
     "text": [
      "name: naman\n",
      "Exists\n"
     ]
    }
   ],
   "source": [
    "data = [ 'gaurav', 'deepratan', 'naman', 'arshika', 'ankur']\n",
    "#           0          1          2         3          4\n",
    "name = input(\"name: \").strip().lower()\n",
    "\n",
    "\n",
    "i = 0\n",
    "while i < len(data):\n",
    "    if name == data[i]:\n",
    "        print(\"Exists\")\n",
    "        break\n",
    "    i += 1\n",
    "else:\n",
    "    print(\"Not Exists\")"
   ]
  },
  {
   "cell_type": "code",
   "execution_count": 39,
   "metadata": {},
   "outputs": [
    {
     "name": "stdout",
     "output_type": "stream",
     "text": [
      "Hello World Times 1\n",
      "Hello World Times 2\n",
      "Hello World Times 3\n",
      "Hello World Times 4\n",
      "Hello World Times 5\n",
      "hurre i got this\n"
     ]
    }
   ],
   "source": [
    "i = 1\n",
    "while i <= 5:\n",
    "    print(f\"Hello World Times {i}\")\n",
    "    i = i + 1\n",
    "else:\n",
    "    print(\"hurre i got this\")"
   ]
  },
  {
   "cell_type": "code",
   "execution_count": null,
   "metadata": {},
   "outputs": [],
   "source": []
  },
  {
   "cell_type": "code",
   "execution_count": 40,
   "metadata": {},
   "outputs": [
    {
     "name": "stdout",
     "output_type": "stream",
     "text": [
      "1\n",
      "2\n"
     ]
    }
   ],
   "source": [
    "i = 1\n",
    "while i <= 10:\n",
    "    print(i)\n",
    "    if i % 2 == 0:\n",
    "        break\n",
    "    i += 1\n",
    "else:\n",
    "    print(\"What do you think about me!\")"
   ]
  },
  {
   "cell_type": "code",
   "execution_count": 42,
   "metadata": {},
   "outputs": [
    {
     "ename": "KeyboardInterrupt",
     "evalue": "",
     "output_type": "error",
     "traceback": [
      "\u001b[1;31m---------------------------------------------------------------------------\u001b[0m",
      "\u001b[1;31mKeyboardInterrupt\u001b[0m                         Traceback (most recent call last)",
      "\u001b[1;32m<ipython-input-42-39b47bb8001e>\u001b[0m in \u001b[0;36m<module>\u001b[1;34m\u001b[0m\n\u001b[0;32m      1\u001b[0m \u001b[0mi\u001b[0m \u001b[1;33m=\u001b[0m \u001b[1;36m1\u001b[0m\u001b[1;33m\u001b[0m\u001b[1;33m\u001b[0m\u001b[0m\n\u001b[0;32m      2\u001b[0m \u001b[1;32mwhile\u001b[0m \u001b[0mi\u001b[0m \u001b[1;33m<=\u001b[0m \u001b[1;36m10\u001b[0m\u001b[1;33m:\u001b[0m\u001b[1;33m\u001b[0m\u001b[1;33m\u001b[0m\u001b[0m\n\u001b[1;32m----> 3\u001b[1;33m     \u001b[1;32mcontinue\u001b[0m\u001b[1;33m\u001b[0m\u001b[1;33m\u001b[0m\u001b[0m\n\u001b[0m\u001b[0;32m      4\u001b[0m     \u001b[0mprint\u001b[0m\u001b[1;33m(\u001b[0m\u001b[0mi\u001b[0m\u001b[1;33m)\u001b[0m\u001b[1;33m\u001b[0m\u001b[1;33m\u001b[0m\u001b[0m\n\u001b[0;32m      5\u001b[0m     \u001b[0mi\u001b[0m \u001b[1;33m+=\u001b[0m \u001b[1;36m1\u001b[0m\u001b[1;33m\u001b[0m\u001b[1;33m\u001b[0m\u001b[0m\n",
      "\u001b[1;31mKeyboardInterrupt\u001b[0m: "
     ]
    }
   ],
   "source": [
    "i = 1\n",
    "while i <= 10:\n",
    "    continue\n",
    "    print(i)\n",
    "    i += 1\n"
   ]
  },
  {
   "cell_type": "code",
   "execution_count": 43,
   "metadata": {},
   "outputs": [
    {
     "name": "stdout",
     "output_type": "stream",
     "text": [
      "1\n",
      "2\n",
      "3\n",
      "4\n"
     ]
    },
    {
     "ename": "KeyboardInterrupt",
     "evalue": "",
     "output_type": "error",
     "traceback": [
      "\u001b[1;31m---------------------------------------------------------------------------\u001b[0m",
      "\u001b[1;31mKeyboardInterrupt\u001b[0m                         Traceback (most recent call last)",
      "\u001b[1;32m<ipython-input-43-54f4b1019f6b>\u001b[0m in \u001b[0;36m<module>\u001b[1;34m\u001b[0m\n\u001b[0;32m      2\u001b[0m \u001b[1;32mwhile\u001b[0m \u001b[0mi\u001b[0m \u001b[1;33m<=\u001b[0m \u001b[1;36m10\u001b[0m\u001b[1;33m:\u001b[0m\u001b[1;33m\u001b[0m\u001b[1;33m\u001b[0m\u001b[0m\n\u001b[0;32m      3\u001b[0m     \u001b[1;32mif\u001b[0m \u001b[0mi\u001b[0m \u001b[1;33m==\u001b[0m \u001b[1;36m5\u001b[0m\u001b[1;33m:\u001b[0m\u001b[1;33m\u001b[0m\u001b[1;33m\u001b[0m\u001b[0m\n\u001b[1;32m----> 4\u001b[1;33m         \u001b[1;32mcontinue\u001b[0m\u001b[1;33m\u001b[0m\u001b[1;33m\u001b[0m\u001b[0m\n\u001b[0m\u001b[0;32m      5\u001b[0m     \u001b[0mprint\u001b[0m\u001b[1;33m(\u001b[0m\u001b[0mi\u001b[0m\u001b[1;33m)\u001b[0m\u001b[1;33m\u001b[0m\u001b[1;33m\u001b[0m\u001b[0m\n\u001b[0;32m      6\u001b[0m     \u001b[0mi\u001b[0m \u001b[1;33m+=\u001b[0m \u001b[1;36m1\u001b[0m\u001b[1;33m\u001b[0m\u001b[1;33m\u001b[0m\u001b[0m\n",
      "\u001b[1;31mKeyboardInterrupt\u001b[0m: "
     ]
    }
   ],
   "source": [
    "i = 1\n",
    "while i <= 10:\n",
    "    if i == 5:\n",
    "        continue\n",
    "    print(i)\n",
    "    i += 1\n"
   ]
  },
  {
   "cell_type": "code",
   "execution_count": 44,
   "metadata": {},
   "outputs": [
    {
     "name": "stdout",
     "output_type": "stream",
     "text": [
      "2\n",
      "4\n",
      "6\n",
      "8\n",
      "10\n"
     ]
    }
   ],
   "source": [
    "i = 1\n",
    "while i <= 10:\n",
    "    if i % 2:\n",
    "        i += 1\n",
    "        continue\n",
    "    print(i)\n",
    "    i += 1\n"
   ]
  },
  {
   "cell_type": "code",
   "execution_count": 45,
   "metadata": {},
   "outputs": [
    {
     "name": "stdout",
     "output_type": "stream",
     "text": [
      "2\n",
      "4\n",
      "6\n",
      "8\n",
      "10\n"
     ]
    }
   ],
   "source": [
    "i = 0\n",
    "while i <= 10:\n",
    "    i += 1\n",
    "    if i % 2:\n",
    "        continue\n",
    "    print(i)\n"
   ]
  },
  {
   "cell_type": "code",
   "execution_count": 46,
   "metadata": {},
   "outputs": [],
   "source": [
    "import random"
   ]
  },
  {
   "cell_type": "code",
   "execution_count": 52,
   "metadata": {},
   "outputs": [
    {
     "name": "stdout",
     "output_type": "stream",
     "text": [
      "8\n"
     ]
    }
   ],
   "source": [
    "value = random.randint(1, 50)\n",
    "print(value)"
   ]
  },
  {
   "cell_type": "code",
   "execution_count": 64,
   "metadata": {},
   "outputs": [
    {
     "name": "stdout",
     "output_type": "stream",
     "text": [
      "[3, 6, 7, 8, 2, 6, 1, 3, 1, 5]\n"
     ]
    }
   ],
   "source": [
    "l = []\n",
    "i = 1\n",
    "while i <= 10:\n",
    "    l.append(random.randint(1, 10))\n",
    "    i += 1\n",
    "else:\n",
    "    print(l)\n",
    "    "
   ]
  },
  {
   "cell_type": "code",
   "execution_count": 65,
   "metadata": {},
   "outputs": [
    {
     "data": {
      "text/plain": [
       "10"
      ]
     },
     "execution_count": 65,
     "metadata": {},
     "output_type": "execute_result"
    }
   ],
   "source": [
    "import random\n",
    "random.randint(1, 50)"
   ]
  },
  {
   "cell_type": "code",
   "execution_count": 66,
   "metadata": {},
   "outputs": [
    {
     "data": {
      "text/plain": [
       "0.041666666666666664"
      ]
     },
     "execution_count": 66,
     "metadata": {},
     "output_type": "execute_result"
    }
   ],
   "source": [
    "1 / 24"
   ]
  },
  {
   "cell_type": "code",
   "execution_count": 67,
   "metadata": {},
   "outputs": [
    {
     "data": {
      "text/plain": [
       "0.08333333333333333"
      ]
     },
     "execution_count": 67,
     "metadata": {},
     "output_type": "execute_result"
    }
   ],
   "source": [
    "1 / 12"
   ]
  },
  {
   "cell_type": "code",
   "execution_count": 68,
   "metadata": {},
   "outputs": [
    {
     "data": {
      "text/plain": [
       "0.16666666666666666"
      ]
     },
     "execution_count": 68,
     "metadata": {},
     "output_type": "execute_result"
    }
   ],
   "source": [
    "1 / 6"
   ]
  },
  {
   "cell_type": "code",
   "execution_count": null,
   "metadata": {},
   "outputs": [],
   "source": []
  }
 ],
 "metadata": {
  "kernelspec": {
   "display_name": "Python 3",
   "language": "python",
   "name": "python3"
  },
  "language_info": {
   "codemirror_mode": {
    "name": "ipython",
    "version": 3
   },
   "file_extension": ".py",
   "mimetype": "text/x-python",
   "name": "python",
   "nbconvert_exporter": "python",
   "pygments_lexer": "ipython3",
   "version": "3.8.3"
  }
 },
 "nbformat": 4,
 "nbformat_minor": 4
}
