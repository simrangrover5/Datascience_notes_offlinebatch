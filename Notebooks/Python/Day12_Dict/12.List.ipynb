{
 "cells": [
  {
   "cell_type": "markdown",
   "metadata": {},
   "source": [
    "### Hash"
   ]
  },
  {
   "cell_type": "code",
   "execution_count": 1,
   "metadata": {},
   "outputs": [
    {
     "data": {
      "text/plain": [
       "-7400322390249940767"
      ]
     },
     "execution_count": 1,
     "metadata": {},
     "output_type": "execute_result"
    }
   ],
   "source": [
    "hash('sachin')"
   ]
  },
  {
   "cell_type": "code",
   "execution_count": 2,
   "metadata": {},
   "outputs": [
    {
     "data": {
      "text/plain": [
       "-7400322390249940767"
      ]
     },
     "execution_count": 2,
     "metadata": {},
     "output_type": "execute_result"
    }
   ],
   "source": [
    "hash('sachin')"
   ]
  },
  {
   "cell_type": "code",
   "execution_count": 3,
   "metadata": {},
   "outputs": [
    {
     "data": {
      "text/plain": [
       "-8857961341055123696"
      ]
     },
     "execution_count": 3,
     "metadata": {},
     "output_type": "execute_result"
    }
   ],
   "source": [
    "hash('Sachin')"
   ]
  },
  {
   "cell_type": "code",
   "execution_count": 4,
   "metadata": {},
   "outputs": [
    {
     "data": {
      "text/plain": [
       "-2191704765391200634"
      ]
     },
     "execution_count": 4,
     "metadata": {},
     "output_type": "execute_result"
    }
   ],
   "source": [
    "hash(('hello','hi','bye'))"
   ]
  },
  {
   "cell_type": "code",
   "execution_count": 5,
   "metadata": {},
   "outputs": [
    {
     "data": {
      "text/plain": [
       "-2191704765391200634"
      ]
     },
     "execution_count": 5,
     "metadata": {},
     "output_type": "execute_result"
    }
   ],
   "source": [
    "hash(('hello','hi','bye'))"
   ]
  },
  {
   "cell_type": "code",
   "execution_count": 6,
   "metadata": {},
   "outputs": [
    {
     "ename": "TypeError",
     "evalue": "unhashable type: 'list'",
     "output_type": "error",
     "traceback": [
      "\u001b[1;31m---------------------------------------------------------------------------\u001b[0m",
      "\u001b[1;31mTypeError\u001b[0m                                 Traceback (most recent call last)",
      "\u001b[1;32m<ipython-input-6-84d65be9aa35>\u001b[0m in \u001b[0;36m<module>\u001b[1;34m\u001b[0m\n\u001b[1;32m----> 1\u001b[1;33m \u001b[0mhash\u001b[0m\u001b[1;33m(\u001b[0m\u001b[1;33m[\u001b[0m\u001b[1;36m1\u001b[0m\u001b[1;33m,\u001b[0m \u001b[1;36m2\u001b[0m\u001b[1;33m,\u001b[0m \u001b[1;36m3\u001b[0m\u001b[1;33m]\u001b[0m\u001b[1;33m)\u001b[0m\u001b[1;33m\u001b[0m\u001b[1;33m\u001b[0m\u001b[0m\n\u001b[0m",
      "\u001b[1;31mTypeError\u001b[0m: unhashable type: 'list'"
     ]
    }
   ],
   "source": [
    "hash([1, 2, 3])"
   ]
  },
  {
   "cell_type": "code",
   "execution_count": 7,
   "metadata": {},
   "outputs": [],
   "source": [
    "data = [ 10, 6.02, 6+4j, 'hello', [1, 2, 3],\n",
    "       ('hi', 'bye'), {'x': 5, 'y': 10}, {1, 2, 5,6 },\n",
    "       None, True, False]"
   ]
  },
  {
   "cell_type": "code",
   "execution_count": 12,
   "metadata": {},
   "outputs": [
    {
     "name": "stdout",
     "output_type": "stream",
     "text": [
      "10\n"
     ]
    }
   ],
   "source": [
    "print(data[0])"
   ]
  },
  {
   "cell_type": "code",
   "execution_count": 13,
   "metadata": {},
   "outputs": [
    {
     "name": "stdout",
     "output_type": "stream",
     "text": [
      "hello\n"
     ]
    }
   ],
   "source": [
    "print(data[3])"
   ]
  },
  {
   "cell_type": "code",
   "execution_count": 14,
   "metadata": {},
   "outputs": [
    {
     "name": "stdout",
     "output_type": "stream",
     "text": [
      "2\n"
     ]
    }
   ],
   "source": [
    "print(data[4][1])"
   ]
  },
  {
   "cell_type": "code",
   "execution_count": 15,
   "metadata": {},
   "outputs": [
    {
     "name": "stdout",
     "output_type": "stream",
     "text": [
      "10\n"
     ]
    }
   ],
   "source": [
    "print(data[6]['y'])"
   ]
  },
  {
   "cell_type": "code",
   "execution_count": 16,
   "metadata": {},
   "outputs": [],
   "source": [
    "info = [\n",
    "    ['ram', 24, 'jaipur'],\n",
    "    ['seeta', 21, 'kota'],\n",
    "    ['shyam', 27, 'delhi']\n",
    "]"
   ]
  },
  {
   "cell_type": "code",
   "execution_count": 22,
   "metadata": {},
   "outputs": [
    {
     "name": "stdout",
     "output_type": "stream",
     "text": [
      "shyam\n"
     ]
    }
   ],
   "source": [
    "print(info[2][0])"
   ]
  },
  {
   "cell_type": "code",
   "execution_count": 21,
   "metadata": {},
   "outputs": [
    {
     "name": "stdout",
     "output_type": "stream",
     "text": [
      "['shyam', 27, 'delhi']\n",
      "['shyam', 27, 'delhi']\n",
      "shyam\n"
     ]
    }
   ],
   "source": [
    "print(info[2])\n",
    "ls = info[2]\n",
    "print(ls)\n",
    "print(ls[0])"
   ]
  },
  {
   "cell_type": "code",
   "execution_count": 24,
   "metadata": {},
   "outputs": [],
   "source": [
    "info[1][1] = 24"
   ]
  },
  {
   "cell_type": "code",
   "execution_count": 25,
   "metadata": {},
   "outputs": [
    {
     "name": "stdout",
     "output_type": "stream",
     "text": [
      "[['ram', 24, 'jaipur'], ['seeta', 24, 'kota'], ['shyam', 27, 'delhi']]\n"
     ]
    }
   ],
   "source": [
    "print(info)"
   ]
  },
  {
   "cell_type": "markdown",
   "metadata": {},
   "source": [
    "### Shallow & Deep Copy"
   ]
  },
  {
   "cell_type": "code",
   "execution_count": 38,
   "metadata": {},
   "outputs": [
    {
     "name": "stdout",
     "output_type": "stream",
     "text": [
      "2601306255216\n"
     ]
    }
   ],
   "source": [
    "s = \"sachin\"\n",
    "print(id(s))"
   ]
  },
  {
   "cell_type": "code",
   "execution_count": 39,
   "metadata": {},
   "outputs": [
    {
     "name": "stdout",
     "output_type": "stream",
     "text": [
      "2601306255216\n"
     ]
    }
   ],
   "source": [
    "ns = 'sachin'\n",
    "print(id(s))"
   ]
  },
  {
   "cell_type": "code",
   "execution_count": null,
   "metadata": {},
   "outputs": [],
   "source": []
  },
  {
   "cell_type": "code",
   "execution_count": 30,
   "metadata": {},
   "outputs": [
    {
     "name": "stdout",
     "output_type": "stream",
     "text": [
      "2601306862656 2601306669440\n"
     ]
    }
   ],
   "source": [
    "lst = [ 'hello', [1, 2], 100, 20]\n",
    "\n",
    "copy = lst.copy() # lst[:], shallow copy\n",
    "print(id(lst), id(copy))"
   ]
  },
  {
   "cell_type": "code",
   "execution_count": 36,
   "metadata": {},
   "outputs": [
    {
     "name": "stdout",
     "output_type": "stream",
     "text": [
      "hello 2601307595312\n",
      "[1, 2] 2601306590400\n",
      "1 140726412064544\n",
      "2 140726412064576\n",
      "100 140726412067712\n",
      "20 140726412065152\n"
     ]
    }
   ],
   "source": [
    "print(lst[0], id(lst[0]))\n",
    "print(lst[1], id(lst[1]))\n",
    "print(lst[1][0], id(lst[1][0]))\n",
    "print(lst[1][1], id(lst[1][1]))\n",
    "print(lst[2], id(lst[2]))\n",
    "print(lst[3], id(lst[3]))"
   ]
  },
  {
   "cell_type": "code",
   "execution_count": 37,
   "metadata": {},
   "outputs": [
    {
     "name": "stdout",
     "output_type": "stream",
     "text": [
      "hello 2601307595312\n",
      "[1, 2] 2601306590400\n",
      "1 140726412064544\n",
      "2 140726412064576\n",
      "100 140726412067712\n",
      "20 140726412065152\n"
     ]
    }
   ],
   "source": [
    "print(copy[0], id(copy[0]))\n",
    "print(copy[1], id(copy[1]))\n",
    "print(copy[1][0], id(copy[1][0]))\n",
    "print(copy[1][1], id(copy[1][1]))\n",
    "print(copy[2], id(copy[2]))\n",
    "print(copy[3], id(copy[3]))"
   ]
  },
  {
   "cell_type": "code",
   "execution_count": 29,
   "metadata": {},
   "outputs": [
    {
     "name": "stdout",
     "output_type": "stream",
     "text": [
      "['hello', [1, 2], 100, 20, 'sachin']\n",
      "['hello', [1, 2], 100, 20]\n",
      "['hello', [1, 2], 100, 20, 'sachin']\n",
      "[['grras'], [1, 2], 100, 20]\n",
      "['hello', [1, 2, 3], 100, 20, 'sachin']\n",
      "[['grras'], [1, 2, 3], 100, 20]\n"
     ]
    }
   ],
   "source": [
    "lst.append('sachin')\n",
    "\n",
    "print(lst)\n",
    "print(copy)\n",
    "\n",
    "copy[0] = ['grras']\n",
    "\n",
    "print(lst)\n",
    "print(copy)\n",
    "\n",
    "lst[1].append(3)\n",
    "\n",
    "print(lst)\n",
    "print(copy)"
   ]
  },
  {
   "cell_type": "code",
   "execution_count": 41,
   "metadata": {},
   "outputs": [],
   "source": [
    "import copy\n",
    "\n",
    "lst = [ 'hello', [1, 2], 100, 20]\n",
    "copy = copy.copy(lst) # lst[:], shallow copy\n"
   ]
  },
  {
   "cell_type": "code",
   "execution_count": 42,
   "metadata": {},
   "outputs": [
    {
     "name": "stdout",
     "output_type": "stream",
     "text": [
      "['hello', [1, 2], 100, 20, 'sachin']\n",
      "['hello', [1, 2], 100, 20]\n",
      "['hello', [1, 2], 100, 20, 'sachin']\n",
      "[['grras'], [1, 2], 100, 20]\n",
      "['hello', [1, 2, 3], 100, 20, 'sachin']\n",
      "[['grras'], [1, 2, 3], 100, 20]\n"
     ]
    }
   ],
   "source": [
    "lst.append('sachin')\n",
    "\n",
    "print(lst)\n",
    "print(copy)\n",
    "\n",
    "copy[0] = ['grras']\n",
    "\n",
    "print(lst)\n",
    "print(copy)\n",
    "\n",
    "lst[1].append(3)\n",
    "\n",
    "print(lst)\n",
    "print(copy)"
   ]
  },
  {
   "cell_type": "code",
   "execution_count": 43,
   "metadata": {},
   "outputs": [],
   "source": [
    "import copy\n",
    "\n",
    "lst = [ 'hello', [1, 2], 100, 20]\n",
    "copy = copy.deepcopy(lst) # lst[:], shallow copy\n"
   ]
  },
  {
   "cell_type": "code",
   "execution_count": 44,
   "metadata": {},
   "outputs": [
    {
     "name": "stdout",
     "output_type": "stream",
     "text": [
      "['hello', [1, 2], 100, 20, 'sachin']\n",
      "['hello', [1, 2], 100, 20]\n",
      "['hello', [1, 2], 100, 20, 'sachin']\n",
      "[['grras'], [1, 2], 100, 20]\n",
      "['hello', [1, 2, 3], 100, 20, 'sachin']\n",
      "[['grras'], [1, 2], 100, 20]\n"
     ]
    }
   ],
   "source": [
    "lst.append('sachin')\n",
    "\n",
    "print(lst)\n",
    "print(copy)\n",
    "\n",
    "copy[0] = ['grras']\n",
    "\n",
    "print(lst)\n",
    "print(copy)\n",
    "\n",
    "lst[1].append(3)\n",
    "\n",
    "print(lst)\n",
    "print(copy)"
   ]
  },
  {
   "cell_type": "code",
   "execution_count": null,
   "metadata": {},
   "outputs": [],
   "source": []
  },
  {
   "cell_type": "code",
   "execution_count": 45,
   "metadata": {},
   "outputs": [],
   "source": [
    "d1 = { 'marks': [ 90, 100, 80],\n",
    "       'names': [ 'naman', 'gaurav', 'deepratan']\n",
    "     }"
   ]
  },
  {
   "cell_type": "code",
   "execution_count": 46,
   "metadata": {},
   "outputs": [
    {
     "name": "stdout",
     "output_type": "stream",
     "text": [
      "{'marks': [90, 100, 80], 'names': ['naman', 'gaurav', 'deepratan']}\n"
     ]
    }
   ],
   "source": [
    "print(d1)"
   ]
  },
  {
   "cell_type": "code",
   "execution_count": 48,
   "metadata": {},
   "outputs": [],
   "source": [
    "import copy"
   ]
  },
  {
   "cell_type": "code",
   "execution_count": 49,
   "metadata": {},
   "outputs": [],
   "source": [
    "d2 = copy.copy(d1) # shallow\n",
    "d3 = copy.deepcopy(d1) # deep "
   ]
  },
  {
   "cell_type": "code",
   "execution_count": 50,
   "metadata": {},
   "outputs": [
    {
     "name": "stdout",
     "output_type": "stream",
     "text": [
      "{'marks': [90, 100, 80], 'names': ['naman', 'gaurav', 'deepratan']}\n"
     ]
    }
   ],
   "source": [
    "print(d1)"
   ]
  },
  {
   "cell_type": "code",
   "execution_count": 53,
   "metadata": {},
   "outputs": [],
   "source": [
    "d1['marks'][1] = 70"
   ]
  },
  {
   "cell_type": "code",
   "execution_count": 54,
   "metadata": {},
   "outputs": [
    {
     "name": "stdout",
     "output_type": "stream",
     "text": [
      "{'marks': [90, 70, 80], 'names': ['naman', 'gaurav', 'deepratan']}\n"
     ]
    }
   ],
   "source": [
    "print(d1)"
   ]
  },
  {
   "cell_type": "code",
   "execution_count": 55,
   "metadata": {},
   "outputs": [
    {
     "name": "stdout",
     "output_type": "stream",
     "text": [
      "{'marks': [90, 70, 80], 'names': ['naman', 'gaurav', 'deepratan']}\n"
     ]
    }
   ],
   "source": [
    "print(d2)"
   ]
  },
  {
   "cell_type": "code",
   "execution_count": 56,
   "metadata": {},
   "outputs": [
    {
     "name": "stdout",
     "output_type": "stream",
     "text": [
      "{'marks': [90, 100, 80], 'names': ['naman', 'gaurav', 'deepratan']}\n"
     ]
    }
   ],
   "source": [
    "print(d3)"
   ]
  },
  {
   "cell_type": "code",
   "execution_count": 58,
   "metadata": {},
   "outputs": [],
   "source": [
    "info = { 'name': 'naman', 'work': 'badmashi',\n",
    "       'age': 17}"
   ]
  },
  {
   "cell_type": "code",
   "execution_count": 59,
   "metadata": {},
   "outputs": [
    {
     "data": {
      "text/plain": [
       "{'name': 'naman', 'work': 'badmashi', 'age': 17}"
      ]
     },
     "execution_count": 59,
     "metadata": {},
     "output_type": "execute_result"
    }
   ],
   "source": [
    "info"
   ]
  },
  {
   "cell_type": "code",
   "execution_count": 60,
   "metadata": {},
   "outputs": [],
   "source": [
    "info_copy = copy.copy(info) # shallow"
   ]
  },
  {
   "cell_type": "code",
   "execution_count": 61,
   "metadata": {},
   "outputs": [
    {
     "data": {
      "text/plain": [
       "{'name': 'naman', 'work': 'badmashi', 'age': 17}"
      ]
     },
     "execution_count": 61,
     "metadata": {},
     "output_type": "execute_result"
    }
   ],
   "source": [
    "info"
   ]
  },
  {
   "cell_type": "code",
   "execution_count": 62,
   "metadata": {},
   "outputs": [
    {
     "data": {
      "text/plain": [
       "{'name': 'naman', 'work': 'badmashi', 'age': 17}"
      ]
     },
     "execution_count": 62,
     "metadata": {},
     "output_type": "execute_result"
    }
   ],
   "source": [
    "info_copy"
   ]
  },
  {
   "cell_type": "code",
   "execution_count": 64,
   "metadata": {},
   "outputs": [],
   "source": [
    "info['name'] = info['name'].upper()"
   ]
  },
  {
   "cell_type": "code",
   "execution_count": 65,
   "metadata": {},
   "outputs": [
    {
     "data": {
      "text/plain": [
       "{'name': 'NAMAN', 'work': 'badmashi', 'age': 17}"
      ]
     },
     "execution_count": 65,
     "metadata": {},
     "output_type": "execute_result"
    }
   ],
   "source": [
    "info"
   ]
  },
  {
   "cell_type": "code",
   "execution_count": 66,
   "metadata": {},
   "outputs": [
    {
     "data": {
      "text/plain": [
       "{'name': 'naman', 'work': 'badmashi', 'age': 17}"
      ]
     },
     "execution_count": 66,
     "metadata": {},
     "output_type": "execute_result"
    }
   ],
   "source": [
    "info_copy"
   ]
  },
  {
   "cell_type": "code",
   "execution_count": null,
   "metadata": {},
   "outputs": [],
   "source": []
  }
 ],
 "metadata": {
  "kernelspec": {
   "display_name": "Python 3",
   "language": "python",
   "name": "python3"
  },
  "language_info": {
   "codemirror_mode": {
    "name": "ipython",
    "version": 3
   },
   "file_extension": ".py",
   "mimetype": "text/x-python",
   "name": "python",
   "nbconvert_exporter": "python",
   "pygments_lexer": "ipython3",
   "version": "3.8.3"
  }
 },
 "nbformat": 4,
 "nbformat_minor": 4
}
