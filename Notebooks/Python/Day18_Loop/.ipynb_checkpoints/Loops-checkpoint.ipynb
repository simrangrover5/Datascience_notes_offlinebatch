{
 "cells": [
  {
   "cell_type": "markdown",
   "metadata": {},
   "source": [
    "# Loop\n",
    "\n",
    "    what is loop ? "
   ]
  },
  {
   "cell_type": "markdown",
   "metadata": {},
   "source": [
    "    x += 1 => x = x + 1"
   ]
  },
  {
   "cell_type": "code",
   "execution_count": 3,
   "metadata": {},
   "outputs": [
    {
     "name": "stdout",
     "output_type": "stream",
     "text": [
      "Hello World! 1\n",
      "Hello World! 2\n",
      "Hello World! 3\n",
      "Hello World! 4\n",
      "Hello World! 5\n",
      "Hello World! 6\n",
      "Hello World! 7\n",
      "Hello World! 8\n",
      "Hello World! 9\n",
      "Hello World! 10\n",
      "value of counter  11\n"
     ]
    }
   ],
   "source": [
    "counter = 1\n",
    "while counter <= 10:\n",
    "    print(f\"Hello World! {counter}\")\n",
    "    counter += 1\n",
    "    \n",
    "print(\"value of counter \", counter)\n",
    "# ESC + II\n",
    "# ESC + 00"
   ]
  },
  {
   "cell_type": "code",
   "execution_count": 4,
   "metadata": {},
   "outputs": [
    {
     "name": "stdout",
     "output_type": "stream",
     "text": [
      "1\n",
      "2\n",
      "3\n",
      "4\n",
      "5\n",
      "6\n",
      "7\n",
      "8\n",
      "9\n",
      "final c value 10\n"
     ]
    }
   ],
   "source": [
    "c = 1\n",
    "while c < 10:\n",
    "    print(c)\n",
    "    c = c + 1\n",
    "    \n",
    "print(\"final c value\", c)"
   ]
  },
  {
   "cell_type": "code",
   "execution_count": 5,
   "metadata": {},
   "outputs": [
    {
     "name": "stdout",
     "output_type": "stream",
     "text": [
      "1\n",
      "9\n",
      "25\n",
      "49\n",
      "81\n"
     ]
    }
   ],
   "source": [
    "c = 1\n",
    "while c <= 10:\n",
    "    print(c**2)\n",
    "    c += 2"
   ]
  },
  {
   "cell_type": "code",
   "execution_count": 6,
   "metadata": {},
   "outputs": [
    {
     "name": "stdout",
     "output_type": "stream",
     "text": [
      "Start: 50\n",
      "End: 70\n",
      "50, 52, 54, 56, 58, 60, 62, 64, 66, 68, 70, "
     ]
    }
   ],
   "source": [
    "start = int(input(\"Start: \"))\n",
    "end = int(input(\"End: \"))\n",
    "\n",
    "while start <= end:\n",
    "    if start % 2 == 0:\n",
    "        print(start, end=', ')\n",
    "    start += 1"
   ]
  },
  {
   "cell_type": "code",
   "execution_count": 7,
   "metadata": {},
   "outputs": [
    {
     "name": "stdout",
     "output_type": "stream",
     "text": [
      "15, 30, 45, 60, 75, 90, "
     ]
    }
   ],
   "source": [
    "c = 1\n",
    "while c <= 100:\n",
    "    if c % 5 == 0 and c % 3 == 0:\n",
    "        print(c, end=', ')\n",
    "    c += 1\n",
    "    "
   ]
  },
  {
   "cell_type": "code",
   "execution_count": 10,
   "metadata": {},
   "outputs": [
    {
     "name": "stdout",
     "output_type": "stream",
     "text": [
      "Hello my name is naman.\n",
      "Hello my name is gaurav.\n",
      "Hello my name is ankur.\n",
      "Hello my name is deepratan.\n",
      "Hello my name is arshika.\n"
     ]
    }
   ],
   "source": [
    "names = [ 'naman', 'gaurav', 'ankur', 'deepratan', 'arshika']\n",
    "i = 0\n",
    "n = len(names)\n",
    "while i < n:\n",
    "    print(f\"Hello my name is {names[i]}.\")\n",
    "    i += 1"
   ]
  },
  {
   "cell_type": "markdown",
   "metadata": {},
   "source": [
    "### Linear Search "
   ]
  },
  {
   "cell_type": "code",
   "execution_count": 13,
   "metadata": {},
   "outputs": [
    {
     "name": "stdout",
     "output_type": "stream",
     "text": [
      "name: ankur\n",
      "It is there\n"
     ]
    }
   ],
   "source": [
    "names = [ 'naman', 'gaurav', 'ankur', 'deepratan', 'arshika']\n",
    "\n",
    "name = input(\"name: \").strip().lower()\n",
    "\n",
    "if name in names:\n",
    "    print(\"It is there\")\n",
    "else:\n",
    "    print(\"Not available\")"
   ]
  },
  {
   "cell_type": "code",
   "execution_count": null,
   "metadata": {},
   "outputs": [],
   "source": []
  },
  {
   "cell_type": "code",
   "execution_count": 17,
   "metadata": {},
   "outputs": [
    {
     "name": "stdout",
     "output_type": "stream",
     "text": [
      "Name: ankur\n",
      "Match Not Found\n",
      "Match Not Found\n",
      "Match Found!\n",
      "Match Not Found\n",
      "Match Not Found\n"
     ]
    }
   ],
   "source": [
    "names = [ 'naman', 'gaurav', 'ankur', 'deepratan', 'arshika']\n",
    "\n",
    "name = input(\"Name: \").strip().lower()\n",
    "\n",
    "i = 0\n",
    "while i < len(names):\n",
    "    \n",
    "    if name == names[i]:\n",
    "        print(\"Match Found!\")\n",
    "    else:\n",
    "        print(\"Match Not Found\")\n",
    "    i += 1"
   ]
  },
  {
   "cell_type": "code",
   "execution_count": 24,
   "metadata": {},
   "outputs": [
    {
     "name": "stdout",
     "output_type": "stream",
     "text": [
      "Name: naman\n",
      "Item Found in names at pos 0\n"
     ]
    }
   ],
   "source": [
    "names = [ 'naman', 'gaurav', 'ankur', 'deepratan', 'arshika']\n",
    "\n",
    "name = input(\"Name: \").strip().lower()\n",
    "\n",
    "match = False\n",
    "\n",
    "i = 0\n",
    "while i < len(names):\n",
    "    if name == names[i]:\n",
    "        match = True\n",
    "        break\n",
    "    i += 1\n",
    "    \n",
    "    \n",
    "if match == True:\n",
    "    print(f\"Item Found in names at pos {i}\")\n",
    "else:\n",
    "    print(\"Item Not Found in names\")"
   ]
  },
  {
   "cell_type": "code",
   "execution_count": 21,
   "metadata": {},
   "outputs": [
    {
     "name": "stdout",
     "output_type": "stream",
     "text": [
      "hello World!\n"
     ]
    }
   ],
   "source": [
    "while True:\n",
    "    print(\"hello World!\")\n",
    "    break"
   ]
  },
  {
   "cell_type": "code",
   "execution_count": 22,
   "metadata": {},
   "outputs": [
    {
     "name": "stdout",
     "output_type": "stream",
     "text": [
      "1\n",
      "2\n",
      "3\n",
      "4\n"
     ]
    }
   ],
   "source": [
    "i = 1\n",
    "while i < 100:\n",
    "    if i == 5:\n",
    "        break\n",
    "        \n",
    "    print(i)\n",
    "    i = i + 1"
   ]
  },
  {
   "cell_type": "code",
   "execution_count": null,
   "metadata": {},
   "outputs": [],
   "source": []
  }
 ],
 "metadata": {
  "kernelspec": {
   "display_name": "Python 3",
   "language": "python",
   "name": "python3"
  },
  "language_info": {
   "codemirror_mode": {
    "name": "ipython",
    "version": 3
   },
   "file_extension": ".py",
   "mimetype": "text/x-python",
   "name": "python",
   "nbconvert_exporter": "python",
   "pygments_lexer": "ipython3",
   "version": "3.8.3"
  }
 },
 "nbformat": 4,
 "nbformat_minor": 4
}
