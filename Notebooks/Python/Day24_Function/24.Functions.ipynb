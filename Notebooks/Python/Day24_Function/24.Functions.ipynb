{
 "cells": [
  {
   "cell_type": "code",
   "execution_count": 1,
   "metadata": {},
   "outputs": [
    {
     "name": "stdout",
     "output_type": "stream",
     "text": [
      "S\n",
      "t\n",
      "r\n",
      "i\n",
      "n\n",
      "g\n"
     ]
    }
   ],
   "source": [
    "for char in 'String':\n",
    "    print(char)"
   ]
  },
  {
   "cell_type": "markdown",
   "metadata": {},
   "source": [
    "#### Iteration"
   ]
  },
  {
   "cell_type": "code",
   "execution_count": 5,
   "metadata": {},
   "outputs": [
    {
     "name": "stdout",
     "output_type": "stream",
     "text": [
      "gaurav\n",
      "naman\n"
     ]
    }
   ],
   "source": [
    "for item in [ 'gaurav', 'naman', 'ankur']:\n",
    "    if item == 'ankur':\n",
    "        break\n",
    "    print(item)"
   ]
  },
  {
   "cell_type": "code",
   "execution_count": 3,
   "metadata": {},
   "outputs": [
    {
     "name": "stdout",
     "output_type": "stream",
     "text": [
      "name\n",
      "country\n",
      "city\n"
     ]
    }
   ],
   "source": [
    "d = { 'name': 'naman', 'country': 'india', 'city': 'jaipur'}\n",
    "for key in d:\n",
    "    print(key)\n",
    "    "
   ]
  },
  {
   "cell_type": "code",
   "execution_count": 4,
   "metadata": {},
   "outputs": [
    {
     "ename": "TypeError",
     "evalue": "'int' object is not iterable",
     "output_type": "error",
     "traceback": [
      "\u001b[1;31m---------------------------------------------------------------------------\u001b[0m",
      "\u001b[1;31mTypeError\u001b[0m                                 Traceback (most recent call last)",
      "\u001b[1;32m<ipython-input-4-ca1cfff8bccf>\u001b[0m in \u001b[0;36m<module>\u001b[1;34m\u001b[0m\n\u001b[1;32m----> 1\u001b[1;33m \u001b[1;32mfor\u001b[0m \u001b[0mi\u001b[0m \u001b[1;32min\u001b[0m \u001b[1;36m12345\u001b[0m\u001b[1;33m:\u001b[0m\u001b[1;33m\u001b[0m\u001b[1;33m\u001b[0m\u001b[0m\n\u001b[0m\u001b[0;32m      2\u001b[0m     \u001b[0mprint\u001b[0m\u001b[1;33m(\u001b[0m\u001b[0mi\u001b[0m\u001b[1;33m)\u001b[0m\u001b[1;33m\u001b[0m\u001b[1;33m\u001b[0m\u001b[0m\n",
      "\u001b[1;31mTypeError\u001b[0m: 'int' object is not iterable"
     ]
    }
   ],
   "source": [
    "for i in 12345:\n",
    "    print(i)"
   ]
  },
  {
   "cell_type": "code",
   "execution_count": 7,
   "metadata": {},
   "outputs": [
    {
     "name": "stdout",
     "output_type": "stream",
     "text": [
      "name = naman\n",
      "country = india\n",
      "city = jaipur\n"
     ]
    }
   ],
   "source": [
    "d = { 'name': 'naman', 'country': 'india', 'city': 'jaipur'}\n",
    "for key in d:\n",
    "    print(key,'=', d[key])\n",
    "    "
   ]
  },
  {
   "cell_type": "code",
   "execution_count": 8,
   "metadata": {},
   "outputs": [
    {
     "name": "stdout",
     "output_type": "stream",
     "text": [
      "('name', 'naman')\n",
      "('country', 'india')\n",
      "('city', 'jaipur')\n"
     ]
    }
   ],
   "source": [
    "d = { 'name': 'naman', 'country': 'india', 'city': 'jaipur'}\n",
    "\n",
    "for item in d.items():\n",
    "    print(item)"
   ]
  },
  {
   "cell_type": "code",
   "execution_count": 9,
   "metadata": {},
   "outputs": [
    {
     "name": "stdout",
     "output_type": "stream",
     "text": [
      "6\n",
      "8\n"
     ]
    }
   ],
   "source": [
    "x, y = 6, 8\n",
    "print(x)\n",
    "print(y)"
   ]
  },
  {
   "cell_type": "code",
   "execution_count": 10,
   "metadata": {},
   "outputs": [
    {
     "name": "stdout",
     "output_type": "stream",
     "text": [
      "name = naman\n",
      "country = india\n",
      "city = jaipur\n"
     ]
    }
   ],
   "source": [
    "d = { 'name': 'naman', 'country': 'india', 'city': 'jaipur'}\n",
    "\n",
    "for key, value in d.items():\n",
    "    print(key, '=', value)"
   ]
  },
  {
   "cell_type": "code",
   "execution_count": 11,
   "metadata": {},
   "outputs": [],
   "source": [
    "data = [\n",
    "    ('sachin', 'data scientist'),\n",
    "    ('gaurav', 'business analyst'),\n",
    "    ('deepratan', 'developer'),\n",
    "    ('naman', 'the hacker'),\n",
    "    ('ankur', 'data analyst'),\n",
    "    ('arshika', 'machine learning engineer')\n",
    "]"
   ]
  },
  {
   "cell_type": "code",
   "execution_count": 12,
   "metadata": {},
   "outputs": [
    {
     "name": "stdout",
     "output_type": "stream",
     "text": [
      "('sachin', 'data scientist')\n",
      "('gaurav', 'business analyst')\n",
      "('deepratan', 'developer')\n",
      "('naman', 'the hacker')\n",
      "('ankur', 'data analyst')\n",
      "('arshika', 'machine learning engineer')\n"
     ]
    }
   ],
   "source": [
    "for item in data:\n",
    "    print(item)"
   ]
  },
  {
   "cell_type": "code",
   "execution_count": 13,
   "metadata": {},
   "outputs": [
    {
     "name": "stdout",
     "output_type": "stream",
     "text": [
      "sachin is data scientist.\n",
      "gaurav is business analyst.\n",
      "deepratan is developer.\n",
      "naman is the hacker.\n",
      "ankur is data analyst.\n",
      "arshika is machine learning engineer.\n"
     ]
    }
   ],
   "source": [
    "data = [\n",
    "    ('sachin', 'data scientist'),\n",
    "    ('gaurav', 'business analyst'),\n",
    "    ('deepratan', 'developer'),\n",
    "    ('naman', 'the hacker'),\n",
    "    ('ankur', 'data analyst'),\n",
    "    ('arshika', 'machine learning engineer')\n",
    "]\n",
    "\n",
    "for name, profile in data:\n",
    "    print(f\"{name} is {profile}.\")"
   ]
  },
  {
   "cell_type": "markdown",
   "metadata": {},
   "source": [
    "    polynomial -> a*x**2 + bx + c"
   ]
  },
  {
   "cell_type": "code",
   "execution_count": null,
   "metadata": {},
   "outputs": [],
   "source": [
    "params = [\n",
    "    (10,)\n",
    "]"
   ]
  }
 ],
 "metadata": {
  "kernelspec": {
   "display_name": "Python 3",
   "language": "python",
   "name": "python3"
  },
  "language_info": {
   "codemirror_mode": {
    "name": "ipython",
    "version": 3
   },
   "file_extension": ".py",
   "mimetype": "text/x-python",
   "name": "python",
   "nbconvert_exporter": "python",
   "pygments_lexer": "ipython3",
   "version": "3.8.3"
  }
 },
 "nbformat": 4,
 "nbformat_minor": 4
}
