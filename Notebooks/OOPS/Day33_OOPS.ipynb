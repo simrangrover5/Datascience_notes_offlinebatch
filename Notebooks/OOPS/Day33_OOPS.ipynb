{
 "cells": [
  {
   "cell_type": "markdown",
   "metadata": {},
   "source": [
    "### OOPs"
   ]
  },
  {
   "cell_type": "markdown",
   "metadata": {},
   "source": [
    "    employee -> properties -> \n",
    "\n",
    "            name, salary, department, emp_id, email, project\n",
    "            \n",
    "            "
   ]
  },
  {
   "cell_type": "markdown",
   "metadata": {},
   "source": [
    "### Encapsulation\n",
    "\n",
    "        Binding data members and member functions (method) together in a single scope known as class"
   ]
  },
  {
   "cell_type": "markdown",
   "metadata": {},
   "source": [
    "### Abstraction\n",
    "\n",
    "    Showing Essential Information While Hiding Background Details\n",
    "    "
   ]
  },
  {
   "cell_type": "markdown",
   "metadata": {},
   "source": [
    "### Data Hiding \n",
    "\n",
    "    Hiding some Sensitive / Confidential Information Inside class or object scope which is not visible out side the class scope "
   ]
  },
  {
   "cell_type": "code",
   "execution_count": 53,
   "metadata": {},
   "outputs": [
    {
     "name": "stdout",
     "output_type": "stream",
     "text": [
      "{}\n"
     ]
    }
   ],
   "source": [
    "class Student:\n",
    "    def get_name(self):\n",
    "        return self.name\n",
    "    def get_age(self):\n",
    "        return self.age\n",
    "    \n",
    "    \n",
    "s1 = Student() # Student.__new__ -> self-> {} -> __init__ -> self -> {}\n",
    "print(s1.__dict__)"
   ]
  },
  {
   "cell_type": "code",
   "execution_count": 62,
   "metadata": {},
   "outputs": [
    {
     "name": "stdout",
     "output_type": "stream",
     "text": [
      "{'school_name': 'Grras', 'type': 'Human'}\n",
      "{'school_name': 'Grras', 'type': 'Human'}\n",
      "{'school_name': 'Grras', 'type': 'Human', 'name': 'naman', 'age': 18}\n"
     ]
    }
   ],
   "source": [
    "class Student:\n",
    "    def __init__(self):\n",
    "        self.school_name = 'Grras'\n",
    "        self.type = 'Human'\n",
    "    def get_name(self):\n",
    "        return self.name\n",
    "    def get_age(self):\n",
    "        return self.age\n",
    "    \n",
    "    \n",
    "s1 = Student() # Student.__new__ -> self-> {} -> __init__ -> self -> {}\n",
    "print(s1.__dict__)\n",
    "s2 = Student()\n",
    "print(s2.__dict__)\n",
    "\n",
    "s1.name = \"naman\"\n",
    "s1.age = 18\n",
    "print(s1.__dict__)"
   ]
  },
  {
   "cell_type": "code",
   "execution_count": 63,
   "metadata": {},
   "outputs": [
    {
     "name": "stdout",
     "output_type": "stream",
     "text": [
      "{'name': 'Naman', 'age': 18, 'type': 'Human'}\n"
     ]
    }
   ],
   "source": [
    "# encapsulation\n",
    "class Student:\n",
    "    def __init__(self, a, b):\n",
    "        self.name = a\n",
    "        self.age = b\n",
    "        self.type = \"Human\"\n",
    "        # self is instance, self.name, self.age are instance variable\n",
    "        \n",
    "    def get_name(self):\n",
    "        return self.name\n",
    "    def get_age(self):\n",
    "        return self.age\n",
    "    \n",
    "s1 = Student(\"Naman\", 18)\n",
    "print(s1.__dict__)"
   ]
  },
  {
   "cell_type": "code",
   "execution_count": 64,
   "metadata": {},
   "outputs": [],
   "source": [
    "\n",
    "s2 = Student(\"DeepRatan\", 21)\n",
    "s3 = Student(\"Gaurav\", 26)"
   ]
  },
  {
   "cell_type": "code",
   "execution_count": 65,
   "metadata": {},
   "outputs": [
    {
     "name": "stdout",
     "output_type": "stream",
     "text": [
      "{'name': 'Naman', 'age': 18, 'type': 'Human'}\n",
      "{'name': 'DeepRatan', 'age': 21, 'type': 'Human'}\n",
      "{'name': 'Gaurav', 'age': 26, 'type': 'Human'}\n"
     ]
    }
   ],
   "source": [
    "for obj in [s1, s2, s3]:\n",
    "    print(obj.__dict__)"
   ]
  },
  {
   "cell_type": "code",
   "execution_count": null,
   "metadata": {},
   "outputs": [],
   "source": []
  },
  {
   "cell_type": "code",
   "execution_count": null,
   "metadata": {},
   "outputs": [],
   "source": []
  },
  {
   "cell_type": "code",
   "execution_count": null,
   "metadata": {},
   "outputs": [],
   "source": []
  },
  {
   "cell_type": "code",
   "execution_count": null,
   "metadata": {},
   "outputs": [],
   "source": []
  },
  {
   "cell_type": "code",
   "execution_count": null,
   "metadata": {},
   "outputs": [],
   "source": []
  },
  {
   "cell_type": "code",
   "execution_count": 8,
   "metadata": {},
   "outputs": [],
   "source": [
    "data = [\n",
    "    {'name': 'sachin', 'balls': 40, 'runs': 50, '4': 5, \n",
    "     '6': 3, '2': 3, '1': 6,  'role': 'batsman'}, \n",
    "    {'name': 'virat', 'balls': 120, 'runs': 100, '4': 15,\n",
    "    '6': 10, '2': 10, '1': 10 , 'role': 'batsman'}, \n",
    "    \n",
    "]"
   ]
  },
  {
   "cell_type": "code",
   "execution_count": 19,
   "metadata": {},
   "outputs": [
    {
     "data": {
      "text/plain": [
       "[('sachin', 1.25), ('virat', 0.83)]"
      ]
     },
     "execution_count": 19,
     "metadata": {},
     "output_type": "execute_result"
    }
   ],
   "source": [
    "def strike_rate(data):\n",
    "    result = []\n",
    "    for player in data:\n",
    "        balls = player['balls']\n",
    "        runs = player['runs']\n",
    "        if balls > 0:\n",
    "            str_rate = round(runs / balls, 2)\n",
    "        else:\n",
    "            str_rate = 'NA'\n",
    "        result.append((player['name'], str_rate))\n",
    "    return result\n",
    "strike_rate(data)"
   ]
  },
  {
   "cell_type": "code",
   "execution_count": 24,
   "metadata": {},
   "outputs": [],
   "source": [
    "def strike_rate(player):\n",
    "    balls = player['balls']\n",
    "    runs = player['runs']\n",
    "    if balls > 0:\n",
    "        str_rate = round(runs / balls, 2)\n",
    "    else:\n",
    "        str_rate = 'NA'\n",
    "    return player['name'], str_rate"
   ]
  },
  {
   "cell_type": "code",
   "execution_count": 25,
   "metadata": {},
   "outputs": [
    {
     "data": {
      "text/plain": [
       "('sachin', 1.25)"
      ]
     },
     "execution_count": 25,
     "metadata": {},
     "output_type": "execute_result"
    }
   ],
   "source": [
    "strike_rate(data[0])"
   ]
  },
  {
   "cell_type": "code",
   "execution_count": 26,
   "metadata": {},
   "outputs": [
    {
     "data": {
      "text/plain": [
       "('virat', 0.83)"
      ]
     },
     "execution_count": 26,
     "metadata": {},
     "output_type": "execute_result"
    }
   ],
   "source": [
    "strike_rate(data[1])"
   ]
  },
  {
   "cell_type": "code",
   "execution_count": 69,
   "metadata": {},
   "outputs": [],
   "source": [
    "class Player:\n",
    "    def __init__(self, name, role):\n",
    "        self.name = name\n",
    "        self.role = role\n",
    "    def get_name(self):\n",
    "        return self.name\n",
    "    def get_role(self):\n",
    "        return self.role"
   ]
  },
  {
   "cell_type": "code",
   "execution_count": 74,
   "metadata": {},
   "outputs": [],
   "source": [
    "p1 = Player('sachin', 'batsman')\n",
    "p2 = Player('virat', 'batsman')\n",
    "p3 = Player('bumrah', 'bowler')\n",
    "p4 = Player('sir jadeja', 'all rounder')"
   ]
  },
  {
   "cell_type": "code",
   "execution_count": 78,
   "metadata": {},
   "outputs": [
    {
     "name": "stdout",
     "output_type": "stream",
     "text": [
      "            sachin             |             batsman            \n",
      "            virat              |             batsman            \n",
      "            bumrah             |              bowler            \n",
      "          sir jadeja           |           all rounder          \n"
     ]
    }
   ],
   "source": [
    "for p in [p1, p2, p3, p4]:\n",
    "    print(f\"{p.get_name():^30} |  {p.get_role():^30}\")"
   ]
  },
  {
   "cell_type": "code",
   "execution_count": 79,
   "metadata": {},
   "outputs": [
    {
     "data": {
      "text/plain": [
       "'sachin'"
      ]
     },
     "execution_count": 79,
     "metadata": {},
     "output_type": "execute_result"
    }
   ],
   "source": [
    "p1.name"
   ]
  },
  {
   "cell_type": "code",
   "execution_count": 80,
   "metadata": {},
   "outputs": [],
   "source": [
    "p1.name = 'rohit'"
   ]
  },
  {
   "cell_type": "code",
   "execution_count": 81,
   "metadata": {},
   "outputs": [
    {
     "data": {
      "text/plain": [
       "'rohit'"
      ]
     },
     "execution_count": 81,
     "metadata": {},
     "output_type": "execute_result"
    }
   ],
   "source": [
    "p1.get_name()"
   ]
  },
  {
   "cell_type": "code",
   "execution_count": 82,
   "metadata": {},
   "outputs": [],
   "source": [
    "class Player:\n",
    "    def __init__(self, name, role):\n",
    "        self.__name = name\n",
    "        self.__role = role\n",
    "    def get_name(self):\n",
    "        return self.__name\n",
    "    def get_role(self):\n",
    "        return self.__role"
   ]
  },
  {
   "cell_type": "code",
   "execution_count": 83,
   "metadata": {},
   "outputs": [],
   "source": [
    "p1 = Player('sachin', 'batsman')\n",
    "p2 = Player('virat', 'batsman')\n",
    "p3 = Player('bumrah', 'bowler')\n",
    "p4 = Player('sir jadeja', 'all rounder')"
   ]
  },
  {
   "cell_type": "code",
   "execution_count": 84,
   "metadata": {},
   "outputs": [
    {
     "name": "stdout",
     "output_type": "stream",
     "text": [
      "            sachin             |             batsman            \n",
      "            virat              |             batsman            \n",
      "            bumrah             |              bowler            \n",
      "          sir jadeja           |           all rounder          \n"
     ]
    }
   ],
   "source": [
    "for p in [p1, p2, p3, p4]:\n",
    "    print(f\"{p.get_name():^30} |  {p.get_role():^30}\")"
   ]
  },
  {
   "cell_type": "code",
   "execution_count": 86,
   "metadata": {},
   "outputs": [
    {
     "data": {
      "text/plain": [
       "'sachin'"
      ]
     },
     "execution_count": 86,
     "metadata": {},
     "output_type": "execute_result"
    }
   ],
   "source": [
    "p1.get_name()"
   ]
  },
  {
   "cell_type": "code",
   "execution_count": 85,
   "metadata": {},
   "outputs": [
    {
     "ename": "AttributeError",
     "evalue": "'Player' object has no attribute '__name'",
     "output_type": "error",
     "traceback": [
      "\u001b[1;31m---------------------------------------------------------------------------\u001b[0m",
      "\u001b[1;31mAttributeError\u001b[0m                            Traceback (most recent call last)",
      "\u001b[1;32m<ipython-input-85-b357a526aec6>\u001b[0m in \u001b[0;36m<module>\u001b[1;34m\u001b[0m\n\u001b[1;32m----> 1\u001b[1;33m \u001b[0mp1\u001b[0m\u001b[1;33m.\u001b[0m\u001b[0m__name\u001b[0m\u001b[1;33m\u001b[0m\u001b[1;33m\u001b[0m\u001b[0m\n\u001b[0m",
      "\u001b[1;31mAttributeError\u001b[0m: 'Player' object has no attribute '__name'"
     ]
    }
   ],
   "source": [
    "p1.__name"
   ]
  },
  {
   "cell_type": "code",
   "execution_count": null,
   "metadata": {},
   "outputs": [],
   "source": []
  }
 ],
 "metadata": {
  "kernelspec": {
   "display_name": "Python 3",
   "language": "python",
   "name": "python3"
  },
  "language_info": {
   "codemirror_mode": {
    "name": "ipython",
    "version": 3
   },
   "file_extension": ".py",
   "mimetype": "text/x-python",
   "name": "python",
   "nbconvert_exporter": "python",
   "pygments_lexer": "ipython3",
   "version": "3.8.3"
  }
 },
 "nbformat": 4,
 "nbformat_minor": 4
}
