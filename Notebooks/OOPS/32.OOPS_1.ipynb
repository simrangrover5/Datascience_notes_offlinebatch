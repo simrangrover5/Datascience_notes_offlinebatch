{
 "cells": [
  {
   "cell_type": "markdown",
   "metadata": {},
   "source": [
    "### OOPs"
   ]
  },
  {
   "cell_type": "markdown",
   "metadata": {},
   "source": [
    "    Object Oriented Programming"
   ]
  },
  {
   "cell_type": "markdown",
   "metadata": {},
   "source": [
    "    Class and Object\n",
    "    \n",
    "    Encapsulation\n",
    "    \n",
    "    Abstraction\n",
    "    \n",
    "    Data Hiding\n",
    "    \n",
    "    Inheritance\n",
    "    \n",
    "    Polymorphism\n",
    "    \n",
    "    Dynamic Binding\n",
    "    \n",
    "    Abstract Classes\n",
    "    \n",
    "    Meta Class"
   ]
  },
  {
   "cell_type": "code",
   "execution_count": 3,
   "metadata": {},
   "outputs": [],
   "source": [
    "x = 5; y = 10"
   ]
  },
  {
   "cell_type": "code",
   "execution_count": 1,
   "metadata": {},
   "outputs": [],
   "source": [
    "class Human:\n",
    "    #------------getter methods----------\n",
    "    def get_name(self):\n",
    "        print(\"Name: \", self.name)\n",
    "    def get_age(self):\n",
    "        print(\"Age: \", self.age)\n",
    "    def get_address(self):\n",
    "        print(\"Address: \", self.address)\n",
    "    #-------------setter methods-----------\n",
    "    def set_name(self, new_name):\n",
    "        self.name = new_name\n",
    "    def set_age(self, new_age):\n",
    "        self.age = new_age\n",
    "    def set_address(self, new_addr):\n",
    "        self.address = new_addr\n",
    "    #--------------common actions----------\n",
    "    def laugh(self):\n",
    "        print(self.laugh_style)\n",
    "    def cry(self):\n",
    "        print(self.cry_style)\n",
    "    "
   ]
  },
  {
   "cell_type": "code",
   "execution_count": 5,
   "metadata": {},
   "outputs": [],
   "source": [
    "naman = Human()\n",
    "naman.name = \"Naman Ajmera\"\n",
    "naman.laugh_style = \"hee haa huu huu\"; naman.cry_style = 'aau aaau aauuuuu aaaauuuuu'\n",
    "naman.age = 18\n",
    "naman.address = \"jaipur\""
   ]
  },
  {
   "cell_type": "code",
   "execution_count": 6,
   "metadata": {},
   "outputs": [],
   "source": [
    "gaurav = Human()\n",
    "gaurav.name = \"gaurav\"\n",
    "gaurav.laugh_style = \"oh oh haa haa haa\"; gaurav.cry_style = 'eeeeeuuuuu eeeeeeeee mmmmmmmmm'\n",
    "gaurav.age = 26\n",
    "gaurav.address = \"dausa\""
   ]
  },
  {
   "cell_type": "code",
   "execution_count": 13,
   "metadata": {},
   "outputs": [
    {
     "name": "stdout",
     "output_type": "stream",
     "text": [
      "Name:  Naman Ajmera\n"
     ]
    }
   ],
   "source": [
    "Human.get_name(naman)"
   ]
  },
  {
   "cell_type": "code",
   "execution_count": 7,
   "metadata": {},
   "outputs": [
    {
     "name": "stdout",
     "output_type": "stream",
     "text": [
      "Name:  Naman Ajmera\n"
     ]
    }
   ],
   "source": [
    "naman.get_name() # naman.get_name(naman), Human.get_name(naman), self=> naman"
   ]
  },
  {
   "cell_type": "code",
   "execution_count": 8,
   "metadata": {},
   "outputs": [
    {
     "name": "stdout",
     "output_type": "stream",
     "text": [
      "Address:  jaipur\n"
     ]
    }
   ],
   "source": [
    "naman.get_address()"
   ]
  },
  {
   "cell_type": "code",
   "execution_count": 9,
   "metadata": {},
   "outputs": [
    {
     "name": "stdout",
     "output_type": "stream",
     "text": [
      "aau aaau aauuuuu aaaauuuuu\n"
     ]
    }
   ],
   "source": [
    "naman.cry()"
   ]
  },
  {
   "cell_type": "code",
   "execution_count": 10,
   "metadata": {},
   "outputs": [
    {
     "name": "stdout",
     "output_type": "stream",
     "text": [
      "hee haa huu huu\n"
     ]
    }
   ],
   "source": [
    "naman.laugh()"
   ]
  },
  {
   "cell_type": "code",
   "execution_count": 11,
   "metadata": {},
   "outputs": [
    {
     "name": "stdout",
     "output_type": "stream",
     "text": [
      "eeeeeuuuuu eeeeeeeee mmmmmmmmm\n"
     ]
    }
   ],
   "source": [
    "gaurav.cry()"
   ]
  },
  {
   "cell_type": "code",
   "execution_count": 12,
   "metadata": {},
   "outputs": [
    {
     "name": "stdout",
     "output_type": "stream",
     "text": [
      "oh oh haa haa haa\n"
     ]
    }
   ],
   "source": [
    "gaurav.laugh()"
   ]
  },
  {
   "cell_type": "code",
   "execution_count": 15,
   "metadata": {},
   "outputs": [],
   "source": [
    "class common:\n",
    "    def hello(self):\n",
    "        print(\"hello world\")\n",
    "    def add(self, x, y):\n",
    "        print(f\"{x} + {y} = {x+y}\")\n",
    "    "
   ]
  },
  {
   "cell_type": "code",
   "execution_count": 16,
   "metadata": {},
   "outputs": [],
   "source": [
    "a = common()"
   ]
  },
  {
   "cell_type": "code",
   "execution_count": 17,
   "metadata": {},
   "outputs": [
    {
     "name": "stdout",
     "output_type": "stream",
     "text": [
      "hello world\n"
     ]
    }
   ],
   "source": [
    "a.hello()"
   ]
  },
  {
   "cell_type": "code",
   "execution_count": 18,
   "metadata": {},
   "outputs": [
    {
     "name": "stdout",
     "output_type": "stream",
     "text": [
      "4 + 5 = 9\n"
     ]
    }
   ],
   "source": [
    "a.add(4, 5)"
   ]
  },
  {
   "cell_type": "code",
   "execution_count": 19,
   "metadata": {},
   "outputs": [],
   "source": [
    "class EvenOdd:\n",
    "    def is_even(self, num):\n",
    "        return  num % 2 == 0\n",
    "    def is_odd(self, num):\n",
    "        return  num % 2 == 1"
   ]
  },
  {
   "cell_type": "code",
   "execution_count": 20,
   "metadata": {},
   "outputs": [],
   "source": [
    "e = EvenOdd()"
   ]
  },
  {
   "cell_type": "code",
   "execution_count": 21,
   "metadata": {},
   "outputs": [
    {
     "data": {
      "text/plain": [
       "True"
      ]
     },
     "execution_count": 21,
     "metadata": {},
     "output_type": "execute_result"
    }
   ],
   "source": [
    "e.is_even(10)"
   ]
  },
  {
   "cell_type": "code",
   "execution_count": 22,
   "metadata": {},
   "outputs": [
    {
     "data": {
      "text/plain": [
       "True"
      ]
     },
     "execution_count": 22,
     "metadata": {},
     "output_type": "execute_result"
    }
   ],
   "source": [
    "e.is_odd(13)"
   ]
  },
  {
   "cell_type": "code",
   "execution_count": null,
   "metadata": {},
   "outputs": [],
   "source": []
  }
 ],
 "metadata": {
  "kernelspec": {
   "display_name": "Python 3",
   "language": "python",
   "name": "python3"
  },
  "language_info": {
   "codemirror_mode": {
    "name": "ipython",
    "version": 3
   },
   "file_extension": ".py",
   "mimetype": "text/x-python",
   "name": "python",
   "nbconvert_exporter": "python",
   "pygments_lexer": "ipython3",
   "version": "3.8.3"
  }
 },
 "nbformat": 4,
 "nbformat_minor": 4
}
